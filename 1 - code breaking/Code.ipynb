{
 "cells": [
  {
   "cell_type": "code",
   "execution_count": 1,
   "metadata": {},
   "outputs": [],
   "source": [
    "def hex_2_int_list(message):\n",
    "    '''Convert message from space separated string of hex values to list of integer values\n",
    "\n",
    "    Example: '30 31 32' -> [48, 49, 50]\n",
    "    '''\n",
    "    return [int(i, 16) for i in message.split()]\n",
    "\n",
    "def hex_2_chr_list(message):\n",
    "    '''Convert message from space separated string of hex values to list of character values\n",
    "\n",
    "    Example: '30 31 32' -> ['0', '1', '2']\n",
    "    '''\n",
    "    return [chr(int(i, 16)) for i in message.split()]\n",
    "\n",
    "def hex_2_bin(message):\n",
    "    '''Convert message from space separated string of hex values to space separated string of binary values\n",
    "\n",
    "    Example: '30 31 32' -> '00110000 00110001 00110010'\n",
    "    '''\n",
    "    return \" \".join([bin(int(i, 16))[2:].zfill(8) for i in message.split()])\n",
    "\n",
    "def int_list_2_hex(message):\n",
    "    '''Convert messages from list of integer values to space separated string of hex values\n",
    "\n",
    "    Example: [48, 49, 50] -> '30 31 32'\n",
    "    '''\n",
    "    return \" \".join([hex(i)[2::].zfill(2) for i in message])\n",
    "\n",
    "def int_list_2_bin(message):\n",
    "    '''Convert messages from list of integer values to space separated string of binary values\n",
    "\n",
    "    Example: [48, 49, 50] -> '00110000 00110001 00110010'\n",
    "    '''\n",
    "    return \" \".join([bin(i)[2:].zfill(8) for i in message])\n",
    "\n",
    "def int_list_2_chr_list(message):\n",
    "    '''Convert messages from list of integer values to list of character values\n",
    "\n",
    "    Example: [48, 49, 50] -> ['0', '1', '2']\n",
    "    '''\n",
    "    return [chr(i) for i in message]\n",
    "\n",
    "def chr_list_2_hex(message):\n",
    "    '''Convert messages from list of char values to space separated string of hex values\n",
    "\n",
    "    Example: ['0', '1', '2'] -> '30 31 32'\n",
    "    '''\n",
    "    return \" \".join([hex(ord(i))[2::].zfill(2) for i in message])\n",
    "\n",
    "def chr_list_2_bin(message):\n",
    "    '''Convert messages from list of char values to space separated string of binary values\n",
    "\n",
    "    Example: ['0', '1', '2'] -> '00110000 00110001 0011001'\n",
    "    '''\n",
    "    return \" \".join([bin(ord(i))[2::].zfill(8) for i in message])\n",
    "\n",
    "def chr_list_2_int_list(message):\n",
    "    '''Convert messages from list of char values to list of integer values\n",
    "\n",
    "    Example: ['0', '1', '2'] -> [48, 49, 50]\n",
    "    '''\n",
    "    return [ord(i) for i in message]\n",
    "\n",
    "def chr_list_2_str(message):\n",
    "    '''Convert messages from list of char values to string for printing\n",
    "\n",
    "    Example: ['0', '1', '2'] -> \"012\"\n",
    "    '''\n",
    "    return \"\".join(message)"
   ]
  },
  {
   "cell_type": "code",
   "execution_count": 2,
   "metadata": {},
   "outputs": [],
   "source": [
    "data = open('Task_1_RecordedData.txt', 'rt', encoding='UTF-8')\n",
    "messages_raw = [line.strip() for line in data]"
   ]
  },
  {
   "cell_type": "code",
   "execution_count": null,
   "metadata": {},
   "outputs": [],
   "source": []
  }
 ],
 "metadata": {
  "interpreter": {
   "hash": "fa22c17063082d346e40431601277e21370d046a63b03c1ad06b993e8a6a39a1"
  },
  "kernelspec": {
   "display_name": "Python 3.10.0 64-bit",
   "language": "python",
   "name": "python3"
  },
  "language_info": {
   "codemirror_mode": {
    "name": "ipython",
    "version": 3
   },
   "file_extension": ".py",
   "mimetype": "text/x-python",
   "name": "python",
   "nbconvert_exporter": "python",
   "pygments_lexer": "ipython3",
   "version": "3.10.0"
  },
  "orig_nbformat": 4
 },
 "nbformat": 4,
 "nbformat_minor": 2
}
