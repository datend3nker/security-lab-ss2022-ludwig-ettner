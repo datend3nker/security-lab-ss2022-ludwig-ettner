{
 "cells": [
  {
   "cell_type": "markdown",
   "id": "offshore-depression",
   "metadata": {
    "deletable": false,
    "editable": false,
    "run_control": {
     "frozen": true
    }
   },
   "source": [
    "# Task - Code breaking"
   ]
  },
  {
   "cell_type": "markdown",
   "id": "characteristic-behalf",
   "metadata": {
    "deletable": false,
    "editable": false,
    "run_control": {
     "frozen": true
    }
   },
   "source": [
    "You received a file containing recorded data of an encrypted communication: `Task_1_RecordedData.txt`<br>\n",
    "You have no additional information about the encryption algorithm or the key used for encrypting the data.<br>\n",
    "In this task you will decrypt these received messages."
   ]
  },
  {
   "cell_type": "markdown",
   "id": "durable-opinion",
   "metadata": {
    "deletable": false,
    "editable": false,
    "run_control": {
     "frozen": true
    }
   },
   "source": [
    "## Visualization of the data"
   ]
  },
  {
   "cell_type": "markdown",
   "id": "adaptive-twenty",
   "metadata": {
    "deletable": false,
    "editable": false,
    "run_control": {
     "frozen": true
    }
   },
   "source": [
    "How do we start?<br>\n",
    "Please open the file `Task_1_RecordedData.txt` and just have a look at the content.<br>\n",
    "The data is provided as hexadecimal values separated with a space. Each line corresponds to a message sent.\n",
    "There is a healthy amount of data recorded, so hopefully there will be enough information between the data to decrypt the entirety of the recorded data in the end."
   ]
  },
  {
   "cell_type": "markdown",
   "id": "liberal-advertiser",
   "metadata": {
    "deletable": false,
    "editable": false,
    "run_control": {
     "frozen": true
    }
   },
   "source": [
    "<div>\n",
    "<img src=\"images/question_darkblue.png\" align=\"left\" width=\"24\" height=\"24\"/>\n",
    "<span style=\"line-height:24px; margin-left: 0.5em\"><font color=\"darkblue\">Please note down all your findings at this stage before you continue.</font></span>\n",
    "</div>"
   ]
  },
  {
   "cell_type": "markdown",
   "id": "proprietary-mining",
   "metadata": {
    "deletable": false,
    "editable": false,
    "run_control": {
     "frozen": true
    }
   },
   "source": [
    "<div>\n",
    "<img src=\"images/write_chocolate.png\" align=\"left\" width=\"24\" height=\"24\"/>\n",
    "<span style=\"line-height:24px; margin-left: 0.5em\"><font color='Chocolate'>\n",
    "<b> Please fill in with your own observations </b>\n",
    "</font></span>\n",
    "</div>"
   ]
  },
  {
   "cell_type": "markdown",
   "id": "hazardous-prefix",
   "metadata": {},
   "source": [
    "Der Text weist eine Regelmäßigkeit in folgenden Dingen auf:<br>\n",
    "-es scheint, als würde die Menge der Bytes pro Zeile sich wiederholen.<br>\n",
    "-Die Zeichenketten scheinen sich zu wiederholen.<br>\n",
    "-Jeder Block besteht aus den identischen ersten 3 Zeilen einen Zufälligen Text (vielleicht die Information) und den Identischen 3 Schlusszeilen.<br>\n",
    "<br>\n",
    "8d c7 99 e2 b7 39 64 bb 42 d6 db cd 55 12 ba 75<br>\n",
    "8d c7 99 e2 b7 39 64 b8 42 d6 de cd 44 1e e8 63 9d a4 52 2b 12<br>\n",
    "8d c7 99 e2 b7 39 64 b9 42 d6 c1 c6 55 15 ad 74 91 a5 4b 20 57 dd 3a 76 2b 91 af fe<br>\n",
    "xx xx xx xx xx xx xx xx xx xx xx xx xx xx xx xx xx xx xx xx xx xx<br>\n",
    "f0 8c d9 b1 af 2a 2d fe 11 98 cf 88 50 08 ba 30 96 a2 5f 2d 57 da 2d 7c 39 84 af ad<br>\n",
    "9d ca 92 f2 b3 22 2a ed 58 85 cd cb 43 15 a1 64 81 e7 54 2d 16 da 2a 66<br>\n",
    "<br>\n",
    "Der Zufallstext ist hier xx. Er besteht immer aus derselben Anzahl an Bytes\n"
   ]
  },
  {
   "cell_type": "markdown",
   "id": "legal-session",
   "metadata": {
    "deletable": false,
    "editable": false,
    "run_control": {
     "frozen": true
    }
   },
   "source": [
    "In order to decrypt the data it would be very helpful to know what kind of encryption has been used.\n",
    "\n",
    "As you know from the lecture Hardware Security & Trust there are different types of encryption schemes with their respective implementations:\n",
    "\n",
    "1. Substitution ciphers\n",
    "2. Transpositon ciphers\n",
    "3. (Product ciphers)\n",
    "4. Stream ciphers\n",
    "5. Block ciphers"
   ]
  },
  {
   "cell_type": "markdown",
   "id": "about-school",
   "metadata": {
    "deletable": false,
    "editable": false,
    "run_control": {
     "frozen": true
    }
   },
   "source": [
    "<div>\n",
    "<img src=\"images/question_darkblue.png\" align=\"left\" width=\"24\" height=\"24\"/>\n",
    "<span style=\"line-height:24px; margin-left: 0.5em\"><font color=\"darkblue\">From your observations above, which kind of cipher has been used most likely to encrypt the given data and why?</font> </span>\n",
    "</div><br>\n",
    "Don't worry if you cannot pinpoint to the encryption scheme yet.<br>The visualisation of the data in the text file is not ideal to gather all required information.\n",
    "    "
   ]
  },
  {
   "cell_type": "markdown",
   "id": "hollow-feature",
   "metadata": {
    "deletable": false,
    "editable": false,
    "run_control": {
     "frozen": true
    }
   },
   "source": [
    "<div>\n",
    "<img src=\"images/write_chocolate.png\" align=\"left\" width=\"24\" height=\"24\"/>\n",
    "<span style=\"line-height:24px; margin-left: 0.5em\"><font color='Chocolate'>\n",
    "<b> Please fill in with your own observations </b>\n",
    "</font></span>\n",
    "</div>"
   ]
  },
  {
   "cell_type": "markdown",
   "id": "thrown-startup",
   "metadata": {},
   "source": [
    "Wegen dem sich wiederholenden Blöcken würde ich auf einen Blockcipher schließen.<br>\n",
    "Es könnte aber auch ein suptitution cipher sein mit einem shift.\n",
    "Da die einzelnen Blöcke aber einzelne Nachrichten wiederspiegeln.\n",
    "Somit kämen die obersten 4 cipher in Frage"
   ]
  },
  {
   "cell_type": "markdown",
   "id": "limiting-recognition",
   "metadata": {
    "tags": [
     "\"hide-cell\""
    ]
   },
   "source": [
    "<font color=\"darkgreen\">\n",
    "<details>\n",
    "<summary>\n",
    "<div>\n",
    "<img src=\"images/hint_darkgreen.png\" align=\"left\" width=\"24\" height=\"24\"/>\n",
    "<span style=\"line-height:24px; margin-left: 0.5em\">\n",
    "<b>Click to show hints</b>\n",
    "</span>\n",
    "</div>\n",
    "</summary>\n",
    "\n",
    "1. Look at the slides from the lecture and ask yourself: Would it be possible to create this kind of data with this cipher?<br>\n",
    "2. Is there a type of cipher that you can rule out from the beginning?\n",
    "\n",
    "</details></font>"
   ]
  },
  {
   "cell_type": "markdown",
   "id": "clear-semester",
   "metadata": {
    "deletable": false,
    "editable": false,
    "run_control": {
     "frozen": true
    }
   },
   "source": [
    "With the observations above in mind you can now visualize the data further.\n",
    "\n",
    "Let's first import the data to python in order to analyze them."
   ]
  },
  {
   "cell_type": "code",
   "execution_count": 1,
   "id": "acquired-incident",
   "metadata": {
    "code_folding": [],
    "deletable": false,
    "editable": false
   },
   "outputs": [],
   "source": [
    "with open('Task_1_RecordedData.txt', 'rt', encoding='UTF-8') as data:\n",
    "    messages_raw = [line.strip() for line in data]\n",
    "data.close()"
   ]
  },
  {
   "cell_type": "markdown",
   "id": "improving-chaos",
   "metadata": {
    "deletable": false,
    "editable": false,
    "run_control": {
     "frozen": true
    }
   },
   "source": [
    "With that the data can now be looked at from within python. This will be very helpful for further analysis.\n",
    "\n",
    "Some functions for data conversion are provided below to get you started right away."
   ]
  },
  {
   "cell_type": "code",
   "execution_count": 2,
   "id": "parental-operation",
   "metadata": {
    "code_folding": [],
    "deletable": false,
    "editable": false
   },
   "outputs": [],
   "source": [
    "def hex_2_int_list(message):\n",
    "    '''Convert message from space separated string of hex values to list of integer values\n",
    "\n",
    "    Example: '30 31 32' -> [48, 49, 50]\n",
    "    '''\n",
    "    return [int(i, 16) for i in message.split()]\n",
    "\n",
    "def hex_2_chr_list(message):\n",
    "    '''Convert message from space separated string of hex values to list of character values\n",
    "\n",
    "    Example: '30 31 32' -> ['0', '1', '2']\n",
    "    '''\n",
    "    return [chr(int(i, 16)) for i in message.split()]\n",
    "\n",
    "def hex_2_bin(message):\n",
    "    '''Convert message from space separated string of hex values to space separated string of binary values\n",
    "\n",
    "    Example: '30 31 32' -> '00110000 00110001 00110010'\n",
    "    '''\n",
    "    return \" \".join([bin(int(i, 16))[2:].zfill(8) for i in message.split()])\n",
    "\n",
    "def int_list_2_hex(message):\n",
    "    '''Convert messages from list of integer values to space separated string of hex values\n",
    "\n",
    "    Example: [48, 49, 50] -> '30 31 32'\n",
    "    '''\n",
    "    return \" \".join([hex(i)[2::].zfill(2) for i in message])\n",
    "\n",
    "def int_list_2_bin(message):\n",
    "    '''Convert messages from list of integer values to space separated string of binary values\n",
    "\n",
    "    Example: [48, 49, 50] -> '00110000 00110001 00110010'\n",
    "    '''\n",
    "    return \" \".join([bin(i)[2:].zfill(8) for i in message])\n",
    "\n",
    "def int_list_2_chr_list(message):\n",
    "    '''Convert messages from list of integer values to list of character values\n",
    "\n",
    "    Example: [48, 49, 50] -> ['0', '1', '2']\n",
    "    '''\n",
    "    return [chr(i) for i in message]\n",
    "\n",
    "def chr_list_2_hex(message):\n",
    "    '''Convert messages from list of char values to space separated string of hex values\n",
    "\n",
    "    Example: ['0', '1', '2'] -> '30 31 32'\n",
    "    '''\n",
    "    return \" \".join([hex(ord(i))[2::].zfill(2) for i in message])\n",
    "\n",
    "def chr_list_2_bin(message):\n",
    "    '''Convert messages from list of char values to space separated string of binary values\n",
    "\n",
    "    Example: ['0', '1', '2'] -> '00110000 00110001 0011001'\n",
    "    '''\n",
    "    return \" \".join([bin(ord(i))[2::].zfill(8) for i in message])\n",
    "\n",
    "def chr_list_2_int_list(message):\n",
    "    '''Convert messages from list of char values to list of integer values\n",
    "\n",
    "    Example: ['0', '1', '2'] -> [48, 49, 50]\n",
    "    '''\n",
    "    return [ord(i) for i in message]\n",
    "\n",
    "def chr_list_2_str(message):\n",
    "    '''Convert messages from list of char values to string for printing\n",
    "\n",
    "    Example: ['0', '1', '2'] -> \"012\"\n",
    "    '''\n",
    "    return \"\".join(message)"
   ]
  },
  {
   "cell_type": "markdown",
   "id": "tropical-purple",
   "metadata": {
    "deletable": false,
    "editable": false,
    "run_control": {
     "frozen": true
    }
   },
   "source": [
    "The python functions\n",
    "\n",
    "```python\n",
    "chr(int_value)\n",
    "```\n",
    "and \n",
    "```python\n",
    "ord(chr_value)\n",
    "```\n",
    "might come in very handy in your analysis as well."
   ]
  },
  {
   "cell_type": "markdown",
   "id": "balanced-separate",
   "metadata": {
    "deletable": false,
    "editable": false,
    "run_control": {
     "frozen": true
    }
   },
   "source": [
    "<div>\n",
    "<img src=\"images/hint_darkblue.png\" align=\"left\" width=\"24\" height=\"24\"/>\n",
    "<span style=\"line-height:24px; margin-left: 0.5em\"><font color=\"darkblue\">Feel free to add your own conversion and helper functions if necessary.</font></span>\n",
    "</div>"
   ]
  },
  {
   "cell_type": "markdown",
   "id": "2335f055",
   "metadata": {},
   "source": [
    "kann in \"Code.ipynb\" gefunden werden"
   ]
  },
  {
   "cell_type": "markdown",
   "id": "medical-eight",
   "metadata": {
    "deletable": false,
    "editable": false,
    "run_control": {
     "frozen": true
    }
   },
   "source": [
    "Just scrolling through the data has already provided you with some information about the underlying encryption scheme. But we can do better.<br>\n",
    "How about sorting the data and analysing the messages by type one by one?<br>\n",
    "Ok, but sorting by what?"
   ]
  },
  {
   "cell_type": "markdown",
   "id": "reduced-advisory",
   "metadata": {
    "deletable": false,
    "editable": false,
    "run_control": {
     "frozen": true
    }
   },
   "source": [
    "<div>\n",
    "<img src=\"images/question_darkblue.png\" align=\"left\" width=\"24\" height=\"24\"/>\n",
    "<span style=\"line-height:24px; margin-left: 0.5em\"><font color=\"darkblue\">How may the message types be distinguished and how many are there from each type?</font></span>\n",
    "</div>"
   ]
  },
  {
   "cell_type": "markdown",
   "id": "nutritional-johnson",
   "metadata": {
    "deletable": false,
    "editable": false,
    "run_control": {
     "frozen": true
    }
   },
   "source": [
    "<div>\n",
    "<img src=\"images/write_chocolate.png\" align=\"left\" width=\"24\" height=\"24\"/>\n",
    "<span style=\"line-height:24px; margin-left: 0.5em\"><font color='Chocolate'>\n",
    "<b> Please fill in with your own observations </b>\n",
    "</font></span>\n",
    "</div>"
   ]
  },
  {
   "cell_type": "markdown",
   "id": "acknowledged-income",
   "metadata": {},
   "source": [
    "\n",
    "Ich habe die ersten 10 Zeilen, die eindeutig sind in die \"Selecte_data.txt\" geschrieben.\n",
    "Die Zeilen scheinen sich nur in den Letzten paar Bits zu unterscheiden.\n",
    "Nach betrachten der Letzten Einträge fällt auf, dass sie nur in den ersten 2 Bites gleich sind. \n",
    "Die Anfangsbits sind \" 8f db\""
   ]
  },
  {
   "cell_type": "markdown",
   "id": "biblical-reservation",
   "metadata": {
    "deletable": false,
    "editable": false,
    "run_control": {
     "frozen": true
    }
   },
   "source": [
    "<font color=\"darkgreen\">\n",
    "<details>\n",
    "<summary>\n",
    "<div>\n",
    "<img src=\"images/hint_darkgreen.png\" align=\"left\" width=\"24\" height=\"24\"/>\n",
    "<span style=\"line-height:24px; margin-left: 0.5em\">\n",
    "<b>Click to show hints</b>\n",
    "</span>\n",
    "</div>\n",
    "</summary>\n",
    "\n",
    "what is the difference between the seamingly repeating messages?\n",
    "\n",
    "</details></font>"
   ]
  },
  {
   "cell_type": "code",
   "execution_count": 3,
   "id": "educated-horizontal",
   "metadata": {
    "hide_input": false
   },
   "outputs": [
    {
     "name": "stdout",
     "output_type": "stream",
     "text": [
      "Type 8d db: with 2000 elements\n",
      "Type 9d ca: with 2000 elements\n",
      "Type 8d c7 99 e2 b7 39 64 bb: with 2000 elements\n",
      "Type 8d c7 99 e2 b7 39 64 b8: with 2000 elements\n",
      "Type 8d c7 99 e2 b7 39 64 b9: with 2000 elements\n",
      "Type f0 8c: with 2000 elements\n"
     ]
    }
   ],
   "source": [
    "# sort the messages by a useful measure and find out how many messages of each type are present\n",
    "messages_sorted = {}\n",
    "message_sort_l = []\n",
    "for message in messages_raw:\n",
    "    # get the messages in a format to distinguish between them more easily\n",
    "    message_chr = hex_2_chr_list(message)\n",
    "    #raise NotImplementedError(\"What would be a good candidate to sort the messages by?\") # remove this line once key definition is implemented\n",
    "    sorting_key = [\"8d db\", \"9d ca\", \"8d c7 99 e2 b7 39 64 bb\", \"8d c7 99 e2 b7 39 64 b8\", \"8d c7 99 e2 b7 39 64 b9\", \"f0 8c\"]\n",
    "    for key in sorting_key:\n",
    "        if key not in messages_sorted:\n",
    "            messages_sorted[key] = []\n",
    "        if key in message:\n",
    "            messages_sorted[key].append(message)\n",
    "\n",
    "for key in messages_sorted.keys():\n",
    "    print('Type {}: with {} elements'.format(key, len(messages_sorted[key])))"
   ]
  },
  {
   "cell_type": "markdown",
   "id": "bf0d7c42",
   "metadata": {},
   "source": [
    "Im code ein Bug von mbeX????"
   ]
  },
  {
   "cell_type": "markdown",
   "id": "magnetic-thursday",
   "metadata": {
    "deletable": false,
    "editable": false,
    "run_control": {
     "frozen": true
    }
   },
   "source": [
    "<div>\n",
    "<img src=\"images/question_darkblue.png\" align=\"left\" width=\"24\" height=\"24\"/>\n",
    "<span style=\"line-height:24px; margin-left: 0.5em\"><font color='darkblue'>\n",
    "Is there an equal amount of messages of each type and what does this tell you?\n",
    "</font></span>\n",
    "</div>"
   ]
  },
  {
   "cell_type": "markdown",
   "id": "scenic-narrative",
   "metadata": {
    "deletable": false,
    "editable": false,
    "run_control": {
     "frozen": true
    }
   },
   "source": [
    "<div>\n",
    "<img src=\"images/write_chocolate.png\" align=\"left\" width=\"24\" height=\"24\"/>\n",
    "<span style=\"line-height:24px; margin-left: 0.5em\"><font color='Chocolate'>\n",
    "<b> Please fill in with your own observations </b>\n",
    "</font></span>\n",
    "</div>"
   ]
  },
  {
   "cell_type": "markdown",
   "id": "linear-premium",
   "metadata": {},
   "source": [
    "Es gibt 2000 Einzigartige Zeilen. Der Rest sind sich wiederholende Blöcke.\n",
    "Die zu entschlüsselden daten enthalten die Anfangbits \"8d db\".\n",
    "Das trifft bei 6 verschiedenen Schlüsseln zu.\n",
    "6 * 2000 = 12000"
   ]
  },
  {
   "cell_type": "markdown",
   "id": "weighted-norwegian",
   "metadata": {
    "deletable": false,
    "editable": false,
    "run_control": {
     "frozen": true
    }
   },
   "source": [
    "Once you found a good way to differentiate between the messages, let's have a closer look at the message types one by one.\n",
    "For this it will be helpful to store the messages by type into different files.\n",
    "\n",
    "With the following code snipped, the different message types are dumped in separate files for each message type."
   ]
  },
  {
   "cell_type": "code",
   "execution_count": 4,
   "id": "killing-nightlife",
   "metadata": {},
   "outputs": [],
   "source": [
    "# iterate over the different message types as distinguished before\n",
    "for key in messages_sorted.keys():\n",
    "    # create a text file and dump all the messages of the message type into it.\n",
    "    with open(\"Messages_Type_\" + str(key) + '.txt', 'w') as message_file:\n",
    "        for message in messages_sorted[key]:\n",
    "            message_file.write(message + '\\n')\n",
    "    message_file.close()"
   ]
  },
  {
   "cell_type": "markdown",
   "id": "minimal-reply",
   "metadata": {
    "deletable": false,
    "editable": false,
    "run_control": {
     "frozen": true
    }
   },
   "source": [
    "<div>\n",
    "<img src=\"images/question_darkblue.png\" align=\"left\" width=\"24\" height=\"24\"/>\n",
    "\n",
    "<span style=\"line-height:24px; margin-left: 0.5em\"><font color='darkblue'>\n",
    "Please look at the new generated text files `Messages_Type_*.txt` and note down all the observations you make while scrolling through the data.\n",
    "</font></span>\n",
    "</div>"
   ]
  },
  {
   "cell_type": "markdown",
   "id": "capable-perth",
   "metadata": {
    "deletable": false,
    "editable": false,
    "run_control": {
     "frozen": true
    }
   },
   "source": [
    "<div>\n",
    "<img src=\"images/write_chocolate.png\" align=\"left\" width=\"24\" height=\"24\"/>\n",
    "<span style=\"line-height:24px; margin-left: 0.5em\"><font color='Chocolate'>\n",
    "<b> Please fill in with your own observations </b>\n",
    "</font></span>\n",
    "</div>"
   ]
  },
  {
   "cell_type": "markdown",
   "id": "hazardous-director",
   "metadata": {},
   "source": [
    "<font color='Chocolate'>\n",
    "<b>Messages_Type_8d db.txt</b><br>\n",
    "Jeder Eintrag besteht aus genau 22 Bits <br>\n",
    "Das letzte Byte besitzt genau 10 Elemente. Höchst wahrscheinlich [0-9].<br>\n",
    "Nur die letzten 5 Bits ändern sich. Der Rest bleibt konstant!<br>\n",
    "<br>\n",
    "<b>Messages_Type_Messages_Type_8d c7 99 e2 b7 39 64 b8.txt</b><br>\n",
    "Jeder Eintrag besteht aus genau 21 Bits. Alle Einträge sind dauerhaft identisch<br>\n",
    "<br>\n",
    "<b>Messages_Type_Messages_Type_8d c7 99 e2 b7 39 64 b9.txt</b><br>\n",
    "Jeder Eintrag besteht aus genau 28 Bits. Alle Einträge sind dauerhaft identisch<br>\n",
    "<br>\n",
    "<b>Messages_Type_Messages_Type_8d c7 99 e2 b7 39 64 bb.txt</b><br>\n",
    "Jeder Eintrag besteht aus genau 16 Bits. Alle Einträge sind dauerhaft identisch<br>\n",
    "<br>\n",
    "<b>Messages_Type_Messages_Type_9d ca.txt</b><br>\n",
    "Jeder Eintrag besteht aus genau 24 Bits. Alle Einträge sind dauerhaft identisch<br>\n",
    "<br>\n",
    "<b>Messages_Type_Messages_Type_f0 8c.txt</b><br>\n",
    "Jeder Eintrag besteht aus genau 28 Bits. Alle Einträge sind dauerhaft identisch<br>\n",
    "</font>"
   ]
  },
  {
   "cell_type": "markdown",
   "id": "apart-inflation",
   "metadata": {
    "deletable": false,
    "editable": false,
    "run_control": {
     "frozen": true
    }
   },
   "source": [
    "## Step wise decryption of the data"
   ]
  },
  {
   "cell_type": "markdown",
   "id": "registered-wiring",
   "metadata": {
    "deletable": false,
    "editable": false,
    "run_control": {
     "frozen": true
    }
   },
   "source": [
    "In the previous section you gathered some information about the data. In this section you use the gathered information to gain more information about the data, the cipher and the key so that in the end you can decrypt the entire recorded communication.\n",
    "\n",
    "**Good luck and enjoy the decryption task :)**"
   ]
  },
  {
   "cell_type": "markdown",
   "id": "adapted-blade",
   "metadata": {
    "deletable": false,
    "editable": false,
    "run_control": {
     "frozen": true
    }
   },
   "source": [
    "<font color=\"darkgreen\">\n",
    "<details>\n",
    "<summary>\n",
    "<div>\n",
    "<img src=\"images/hint_darkgreen.png\" align=\"left\" width=\"24\" height=\"24\"/>\n",
    "<span style=\"line-height:24px; margin-left: 0.5em\">\n",
    "<b>Click to show hints</b>\n",
    "</span>\n",
    "</div>\n",
    "</summary>\n",
    "\n",
    "The plain text consists of messages in english language encoded in ASCII characters.\n",
    "\n",
    "</details></font>"
   ]
  },
  {
   "cell_type": "markdown",
   "id": "sapphire-proceeding",
   "metadata": {
    "deletable": false,
    "editable": false,
    "run_control": {
     "frozen": true
    }
   },
   "source": [
    "<font color=\"darkgreen\">\n",
    "<details>\n",
    "<summary>\n",
    "<div>\n",
    "<img src=\"images/hint_darkgreen.png\" align=\"left\" width=\"24\" height=\"24\"/>\n",
    "<span style=\"line-height:24px; margin-left: 0.5em\">\n",
    "<b>Click to show more hints</b>\n",
    "</span>\n",
    "</div>\n",
    "</summary>\n",
    "\n",
    "As you have seen, most of the data are repeated without any changing data. There are other data though, that change.<br>\n",
    "Find the pattern in the changing data, name assumptions about the data in plain text, gather step wise more and more information until you can decrypt all the recorded data.\n",
    "\n",
    "</details></font>"
   ]
  },
  {
   "cell_type": "markdown",
   "id": "challenging-partnership",
   "metadata": {
    "deletable": false,
    "editable": false,
    "run_control": {
     "frozen": true
    }
   },
   "source": [
    "<font color=\"darkgreen\">\n",
    "<details>\n",
    "<summary>\n",
    "<div>\n",
    "<img src=\"images/hint_darkgreen.png\" align=\"left\" width=\"24\" height=\"24\"/>\n",
    "<span style=\"line-height:24px; margin-left: 0.5em\">\n",
    "<b>Click to show even more hints</b>\n",
    "</span>\n",
    "</div>\n",
    "</summary>\n",
    "\n",
    "Generally, if you find a pattern, you should look at it in detail and try to relate it to something you know. Once you found enough information that lets you assume the partial key (even if it is only a single byte) look at the bigger picture and see what information you can gain from your new discovery.\n",
    "\n",
    "</details></font>"
   ]
  },
  {
   "cell_type": "markdown",
   "id": "familiar-twenty",
   "metadata": {
    "deletable": false,
    "editable": false,
    "run_control": {
     "frozen": true
    }
   },
   "source": [
    "If you do get stuck, take a break, get some fresh air and try again a little bit later.<br>\n",
    "If you keep being stuck, feel free to ask for help and additional hints."
   ]
  },
  {
   "cell_type": "markdown",
   "id": "7743c855",
   "metadata": {},
   "source": [
    "### Get Key from known Figures"
   ]
  },
  {
   "cell_type": "markdown",
   "id": "cc378f57",
   "metadata": {},
   "source": [
    "#### Get Key of Bit 22"
   ]
  },
  {
   "cell_type": "code",
   "execution_count": 5,
   "id": "indian-liechtenstein",
   "metadata": {},
   "outputs": [],
   "source": [
    "data = open('Messages_Type_8d db.txt', 'rt', encoding='UTF-8')\n",
    "sel_dat = [line.strip() for line in data]\n",
    "data.close()\n",
    "message_li = []\n",
    "for line in sel_dat:\n",
    "    line_li = [z for z in line.split()]\n",
    "    message_li.append(line_li)\n"
   ]
  },
  {
   "cell_type": "code",
   "execution_count": 6,
   "id": "1b6b60b1",
   "metadata": {},
   "outputs": [],
   "source": [
    "import re"
   ]
  },
  {
   "cell_type": "code",
   "execution_count": 7,
   "id": "74e6330d",
   "metadata": {},
   "outputs": [],
   "source": [
    "mask = {}\n",
    "#mask_l = []\n",
    "for i, z in enumerate(message_li):\n",
    "    for x in range(256):\n",
    "        m = chr(int(message_li[i][21], 16) ^ x)\n",
    "        if re.findall(\"[0-9]\", m):\n",
    "            if not x in mask:\n",
    "                mask[x] = 1\n",
    "            elif x in mask:\n",
    "                mask[x] += 1"
   ]
  },
  {
   "cell_type": "code",
   "execution_count": 8,
   "id": "0fb8627c",
   "metadata": {},
   "outputs": [
    {
     "name": "stdout",
     "output_type": "stream",
     "text": [
      "Mask with the most hits 0b10101111\n",
      "2000 hits in 2000 lines\n",
      "possible keys for byte 21 are:\t['', '', '', '', '', '', '', '', 174, 175, '', '', '', '', '', '']\n"
     ]
    }
   ],
   "source": [
    "print(f\"Mask with the most hits {bin(max(mask.keys()))}\")\n",
    "print(f\"{mask[max(mask.keys())]} hits in {len(message_li)} lines\") \n",
    "print(f\"possible keys for byte 21 are:\\t{[k if max(mask.values()) == v else '' for k, v in  mask.items()]}\")"
   ]
  },
  {
   "cell_type": "markdown",
   "id": "c4cc2513",
   "metadata": {},
   "source": [
    "#### Get Key of Bit 21"
   ]
  },
  {
   "cell_type": "code",
   "execution_count": 9,
   "id": "3781404a",
   "metadata": {},
   "outputs": [
    {
     "name": "stdout",
     "output_type": "stream",
     "text": [
      "Mask with the most hits 0b1110111\n",
      "2000 hits in 2000 lines\n",
      "possible keys for byte 21 are:\t['', '', '', '', '', 118, 119, '']\n"
     ]
    }
   ],
   "source": [
    "data = open('Messages_Type_8d db.txt', 'rt', encoding='UTF-8')\n",
    "sel_dat = [line.strip() for line in data]\n",
    "data.close()\n",
    "message_li = []\n",
    "for line in sel_dat:\n",
    "    line_li = [z for z in line.split()]\n",
    "    message_li.append(line_li)\n",
    "\n",
    "mask = {}\n",
    "#mask_l = []\n",
    "for i, z in enumerate(message_li):\n",
    "    for x in range(256):\n",
    "        m = chr(int(message_li[i][20], 16) ^ x)\n",
    "        if re.findall(\"[0-6]\", m):\n",
    "            #mask_l.append(x)\n",
    "            if not x in mask:\n",
    "                mask[x] = 1\n",
    "            elif x in mask:\n",
    "                mask[x] += 1\n",
    "\n",
    "print(f\"Mask with the most hits {bin(max(mask.keys()))}\")\n",
    "print(f\"{mask[max(mask.keys())]} hits in {len(message_li)} lines\") \n",
    "print(f\"possible keys for byte 21 are:\\t{[k if max(mask.values()) == v else '' for k, v in  mask.items()]}\")"
   ]
  },
  {
   "cell_type": "markdown",
   "id": "640e2763",
   "metadata": {},
   "source": [
    "#### Get Key of Bit 20"
   ]
  },
  {
   "cell_type": "code",
   "execution_count": 10,
   "id": "02ffeeea",
   "metadata": {},
   "outputs": [
    {
     "name": "stdout",
     "output_type": "stream",
     "text": [
      "Mask with the most hits 0b1011001\n",
      "2000 hits in 2000 lines\n",
      "possible keys for byte 21 are:\t[89]\n"
     ]
    }
   ],
   "source": [
    "data = open('Messages_Type_8d db.txt', 'rt', encoding='UTF-8')\n",
    "sel_dat = [line.strip() for line in data]\n",
    "data.close()\n",
    "message_li = []\n",
    "for line in sel_dat:\n",
    "    line_li = [z for z in line.split()]\n",
    "    message_li.append(line_li)\n",
    "\n",
    "mask = {}\n",
    "#mask_l = []\n",
    "for i, z in enumerate(message_li):\n",
    "    for x in range(256):\n",
    "        m = chr(int(message_li[i][19], 16) ^ x)\n",
    "        if m == ':':\n",
    "            #mask_l.append(x)\n",
    "            if not x in mask:\n",
    "                mask[x] = 1\n",
    "            elif x in mask:\n",
    "                mask[x] += 1\n",
    "\n",
    "print(f\"Mask with the most hits {bin(max(mask.keys()))}\")\n",
    "print(f\"{mask[max(mask.keys())]} hits in {len(message_li)} lines\") \n",
    "print(f\"possible keys for byte 21 are:\\t{[k if max(mask.values()) == v else '' for k, v in  mask.items()]}\")"
   ]
  },
  {
   "cell_type": "markdown",
   "id": "6b12f949",
   "metadata": {},
   "source": [
    "#### Get Key of Bit 19"
   ]
  },
  {
   "cell_type": "code",
   "execution_count": 11,
   "id": "42f866f6",
   "metadata": {},
   "outputs": [
    {
     "name": "stdout",
     "output_type": "stream",
     "text": [
      "Mask with the most hits 0b101111\n",
      "800 hits in 2000 lines\n",
      "possible keys for byte 21 are:\t['', '', '', '', '', '', 38, 39, '', '', '', '', '', '', '', '']\n"
     ]
    }
   ],
   "source": [
    "data = open('Messages_Type_8d db.txt', 'rt', encoding='UTF-8')\n",
    "sel_dat = [line.strip() for line in data]\n",
    "data.close()\n",
    "message_li = []\n",
    "for line in sel_dat:\n",
    "    line_li = [z for z in line.split()]\n",
    "    message_li.append(line_li)\n",
    "\n",
    "mask = {}\n",
    "#mask_l = []\n",
    "for i, z in enumerate(message_li):\n",
    "    for x in range(256):\n",
    "        m = chr(int(message_li[i][18], 16) ^ x)\n",
    "        if re.findall(\"[0-9]\", m):\n",
    "            #mask_l.append(x)\n",
    "            if not x in mask:\n",
    "                mask[x] = 1\n",
    "            elif x in mask:\n",
    "                mask[x] += 1\n",
    "\n",
    "print(f\"Mask with the most hits {bin(max(mask.keys()))}\")\n",
    "print(f\"{mask[max(mask.keys())]} hits in {len(message_li)} lines\") \n",
    "print(f\"possible keys for byte 21 are:\\t{[k if max(mask.values()) == v else '' for k, v in  mask.items()]}\")"
   ]
  },
  {
   "cell_type": "markdown",
   "id": "6fff3de7",
   "metadata": {},
   "source": [
    "#### Get Key of Bit 18"
   ]
  },
  {
   "cell_type": "code",
   "execution_count": null,
   "id": "dd67d486",
   "metadata": {},
   "outputs": [],
   "source": [
    "data = open('Messages_Type_8d c7 99 e2 b7 39 64 b8', 'rt', encoding='UTF-8')\n",
    "sel_dat = [line.strip() for line in data]\n",
    "data.close()\n",
    "message_li = []\n",
    "for line in sel_dat:\n",
    "    line_li = [z for z in line.split()]\n",
    "    message_li.append(line_li)\n",
    "\n",
    "mask = {}\n",
    "#mask_l = []\n",
    "for i, z in enumerate(message_li):\n",
    "    for x in range(256):\n",
    "        m = chr(int(message_li[i][17], 16) ^ x)\n",
    "        if re.findall(\"[0-6]\", m):\n",
    "            #mask_l.append(x)\n",
    "            if not x in mask:\n",
    "                mask[x] = 1\n",
    "            elif x in mask:\n",
    "                mask[x] += 1\n",
    "\n",
    "print(f\"Mask with the most hits {bin(max(mask.keys()))}\")\n",
    "print(f\"{mask[max(mask.keys())]} hits in {len(message_li)} lines\") \n",
    "print(f\"possible keys for byte 21 are:\\t{[k if max(mask.values()) == v else '' for k, v in  mask.items()]}\")"
   ]
  },
  {
   "cell_type": "markdown",
   "id": "b820fae1",
   "metadata": {},
   "source": [
    "### Test of Keys on different ciphertext"
   ]
  },
  {
   "cell_type": "code",
   "execution_count": 13,
   "id": "ddb7c75d",
   "metadata": {},
   "outputs": [],
   "source": [
    "message = []\n",
    "for line in messages_raw:\n",
    "    line_li = [z for z in line.split()]\n",
    "    message.append(line_li)"
   ]
  },
  {
   "cell_type": "markdown",
   "id": "71e7061e",
   "metadata": {},
   "source": [
    "#### Test for Byte 22"
   ]
  },
  {
   "cell_type": "code",
   "execution_count": 90,
   "id": "1e240b35",
   "metadata": {},
   "outputs": [
    {
     "name": "stdout",
     "output_type": "stream",
     "text": [
      "t \t u \t Für Zeile 0\n",
      "s \t r \t Für Zeile 3\n",
      "5 \t 4 \t Für Zeile 4\n"
     ]
    }
   ],
   "source": [
    "print(chr(int(message[0][21], 16) ^ 174),\"\\t\", chr(int(message[0][21], 16) ^ 175), \"\\t Für Zeile 0\")\n",
    "print(chr(int(message[3][21], 16) ^ 174),\"\\t\", chr(int(message[3][21], 16) ^ 175), \"\\t Für Zeile 3\")\n",
    "print(chr(int(message[4][21], 16) ^ 174),\"\\t\", chr(int(message[4][21], 16) ^ 175), \"\\t Für Zeile 4\")"
   ]
  },
  {
   "cell_type": "markdown",
   "id": "09dd73ff",
   "metadata": {},
   "source": [
    "#### Test for Byte 21"
   ]
  },
  {
   "cell_type": "code",
   "execution_count": 34,
   "id": "4bff3ff8",
   "metadata": {},
   "outputs": [
    {
     "name": "stdout",
     "output_type": "stream",
     "text": [
      "` \t a \t Für Zeile 1\n",
      "d \t e \t Für Zeile 3\n",
      "! \t   \t Für Zeile 4\n",
      "0 \t 1 \t Für Zeile 5\n",
      "! \t   \t Für Zeile 6\n"
     ]
    }
   ],
   "source": [
    "b = 20\n",
    "k1 = 118\n",
    "print(chr(int(message[0][b], 16) ^ k1),\"\\t\", chr(int(message[0][b], 16) ^ (k1 + 1)), \"\\t Für Zeile 1\")\n",
    "print(chr(int(message[2][b], 16) ^ k1),\"\\t\", chr(int(message[2][b], 16) ^ (k1 + 1)), \"\\t Für Zeile 3\")\n",
    "print(chr(int(message[3][b], 16) ^ k1),\"\\t\", chr(int(message[3][b], 16) ^ (k1 + 1)), \"\\t Für Zeile 4\")\n",
    "print(chr(int(message[4][b], 16) ^ k1),\"\\t\", chr(int(message[4][b], 16) ^ (k1 + 1)), \"\\t Für Zeile 5\")\n",
    "print(chr(int(message[5][b], 16) ^ k1),\"\\t\", chr(int(message[5][b], 16) ^ (k1 + 1)), \"\\t Für Zeile 6\")"
   ]
  },
  {
   "cell_type": "markdown",
   "id": "f493f2ac",
   "metadata": {},
   "source": [
    "#### Test for Byte 20"
   ]
  },
  {
   "cell_type": "code",
   "execution_count": 35,
   "id": "8c52a38f",
   "metadata": {},
   "outputs": [
    {
     "name": "stdout",
     "output_type": "stream",
     "text": [
      "t \t t \t Für Zeile 1\n",
      "r \t r \t Für Zeile 3\n",
      "y \t y \t Für Zeile 4\n",
      ": \t : \t Für Zeile 5\n",
      "t \t t \t Für Zeile 6\n"
     ]
    }
   ],
   "source": [
    "b = 19\n",
    "k1 = 89\n",
    "print(chr(int(message[0][b], 16) ^ k1),\"\\t\", chr(int(message[0][b], 16) ^ k1), \"\\t Für Zeile 1\")\n",
    "print(chr(int(message[2][b], 16) ^ k1),\"\\t\", chr(int(message[2][b], 16) ^ k1), \"\\t Für Zeile 3\")\n",
    "print(chr(int(message[3][b], 16) ^ k1),\"\\t\", chr(int(message[3][b], 16) ^ k1), \"\\t Für Zeile 4\")\n",
    "print(chr(int(message[4][b], 16) ^ k1),\"\\t\", chr(int(message[4][b], 16) ^ k1), \"\\t Für Zeile 5\")\n",
    "print(chr(int(message[5][b], 16) ^ k1),\"\\t\", chr(int(message[5][b], 16) ^ k1), \"\\t Für Zeile 6\")"
   ]
  },
  {
   "cell_type": "markdown",
   "id": "586b0e7c",
   "metadata": {},
   "source": [
    "#### Test for Byte 19"
   ]
  },
  {
   "cell_type": "code",
   "execution_count": 36,
   "id": "8d63bbb6",
   "metadata": {},
   "outputs": [
    {
     "name": "stdout",
     "output_type": "stream",
     "text": [
      "r \t s \t Für Zeile 1\n",
      "t \t u \t Für Zeile 3\n",
      "m \t l \t Für Zeile 4\n",
      "5 \t 4 \t Für Zeile 5\n",
      "y \t x \t Für Zeile 6\n"
     ]
    }
   ],
   "source": [
    "b = 18\n",
    "k1 = 38\n",
    "print(chr(int(message[0][b], 16) ^ k1),\"\\t\", chr(int(message[0][b], 16) ^ (k1 + 1)), \"\\t Für Zeile 1\")\n",
    "print(chr(int(message[2][b], 16) ^ k1),\"\\t\", chr(int(message[2][b], 16) ^ (k1 + 1)), \"\\t Für Zeile 3\")\n",
    "print(chr(int(message[3][b], 16) ^ k1),\"\\t\", chr(int(message[3][b], 16) ^ (k1 + 1)), \"\\t Für Zeile 4\")\n",
    "print(chr(int(message[4][b], 16) ^ k1),\"\\t\", chr(int(message[4][b], 16) ^ (k1 + 1)), \"\\t Für Zeile 5\")\n",
    "print(chr(int(message[5][b], 16) ^ k1),\"\\t\", chr(int(message[5][b], 16) ^ (k1 + 1)), \"\\t Für Zeile 6\")"
   ]
  },
  {
   "cell_type": "markdown",
   "id": "491a1f67",
   "metadata": {},
   "source": [
    "#### Test for Byte 18"
   ]
  },
  {
   "cell_type": "code",
   "execution_count": 38,
   "id": "48b6e0cd",
   "metadata": {},
   "outputs": [
    {
     "name": "stdout",
     "output_type": "stream",
     "text": [
      "! \t   \t Für Zeile 1\n",
      "b \t c \t Für Zeile 3\n",
      "c \t b \t Für Zeile 4\n",
      "0 \t 1 \t Für Zeile 5\n",
      "d \t e \t Für Zeile 6\n"
     ]
    }
   ],
   "source": [
    "b = 17\n",
    "k1 = 198\n",
    "print(chr(int(message[0][b], 16) ^ k1),\"\\t\", chr(int(message[0][b], 16) ^ (k1 + 1)), \"\\t Für Zeile 1\")\n",
    "print(chr(int(message[2][b], 16) ^ k1),\"\\t\", chr(int(message[2][b], 16) ^ (k1 + 1)), \"\\t Für Zeile 3\")\n",
    "print(chr(int(message[3][b], 16) ^ k1),\"\\t\", chr(int(message[3][b], 16) ^ (k1 + 1)), \"\\t Für Zeile 4\")\n",
    "print(chr(int(message[4][b], 16) ^ k1),\"\\t\", chr(int(message[4][b], 16) ^ (k1 + 1)), \"\\t Für Zeile 5\")\n",
    "print(chr(int(message[5][b], 16) ^ k1),\"\\t\", chr(int(message[5][b], 16) ^ (k1 + 1)), \"\\t Für Zeile 6\")"
   ]
  },
  {
   "cell_type": "markdown",
   "id": "845762f4",
   "metadata": {},
   "source": [
    "#### Test for Byte 23"
   ]
  },
  {
   "cell_type": "code",
   "execution_count": 43,
   "id": "79d4d81d",
   "metadata": {},
   "outputs": [
    {
     "name": "stdout",
     "output_type": "stream",
     "text": [
      "u \t u \t Für Zeile 1\n",
      "e \t e \t Für Zeile 4\n",
      "r \t r \t Für Zeile 6\n"
     ]
    }
   ],
   "source": [
    "b = 22\n",
    "k1 = 95\n",
    "print(chr(int(message[0][b], 16) ^ k1),\"\\t\", chr(int(message[0][b], 16) ^ k1), \"\\t Für Zeile 1\")\n",
    "#print(chr(int(message[2][b], 16) ^ k1),\"\\t\", chr(int(message[2][b], 16) ^ k1), \"\\t Für Zeile 3\")\n",
    "print(chr(int(message[3][b], 16) ^ k1),\"\\t\", chr(int(message[3][b], 16) ^ k1), \"\\t Für Zeile 4\")\n",
    "#print(chr(int(message[4][b], 16) ^ k1),\"\\t\", chr(int(message[4][b], 16) ^ k1), \"\\t Für Zeile 5\")\n",
    "print(chr(int(message[5][b], 16) ^ k1),\"\\t\", chr(int(message[5][b], 16) ^ k1), \"\\t Für Zeile 6\")"
   ]
  },
  {
   "cell_type": "markdown",
   "id": "a4155252",
   "metadata": {},
   "source": [
    "#### Test for Byte 24"
   ]
  },
  {
   "cell_type": "code",
   "execution_count": 46,
   "id": "7f7ad2ff",
   "metadata": {},
   "outputs": [
    {
     "name": "stdout",
     "output_type": "stream",
     "text": [
      "s \t s \t Für Zeile 1\n",
      "c \t c \t Für Zeile 4\n",
      "i \t i \t Für Zeile 6\n"
     ]
    }
   ],
   "source": [
    "b = 23\n",
    "k1 = 21\n",
    "print(chr(int(message[0][b], 16) ^ k1),\"\\t\", chr(int(message[0][b], 16) ^ k1), \"\\t Für Zeile 1\")\n",
    "#print(chr(int(message[2][b], 16) ^ k1),\"\\t\", chr(int(message[2][b], 16) ^ k1), \"\\t Für Zeile 3\")\n",
    "print(chr(int(message[3][b], 16) ^ k1),\"\\t\", chr(int(message[3][b], 16) ^ k1), \"\\t Für Zeile 4\")\n",
    "#print(chr(int(message[4][b], 16) ^ k1),\"\\t\", chr(int(message[4][b], 16) ^ k1), \"\\t Für Zeile 5\")\n",
    "print(chr(int(message[5][b], 16) ^ k1),\"\\t\", chr(int(message[5][b], 16) ^ k1), \"\\t Für Zeile 6\")"
   ]
  },
  {
   "cell_type": "markdown",
   "id": "82a65155",
   "metadata": {},
   "source": [
    "#### Test for Byte 25"
   ]
  },
  {
   "cell_type": "code",
   "execution_count": 55,
   "id": "b9d90226",
   "metadata": {},
   "outputs": [
    {
     "name": "stdout",
     "output_type": "stream",
     "text": [
      "u \t u \t Für Zeile 4\n",
      "g \t g \t Für Zeile 6\n"
     ]
    }
   ],
   "source": [
    "b = 24\n",
    "k1 = 94\n",
    "print(chr(int(message[3][b], 16) ^ k1),\"\\t\", chr(int(message[3][b], 16) ^ k1), \"\\t Für Zeile 4\")\n",
    "print(chr(int(message[5][b], 16) ^ k1),\"\\t\", chr(int(message[5][b], 16) ^ k1), \"\\t Für Zeile 6\")"
   ]
  },
  {
   "cell_type": "markdown",
   "id": "8361fc0e",
   "metadata": {},
   "source": [
    "#### Test for Byte 26"
   ]
  },
  {
   "cell_type": "code",
   "execution_count": 56,
   "id": "a7249199",
   "metadata": {},
   "outputs": [
    {
     "name": "stdout",
     "output_type": "stream",
     "text": [
      "r \t r \t Für Zeile 4\n",
      "g \t g \t Für Zeile 6\n"
     ]
    }
   ],
   "source": [
    "b = 25\n",
    "k1 = 227\n",
    "print(chr(int(message[3][b], 16) ^ k1),\"\\t\", chr(int(message[3][b], 16) ^ k1), \"\\t Für Zeile 4\")\n",
    "print(chr(int(message[5][b], 16) ^ k1),\"\\t\", chr(int(message[5][b], 16) ^ k1), \"\\t Für Zeile 6\")"
   ]
  },
  {
   "cell_type": "markdown",
   "id": "5ebc630a",
   "metadata": {},
   "source": [
    "#### Test for Byte 27"
   ]
  },
  {
   "cell_type": "code",
   "execution_count": 57,
   "id": "94842135",
   "metadata": {},
   "outputs": [
    {
     "name": "stdout",
     "output_type": "stream",
     "text": [
      "e \t e \t Für Zeile 4\n",
      "e \t e \t Für Zeile 6\n"
     ]
    }
   ],
   "source": [
    "b = 26\n",
    "k1 = 202\n",
    "print(chr(int(message[3][b], 16) ^ k1),\"\\t\", chr(int(message[3][b], 16) ^ k1), \"\\t Für Zeile 4\")\n",
    "print(chr(int(message[5][b], 16) ^ k1),\"\\t\", chr(int(message[5][b], 16) ^ k1), \"\\t Für Zeile 6\")"
   ]
  },
  {
   "cell_type": "markdown",
   "id": "7ebf38fe",
   "metadata": {},
   "source": [
    "#### Test for Byte 28"
   ]
  },
  {
   "cell_type": "code",
   "execution_count": 58,
   "id": "c426d471",
   "metadata": {},
   "outputs": [
    {
     "name": "stdout",
     "output_type": "stream",
     "text": [
      "! \t ! \t Für Zeile 4\n",
      "r \t r \t Für Zeile 6\n"
     ]
    }
   ],
   "source": [
    "b = 27\n",
    "k1 = 223\n",
    "print(chr(int(message[3][b], 16) ^ k1),\"\\t\", chr(int(message[3][b], 16) ^ k1), \"\\t Für Zeile 4\")\n",
    "print(chr(int(message[5][b], 16) ^ k1),\"\\t\", chr(int(message[5][b], 16) ^ k1), \"\\t Für Zeile 6\")"
   ]
  },
  {
   "cell_type": "markdown",
   "id": "0c9913ec",
   "metadata": {},
   "source": [
    "#### test for Byte 17"
   ]
  },
  {
   "cell_type": "code",
   "execution_count": 61,
   "id": "f287866e",
   "metadata": {},
   "outputs": [
    {
     "name": "stdout",
     "output_type": "stream",
     "text": [
      "y \t y \t Für Zeile 1\n",
      "e \t e \t Für Zeile 3\n",
      "i \t i \t Für Zeile 4\n",
      ": \t : \t Für Zeile 5\n",
      "n \t n \t Für Zeile 6\n"
     ]
    }
   ],
   "source": [
    "b = 16\n",
    "k1 = 248\n",
    "print(chr(int(message[0][b], 16) ^ k1),\"\\t\", chr(int(message[0][b], 16) ^ k1), \"\\t Für Zeile 1\")\n",
    "print(chr(int(message[2][b], 16) ^ k1),\"\\t\", chr(int(message[2][b], 16) ^ k1), \"\\t Für Zeile 3\")\n",
    "print(chr(int(message[3][b], 16) ^ k1),\"\\t\", chr(int(message[3][b], 16) ^ k1), \"\\t Für Zeile 4\")\n",
    "print(chr(int(message[4][b], 16) ^ k1),\"\\t\", chr(int(message[4][b], 16) ^ k1), \"\\t Für Zeile 5\")\n",
    "print(chr(int(message[5][b], 16) ^ k1),\"\\t\", chr(int(message[5][b], 16) ^ k1), \"\\t Für Zeile 6\")"
   ]
  },
  {
   "cell_type": "markdown",
   "id": "19f22118",
   "metadata": {},
   "source": [
    "#### Test for Byte 16"
   ]
  },
  {
   "cell_type": "code",
   "execution_count": 62,
   "id": "a2a55101",
   "metadata": {},
   "outputs": [
    {
     "name": "stdout",
     "output_type": "stream",
     "text": [
      "t \t t \t Für Zeile 1\n",
      "s \t s \t Für Zeile 3\n",
      "d \t d \t Für Zeile 4\n",
      "3 \t 3 \t Für Zeile 5\n",
      "  \t   \t Für Zeile 6\n"
     ]
    }
   ],
   "source": [
    "b = 15\n",
    "k1 = 16\n",
    "print(chr(int(message[0][b], 16) ^ k1),\"\\t\", chr(int(message[0][b], 16) ^ k1), \"\\t Für Zeile 1\")\n",
    "print(chr(int(message[2][b], 16) ^ k1),\"\\t\", chr(int(message[2][b], 16) ^ k1), \"\\t Für Zeile 3\")\n",
    "print(chr(int(message[3][b], 16) ^ k1),\"\\t\", chr(int(message[3][b], 16) ^ k1), \"\\t Für Zeile 4\")\n",
    "print(chr(int(message[4][b], 16) ^ k1),\"\\t\", chr(int(message[4][b], 16) ^ k1), \"\\t Für Zeile 5\")\n",
    "print(chr(int(message[5][b], 16) ^ k1),\"\\t\", chr(int(message[5][b], 16) ^ k1), \"\\t Für Zeile 6\")"
   ]
  },
  {
   "cell_type": "markdown",
   "id": "1bfec663",
   "metadata": {},
   "source": [
    "#### Test for Byte 15"
   ]
  },
  {
   "cell_type": "code",
   "execution_count": 71,
   "id": "bfb51e78",
   "metadata": {},
   "outputs": [
    {
     "name": "stdout",
     "output_type": "stream",
     "text": [
      "i \t i \t Für Zeile 1\n",
      "  \t   \t Für Zeile 3\n",
      "e \t e \t Für Zeile 4\n",
      "0 \t 0 \t Für Zeile 5\n",
      "r \t r \t Für Zeile 6\n"
     ]
    }
   ],
   "source": [
    "b = 14\n",
    "k1 = 200\n",
    "print(chr(int(message[0][b], 16) ^ k1),\"\\t\", chr(int(message[0][b], 16) ^ k1), \"\\t Für Zeile 1\")\n",
    "print(chr(int(message[2][b], 16) ^ k1),\"\\t\", chr(int(message[2][b], 16) ^ k1), \"\\t Für Zeile 3\")\n",
    "print(chr(int(message[3][b], 16) ^ k1),\"\\t\", chr(int(message[3][b], 16) ^ k1), \"\\t Für Zeile 4\")\n",
    "print(chr(int(message[4][b], 16) ^ k1),\"\\t\", chr(int(message[4][b], 16) ^ k1), \"\\t Für Zeile 5\")\n",
    "print(chr(int(message[5][b], 16) ^ k1),\"\\t\", chr(int(message[5][b], 16) ^ k1), \"\\t Für Zeile 6\")"
   ]
  },
  {
   "cell_type": "markdown",
   "id": "a5ee7ce8",
   "metadata": {},
   "source": [
    "#### Test for Byte 14"
   ]
  },
  {
   "cell_type": "code",
   "execution_count": 73,
   "id": "2873739e",
   "metadata": {},
   "outputs": [
    {
     "name": "stdout",
     "output_type": "stream",
     "text": [
      "r \t r \t Für Zeile 1\n",
      "y \t y \t Für Zeile 3\n",
      "r \t r \t Für Zeile 4\n",
      "  \t   \t Für Zeile 5\n",
      "o \t o \t Für Zeile 6\n"
     ]
    }
   ],
   "source": [
    "b = 13\n",
    "k1 = 103\n",
    "print(chr(int(message[0][b], 16) ^ k1),\"\\t\", chr(int(message[0][b], 16) ^ k1), \"\\t Für Zeile 1\")\n",
    "print(chr(int(message[2][b], 16) ^ k1),\"\\t\", chr(int(message[2][b], 16) ^ k1), \"\\t Für Zeile 3\")\n",
    "print(chr(int(message[3][b], 16) ^ k1),\"\\t\", chr(int(message[3][b], 16) ^ k1), \"\\t Für Zeile 4\")\n",
    "print(chr(int(message[4][b], 16) ^ k1),\"\\t\", chr(int(message[4][b], 16) ^ k1), \"\\t Für Zeile 5\")\n",
    "print(chr(int(message[5][b], 16) ^ k1),\"\\t\", chr(int(message[5][b], 16) ^ k1), \"\\t Für Zeile 6\")"
   ]
  },
  {
   "cell_type": "markdown",
   "id": "cbd03b43",
   "metadata": {},
   "source": [
    "#### Test for Byte 13"
   ]
  },
  {
   "cell_type": "code",
   "execution_count": 75,
   "id": "eb3a1c43",
   "metadata": {},
   "outputs": [
    {
     "name": "stdout",
     "output_type": "stream",
     "text": [
      "u \t u \t Für Zeile 1\n",
      "r \t r \t Für Zeile 3\n",
      "c \t c \t Für Zeile 4\n",
      "e \t e \t Für Zeile 5\n",
      "f \t f \t Für Zeile 6\n"
     ]
    }
   ],
   "source": [
    "b = 12\n",
    "k1 = 54\n",
    "print(chr(int(message[0][b], 16) ^ k1),\"\\t\", chr(int(message[0][b], 16) ^ k1), \"\\t Für Zeile 1\")\n",
    "print(chr(int(message[2][b], 16) ^ k1),\"\\t\", chr(int(message[2][b], 16) ^ k1), \"\\t Für Zeile 3\")\n",
    "print(chr(int(message[3][b], 16) ^ k1),\"\\t\", chr(int(message[3][b], 16) ^ k1), \"\\t Für Zeile 4\")\n",
    "print(chr(int(message[4][b], 16) ^ k1),\"\\t\", chr(int(message[4][b], 16) ^ k1), \"\\t Für Zeile 5\")\n",
    "print(chr(int(message[5][b], 16) ^ k1),\"\\t\", chr(int(message[5][b], 16) ^ k1), \"\\t Für Zeile 6\")"
   ]
  },
  {
   "cell_type": "markdown",
   "id": "5a8e9f15",
   "metadata": {},
   "source": [
    "#### Test for Byte 12"
   ]
  },
  {
   "cell_type": "code",
   "execution_count": 76,
   "id": "11927bed",
   "metadata": {},
   "outputs": [
    {
     "name": "stdout",
     "output_type": "stream",
     "text": [
      "c \t c \t Für Zeile 1\n",
      "e \t e \t Für Zeile 3\n",
      "n \t n \t Für Zeile 4\n",
      "r \t r \t Für Zeile 5\n",
      "  \t   \t Für Zeile 6\n"
     ]
    }
   ],
   "source": [
    "b = 11\n",
    "k1 = 168\n",
    "print(chr(int(message[0][b], 16) ^ k1),\"\\t\", chr(int(message[0][b], 16) ^ k1), \"\\t Für Zeile 1\")\n",
    "print(chr(int(message[2][b], 16) ^ k1),\"\\t\", chr(int(message[2][b], 16) ^ k1), \"\\t Für Zeile 3\")\n",
    "print(chr(int(message[3][b], 16) ^ k1),\"\\t\", chr(int(message[3][b], 16) ^ k1), \"\\t Für Zeile 4\")\n",
    "print(chr(int(message[4][b], 16) ^ k1),\"\\t\", chr(int(message[4][b], 16) ^ k1), \"\\t Für Zeile 5\")\n",
    "print(chr(int(message[5][b], 16) ^ k1),\"\\t\", chr(int(message[5][b], 16) ^ k1), \"\\t Für Zeile 6\")"
   ]
  },
  {
   "cell_type": "markdown",
   "id": "72a50b12",
   "metadata": {},
   "source": [
    "#### Test for Byte 11"
   ]
  },
  {
   "cell_type": "code",
   "execution_count": 77,
   "id": "fcfef978",
   "metadata": {},
   "outputs": [
    {
     "name": "stdout",
     "output_type": "stream",
     "text": [
      "e \t e \t Für Zeile 1\n",
      "v \t v \t Für Zeile 3\n",
      "i \t i \t Für Zeile 4\n",
      "u \t u \t Für Zeile 5\n",
      "g \t g \t Für Zeile 6\n"
     ]
    }
   ],
   "source": [
    "b = 10\n",
    "k1 = 168\n",
    "print(chr(int(message[0][b], 16) ^ k1),\"\\t\", chr(int(message[0][b], 16) ^ k1), \"\\t Für Zeile 1\")\n",
    "print(chr(int(message[2][b], 16) ^ k1),\"\\t\", chr(int(message[2][b], 16) ^ k1), \"\\t Für Zeile 3\")\n",
    "print(chr(int(message[3][b], 16) ^ k1),\"\\t\", chr(int(message[3][b], 16) ^ k1), \"\\t Für Zeile 4\")\n",
    "print(chr(int(message[4][b], 16) ^ k1),\"\\t\", chr(int(message[4][b], 16) ^ k1), \"\\t Für Zeile 5\")\n",
    "print(chr(int(message[5][b], 16) ^ k1),\"\\t\", chr(int(message[5][b], 16) ^ k1), \"\\t Für Zeile 6\")"
   ]
  },
  {
   "cell_type": "markdown",
   "id": "6cc2a19f",
   "metadata": {},
   "source": [
    "#### Test for Byte 10"
   ]
  },
  {
   "cell_type": "code",
   "execution_count": 79,
   "id": "83212eaf",
   "metadata": {},
   "outputs": [
    {
     "name": "stdout",
     "output_type": "stream",
     "text": [
      "s \t s \t Für Zeile 1\n",
      "  \t   \t Für Zeile 3\n",
      "  \t   \t Für Zeile 4\n",
      "c \t c \t Für Zeile 5\n",
      "n \t n \t Für Zeile 6\n"
     ]
    }
   ],
   "source": [
    "b = 9\n",
    "k1 = 246\n",
    "print(chr(int(message[0][b], 16) ^ k1),\"\\t\", chr(int(message[0][b], 16) ^ k1), \"\\t Für Zeile 1\")\n",
    "print(chr(int(message[2][b], 16) ^ k1),\"\\t\", chr(int(message[2][b], 16) ^ k1), \"\\t Für Zeile 3\")\n",
    "print(chr(int(message[3][b], 16) ^ k1),\"\\t\", chr(int(message[3][b], 16) ^ k1), \"\\t Für Zeile 4\")\n",
    "print(chr(int(message[4][b], 16) ^ k1),\"\\t\", chr(int(message[4][b], 16) ^ k1), \"\\t Für Zeile 5\")\n",
    "print(chr(int(message[5][b], 16) ^ k1),\"\\t\", chr(int(message[5][b], 16) ^ k1), \"\\t Für Zeile 6\")"
   ]
  },
  {
   "cell_type": "markdown",
   "id": "f359e6c3",
   "metadata": {},
   "source": [
    "#### Test for Byte 9"
   ]
  },
  {
   "cell_type": "code",
   "execution_count": 82,
   "id": "c90c3919",
   "metadata": {},
   "outputs": [
    {
     "name": "stdout",
     "output_type": "stream",
     "text": [
      "  \t   \t Für Zeile 1\n",
      ": \t : \t Für Zeile 3\n",
      ": \t : \t Für Zeile 4\n",
      "e \t e \t Für Zeile 5\n",
      "i \t i \t Für Zeile 6\n"
     ]
    }
   ],
   "source": [
    "b = 8\n",
    "k1 = 120\n",
    "print(chr(int(message[0][b], 16) ^ k1),\"\\t\", chr(int(message[0][b], 16) ^ k1), \"\\t Für Zeile 1\")\n",
    "print(chr(int(message[2][b], 16) ^ k1),\"\\t\", chr(int(message[2][b], 16) ^ k1), \"\\t Für Zeile 3\")\n",
    "print(chr(int(message[3][b], 16) ^ k1),\"\\t\", chr(int(message[3][b], 16) ^ k1), \"\\t Für Zeile 4\")\n",
    "print(chr(int(message[4][b], 16) ^ k1),\"\\t\", chr(int(message[4][b], 16) ^ k1), \"\\t Für Zeile 5\")\n",
    "print(chr(int(message[5][b], 16) ^ k1),\"\\t\", chr(int(message[5][b], 16) ^ k1), \"\\t Für Zeile 6\")"
   ]
  },
  {
   "cell_type": "markdown",
   "id": "b6fffd72",
   "metadata": {},
   "source": [
    "#### Test for Byte 8"
   ]
  },
  {
   "cell_type": "code",
   "execution_count": 84,
   "id": "0ce665f7",
   "metadata": {},
   "outputs": [
    {
     "name": "stdout",
     "output_type": "stream",
     "text": [
      "g \t g \t Für Zeile 1\n",
      "2 \t 2 \t Für Zeile 3\n",
      "3 \t 3 \t Für Zeile 4\n",
      "s \t s \t Für Zeile 5\n",
      "t \t t \t Für Zeile 6\n"
     ]
    }
   ],
   "source": [
    "b = 7\n",
    "k1 = 138\n",
    "print(chr(int(message[0][b], 16) ^ k1),\"\\t\", chr(int(message[0][b], 16) ^ k1), \"\\t Für Zeile 1\")\n",
    "print(chr(int(message[2][b], 16) ^ k1),\"\\t\", chr(int(message[2][b], 16) ^ k1), \"\\t Für Zeile 3\")\n",
    "print(chr(int(message[3][b], 16) ^ k1),\"\\t\", chr(int(message[3][b], 16) ^ k1), \"\\t Für Zeile 4\")\n",
    "print(chr(int(message[4][b], 16) ^ k1),\"\\t\", chr(int(message[4][b], 16) ^ k1), \"\\t Für Zeile 5\")\n",
    "print(chr(int(message[5][b], 16) ^ k1),\"\\t\", chr(int(message[5][b], 16) ^ k1), \"\\t Für Zeile 6\")"
   ]
  },
  {
   "cell_type": "markdown",
   "id": "6019c1b2",
   "metadata": {},
   "source": [
    "#### Testing for Byte 7"
   ]
  },
  {
   "cell_type": "code",
   "execution_count": 89,
   "id": "e23668f0",
   "metadata": {},
   "outputs": [
    {
     "name": "stdout",
     "output_type": "stream",
     "text": [
      "n \t n \t Für Zeile 1\n",
      "  \t   \t Für Zeile 3\n",
      "  \t   \t Für Zeile 4\n",
      "  \t   \t Für Zeile 5\n",
      "i \t i \t Für Zeile 6\n"
     ]
    }
   ],
   "source": [
    "b = 6\n",
    "k1 = 68\n",
    "print(chr(int(message[0][b], 16) ^ k1),\"\\t\", chr(int(message[0][b], 16) ^ k1), \"\\t Für Zeile 1\")\n",
    "print(chr(int(message[2][b], 16) ^ k1),\"\\t\", chr(int(message[2][b], 16) ^ k1), \"\\t Für Zeile 3\")\n",
    "print(chr(int(message[3][b], 16) ^ k1),\"\\t\", chr(int(message[3][b], 16) ^ k1), \"\\t Für Zeile 4\")\n",
    "print(chr(int(message[4][b], 16) ^ k1),\"\\t\", chr(int(message[4][b], 16) ^ k1), \"\\t Für Zeile 5\")\n",
    "print(chr(int(message[5][b], 16) ^ k1),\"\\t\", chr(int(message[5][b], 16) ^ k1), \"\\t Für Zeile 6\")"
   ]
  },
  {
   "cell_type": "markdown",
   "id": "1cdeab1b",
   "metadata": {},
   "source": [
    "#### Testing for Byte 6"
   ]
  },
  {
   "cell_type": "code",
   "execution_count": 95,
   "id": "ba961436",
   "metadata": {},
   "outputs": [
    {
     "name": "stdout",
     "output_type": "stream",
     "text": [
      "i \t i \t Für Zeile 1\n",
      "r \t r \t Für Zeile 3\n",
      "r \t r \t Für Zeile 4\n",
      "m \t m \t Für Zeile 5\n",
      "a \t a \t Für Zeile 6\n"
     ]
    }
   ],
   "source": [
    "b = 5\n",
    "k1 = 75\n",
    "print(chr(int(message[0][b], 16) ^ k1),\"\\t\", chr(int(message[0][b], 16) ^ k1), \"\\t Für Zeile 1\")\n",
    "print(chr(int(message[2][b], 16) ^ k1),\"\\t\", chr(int(message[2][b], 16) ^ k1), \"\\t Für Zeile 3\")\n",
    "print(chr(int(message[3][b], 16) ^ k1),\"\\t\", chr(int(message[3][b], 16) ^ k1), \"\\t Für Zeile 4\")\n",
    "print(chr(int(message[4][b], 16) ^ k1),\"\\t\", chr(int(message[4][b], 16) ^ k1), \"\\t Für Zeile 5\")\n",
    "print(chr(int(message[5][b], 16) ^ k1),\"\\t\", chr(int(message[5][b], 16) ^ k1), \"\\t Für Zeile 6\")"
   ]
  },
  {
   "cell_type": "markdown",
   "id": "15ec90f4",
   "metadata": {},
   "source": [
    "#### Testing for byte 5"
   ]
  },
  {
   "cell_type": "code",
   "execution_count": 100,
   "id": "ffaf0e97",
   "metadata": {},
   "outputs": [
    {
     "name": "stdout",
     "output_type": "stream",
     "text": [
      "k \t k \t Für Zeile 1\n",
      "o \t o \t Für Zeile 3\n",
      "o \t o \t Für Zeile 4\n",
      "e \t e \t Für Zeile 5\n",
      "w \t w \t Für Zeile 6\n"
     ]
    }
   ],
   "source": [
    "b = 4\n",
    "k1 = 216\n",
    "print(chr(int(message[0][b], 16) ^ k1),\"\\t\", chr(int(message[0][b], 16) ^ k1), \"\\t Für Zeile 1\")\n",
    "print(chr(int(message[2][b], 16) ^ k1),\"\\t\", chr(int(message[2][b], 16) ^ k1), \"\\t Für Zeile 3\")\n",
    "print(chr(int(message[3][b], 16) ^ k1),\"\\t\", chr(int(message[3][b], 16) ^ k1), \"\\t Für Zeile 4\")\n",
    "print(chr(int(message[4][b], 16) ^ k1),\"\\t\", chr(int(message[4][b], 16) ^ k1), \"\\t Für Zeile 5\")\n",
    "print(chr(int(message[5][b], 16) ^ k1),\"\\t\", chr(int(message[5][b], 16) ^ k1), \"\\t Für Zeile 6\")"
   ]
  },
  {
   "cell_type": "markdown",
   "id": "5062c05e",
   "metadata": {},
   "source": [
    "#### Testing for Byte 4"
   ]
  },
  {
   "cell_type": "code",
   "execution_count": 102,
   "id": "12bf93c0",
   "metadata": {},
   "outputs": [
    {
     "name": "stdout",
     "output_type": "stream",
     "text": [
      "c \t c \t Für Zeile 1\n",
      "s \t s \t Für Zeile 3\n",
      "s \t s \t Für Zeile 4\n",
      "t \t t \t Für Zeile 5\n",
      "  \t   \t Für Zeile 6\n"
     ]
    }
   ],
   "source": [
    "b = 3\n",
    "k1 = 145\n",
    "print(chr(int(message[0][b], 16) ^ k1),\"\\t\", chr(int(message[0][b], 16) ^ k1), \"\\t Für Zeile 1\")\n",
    "print(chr(int(message[2][b], 16) ^ k1),\"\\t\", chr(int(message[2][b], 16) ^ k1), \"\\t Für Zeile 3\")\n",
    "print(chr(int(message[3][b], 16) ^ k1),\"\\t\", chr(int(message[3][b], 16) ^ k1), \"\\t Für Zeile 4\")\n",
    "print(chr(int(message[4][b], 16) ^ k1),\"\\t\", chr(int(message[4][b], 16) ^ k1), \"\\t Für Zeile 5\")\n",
    "print(chr(int(message[5][b], 16) ^ k1),\"\\t\", chr(int(message[5][b], 16) ^ k1), \"\\t Für Zeile 6\")"
   ]
  },
  {
   "cell_type": "markdown",
   "id": "0dd5eded",
   "metadata": {},
   "source": [
    "#### Testing for Byte 3"
   ]
  },
  {
   "cell_type": "code",
   "execution_count": 110,
   "id": "d6668b67",
   "metadata": {},
   "outputs": [
    {
     "name": "stdout",
     "output_type": "stream",
     "text": [
      "e \t e \t Für Zeile 1\n",
      "n \t n \t Für Zeile 3\n",
      "n \t n \t Für Zeile 4\n",
      "s \t s \t Für Zeile 5\n",
      ". \t . \t Für Zeile 6\n"
     ]
    }
   ],
   "source": [
    "b = 2\n",
    "k1 = 247\n",
    "print(chr(int(message[0][b], 16) ^ k1),\"\\t\", chr(int(message[0][b], 16) ^ k1), \"\\t Für Zeile 1\")\n",
    "print(chr(int(message[2][b], 16) ^ k1),\"\\t\", chr(int(message[2][b], 16) ^ k1), \"\\t Für Zeile 3\")\n",
    "print(chr(int(message[3][b], 16) ^ k1),\"\\t\", chr(int(message[3][b], 16) ^ k1), \"\\t Für Zeile 4\")\n",
    "print(chr(int(message[4][b], 16) ^ k1),\"\\t\", chr(int(message[4][b], 16) ^ k1), \"\\t Für Zeile 5\")\n",
    "print(chr(int(message[5][b], 16) ^ k1),\"\\t\", chr(int(message[5][b], 16) ^ k1), \"\\t Für Zeile 6\")"
   ]
  },
  {
   "cell_type": "markdown",
   "id": "49558c76",
   "metadata": {},
   "source": [
    "#### Testing for Byte 2"
   ]
  },
  {
   "cell_type": "code",
   "execution_count": 112,
   "id": "5c28b41e",
   "metadata": {},
   "outputs": [
    {
     "name": "stdout",
     "output_type": "stream",
     "text": [
      "h \t h \t Für Zeile 1\n",
      "e \t e \t Für Zeile 3\n",
      "e \t e \t Für Zeile 4\n",
      "y \t y \t Für Zeile 5\n",
      ". \t . \t Für Zeile 6\n"
     ]
    }
   ],
   "source": [
    "b = 1\n",
    "k1 = 162\n",
    "print(chr(int(message[0][b], 16) ^ k1),\"\\t\", chr(int(message[0][b], 16) ^ k1), \"\\t Für Zeile 1\")\n",
    "print(chr(int(message[2][b], 16) ^ k1),\"\\t\", chr(int(message[2][b], 16) ^ k1), \"\\t Für Zeile 3\")\n",
    "print(chr(int(message[3][b], 16) ^ k1),\"\\t\", chr(int(message[3][b], 16) ^ k1), \"\\t Für Zeile 4\")\n",
    "print(chr(int(message[4][b], 16) ^ k1),\"\\t\", chr(int(message[4][b], 16) ^ k1), \"\\t Für Zeile 5\")\n",
    "print(chr(int(message[5][b], 16) ^ k1),\"\\t\", chr(int(message[5][b], 16) ^ k1), \"\\t Für Zeile 6\")"
   ]
  },
  {
   "cell_type": "markdown",
   "id": "3e86e6f7",
   "metadata": {},
   "source": [
    "#### Testing for Byte 1"
   ]
  },
  {
   "cell_type": "code",
   "execution_count": 114,
   "id": "0c923b4f",
   "metadata": {},
   "outputs": [
    {
     "name": "stdout",
     "output_type": "stream",
     "text": [
      "c \t c \t Für Zeile 1\n",
      "s \t s \t Für Zeile 3\n",
      "s \t s \t Für Zeile 4\n",
      "s \t s \t Für Zeile 5\n",
      "\u000e \t \u000e \t Für Zeile 6\n"
     ]
    }
   ],
   "source": [
    "b = 0\n",
    "k1 = 254\n",
    "print(chr(int(message[0][b], 16) ^ k1),\"\\t\", chr(int(message[0][b], 16) ^ k1), \"\\t Für Zeile 1\")\n",
    "print(chr(int(message[2][b], 16) ^ k1),\"\\t\", chr(int(message[2][b], 16) ^ k1), \"\\t Für Zeile 3\")\n",
    "print(chr(int(message[3][b], 16) ^ k1),\"\\t\", chr(int(message[3][b], 16) ^ k1), \"\\t Für Zeile 4\")\n",
    "print(chr(int(message[4][b], 16) ^ k1),\"\\t\", chr(int(message[4][b], 16) ^ k1), \"\\t Für Zeile 5\")\n",
    "print(chr(int(message[5][b], 16) ^ k1),\"\\t\", chr(int(message[5][b], 16) ^ k1), \"\\t Für Zeile 6\")"
   ]
  },
  {
   "cell_type": "code",
   "execution_count": 116,
   "id": "5213a279",
   "metadata": {},
   "outputs": [
    {
     "name": "stdout",
     "output_type": "stream",
     "text": [
      "14\n",
      "\u000e\n"
     ]
    }
   ],
   "source": [
    "print(int(message[5][b], 16) ^ k1)\n",
    "print(chr(14))"
   ]
  },
  {
   "cell_type": "markdown",
   "id": "e1121f56",
   "metadata": {},
   "source": [
    "### Getting the Key from Guesses"
   ]
  },
  {
   "cell_type": "markdown",
   "id": "7f17f746",
   "metadata": {},
   "source": [
    "#### Byte 23"
   ]
  },
  {
   "cell_type": "code",
   "execution_count": 39,
   "id": "5eb42a39",
   "metadata": {},
   "outputs": [
    {
     "name": "stdout",
     "output_type": "stream",
     "text": [
      "Mask with the most hits 0b1011111\n",
      "2000 hits in 2000 lines\n",
      "possible keys for byte 21 are:\t[95]\n"
     ]
    }
   ],
   "source": [
    "data = open('Messages_Type_9d ca.txt', 'rt', encoding='UTF-8')\n",
    "sel_dat = [line.strip() for line in data]\n",
    "data.close()\n",
    "message_li = []\n",
    "for line in sel_dat:\n",
    "    line_li = [z for z in line.split()]\n",
    "    message_li.append(line_li)\n",
    "\n",
    "mask = {}\n",
    "#mask_l = []\n",
    "for i, z in enumerate(message_li):\n",
    "    for x in range(256):\n",
    "        m = chr(int(message_li[i][22], 16) ^ x)\n",
    "        if m == 'u':\n",
    "            #mask_l.append(x)\n",
    "            if not x in mask:\n",
    "                mask[x] = 1\n",
    "            elif x in mask:\n",
    "                mask[x] += 1\n",
    "\n",
    "print(f\"Mask with the most hits {bin(max(mask.keys()))}\")\n",
    "print(f\"{mask[max(mask.keys())]} hits in {len(message_li)} lines\") \n",
    "print(f\"possible keys for byte 21 are:\\t{[k if max(mask.values()) == v else '' for k, v in  mask.items()]}\")"
   ]
  },
  {
   "cell_type": "markdown",
   "id": "674872d9",
   "metadata": {},
   "source": [
    "#### Byte 24"
   ]
  },
  {
   "cell_type": "code",
   "execution_count": 45,
   "id": "c72c5361",
   "metadata": {},
   "outputs": [
    {
     "name": "stdout",
     "output_type": "stream",
     "text": [
      "Mask with the most hits 0b10101\n",
      "2000 hits in 2000 lines\n",
      "possible keys for byte 21 are:\t[21]\n"
     ]
    }
   ],
   "source": [
    "data = open('Messages_Type_9d ca.txt', 'rt', encoding='UTF-8')\n",
    "sel_dat = [line.strip() for line in data]\n",
    "data.close()\n",
    "message_li = []\n",
    "for line in sel_dat:\n",
    "    line_li = [z for z in line.split()]\n",
    "    message_li.append(line_li)\n",
    "\n",
    "mask = {}\n",
    "#mask_l = []\n",
    "for i, z in enumerate(message_li):\n",
    "    for x in range(256):\n",
    "        m = chr(int(message_li[i][23], 16) ^ x)\n",
    "        if m == 's':\n",
    "            #mask_l.append(x)\n",
    "            if not x in mask:\n",
    "                mask[x] = 1\n",
    "            elif x in mask:\n",
    "                mask[x] += 1\n",
    "\n",
    "print(f\"Mask with the most hits {bin(max(mask.keys()))}\")\n",
    "print(f\"{mask[max(mask.keys())]} hits in {len(message_li)} lines\") \n",
    "print(f\"possible keys for byte 21 are:\\t{[k if max(mask.values()) == v else '' for k, v in  mask.items()]}\")"
   ]
  },
  {
   "cell_type": "markdown",
   "id": "60f1a169",
   "metadata": {},
   "source": [
    "#### Byte  25"
   ]
  },
  {
   "cell_type": "code",
   "execution_count": 48,
   "id": "918c2e4a",
   "metadata": {},
   "outputs": [
    {
     "name": "stdout",
     "output_type": "stream",
     "text": [
      "Mask with the most hits 0b1011110\n",
      "2000 hits in 2000 lines\n",
      "possible keys for byte 21 are:\t[94]\n"
     ]
    }
   ],
   "source": [
    "data = open('Messages_Type_8d c7 99 e2 b7 39 64 b9.txt', 'rt', encoding='UTF-8')\n",
    "sel_dat = [line.strip() for line in data]\n",
    "data.close()\n",
    "message_li = []\n",
    "for line in sel_dat:\n",
    "    line_li = [z for z in line.split()]\n",
    "    message_li.append(line_li)\n",
    "\n",
    "mask = {}\n",
    "#mask_l = []\n",
    "for i, z in enumerate(message_li):\n",
    "    for x in range(256):\n",
    "        m = chr(int(message_li[i][24], 16) ^ x)\n",
    "        if m == 'u':\n",
    "            #mask_l.append(x)\n",
    "            if not x in mask:\n",
    "                mask[x] = 1\n",
    "            elif x in mask:\n",
    "                mask[x] += 1\n",
    "\n",
    "print(f\"Mask with the most hits {bin(max(mask.keys()))}\")\n",
    "print(f\"{mask[max(mask.keys())]} hits in {len(message_li)} lines\") \n",
    "print(f\"possible keys for byte 21 are:\\t{[k if max(mask.values()) == v else '' for k, v in  mask.items()]}\")"
   ]
  },
  {
   "cell_type": "markdown",
   "id": "eec855b7",
   "metadata": {},
   "source": [
    "#### Byte  26"
   ]
  },
  {
   "cell_type": "code",
   "execution_count": 49,
   "id": "542bd67f",
   "metadata": {},
   "outputs": [
    {
     "name": "stdout",
     "output_type": "stream",
     "text": [
      "Mask with the most hits 0b11100011\n",
      "2000 hits in 2000 lines\n",
      "possible keys for byte 21 are:\t[227]\n"
     ]
    }
   ],
   "source": [
    "data = open('Messages_Type_8d c7 99 e2 b7 39 64 b9.txt', 'rt', encoding='UTF-8')\n",
    "sel_dat = [line.strip() for line in data]\n",
    "data.close()\n",
    "message_li = []\n",
    "for line in sel_dat:\n",
    "    line_li = [z for z in line.split()]\n",
    "    message_li.append(line_li)\n",
    "\n",
    "mask = {}\n",
    "#mask_l = []\n",
    "for i, z in enumerate(message_li):\n",
    "    for x in range(256):\n",
    "        m = chr(int(message_li[i][25], 16) ^ x)\n",
    "        if m == 'r':\n",
    "            #mask_l.append(x)\n",
    "            if not x in mask:\n",
    "                mask[x] = 1\n",
    "            elif x in mask:\n",
    "                mask[x] += 1\n",
    "\n",
    "print(f\"Mask with the most hits {bin(max(mask.keys()))}\")\n",
    "print(f\"{mask[max(mask.keys())]} hits in {len(message_li)} lines\") \n",
    "print(f\"possible keys for byte 21 are:\\t{[k if max(mask.values()) == v else '' for k, v in  mask.items()]}\")"
   ]
  },
  {
   "cell_type": "markdown",
   "id": "8f5810fa",
   "metadata": {},
   "source": [
    "#### Byte 27"
   ]
  },
  {
   "cell_type": "code",
   "execution_count": 51,
   "id": "f2c99b4c",
   "metadata": {},
   "outputs": [
    {
     "name": "stdout",
     "output_type": "stream",
     "text": [
      "Mask with the most hits 0b11001010\n",
      "2000 hits in 2000 lines\n",
      "possible keys for byte 21 are:\t[202]\n"
     ]
    }
   ],
   "source": [
    "data = open('Messages_Type_8d c7 99 e2 b7 39 64 b9.txt', 'rt', encoding='UTF-8')\n",
    "sel_dat = [line.strip() for line in data]\n",
    "data.close()\n",
    "message_li = []\n",
    "for line in sel_dat:\n",
    "    line_li = [z for z in line.split()]\n",
    "    message_li.append(line_li)\n",
    "\n",
    "mask = {}\n",
    "#mask_l = []\n",
    "for i, z in enumerate(message_li):\n",
    "    for x in range(256):\n",
    "        m = chr(int(message_li[i][26], 16) ^ x)\n",
    "        if m == 'e':\n",
    "            #mask_l.append(x)\n",
    "            if not x in mask:\n",
    "                mask[x] = 1\n",
    "            elif x in mask:\n",
    "                mask[x] += 1\n",
    "\n",
    "print(f\"Mask with the most hits {bin(max(mask.keys()))}\")\n",
    "print(f\"{mask[max(mask.keys())]} hits in {len(message_li)} lines\") \n",
    "print(f\"possible keys for byte 21 are:\\t{[k if max(mask.values()) == v else '' for k, v in  mask.items()]}\")"
   ]
  },
  {
   "cell_type": "markdown",
   "id": "e8307401",
   "metadata": {},
   "source": [
    "#### Byte 28"
   ]
  },
  {
   "cell_type": "code",
   "execution_count": 52,
   "id": "cc94859d",
   "metadata": {},
   "outputs": [
    {
     "name": "stdout",
     "output_type": "stream",
     "text": [
      "Mask with the most hits 0b11011111\n",
      "2000 hits in 2000 lines\n",
      "possible keys for byte 21 are:\t[223]\n"
     ]
    }
   ],
   "source": [
    "data = open('Messages_Type_8d c7 99 e2 b7 39 64 b9.txt', 'rt', encoding='UTF-8')\n",
    "sel_dat = [line.strip() for line in data]\n",
    "data.close()\n",
    "message_li = []\n",
    "for line in sel_dat:\n",
    "    line_li = [z for z in line.split()]\n",
    "    message_li.append(line_li)\n",
    "\n",
    "mask = {}\n",
    "#mask_l = []\n",
    "for i, z in enumerate(message_li):\n",
    "    for x in range(256):\n",
    "        m = chr(int(message_li[i][27], 16) ^ x)\n",
    "        if m == '!':\n",
    "            #mask_l.append(x)\n",
    "            if not x in mask:\n",
    "                mask[x] = 1\n",
    "            elif x in mask:\n",
    "                mask[x] += 1\n",
    "\n",
    "print(f\"Mask with the most hits {bin(max(mask.keys()))}\")\n",
    "print(f\"{mask[max(mask.keys())]} hits in {len(message_li)} lines\") \n",
    "print(f\"possible keys for byte 21 are:\\t{[k if max(mask.values()) == v else '' for k, v in  mask.items()]}\")"
   ]
  },
  {
   "cell_type": "markdown",
   "id": "818ef5f3",
   "metadata": {},
   "source": [
    "#### Byte 17"
   ]
  },
  {
   "cell_type": "code",
   "execution_count": 59,
   "id": "da429732",
   "metadata": {},
   "outputs": [
    {
     "name": "stdout",
     "output_type": "stream",
     "text": [
      "Mask with the most hits 0b11111000\n",
      "2000 hits in 2000 lines\n",
      "possible keys for byte 21 are:\t[248]\n"
     ]
    }
   ],
   "source": [
    "data = open('Messages_Type_8d c7 99 e2 b7 39 64 b8.txt', 'rt', encoding='UTF-8')\n",
    "sel_dat = [line.strip() for line in data]\n",
    "data.close()\n",
    "message_li = []\n",
    "for line in sel_dat:\n",
    "    line_li = [z for z in line.split()]\n",
    "    message_li.append(line_li)\n",
    "\n",
    "mask = {}\n",
    "#mask_l = []\n",
    "for i, z in enumerate(message_li):\n",
    "    for x in range(256):\n",
    "        m = chr(int(message_li[i][16], 16) ^ x)\n",
    "        if m == 'e':\n",
    "            #mask_l.append(x)\n",
    "            if not x in mask:\n",
    "                mask[x] = 1\n",
    "            elif x in mask:\n",
    "                mask[x] += 1\n",
    "\n",
    "print(f\"Mask with the most hits {bin(max(mask.keys()))}\")\n",
    "print(f\"{mask[max(mask.keys())]} hits in {len(message_li)} lines\") \n",
    "print(f\"possible keys for byte 21 are:\\t{[k if max(mask.values()) == v else '' for k, v in  mask.items()]}\")"
   ]
  },
  {
   "cell_type": "markdown",
   "id": "caa0796b",
   "metadata": {},
   "source": [
    "#### Byte 16"
   ]
  },
  {
   "cell_type": "code",
   "execution_count": 60,
   "id": "512cca7b",
   "metadata": {},
   "outputs": [
    {
     "name": "stdout",
     "output_type": "stream",
     "text": [
      "Mask with the most hits 0b10000\n",
      "2000 hits in 2000 lines\n",
      "possible keys for byte 21 are:\t[16]\n"
     ]
    }
   ],
   "source": [
    "data = open('Messages_Type_8d c7 99 e2 b7 39 64 b8.txt', 'rt', encoding='UTF-8')\n",
    "sel_dat = [line.strip() for line in data]\n",
    "data.close()\n",
    "message_li = []\n",
    "for line in sel_dat:\n",
    "    line_li = [z for z in line.split()]\n",
    "    message_li.append(line_li)\n",
    "\n",
    "mask = {}\n",
    "#mask_l = []\n",
    "for i, z in enumerate(message_li):\n",
    "    for x in range(256):\n",
    "        m = chr(int(message_li[i][15], 16) ^ x)\n",
    "        if m == 's':\n",
    "            #mask_l.append(x)\n",
    "            if not x in mask:\n",
    "                mask[x] = 1\n",
    "            elif x in mask:\n",
    "                mask[x] += 1\n",
    "\n",
    "print(f\"Mask with the most hits {bin(max(mask.keys()))}\")\n",
    "print(f\"{mask[max(mask.keys())]} hits in {len(message_li)} lines\") \n",
    "print(f\"possible keys for byte 21 are:\\t{[k if max(mask.values()) == v else '' for k, v in  mask.items()]}\")"
   ]
  },
  {
   "cell_type": "markdown",
   "id": "31b17909",
   "metadata": {},
   "source": [
    "#### Byte 15"
   ]
  },
  {
   "cell_type": "code",
   "execution_count": 63,
   "id": "4cac8fd9",
   "metadata": {},
   "outputs": [
    {
     "name": "stdout",
     "output_type": "stream",
     "text": [
      "Mask with the most hits 0b11001000\n",
      "2000 hits in 2000 lines\n",
      "possible keys for byte 21 are:\t[200]\n"
     ]
    }
   ],
   "source": [
    "data = open('Messages_Type_8d c7 99 e2 b7 39 64 b9.txt', 'rt', encoding='UTF-8')\n",
    "sel_dat = [line.strip() for line in data]\n",
    "data.close()\n",
    "message_li = []\n",
    "for line in sel_dat:\n",
    "    line_li = [z for z in line.split()]\n",
    "    message_li.append(line_li)\n",
    "\n",
    "mask = {}\n",
    "#mask_l = []\n",
    "for i, z in enumerate(message_li):\n",
    "    for x in range(256):\n",
    "        m = chr(int(message_li[i][14], 16) ^ x)\n",
    "        if m == 'e':\n",
    "            #mask_l.append(x)\n",
    "            if not x in mask:\n",
    "                mask[x] = 1\n",
    "            elif x in mask:\n",
    "                mask[x] += 1\n",
    "\n",
    "print(f\"Mask with the most hits {bin(max(mask.keys()))}\")\n",
    "print(f\"{mask[max(mask.keys())]} hits in {len(message_li)} lines\") \n",
    "print(f\"possible keys for byte 21 are:\\t{[k if max(mask.values()) == v else '' for k, v in  mask.items()]}\")"
   ]
  },
  {
   "cell_type": "markdown",
   "id": "13ef8fb3",
   "metadata": {},
   "source": [
    "#### Byte 14"
   ]
  },
  {
   "cell_type": "code",
   "execution_count": 64,
   "id": "1afd63e0",
   "metadata": {},
   "outputs": [
    {
     "name": "stdout",
     "output_type": "stream",
     "text": [
      "Mask with the most hits 0b1100111\n",
      "2000 hits in 2000 lines\n",
      "possible keys for byte 21 are:\t[103]\n"
     ]
    }
   ],
   "source": [
    "data = open('Messages_Type_8d c7 99 e2 b7 39 64 b9.txt', 'rt', encoding='UTF-8')\n",
    "sel_dat = [line.strip() for line in data]\n",
    "data.close()\n",
    "message_li = []\n",
    "for line in sel_dat:\n",
    "    line_li = [z for z in line.split()]\n",
    "    message_li.append(line_li)\n",
    "\n",
    "mask = {}\n",
    "#mask_l = []\n",
    "for i, z in enumerate(message_li):\n",
    "    for x in range(256):\n",
    "        m = chr(int(message_li[i][13], 16) ^ x)\n",
    "        if m == 'r':\n",
    "            #mask_l.append(x)\n",
    "            if not x in mask:\n",
    "                mask[x] = 1\n",
    "            elif x in mask:\n",
    "                mask[x] += 1\n",
    "\n",
    "print(f\"Mask with the most hits {bin(max(mask.keys()))}\")\n",
    "print(f\"{mask[max(mask.keys())]} hits in {len(message_li)} lines\") \n",
    "print(f\"possible keys for byte 21 are:\\t{[k if max(mask.values()) == v else '' for k, v in  mask.items()]}\")"
   ]
  },
  {
   "cell_type": "markdown",
   "id": "c83f6b75",
   "metadata": {},
   "source": [
    "#### Byte 13"
   ]
  },
  {
   "cell_type": "code",
   "execution_count": 65,
   "id": "5b346f91",
   "metadata": {},
   "outputs": [
    {
     "name": "stdout",
     "output_type": "stream",
     "text": [
      "Mask with the most hits 0b110110\n",
      "2000 hits in 2000 lines\n",
      "possible keys for byte 21 are:\t[54]\n"
     ]
    }
   ],
   "source": [
    "data = open('Messages_Type_8d c7 99 e2 b7 39 64 b9.txt', 'rt', encoding='UTF-8')\n",
    "sel_dat = [line.strip() for line in data]\n",
    "data.close()\n",
    "message_li = []\n",
    "for line in sel_dat:\n",
    "    line_li = [z for z in line.split()]\n",
    "    message_li.append(line_li)\n",
    "\n",
    "mask = {}\n",
    "#mask_l = []\n",
    "for i, z in enumerate(message_li):\n",
    "    for x in range(256):\n",
    "        m = chr(int(message_li[i][12], 16) ^ x)\n",
    "        if m == 'c':\n",
    "            #mask_l.append(x)\n",
    "            if not x in mask:\n",
    "                mask[x] = 1\n",
    "            elif x in mask:\n",
    "                mask[x] += 1\n",
    "\n",
    "print(f\"Mask with the most hits {bin(max(mask.keys()))}\")\n",
    "print(f\"{mask[max(mask.keys())]} hits in {len(message_li)} lines\") \n",
    "print(f\"possible keys for byte 21 are:\\t{[k if max(mask.values()) == v else '' for k, v in  mask.items()]}\")"
   ]
  },
  {
   "cell_type": "markdown",
   "id": "23a4717f",
   "metadata": {},
   "source": [
    "#### Byte 12"
   ]
  },
  {
   "cell_type": "code",
   "execution_count": 69,
   "id": "c298d700",
   "metadata": {},
   "outputs": [
    {
     "name": "stdout",
     "output_type": "stream",
     "text": [
      "Mask with the most hits 0b10101000\n",
      "2000 hits in 2000 lines\n",
      "possible keys for byte 21 are:\t[168]\n"
     ]
    }
   ],
   "source": [
    "data = open('Messages_Type_8d c7 99 e2 b7 39 64 b9.txt', 'rt', encoding='UTF-8')\n",
    "sel_dat = [line.strip() for line in data]\n",
    "data.close()\n",
    "message_li = []\n",
    "for line in sel_dat:\n",
    "    line_li = [z for z in line.split()]\n",
    "    message_li.append(line_li)\n",
    "\n",
    "mask = {}\n",
    "#mask_l = []\n",
    "for i, z in enumerate(message_li):\n",
    "    for x in range(256):\n",
    "        m = chr(int(message_li[i][11], 16) ^ x)\n",
    "        if m == 'n':\n",
    "            #mask_l.append(x)\n",
    "            if not x in mask:\n",
    "                mask[x] = 1\n",
    "            elif x in mask:\n",
    "                mask[x] += 1\n",
    "\n",
    "print(f\"Mask with the most hits {bin(max(mask.keys()))}\")\n",
    "print(f\"{mask[max(mask.keys())]} hits in {len(message_li)} lines\") \n",
    "print(f\"possible keys for byte 21 are:\\t{[k if max(mask.values()) == v else '' for k, v in  mask.items()]}\")"
   ]
  },
  {
   "cell_type": "markdown",
   "id": "b5a403f2",
   "metadata": {},
   "source": [
    "#### Byte 11"
   ]
  },
  {
   "cell_type": "code",
   "execution_count": 70,
   "id": "8e11c587",
   "metadata": {},
   "outputs": [
    {
     "name": "stdout",
     "output_type": "stream",
     "text": [
      "Mask with the most hits 0b10101000\n",
      "2000 hits in 2000 lines\n",
      "possible keys for byte 21 are:\t[168]\n"
     ]
    }
   ],
   "source": [
    "data = open('Messages_Type_8d c7 99 e2 b7 39 64 b9.txt', 'rt', encoding='UTF-8')\n",
    "sel_dat = [line.strip() for line in data]\n",
    "data.close()\n",
    "message_li = []\n",
    "for line in sel_dat:\n",
    "    line_li = [z for z in line.split()]\n",
    "    message_li.append(line_li)\n",
    "\n",
    "mask = {}\n",
    "#mask_l = []\n",
    "for i, z in enumerate(message_li):\n",
    "    for x in range(256):\n",
    "        m = chr(int(message_li[i][10], 16) ^ x)\n",
    "        if m == 'i':\n",
    "            #mask_l.append(x)\n",
    "            if not x in mask:\n",
    "                mask[x] = 1\n",
    "            elif x in mask:\n",
    "                mask[x] += 1\n",
    "\n",
    "print(f\"Mask with the most hits {bin(max(mask.keys()))}\")\n",
    "print(f\"{mask[max(mask.keys())]} hits in {len(message_li)} lines\") \n",
    "print(f\"possible keys for byte 21 are:\\t{[k if max(mask.values()) == v else '' for k, v in  mask.items()]}\")"
   ]
  },
  {
   "cell_type": "markdown",
   "id": "dcee0ff2",
   "metadata": {},
   "source": [
    "#### Byte 10"
   ]
  },
  {
   "cell_type": "code",
   "execution_count": 78,
   "id": "8dfac475",
   "metadata": {},
   "outputs": [
    {
     "name": "stdout",
     "output_type": "stream",
     "text": [
      "Mask with the most hits 0b11110110\n",
      "2000 hits in 2000 lines\n",
      "possible keys for byte 21 are:\t[246]\n"
     ]
    }
   ],
   "source": [
    "data = open('Messages_Type_9d ca.txt', 'rt', encoding='UTF-8')\n",
    "sel_dat = [line.strip() for line in data]\n",
    "data.close()\n",
    "message_li = []\n",
    "for line in sel_dat:\n",
    "    line_li = [z for z in line.split()]\n",
    "    message_li.append(line_li)\n",
    "\n",
    "mask = {}\n",
    "#mask_l = []\n",
    "for i, z in enumerate(message_li):\n",
    "    for x in range(256):\n",
    "        m = chr(int(message_li[i][9], 16) ^ x)\n",
    "        if m == 's':\n",
    "            #mask_l.append(x)\n",
    "            if not x in mask:\n",
    "                mask[x] = 1\n",
    "            elif x in mask:\n",
    "                mask[x] += 1\n",
    "\n",
    "print(f\"Mask with the most hits {bin(max(mask.keys()))}\")\n",
    "print(f\"{mask[max(mask.keys())]} hits in {len(message_li)} lines\") \n",
    "print(f\"possible keys for byte 21 are:\\t{[k if max(mask.values()) == v else '' for k, v in  mask.items()]}\")"
   ]
  },
  {
   "cell_type": "markdown",
   "id": "acb99117",
   "metadata": {},
   "source": [
    "#### Byte 9"
   ]
  },
  {
   "cell_type": "code",
   "execution_count": 80,
   "id": "6551b873",
   "metadata": {},
   "outputs": [
    {
     "name": "stdout",
     "output_type": "stream",
     "text": [
      "Mask with the most hits 0b1111000\n",
      "2000 hits in 2000 lines\n",
      "possible keys for byte 21 are:\t[120]\n"
     ]
    }
   ],
   "source": [
    "data = open('Messages_Type_8d db.txt', 'rt', encoding='UTF-8')\n",
    "sel_dat = [line.strip() for line in data]\n",
    "data.close()\n",
    "message_li = []\n",
    "for line in sel_dat:\n",
    "    line_li = [z for z in line.split()]\n",
    "    message_li.append(line_li)\n",
    "\n",
    "mask = {}\n",
    "#mask_l = []\n",
    "for i, z in enumerate(message_li):\n",
    "    for x in range(256):\n",
    "        m = chr(int(message_li[i][8], 16) ^ x)\n",
    "        if m == 'e':\n",
    "            #mask_l.append(x)\n",
    "            if not x in mask:\n",
    "                mask[x] = 1\n",
    "            elif x in mask:\n",
    "                mask[x] += 1\n",
    "\n",
    "print(f\"Mask with the most hits {bin(max(mask.keys()))}\")\n",
    "print(f\"{mask[max(mask.keys())]} hits in {len(message_li)} lines\") \n",
    "print(f\"possible keys for byte 21 are:\\t{[k if max(mask.values()) == v else '' for k, v in  mask.items()]}\")"
   ]
  },
  {
   "cell_type": "markdown",
   "id": "8d2069d2",
   "metadata": {},
   "source": [
    "#### Byte 8"
   ]
  },
  {
   "cell_type": "code",
   "execution_count": 81,
   "id": "b7291964",
   "metadata": {},
   "outputs": [
    {
     "name": "stdout",
     "output_type": "stream",
     "text": [
      "Mask with the most hits 0b10001010\n",
      "2000 hits in 2000 lines\n",
      "possible keys for byte 21 are:\t[138]\n"
     ]
    }
   ],
   "source": [
    "data = open('Messages_Type_8d db.txt', 'rt', encoding='UTF-8')\n",
    "sel_dat = [line.strip() for line in data]\n",
    "data.close()\n",
    "message_li = []\n",
    "for line in sel_dat:\n",
    "    line_li = [z for z in line.split()]\n",
    "    message_li.append(line_li)\n",
    "\n",
    "mask = {}\n",
    "#mask_l = []\n",
    "for i, z in enumerate(message_li):\n",
    "    for x in range(256):\n",
    "        m = chr(int(message_li[i][7], 16) ^ x)\n",
    "        if m == 's':\n",
    "            #mask_l.append(x)\n",
    "            if not x in mask:\n",
    "                mask[x] = 1\n",
    "            elif x in mask:\n",
    "                mask[x] += 1\n",
    "\n",
    "print(f\"Mask with the most hits {bin(max(mask.keys()))}\")\n",
    "print(f\"{mask[max(mask.keys())]} hits in {len(message_li)} lines\") \n",
    "print(f\"possible keys for byte 21 are:\\t{[k if max(mask.values()) == v else '' for k, v in  mask.items()]}\")"
   ]
  },
  {
   "cell_type": "markdown",
   "id": "ec65898a",
   "metadata": {},
   "source": [
    "#### Byte 7"
   ]
  },
  {
   "cell_type": "code",
   "execution_count": 88,
   "id": "a78e812c",
   "metadata": {},
   "outputs": [
    {
     "name": "stdout",
     "output_type": "stream",
     "text": [
      "Mask with the most hits 0b1000100\n",
      "2000 hits in 2000 lines\n",
      "possible keys for byte 21 are:\t[68]\n"
     ]
    }
   ],
   "source": [
    "data = open('Messages_Type_8d db.txt', 'rt', encoding='UTF-8')\n",
    "sel_dat = [line.strip() for line in data]\n",
    "data.close()\n",
    "message_li = []\n",
    "for line in sel_dat:\n",
    "    line_li = [z for z in line.split()]\n",
    "    message_li.append(line_li)\n",
    "\n",
    "mask = {}\n",
    "#mask_l = []\n",
    "for i, z in enumerate(message_li):\n",
    "    for x in range(256):\n",
    "        m = chr(int(message_li[i][6], 16) ^ x)\n",
    "        if m == ' ':\n",
    "            #mask_l.append(x)\n",
    "            if not x in mask:\n",
    "                mask[x] = 1\n",
    "            elif x in mask:\n",
    "                mask[x] += 1\n",
    "\n",
    "print(f\"Mask with the most hits {bin(max(mask.keys()))}\")\n",
    "print(f\"{mask[max(mask.keys())]} hits in {len(message_li)} lines\") \n",
    "print(f\"possible keys for byte 21 are:\\t{[k if max(mask.values()) == v else '' for k, v in  mask.items()]}\")"
   ]
  },
  {
   "cell_type": "markdown",
   "id": "a9e883bc",
   "metadata": {},
   "source": [
    "#### Byte 6"
   ]
  },
  {
   "cell_type": "code",
   "execution_count": 94,
   "id": "b6e9d141",
   "metadata": {},
   "outputs": [
    {
     "name": "stdout",
     "output_type": "stream",
     "text": [
      "Mask with the most hits 0b1001011\n",
      "2000 hits in 2000 lines\n",
      "possible keys for byte 21 are:\t[75]\n"
     ]
    }
   ],
   "source": [
    "data = open('Messages_Type_9d ca.txt', 'rt', encoding='UTF-8')\n",
    "sel_dat = [line.strip() for line in data]\n",
    "data.close()\n",
    "message_li = []\n",
    "for line in sel_dat:\n",
    "    line_li = [z for z in line.split()]\n",
    "    message_li.append(line_li)\n",
    "\n",
    "mask = {}\n",
    "#mask_l = []\n",
    "for i, z in enumerate(message_li):\n",
    "    for x in range(256):\n",
    "        m = chr(int(message_li[i][5], 16) ^ x)\n",
    "        if m == 'i':\n",
    "            #mask_l.append(x)\n",
    "            if not x in mask:\n",
    "                mask[x] = 1\n",
    "            elif x in mask:\n",
    "                mask[x] += 1\n",
    "\n",
    "print(f\"Mask with the most hits {bin(max(mask.keys()))}\")\n",
    "print(f\"{mask[max(mask.keys())]} hits in {len(message_li)} lines\") \n",
    "print(f\"possible keys for byte 21 are:\\t{[k if max(mask.values()) == v else '' for k, v in  mask.items()]}\")"
   ]
  },
  {
   "cell_type": "markdown",
   "id": "850b944e",
   "metadata": {},
   "source": [
    "#### Byte 5"
   ]
  },
  {
   "cell_type": "code",
   "execution_count": 99,
   "id": "a8a88dcd",
   "metadata": {},
   "outputs": [
    {
     "name": "stdout",
     "output_type": "stream",
     "text": [
      "Mask with the most hits 0b11011000\n",
      "2000 hits in 2000 lines\n",
      "possible keys for byte 21 are:\t[216]\n"
     ]
    }
   ],
   "source": [
    "data = open('Messages_Type_f0 8c.txt', 'rt', encoding='UTF-8')\n",
    "sel_dat = [line.strip() for line in data]\n",
    "data.close()\n",
    "message_li = []\n",
    "for line in sel_dat:\n",
    "    line_li = [z for z in line.split()]\n",
    "    message_li.append(line_li)\n",
    "\n",
    "mask = {}\n",
    "#mask_l = []\n",
    "for i, z in enumerate(message_li):\n",
    "    for x in range(256):\n",
    "        m = chr(int(message_li[i][4], 16) ^ x)\n",
    "        if m == 'w':\n",
    "            #mask_l.append(x)\n",
    "            if not x in mask:\n",
    "                mask[x] = 1\n",
    "            elif x in mask:\n",
    "                mask[x] += 1\n",
    "\n",
    "print(f\"Mask with the most hits {bin(max(mask.keys()))}\")\n",
    "print(f\"{mask[max(mask.keys())]} hits in {len(message_li)} lines\") \n",
    "print(f\"possible keys for byte 21 are:\\t{[k if max(mask.values()) == v else '' for k, v in  mask.items()]}\")"
   ]
  },
  {
   "cell_type": "markdown",
   "id": "bba35646",
   "metadata": {},
   "source": [
    "#### Byte 4"
   ]
  },
  {
   "cell_type": "code",
   "execution_count": 101,
   "id": "162d74da",
   "metadata": {},
   "outputs": [
    {
     "name": "stdout",
     "output_type": "stream",
     "text": [
      "Mask with the most hits 0b10010001\n",
      "2000 hits in 2000 lines\n",
      "possible keys for byte 21 are:\t[145]\n"
     ]
    }
   ],
   "source": [
    "data = open('Messages_Type_f0 8c.txt', 'rt', encoding='UTF-8')\n",
    "sel_dat = [line.strip() for line in data]\n",
    "data.close()\n",
    "message_li = []\n",
    "for line in sel_dat:\n",
    "    line_li = [z for z in line.split()]\n",
    "    message_li.append(line_li)\n",
    "\n",
    "mask = {}\n",
    "#mask_l = []\n",
    "for i, z in enumerate(message_li):\n",
    "    for x in range(256):\n",
    "        m = chr(int(message_li[i][3], 16) ^ x)\n",
    "        if m == ' ':\n",
    "            #mask_l.append(x)\n",
    "            if not x in mask:\n",
    "                mask[x] = 1\n",
    "            elif x in mask:\n",
    "                mask[x] += 1\n",
    "\n",
    "print(f\"Mask with the most hits {bin(max(mask.keys()))}\")\n",
    "print(f\"{mask[max(mask.keys())]} hits in {len(message_li)} lines\") \n",
    "print(f\"possible keys for byte 21 are:\\t{[k if max(mask.values()) == v else '' for k, v in  mask.items()]}\")"
   ]
  },
  {
   "cell_type": "markdown",
   "id": "8c5b6ef9",
   "metadata": {},
   "source": [
    "#### Byte 3"
   ]
  },
  {
   "cell_type": "code",
   "execution_count": 109,
   "id": "5afe4a1c",
   "metadata": {},
   "outputs": [
    {
     "name": "stdout",
     "output_type": "stream",
     "text": [
      "Mask with the most hits 0b11110111\n",
      "2000 hits in 2000 lines\n",
      "possible keys for byte 21 are:\t[247]\n"
     ]
    }
   ],
   "source": [
    "data = open('Messages_Type_8d db.txt', 'rt', encoding='UTF-8')\n",
    "sel_dat = [line.strip() for line in data]\n",
    "data.close()\n",
    "message_li = []\n",
    "for line in sel_dat:\n",
    "    line_li = [z for z in line.split()]\n",
    "    message_li.append(line_li)\n",
    "\n",
    "mask = {}\n",
    "#mask_l = []\n",
    "for i, z in enumerate(message_li):\n",
    "    for x in range(256):\n",
    "        m = chr(int(message_li[i][2], 16) ^ x)\n",
    "        if m == 's':\n",
    "            #mask_l.append(x)\n",
    "            if not x in mask:\n",
    "                mask[x] = 1\n",
    "            elif x in mask:\n",
    "                mask[x] += 1\n",
    "\n",
    "print(f\"Mask with the most hits {bin(max(mask.keys()))}\")\n",
    "print(f\"{mask[max(mask.keys())]} hits in {len(message_li)} lines\") \n",
    "print(f\"possible keys for byte 21 are:\\t{[k if max(mask.values()) == v else '' for k, v in  mask.items()]}\")"
   ]
  },
  {
   "cell_type": "markdown",
   "id": "60a3b70f",
   "metadata": {},
   "source": [
    "#### Byte 2"
   ]
  },
  {
   "cell_type": "code",
   "execution_count": 111,
   "id": "13bbc128",
   "metadata": {},
   "outputs": [
    {
     "name": "stdout",
     "output_type": "stream",
     "text": [
      "Mask with the most hits 0b10100010\n",
      "2000 hits in 2000 lines\n",
      "possible keys for byte 21 are:\t[162]\n"
     ]
    }
   ],
   "source": [
    "data = open('Messages_Type_8d db.txt', 'rt', encoding='UTF-8')\n",
    "sel_dat = [line.strip() for line in data]\n",
    "data.close()\n",
    "message_li = []\n",
    "for line in sel_dat:\n",
    "    line_li = [z for z in line.split()]\n",
    "    message_li.append(line_li)\n",
    "\n",
    "mask = {}\n",
    "#mask_l = []\n",
    "for i, z in enumerate(message_li):\n",
    "    for x in range(256):\n",
    "        m = chr(int(message_li[i][1], 16) ^ x)\n",
    "        if m == 'y':\n",
    "            #mask_l.append(x)\n",
    "            if not x in mask:\n",
    "                mask[x] = 1\n",
    "            elif x in mask:\n",
    "                mask[x] += 1\n",
    "\n",
    "print(f\"Mask with the most hits {bin(max(mask.keys()))}\")\n",
    "print(f\"{mask[max(mask.keys())]} hits in {len(message_li)} lines\") \n",
    "print(f\"possible keys for byte 21 are:\\t{[k if max(mask.values()) == v else '' for k, v in  mask.items()]}\")"
   ]
  },
  {
   "cell_type": "markdown",
   "id": "67a2069a",
   "metadata": {},
   "source": [
    "#### Byte 1"
   ]
  },
  {
   "cell_type": "code",
   "execution_count": 113,
   "id": "9a61150b",
   "metadata": {},
   "outputs": [
    {
     "name": "stdout",
     "output_type": "stream",
     "text": [
      "Mask with the most hits 0b11111110\n",
      "2000 hits in 2000 lines\n",
      "possible keys for byte 21 are:\t[254]\n"
     ]
    }
   ],
   "source": [
    "data = open('Messages_Type_8d db.txt', 'rt', encoding='UTF-8')\n",
    "sel_dat = [line.strip() for line in data]\n",
    "data.close()\n",
    "message_li = []\n",
    "for line in sel_dat:\n",
    "    line_li = [z for z in line.split()]\n",
    "    message_li.append(line_li)\n",
    "\n",
    "mask = {}\n",
    "#mask_l = []\n",
    "for i, z in enumerate(message_li):\n",
    "    for x in range(256):\n",
    "        m = chr(int(message_li[i][0], 16) ^ x)\n",
    "        if m == 's':\n",
    "            #mask_l.append(x)\n",
    "            if not x in mask:\n",
    "                mask[x] = 1\n",
    "            elif x in mask:\n",
    "                mask[x] += 1\n",
    "\n",
    "print(f\"Mask with the most hits {bin(max(mask.keys()))}\")\n",
    "print(f\"{mask[max(mask.keys())]} hits in {len(message_li)} lines\") \n",
    "print(f\"possible keys for byte 21 are:\\t{[k if max(mask.values()) == v else '' for k, v in  mask.items()]}\")"
   ]
  },
  {
   "cell_type": "markdown",
   "id": "expected-league",
   "metadata": {
    "deletable": false,
    "editable": false,
    "run_control": {
     "frozen": true
    }
   },
   "source": [
    "## Conclusion"
   ]
  },
  {
   "cell_type": "markdown",
   "id": "split-niagara",
   "metadata": {
    "deletable": false,
    "editable": false,
    "run_control": {
     "frozen": true
    }
   },
   "source": [
    "As you have seen even without knowing anything about the key or the encryption used you were hopefully able to deduce enough information about the data to decrypt them anyways.\n",
    "\n",
    "But why was this possible?<br>\n",
    "\n"
   ]
  },
  {
   "cell_type": "markdown",
   "id": "prime-mailman",
   "metadata": {
    "deletable": false,
    "editable": false,
    "run_control": {
     "frozen": true
    }
   },
   "source": [
    "### Exploited weaknesses"
   ]
  },
  {
   "cell_type": "markdown",
   "id": "experimental-secondary",
   "metadata": {
    "deletable": false,
    "editable": false,
    "run_control": {
     "frozen": true
    }
   },
   "source": [
    "<div>\n",
    "<img src=\"images/question_darkblue.png\" align=\"left\" width=\"24\" height=\"24\"/>\n",
    "\n",
    "<span style=\"line-height:24px; margin-left: 0.5em\"><font color='darkblue'>List the weaknesses you have exploited throughout this task and explain why they lead to you decrypting the cipher text.</font></span>\n",
    "</div>"
   ]
  },
  {
   "cell_type": "markdown",
   "id": "presidential-strategy",
   "metadata": {
    "deletable": false,
    "editable": false,
    "run_control": {
     "frozen": true
    }
   },
   "source": [
    "<div>\n",
    "<img src=\"images/write_chocolate.png\" align=\"left\" width=\"24\" height=\"24\"/>\n",
    "<span style=\"line-height:24px; margin-left: 0.5em\"><font color='Chocolate'>\n",
    "<b> Please fill in with your own observations </b>\n",
    "</font></span>\n",
    "</div>"
   ]
  },
  {
   "cell_type": "markdown",
   "id": "driven-south",
   "metadata": {},
   "source": [
    "<font color='Chocolate'>\n",
    "replace this line with your observations\n",
    "</font>"
   ]
  },
  {
   "cell_type": "markdown",
   "id": "creative-advisory",
   "metadata": {
    "deletable": false,
    "editable": false,
    "run_control": {
     "frozen": true
    }
   },
   "source": [
    "### Promising counter measures"
   ]
  },
  {
   "cell_type": "markdown",
   "id": "interracial-ratio",
   "metadata": {
    "deletable": false,
    "editable": false,
    "run_control": {
     "frozen": true
    }
   },
   "source": [
    "<div>\n",
    "<img src=\"images/question_darkblue.png\" align=\"left\" width=\"24\" height=\"24\"/>\n",
    "\n",
    "<span style=\"line-height:24px; margin-left: 0.5em\"><font color='darkblue'>Can you think of one or more promising counter measure(s) that would have prevented your attack from being successful?</font></span>\n",
    "</div>"
   ]
  },
  {
   "cell_type": "markdown",
   "id": "australian-skirt",
   "metadata": {
    "deletable": false,
    "editable": false,
    "run_control": {
     "frozen": true
    }
   },
   "source": [
    "<div>\n",
    "<img src=\"images/write_chocolate.png\" align=\"left\" width=\"24\" height=\"24\"/>\n",
    "<span style=\"line-height:24px; margin-left: 0.5em\"><font color='Chocolate'>\n",
    "<b> Please fill in with your own observations </b>\n",
    "</font></span>\n",
    "</div>"
   ]
  },
  {
   "cell_type": "markdown",
   "id": "comfortable-stadium",
   "metadata": {},
   "source": [
    "<font color='Chocolate'>\n",
    "replace this line with your observations\n",
    "</font>"
   ]
  },
  {
   "cell_type": "markdown",
   "id": "reliable-italian",
   "metadata": {
    "deletable": false,
    "editable": false,
    "run_control": {
     "frozen": true
    }
   },
   "source": [
    "### Challenges "
   ]
  },
  {
   "cell_type": "markdown",
   "id": "sufficient-press",
   "metadata": {
    "deletable": false,
    "editable": false,
    "run_control": {
     "frozen": true
    }
   },
   "source": [
    "<div>\n",
    "<img src=\"images/question_darkblue.png\" align=\"left\" width=\"24\" height=\"24\"/>\n",
    "\n",
    "<span style=\"line-height:24px; margin-left: 0.5em\"><font color='darkblue'>List the challanges you faced and describe your train of thought that lead you to mastering them.</font></span>\n",
    "</div>"
   ]
  },
  {
   "cell_type": "markdown",
   "id": "constitutional-dress",
   "metadata": {
    "deletable": false,
    "editable": false,
    "run_control": {
     "frozen": true
    }
   },
   "source": [
    "<div>\n",
    "<img src=\"images/write_chocolate.png\" align=\"left\" width=\"24\" height=\"24\"/>\n",
    "<span style=\"line-height:24px; margin-left: 0.5em\"><font color='Chocolate'>\n",
    "<b> Please fill in with your own observations </b>\n",
    "</font></span>\n",
    "</div>"
   ]
  },
  {
   "cell_type": "markdown",
   "id": "extraordinary-instrumentation",
   "metadata": {},
   "source": [
    "<font color='Chocolate'>\n",
    "replace this line with your observations\n",
    "</font>"
   ]
  },
  {
   "cell_type": "markdown",
   "id": "convenient-retrieval",
   "metadata": {
    "deletable": false,
    "editable": false,
    "run_control": {
     "frozen": true
    }
   },
   "source": [
    "## Submission"
   ]
  },
  {
   "cell_type": "markdown",
   "id": "korean-highway",
   "metadata": {
    "deletable": false,
    "editable": false,
    "run_control": {
     "frozen": true
    }
   },
   "source": [
    "Please commit your changes thus far until the end of the timeframe of this task according to:<br>\n",
    "https://gitlab.tf.uni-freiburg.de/embex-security-lab/security-lab-2022"
   ]
  },
  {
   "cell_type": "markdown",
   "id": "cardiovascular-essay",
   "metadata": {
    "deletable": false,
    "editable": false,
    "run_control": {
     "frozen": true
    }
   },
   "source": [
    "## Additional presentation task"
   ]
  },
  {
   "cell_type": "markdown",
   "id": "marked-present",
   "metadata": {
    "deletable": false,
    "editable": false,
    "run_control": {
     "frozen": true
    }
   },
   "source": [
    "**You only have to work on the following task if you decided to present for this task**<br>\n",
    "You are welcome to continue working on the following task without presentation, if you have chosen a different task to present.\n",
    "\n",
    "Think of a similar setting, where you can decipher a given ciphertext from patterns within it, without knowing about the underlying encryption or key.<br>\n",
    "Think of another pattern in ciphertext that gives away enough information to get a foot hold in the ciphertext from where you can start deciphering.<br>\n",
    "Can you even think of a pattern in ciphertext giving away enough information but a lot more effectively without requiring such a big amount of recorded data to begin with?\n",
    "\n",
    "Create an example and show that it is possible to decipher the recorded messages you generated (You can also use a different encryption if you want).\n",
    "\n",
    "Think of counter measures that would have prevented your attack and demonstrate the effectiveness of the counter measures.\n",
    "\n",
    "Create a presentation with a few slides showing your approach and results from this task.\n",
    "\n",
    "You can find the date for the presentation here: https://gitlab.tf.uni-freiburg.de/embex-security-lab/security-lab-2022"
   ]
  }
 ],
 "metadata": {
  "interpreter": {
   "hash": "5fb955165457380985db86db626230b448991bb247ae99ab852707dfa9ea455b"
  },
  "kernelspec": {
   "display_name": "Python 3.10.4 64-bit (windows store)",
   "language": "python",
   "name": "python3"
  },
  "language_info": {
   "codemirror_mode": {
    "name": "ipython",
    "version": 3
   },
   "file_extension": ".py",
   "mimetype": "text/x-python",
   "name": "python",
   "nbconvert_exporter": "python",
   "pygments_lexer": "ipython3",
   "version": "3.10.4"
  },
  "toc": {
   "base_numbering": 1,
   "nav_menu": {},
   "number_sections": true,
   "sideBar": true,
   "skip_h1_title": false,
   "title_cell": "Table of Contents",
   "title_sidebar": "Contents",
   "toc_cell": false,
   "toc_position": {},
   "toc_section_display": true,
   "toc_window_display": false
  }
 },
 "nbformat": 4,
 "nbformat_minor": 5
}
