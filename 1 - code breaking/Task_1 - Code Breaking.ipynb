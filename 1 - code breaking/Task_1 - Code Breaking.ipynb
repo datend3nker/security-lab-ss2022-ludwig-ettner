{
 "cells": [
  {
   "cell_type": "markdown",
   "id": "offshore-depression",
   "metadata": {
    "deletable": false,
    "editable": false,
    "run_control": {
     "frozen": true
    }
   },
   "source": [
    "# Task - Code breaking"
   ]
  },
  {
   "cell_type": "markdown",
   "id": "characteristic-behalf",
   "metadata": {
    "deletable": false,
    "editable": false,
    "run_control": {
     "frozen": true
    }
   },
   "source": [
    "You received a file containing recorded data of an encrypted communication: `Task_1_RecordedData.txt`<br>\n",
    "You have no additional information about the encryption algorithm or the key used for encrypting the data.<br>\n",
    "In this task you will decrypt these received messages."
   ]
  },
  {
   "cell_type": "markdown",
   "id": "durable-opinion",
   "metadata": {
    "deletable": false,
    "editable": false,
    "run_control": {
     "frozen": true
    }
   },
   "source": [
    "## Visualization of the data"
   ]
  },
  {
   "cell_type": "markdown",
   "id": "adaptive-twenty",
   "metadata": {
    "deletable": false,
    "editable": false,
    "run_control": {
     "frozen": true
    }
   },
   "source": [
    "How do we start?<br>\n",
    "Please open the file `Task_1_RecordedData.txt` and just have a look at the content.<br>\n",
    "The data is provided as hexadecimal values separated with a space. Each line corresponds to a message sent.\n",
    "There is a healthy amount of data recorded, so hopefully there will be enough information between the data to decrypt the entirety of the recorded data in the end."
   ]
  },
  {
   "cell_type": "markdown",
   "id": "liberal-advertiser",
   "metadata": {
    "deletable": false,
    "editable": false,
    "run_control": {
     "frozen": true
    }
   },
   "source": [
    "<div>\n",
    "<img src=\"images/question_darkblue.png\" align=\"left\" width=\"24\" height=\"24\"/>\n",
    "<span style=\"line-height:24px; margin-left: 0.5em\"><font color=\"darkblue\">Please note down all your findings at this stage before you continue.</font></span>\n",
    "</div>"
   ]
  },
  {
   "cell_type": "markdown",
   "id": "proprietary-mining",
   "metadata": {
    "deletable": false,
    "editable": false,
    "run_control": {
     "frozen": true
    }
   },
   "source": [
    "<div>\n",
    "<img src=\"images/write_chocolate.png\" align=\"left\" width=\"24\" height=\"24\"/>\n",
    "<span style=\"line-height:24px; margin-left: 0.5em\"><font color='Chocolate'>\n",
    "<b> Please fill in with your own observations </b>\n",
    "</font></span>\n",
    "</div>"
   ]
  },
  {
   "cell_type": "markdown",
   "id": "hazardous-prefix",
   "metadata": {},
   "source": [
    "Der texet weist eine Regelmäßigkeit in folgenden Dingen auf:\n",
    "-es seint, als würde die Menge der Bytes pro Zeile sich wiederholen.\n",
    "-Die Zeichenketten scheinen sich zu wiederholen.\n",
    "-Jeder Block besteht aus den identischen ersten 3 Zeilen einen Zufälligen Text (vielleicht die Information) und den Identischen 3 Schlusszeilen.<br>\n",
    "<br>\n",
    "8d c7 99 e2 b7 39 64 bb 42 d6 db cd 55 12 ba 75<br>\n",
    "8d c7 99 e2 b7 39 64 b8 42 d6 de cd 44 1e e8 63 9d a4 52 2b 12<br>\n",
    "8d c7 99 e2 b7 39 64 b9 42 d6 c1 c6 55 15 ad 74 91 a5 4b 20 57 dd 3a 76 2b 91 af fe<br>\n",
    "xx xx xx xx xx xx xx xx xx xx xx xx xx xx xx xx xx xx xx xx xx xx<br>\n",
    "f0 8c d9 b1 af 2a 2d fe 11 98 cf 88 50 08 ba 30 96 a2 5f 2d 57 da 2d 7c 39 84 af ad<br>\n",
    "9d ca 92 f2 b3 22 2a ed 58 85 cd cb 43 15 a1 64 81 e7 54 2d 16 da 2a 66<br>\n",
    "<br>\n",
    "Der Zufallstext ist hier xx. Er besteht immer aus derselben Anzahl an Bytes\n"
   ]
  },
  {
   "cell_type": "markdown",
   "id": "legal-session",
   "metadata": {
    "deletable": false,
    "editable": false,
    "run_control": {
     "frozen": true
    }
   },
   "source": [
    "In order to decrypt the data it would be very helpful to know what kind of encryption has been used.\n",
    "\n",
    "As you know from the lecture Hardware Security & Trust there are different types of encryption schemes with their respective implementations:\n",
    "\n",
    "1. Substitution ciphers\n",
    "2. Transpositon ciphers\n",
    "3. (Product ciphers)\n",
    "4. Stream ciphers\n",
    "5. Block ciphers"
   ]
  },
  {
   "cell_type": "markdown",
   "id": "about-school",
   "metadata": {
    "deletable": false,
    "editable": false,
    "run_control": {
     "frozen": true
    }
   },
   "source": [
    "<div>\n",
    "<img src=\"images/question_darkblue.png\" align=\"left\" width=\"24\" height=\"24\"/>\n",
    "<span style=\"line-height:24px; margin-left: 0.5em\"><font color=\"darkblue\">From your observations above, which kind of cipher has been used most likely to encrypt the given data and why?</font> </span>\n",
    "</div><br>\n",
    "Don't worry if you cannot pinpoint to the encryption scheme yet.<br>The visualisation of the data in the text file is not ideal to gather all required information.\n",
    "    "
   ]
  },
  {
   "cell_type": "markdown",
   "id": "hollow-feature",
   "metadata": {
    "deletable": false,
    "editable": false,
    "run_control": {
     "frozen": true
    }
   },
   "source": [
    "<div>\n",
    "<img src=\"images/write_chocolate.png\" align=\"left\" width=\"24\" height=\"24\"/>\n",
    "<span style=\"line-height:24px; margin-left: 0.5em\"><font color='Chocolate'>\n",
    "<b> Please fill in with your own observations </b>\n",
    "</font></span>\n",
    "</div>"
   ]
  },
  {
   "cell_type": "markdown",
   "id": "thrown-startup",
   "metadata": {},
   "source": [
    "Wegen dem sich wiederholenden Blöcken würde ich auf einen Blockcipher schließen.<br>\n",
    "Es könnte aber auch ein suptitution cipher sein mit einem shift.\n",
    "Da die einzelnen Blöcke aber einzelne Nachrichten wiederspiegeln.\n",
    "Somit kämen die obersten 4 cipher in Frage"
   ]
  },
  {
   "cell_type": "markdown",
   "id": "limiting-recognition",
   "metadata": {
    "tags": [
     "\"hide-cell\""
    ]
   },
   "source": [
    "<font color=\"darkgreen\">\n",
    "<details>\n",
    "<summary>\n",
    "<div>\n",
    "<img src=\"images/hint_darkgreen.png\" align=\"left\" width=\"24\" height=\"24\"/>\n",
    "<span style=\"line-height:24px; margin-left: 0.5em\">\n",
    "<b>Click to show hints</b>\n",
    "</span>\n",
    "</div>\n",
    "</summary>\n",
    "\n",
    "1. Look at the slides from the lecture and ask yourself: Would it be possible to create this kind of data with this cipher?<br>\n",
    "2. Is there a type of cipher that you can rule out from the beginning?\n",
    "\n",
    "</details></font>"
   ]
  },
  {
   "cell_type": "markdown",
   "id": "clear-semester",
   "metadata": {
    "deletable": false,
    "editable": false,
    "run_control": {
     "frozen": true
    }
   },
   "source": [
    "With the observations above in mind you can now visualize the data further.\n",
    "\n",
    "Let's first import the data to python in order to analyze them."
   ]
  },
  {
   "cell_type": "code",
   "execution_count": 1,
   "id": "acquired-incident",
   "metadata": {
    "code_folding": [],
    "deletable": false,
    "editable": false
   },
   "outputs": [],
   "source": [
    "with open('Task_1_RecordedData.txt', 'rt', encoding='UTF-8') as data:\n",
    "    messages_raw = [line.strip() for line in data]\n",
    "data.close()"
   ]
  },
  {
   "cell_type": "markdown",
   "id": "improving-chaos",
   "metadata": {
    "deletable": false,
    "editable": false,
    "run_control": {
     "frozen": true
    }
   },
   "source": [
    "With that the data can now be looked at from within python. This will be very helpful for further analysis.\n",
    "\n",
    "Some functions for data conversion are provided below to get you started right away."
   ]
  },
  {
   "cell_type": "code",
   "execution_count": 2,
   "id": "parental-operation",
   "metadata": {
    "code_folding": [],
    "deletable": false,
    "editable": false
   },
   "outputs": [],
   "source": [
    "def hex_2_int_list(message):\n",
    "    '''Convert message from space separated string of hex values to list of integer values\n",
    "\n",
    "    Example: '30 31 32' -> [48, 49, 50]\n",
    "    '''\n",
    "    return [int(i, 16) for i in message.split()]\n",
    "\n",
    "def hex_2_chr_list(message):\n",
    "    '''Convert message from space separated string of hex values to list of character values\n",
    "\n",
    "    Example: '30 31 32' -> ['0', '1', '2']\n",
    "    '''\n",
    "    return [chr(int(i, 16)) for i in message.split()]\n",
    "\n",
    "def hex_2_bin(message):\n",
    "    '''Convert message from space separated string of hex values to space separated string of binary values\n",
    "\n",
    "    Example: '30 31 32' -> '00110000 00110001 00110010'\n",
    "    '''\n",
    "    return \" \".join([bin(int(i, 16))[2:].zfill(8) for i in message.split()])\n",
    "\n",
    "def int_list_2_hex(message):\n",
    "    '''Convert messages from list of integer values to space separated string of hex values\n",
    "\n",
    "    Example: [48, 49, 50] -> '30 31 32'\n",
    "    '''\n",
    "    return \" \".join([hex(i)[2::].zfill(2) for i in message])\n",
    "\n",
    "def int_list_2_bin(message):\n",
    "    '''Convert messages from list of integer values to space separated string of binary values\n",
    "\n",
    "    Example: [48, 49, 50] -> '00110000 00110001 00110010'\n",
    "    '''\n",
    "    return \" \".join([bin(i)[2:].zfill(8) for i in message])\n",
    "\n",
    "def int_list_2_chr_list(message):\n",
    "    '''Convert messages from list of integer values to list of character values\n",
    "\n",
    "    Example: [48, 49, 50] -> ['0', '1', '2']\n",
    "    '''\n",
    "    return [chr(i) for i in message]\n",
    "\n",
    "def chr_list_2_hex(message):\n",
    "    '''Convert messages from list of char values to space separated string of hex values\n",
    "\n",
    "    Example: ['0', '1', '2'] -> '30 31 32'\n",
    "    '''\n",
    "    return \" \".join([hex(ord(i))[2::].zfill(2) for i in message])\n",
    "\n",
    "def chr_list_2_bin(message):\n",
    "    '''Convert messages from list of char values to space separated string of binary values\n",
    "\n",
    "    Example: ['0', '1', '2'] -> '00110000 00110001 0011001'\n",
    "    '''\n",
    "    return \" \".join([bin(ord(i))[2::].zfill(8) for i in message])\n",
    "\n",
    "def chr_list_2_int_list(message):\n",
    "    '''Convert messages from list of char values to list of integer values\n",
    "\n",
    "    Example: ['0', '1', '2'] -> [48, 49, 50]\n",
    "    '''\n",
    "    return [ord(i) for i in message]\n",
    "\n",
    "def chr_list_2_str(message):\n",
    "    '''Convert messages from list of char values to string for printing\n",
    "\n",
    "    Example: ['0', '1', '2'] -> \"012\"\n",
    "    '''\n",
    "    return \"\".join(message)"
   ]
  },
  {
   "cell_type": "markdown",
   "id": "tropical-purple",
   "metadata": {
    "deletable": false,
    "editable": false,
    "run_control": {
     "frozen": true
    }
   },
   "source": [
    "The python functions\n",
    "\n",
    "```python\n",
    "chr(int_value)\n",
    "```\n",
    "and \n",
    "```python\n",
    "ord(chr_value)\n",
    "```\n",
    "might come in very handy in your analysis as well."
   ]
  },
  {
   "cell_type": "markdown",
   "id": "balanced-separate",
   "metadata": {
    "deletable": false,
    "editable": false,
    "run_control": {
     "frozen": true
    }
   },
   "source": [
    "<div>\n",
    "<img src=\"images/hint_darkblue.png\" align=\"left\" width=\"24\" height=\"24\"/>\n",
    "<span style=\"line-height:24px; margin-left: 0.5em\"><font color=\"darkblue\">Feel free to add your own conversion and helper functions if necessary.</font></span>\n",
    "</div>"
   ]
  },
  {
   "cell_type": "markdown",
   "id": "2335f055",
   "metadata": {},
   "source": [
    "kann in \"Code.ipynb\" gefunden werden"
   ]
  },
  {
   "cell_type": "markdown",
   "id": "medical-eight",
   "metadata": {
    "deletable": false,
    "editable": false,
    "run_control": {
     "frozen": true
    }
   },
   "source": [
    "Just scrolling through the data has already provided you with some information about the underlying encryption scheme. But we can do better.<br>\n",
    "How about sorting the data and analysing the messages by type one by one?<br>\n",
    "Ok, but sorting by what?"
   ]
  },
  {
   "cell_type": "markdown",
   "id": "reduced-advisory",
   "metadata": {
    "deletable": false,
    "editable": false,
    "run_control": {
     "frozen": true
    }
   },
   "source": [
    "<div>\n",
    "<img src=\"images/question_darkblue.png\" align=\"left\" width=\"24\" height=\"24\"/>\n",
    "<span style=\"line-height:24px; margin-left: 0.5em\"><font color=\"darkblue\">How may the message types be distinguished and how many are there from each type?</font></span>\n",
    "</div>"
   ]
  },
  {
   "cell_type": "markdown",
   "id": "nutritional-johnson",
   "metadata": {
    "deletable": false,
    "editable": false,
    "run_control": {
     "frozen": true
    }
   },
   "source": [
    "<div>\n",
    "<img src=\"images/write_chocolate.png\" align=\"left\" width=\"24\" height=\"24\"/>\n",
    "<span style=\"line-height:24px; margin-left: 0.5em\"><font color='Chocolate'>\n",
    "<b> Please fill in with your own observations </b>\n",
    "</font></span>\n",
    "</div>"
   ]
  },
  {
   "cell_type": "markdown",
   "id": "acknowledged-income",
   "metadata": {},
   "source": [
    "\n",
    "Ich habe die ersten 10 Zeilen, die eindeutig sind in die \"Selecte_data.txt\" geschrieben.\n",
    "Die Zeilen scheinen sich nur in den Letzten paar Bits zu unterscheiden.\n",
    "Nach betrachten der Letzten Einträge fällt auf, dass sie nur in den ersten 2 Bites gleich sind. \n",
    "Die Anfangsbits sind \" 8f db\""
   ]
  },
  {
   "cell_type": "markdown",
   "id": "biblical-reservation",
   "metadata": {
    "deletable": false,
    "editable": false,
    "run_control": {
     "frozen": true
    }
   },
   "source": [
    "<font color=\"darkgreen\">\n",
    "<details>\n",
    "<summary>\n",
    "<div>\n",
    "<img src=\"images/hint_darkgreen.png\" align=\"left\" width=\"24\" height=\"24\"/>\n",
    "<span style=\"line-height:24px; margin-left: 0.5em\">\n",
    "<b>Click to show hints</b>\n",
    "</span>\n",
    "</div>\n",
    "</summary>\n",
    "\n",
    "what is the difference between the seamingly repeating messages?\n",
    "\n",
    "</details></font>"
   ]
  },
  {
   "cell_type": "code",
   "execution_count": 5,
   "id": "educated-horizontal",
   "metadata": {
    "hide_input": false
   },
   "outputs": [
    {
     "name": "stdout",
     "output_type": "stream",
     "text": [
      "Type 8d db: with 2000 elements\n",
      "Type 9d ca: with 2000 elements\n",
      "Type 8d c7 99 e2 b7 39 64 bb: with 2000 elements\n",
      "Type 8d c7 99 e2 b7 39 64 b8: with 2000 elements\n",
      "Type 8d c7 99 e2 b7 39 64 b9: with 2000 elements\n",
      "Type f0 8c: with 2000 elements\n"
     ]
    }
   ],
   "source": [
    "# sort the messages by a useful measure and find out how many messages of each type are present\n",
    "messages_sorted = {}\n",
    "message_sort_l = []\n",
    "for message in messages_raw:\n",
    "    # get the messages in a format to distinguish between them more easily\n",
    "    message_chr = hex_2_chr_list(message)\n",
    "    #raise NotImplementedError(\"What would be a good candidate to sort the messages by?\") # remove this line once key definition is implemented\n",
    "    sorting_key = [\"8d db\", \"9d ca\", \"8d c7 99 e2 b7 39 64 bb\", \"8d c7 99 e2 b7 39 64 b8\", \"8d c7 99 e2 b7 39 64 b9\", \"f0 8c\"]\n",
    "    for key in sorting_key:\n",
    "        if key not in messages_sorted:\n",
    "            messages_sorted[key] = []\n",
    "        if key in message:\n",
    "            messages_sorted[key].append(message)\n",
    "\n",
    "    # if sorting_key in message and message in messages_raw:\n",
    "    #     message_sort_l.append(message)\n",
    "\n",
    "for key in messages_sorted.keys():\n",
    "    print('Type {}: with {} elements'.format(key, len(messages_sorted[key])))"
   ]
  },
  {
   "cell_type": "markdown",
   "id": "bf0d7c42",
   "metadata": {},
   "source": [
    "Im code ein Bug von mbeX????"
   ]
  },
  {
   "cell_type": "markdown",
   "id": "magnetic-thursday",
   "metadata": {
    "deletable": false,
    "editable": false,
    "run_control": {
     "frozen": true
    }
   },
   "source": [
    "<div>\n",
    "<img src=\"images/question_darkblue.png\" align=\"left\" width=\"24\" height=\"24\"/>\n",
    "<span style=\"line-height:24px; margin-left: 0.5em\"><font color='darkblue'>\n",
    "Is there an equal amount of messages of each type and what does this tell you?\n",
    "</font></span>\n",
    "</div>"
   ]
  },
  {
   "cell_type": "markdown",
   "id": "scenic-narrative",
   "metadata": {
    "deletable": false,
    "editable": false,
    "run_control": {
     "frozen": true
    }
   },
   "source": [
    "<div>\n",
    "<img src=\"images/write_chocolate.png\" align=\"left\" width=\"24\" height=\"24\"/>\n",
    "<span style=\"line-height:24px; margin-left: 0.5em\"><font color='Chocolate'>\n",
    "<b> Please fill in with your own observations </b>\n",
    "</font></span>\n",
    "</div>"
   ]
  },
  {
   "cell_type": "markdown",
   "id": "linear-premium",
   "metadata": {},
   "source": [
    "Es gibt 2000 Einzigartige Zeilen. Der Rest sind sich wiederholende Blöcke.\n",
    "Die zu entschlüsselden daten enthalten die Anfangbits \"8d db\".\n",
    "Das trifft bei 6 verschiedenen Schlüsseln zu.\n",
    "6 * 2000 = 12000"
   ]
  },
  {
   "cell_type": "markdown",
   "id": "weighted-norwegian",
   "metadata": {
    "deletable": false,
    "editable": false,
    "run_control": {
     "frozen": true
    }
   },
   "source": [
    "Once you found a good way to differentiate between the messages, let's have a closer look at the message types one by one.\n",
    "For this it will be helpful to store the messages by type into different files.\n",
    "\n",
    "With the following code snipped, the different message types are dumped in separate files for each message type."
   ]
  },
  {
   "cell_type": "code",
   "execution_count": 4,
   "id": "killing-nightlife",
   "metadata": {},
   "outputs": [],
   "source": [
    "# iterate over the different message types as distinguished before\n",
    "for key in messages_sorted.keys():\n",
    "    # create a text file and dump all the messages of the message type into it.\n",
    "    with open(\"Messages_Type_\" + str(key) + '.txt', 'w') as message_file:\n",
    "        for message in messages_sorted[key]:\n",
    "            message_file.write(message + '\\n')\n",
    "    message_file.close()\n",
    "\n",
    "with open(\"Messages_Type_selected_t\" '.txt', 'w') as message_file:\n",
    "        for message in message_sort_l:\n",
    "            message_file.write(message + '\\n')\n",
    "message_file.close()"
   ]
  },
  {
   "cell_type": "markdown",
   "id": "minimal-reply",
   "metadata": {
    "deletable": false,
    "editable": false,
    "run_control": {
     "frozen": true
    }
   },
   "source": [
    "<div>\n",
    "<img src=\"images/question_darkblue.png\" align=\"left\" width=\"24\" height=\"24\"/>\n",
    "\n",
    "<span style=\"line-height:24px; margin-left: 0.5em\"><font color='darkblue'>\n",
    "Please look at the new generated text files `Messages_Type_*.txt` and note down all the observations you make while scrolling through the data.\n",
    "</font></span>\n",
    "</div>"
   ]
  },
  {
   "cell_type": "markdown",
   "id": "capable-perth",
   "metadata": {
    "deletable": false,
    "editable": false,
    "run_control": {
     "frozen": true
    }
   },
   "source": [
    "<div>\n",
    "<img src=\"images/write_chocolate.png\" align=\"left\" width=\"24\" height=\"24\"/>\n",
    "<span style=\"line-height:24px; margin-left: 0.5em\"><font color='Chocolate'>\n",
    "<b> Please fill in with your own observations </b>\n",
    "</font></span>\n",
    "</div>"
   ]
  },
  {
   "cell_type": "markdown",
   "id": "hazardous-director",
   "metadata": {},
   "source": [
    "<font color='Chocolate'>\n",
    "<b>Messages_Type_*.txt</b><br>\n",
    "replace this line with your observations\n",
    "\n",
    "<b>Messages_Type_*.txt</b><br>\n",
    "replace this line with your observations\n",
    "\n",
    "etc.\n",
    "</font>"
   ]
  },
  {
   "cell_type": "markdown",
   "id": "apart-inflation",
   "metadata": {
    "deletable": false,
    "editable": false,
    "run_control": {
     "frozen": true
    }
   },
   "source": [
    "## Step wise decryption of the data"
   ]
  },
  {
   "cell_type": "markdown",
   "id": "registered-wiring",
   "metadata": {
    "deletable": false,
    "editable": false,
    "run_control": {
     "frozen": true
    }
   },
   "source": [
    "In the previous section you gathered some information about the data. In this section you use the gathered information to gain more information about the data, the cipher and the key so that in the end you can decrypt the entire recorded communication.\n",
    "\n",
    "**Good luck and enjoy the decryption task :)**"
   ]
  },
  {
   "cell_type": "markdown",
   "id": "adapted-blade",
   "metadata": {
    "deletable": false,
    "editable": false,
    "run_control": {
     "frozen": true
    }
   },
   "source": [
    "<font color=\"darkgreen\">\n",
    "<details>\n",
    "<summary>\n",
    "<div>\n",
    "<img src=\"images/hint_darkgreen.png\" align=\"left\" width=\"24\" height=\"24\"/>\n",
    "<span style=\"line-height:24px; margin-left: 0.5em\">\n",
    "<b>Click to show hints</b>\n",
    "</span>\n",
    "</div>\n",
    "</summary>\n",
    "\n",
    "The plain text consists of messages in english language encoded in ASCII characters.\n",
    "\n",
    "</details></font>"
   ]
  },
  {
   "cell_type": "markdown",
   "id": "sapphire-proceeding",
   "metadata": {
    "deletable": false,
    "editable": false,
    "run_control": {
     "frozen": true
    }
   },
   "source": [
    "<font color=\"darkgreen\">\n",
    "<details>\n",
    "<summary>\n",
    "<div>\n",
    "<img src=\"images/hint_darkgreen.png\" align=\"left\" width=\"24\" height=\"24\"/>\n",
    "<span style=\"line-height:24px; margin-left: 0.5em\">\n",
    "<b>Click to show more hints</b>\n",
    "</span>\n",
    "</div>\n",
    "</summary>\n",
    "\n",
    "As you have seen, most of the data are repeated without any changing data. There are other data though, that change.<br>\n",
    "Find the pattern in the changing data, name assumptions about the data in plain text, gather step wise more and more information until you can decrypt all the recorded data.\n",
    "\n",
    "</details></font>"
   ]
  },
  {
   "cell_type": "markdown",
   "id": "challenging-partnership",
   "metadata": {
    "deletable": false,
    "editable": false,
    "run_control": {
     "frozen": true
    }
   },
   "source": [
    "<font color=\"darkgreen\">\n",
    "<details>\n",
    "<summary>\n",
    "<div>\n",
    "<img src=\"images/hint_darkgreen.png\" align=\"left\" width=\"24\" height=\"24\"/>\n",
    "<span style=\"line-height:24px; margin-left: 0.5em\">\n",
    "<b>Click to show even more hints</b>\n",
    "</span>\n",
    "</div>\n",
    "</summary>\n",
    "\n",
    "Generally, if you find a pattern, you should look at it in detail and try to relate it to something you know. Once you found enough information that lets you assume the partial key (even if it is only a single byte) look at the bigger picture and see what information you can gain from your new discovery.\n",
    "\n",
    "</details></font>"
   ]
  },
  {
   "cell_type": "markdown",
   "id": "familiar-twenty",
   "metadata": {
    "deletable": false,
    "editable": false,
    "run_control": {
     "frozen": true
    }
   },
   "source": [
    "If you do get stuck, take a break, get some fresh air and try again a little bit later.<br>\n",
    "If you keep being stuck, feel free to ask for help and additional hints."
   ]
  },
  {
   "cell_type": "code",
   "execution_count": null,
   "id": "indian-liechtenstein",
   "metadata": {},
   "outputs": [],
   "source": [
    "# create your own code to gain the key from the data and information gathered so far.\n",
    "raise NotImplementedError(\"Do the magic, decrypting the cipher text that is.\")"
   ]
  },
  {
   "cell_type": "markdown",
   "id": "expected-league",
   "metadata": {
    "deletable": false,
    "editable": false,
    "run_control": {
     "frozen": true
    }
   },
   "source": [
    "## Conclusion"
   ]
  },
  {
   "cell_type": "markdown",
   "id": "split-niagara",
   "metadata": {
    "deletable": false,
    "editable": false,
    "run_control": {
     "frozen": true
    }
   },
   "source": [
    "As you have seen even without knowing anything about the key or the encryption used you were hopefully able to deduce enough information about the data to decrypt them anyways.\n",
    "\n",
    "But why was this possible?<br>\n",
    "\n"
   ]
  },
  {
   "cell_type": "markdown",
   "id": "prime-mailman",
   "metadata": {
    "deletable": false,
    "editable": false,
    "run_control": {
     "frozen": true
    }
   },
   "source": [
    "### Exploited weaknesses"
   ]
  },
  {
   "cell_type": "markdown",
   "id": "experimental-secondary",
   "metadata": {
    "deletable": false,
    "editable": false,
    "run_control": {
     "frozen": true
    }
   },
   "source": [
    "<div>\n",
    "<img src=\"images/question_darkblue.png\" align=\"left\" width=\"24\" height=\"24\"/>\n",
    "\n",
    "<span style=\"line-height:24px; margin-left: 0.5em\"><font color='darkblue'>List the weaknesses you have exploited throughout this task and explain why they lead to you decrypting the cipher text.</font></span>\n",
    "</div>"
   ]
  },
  {
   "cell_type": "markdown",
   "id": "presidential-strategy",
   "metadata": {
    "deletable": false,
    "editable": false,
    "run_control": {
     "frozen": true
    }
   },
   "source": [
    "<div>\n",
    "<img src=\"images/write_chocolate.png\" align=\"left\" width=\"24\" height=\"24\"/>\n",
    "<span style=\"line-height:24px; margin-left: 0.5em\"><font color='Chocolate'>\n",
    "<b> Please fill in with your own observations </b>\n",
    "</font></span>\n",
    "</div>"
   ]
  },
  {
   "cell_type": "markdown",
   "id": "driven-south",
   "metadata": {},
   "source": [
    "<font color='Chocolate'>\n",
    "replace this line with your observations\n",
    "</font>"
   ]
  },
  {
   "cell_type": "markdown",
   "id": "creative-advisory",
   "metadata": {
    "deletable": false,
    "editable": false,
    "run_control": {
     "frozen": true
    }
   },
   "source": [
    "### Promising counter measures"
   ]
  },
  {
   "cell_type": "markdown",
   "id": "interracial-ratio",
   "metadata": {
    "deletable": false,
    "editable": false,
    "run_control": {
     "frozen": true
    }
   },
   "source": [
    "<div>\n",
    "<img src=\"images/question_darkblue.png\" align=\"left\" width=\"24\" height=\"24\"/>\n",
    "\n",
    "<span style=\"line-height:24px; margin-left: 0.5em\"><font color='darkblue'>Can you think of one or more promising counter measure(s) that would have prevented your attack from being successful?</font></span>\n",
    "</div>"
   ]
  },
  {
   "cell_type": "markdown",
   "id": "australian-skirt",
   "metadata": {
    "deletable": false,
    "editable": false,
    "run_control": {
     "frozen": true
    }
   },
   "source": [
    "<div>\n",
    "<img src=\"images/write_chocolate.png\" align=\"left\" width=\"24\" height=\"24\"/>\n",
    "<span style=\"line-height:24px; margin-left: 0.5em\"><font color='Chocolate'>\n",
    "<b> Please fill in with your own observations </b>\n",
    "</font></span>\n",
    "</div>"
   ]
  },
  {
   "cell_type": "markdown",
   "id": "comfortable-stadium",
   "metadata": {},
   "source": [
    "<font color='Chocolate'>\n",
    "replace this line with your observations\n",
    "</font>"
   ]
  },
  {
   "cell_type": "markdown",
   "id": "reliable-italian",
   "metadata": {
    "deletable": false,
    "editable": false,
    "run_control": {
     "frozen": true
    }
   },
   "source": [
    "### Challenges "
   ]
  },
  {
   "cell_type": "markdown",
   "id": "sufficient-press",
   "metadata": {
    "deletable": false,
    "editable": false,
    "run_control": {
     "frozen": true
    }
   },
   "source": [
    "<div>\n",
    "<img src=\"images/question_darkblue.png\" align=\"left\" width=\"24\" height=\"24\"/>\n",
    "\n",
    "<span style=\"line-height:24px; margin-left: 0.5em\"><font color='darkblue'>List the challanges you faced and describe your train of thought that lead you to mastering them.</font></span>\n",
    "</div>"
   ]
  },
  {
   "cell_type": "markdown",
   "id": "constitutional-dress",
   "metadata": {
    "deletable": false,
    "editable": false,
    "run_control": {
     "frozen": true
    }
   },
   "source": [
    "<div>\n",
    "<img src=\"images/write_chocolate.png\" align=\"left\" width=\"24\" height=\"24\"/>\n",
    "<span style=\"line-height:24px; margin-left: 0.5em\"><font color='Chocolate'>\n",
    "<b> Please fill in with your own observations </b>\n",
    "</font></span>\n",
    "</div>"
   ]
  },
  {
   "cell_type": "markdown",
   "id": "extraordinary-instrumentation",
   "metadata": {},
   "source": [
    "<font color='Chocolate'>\n",
    "replace this line with your observations\n",
    "</font>"
   ]
  },
  {
   "cell_type": "markdown",
   "id": "convenient-retrieval",
   "metadata": {
    "deletable": false,
    "editable": false,
    "run_control": {
     "frozen": true
    }
   },
   "source": [
    "## Submission"
   ]
  },
  {
   "cell_type": "markdown",
   "id": "korean-highway",
   "metadata": {
    "deletable": false,
    "editable": false,
    "run_control": {
     "frozen": true
    }
   },
   "source": [
    "Please commit your changes thus far until the end of the timeframe of this task according to:<br>\n",
    "https://gitlab.tf.uni-freiburg.de/embex-security-lab/security-lab-2022"
   ]
  },
  {
   "cell_type": "markdown",
   "id": "cardiovascular-essay",
   "metadata": {
    "deletable": false,
    "editable": false,
    "run_control": {
     "frozen": true
    }
   },
   "source": [
    "## Additional presentation task"
   ]
  },
  {
   "cell_type": "markdown",
   "id": "marked-present",
   "metadata": {
    "deletable": false,
    "editable": false,
    "run_control": {
     "frozen": true
    }
   },
   "source": [
    "**You only have to work on the following task if you decided to present for this task**<br>\n",
    "You are welcome to continue working on the following task without presentation, if you have chosen a different task to present.\n",
    "\n",
    "Think of a similar setting, where you can decipher a given ciphertext from patterns within it, without knowing about the underlying encryption or key.<br>\n",
    "Think of another pattern in ciphertext that gives away enough information to get a foot hold in the ciphertext from where you can start deciphering.<br>\n",
    "Can you even think of a pattern in ciphertext giving away enough information but a lot more effectively without requiring such a big amount of recorded data to begin with?\n",
    "\n",
    "Create an example and show that it is possible to decipher the recorded messages you generated (You can also use a different encryption if you want).\n",
    "\n",
    "Think of counter measures that would have prevented your attack and demonstrate the effectiveness of the counter measures.\n",
    "\n",
    "Create a presentation with a few slides showing your approach and results from this task.\n",
    "\n",
    "You can find the date for the presentation here: https://gitlab.tf.uni-freiburg.de/embex-security-lab/security-lab-2022"
   ]
  }
 ],
 "metadata": {
  "interpreter": {
   "hash": "fa22c17063082d346e40431601277e21370d046a63b03c1ad06b993e8a6a39a1"
  },
  "kernelspec": {
   "display_name": "Python 3.10.0 64-bit",
   "language": "python",
   "name": "python3"
  },
  "language_info": {
   "codemirror_mode": {
    "name": "ipython",
    "version": 3
   },
   "file_extension": ".py",
   "mimetype": "text/x-python",
   "name": "python",
   "nbconvert_exporter": "python",
   "pygments_lexer": "ipython3",
   "version": "3.10.0"
  },
  "toc": {
   "base_numbering": 1,
   "nav_menu": {},
   "number_sections": true,
   "sideBar": true,
   "skip_h1_title": false,
   "title_cell": "Table of Contents",
   "title_sidebar": "Contents",
   "toc_cell": false,
   "toc_position": {},
   "toc_section_display": true,
   "toc_window_display": false
  }
 },
 "nbformat": 4,
 "nbformat_minor": 5
}
