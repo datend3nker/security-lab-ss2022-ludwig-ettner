{
 "cells": [
  {
   "cell_type": "code",
   "execution_count": 2,
   "metadata": {},
   "outputs": [],
   "source": [
    "data = open('Task_1_RecordedData.txt', 'rt', encoding='UTF-8')\n",
    "messages_raw = [line.strip() for line in data]\n",
    "data.close()\n",
    "message_serial = []\n",
    "for line in messages_raw:\n",
    "    line_li = [z for z in line.split()]\n",
    "    message_serial.append(line_li)"
   ]
  },
  {
   "cell_type": "code",
   "execution_count": 8,
   "metadata": {},
   "outputs": [],
   "source": [
    "key = [222, 162, 247, 145, 216, 75, 68, 138, 120, 246, 168, 168, 54, 103, 200, 16, 248, 199, 39, 89, 119, 174, 95, 21, 94, 227, 202, 223]"
   ]
  },
  {
   "cell_type": "code",
   "execution_count": 9,
   "metadata": {},
   "outputs": [],
   "source": [
    "with open('decoded_text.txt', 'w') as message_file:\n",
    "        for line in message_serial:\n",
    "            for i, c in enumerate(line):\n",
    "                message_file.write(chr(key[i] ^ int(c, 16)))\n",
    "            message_file.write(\"\\n\")"
   ]
  }
 ],
 "metadata": {
  "interpreter": {
   "hash": "5fb955165457380985db86db626230b448991bb247ae99ab852707dfa9ea455b"
  },
  "kernelspec": {
   "display_name": "Python 3.10.4 64-bit (windows store)",
   "language": "python",
   "name": "python3"
  },
  "language_info": {
   "codemirror_mode": {
    "name": "ipython",
    "version": 3
   },
   "file_extension": ".py",
   "mimetype": "text/x-python",
   "name": "python",
   "nbconvert_exporter": "python",
   "pygments_lexer": "ipython3",
   "version": "3.10.4"
  },
  "orig_nbformat": 4
 },
 "nbformat": 4,
 "nbformat_minor": 2
}
