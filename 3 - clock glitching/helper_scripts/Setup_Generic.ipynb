{
 "cells": [
  {
   "cell_type": "code",
   "execution_count": 1,
   "metadata": {},
   "outputs": [
    {
     "name": "stderr",
     "output_type": "stream",
     "text": [
      "(ChipWhisperer NAEUSB WARNING|File naeusb.py:699) Your firmware (0.30) is outdated - latest is 0.62See https://chipwhisperer.readthedocs.io/en/latest/firmware.html for more information\n"
     ]
    },
    {
     "name": "stdout",
     "output_type": "stream",
     "text": [
      "INFO: Found ChipWhisperer😍\n"
     ]
    }
   ],
   "source": [
    "import chipwhisperer as cw\n",
    "import usb\n",
    "\n",
    "try:\n",
    "    try:\n",
    "        if not scope.connectStatus:\n",
    "            scope.con()\n",
    "    except NameError:\n",
    "        scope = cw.scope()\n",
    "\n",
    "    try:\n",
    "        if SS_VER == \"SS_VER_2_0\":\n",
    "            target_type = cw.targets.SimpleSerial2\n",
    "        else:\n",
    "            target_type = cw.targets.SimpleSerial\n",
    "    except:\n",
    "        SS_VER=\"SS_VER_1_1\"\n",
    "        target_type = cw.targets.SimpleSerial\n",
    "\n",
    "    try:\n",
    "        target = cw.target(scope, target_type)\n",
    "    except IOError:\n",
    "        print(\"INFO: Caught exception on reconnecting to target - attempting to reconnect to scope first.\")\n",
    "        print(\"INFO: This is a work-around when USB has died without Python knowing. Ignore errors above this line.\")\n",
    "        scope = cw.scope()\n",
    "        target = cw.target(scope, target_type)\n",
    "except:\n",
    "    if usb.__version__ < '1.1.0':\n",
    "        print(\"-----------------------------------\")\n",
    "        print(\"Unable to connect to chipwhisperer. pyusb {} detected (>= 1.1.0 required)\".format(usb.__version))\n",
    "        print(\"-----------------------------------\")\n",
    "    raise\n",
    "\n",
    "print(\"INFO: Found ChipWhisperer😍\")"
   ]
  },
  {
   "cell_type": "code",
   "execution_count": 3,
   "metadata": {},
   "outputs": [
    {
     "ename": "NameError",
     "evalue": "name 'PLATFORM' is not defined",
     "output_type": "error",
     "traceback": [
      "\u001b[1;31m---------------------------------------------------------------------------\u001b[0m",
      "\u001b[1;31mNameError\u001b[0m                                 Traceback (most recent call last)",
      "\u001b[1;32mc:\\Users\\ludwi\\Documents\\GitHub\\security-lab-ss2022-ludwig-ettner\\3 - clock glitching\\helper_scripts\\Setup_Generic.ipynb Cell 2'\u001b[0m in \u001b[0;36m<module>\u001b[1;34m\u001b[0m\n\u001b[1;32m----> <a href='vscode-notebook-cell:/c%3A/Users/ludwi/Documents/GitHub/security-lab-ss2022-ludwig-ettner/3%20-%20clock%20glitching/helper_scripts/Setup_Generic.ipynb#ch0000001?line=0'>1</a>\u001b[0m \u001b[39mif\u001b[39;00m \u001b[39m\"\u001b[39m\u001b[39mSTM\u001b[39m\u001b[39m\"\u001b[39m \u001b[39min\u001b[39;00m PLATFORM \u001b[39mor\u001b[39;00m PLATFORM \u001b[39m==\u001b[39m \u001b[39m\"\u001b[39m\u001b[39mCWLITEARM\u001b[39m\u001b[39m\"\u001b[39m \u001b[39mor\u001b[39;00m PLATFORM \u001b[39m==\u001b[39m \u001b[39m\"\u001b[39m\u001b[39mCWNANO\u001b[39m\u001b[39m\"\u001b[39m:\n\u001b[0;32m      <a href='vscode-notebook-cell:/c%3A/Users/ludwi/Documents/GitHub/security-lab-ss2022-ludwig-ettner/3%20-%20clock%20glitching/helper_scripts/Setup_Generic.ipynb#ch0000001?line=1'>2</a>\u001b[0m     prog \u001b[39m=\u001b[39m cw\u001b[39m.\u001b[39mprogrammers\u001b[39m.\u001b[39mSTM32FProgrammer\n\u001b[0;32m      <a href='vscode-notebook-cell:/c%3A/Users/ludwi/Documents/GitHub/security-lab-ss2022-ludwig-ettner/3%20-%20clock%20glitching/helper_scripts/Setup_Generic.ipynb#ch0000001?line=2'>3</a>\u001b[0m \u001b[39melif\u001b[39;00m PLATFORM \u001b[39m==\u001b[39m \u001b[39m\"\u001b[39m\u001b[39mCW303\u001b[39m\u001b[39m\"\u001b[39m \u001b[39mor\u001b[39;00m PLATFORM \u001b[39m==\u001b[39m \u001b[39m\"\u001b[39m\u001b[39mCWLITEXMEGA\u001b[39m\u001b[39m\"\u001b[39m:\n",
      "\u001b[1;31mNameError\u001b[0m: name 'PLATFORM' is not defined"
     ]
    }
   ],
   "source": [
    "if \"STM\" in PLATFORM or PLATFORM == \"CWLITEARM\" or PLATFORM == \"CWNANO\":\n",
    "    prog = cw.programmers.STM32FProgrammer\n",
    "elif PLATFORM == \"CW303\" or PLATFORM == \"CWLITEXMEGA\":\n",
    "    prog = cw.programmers.XMEGAProgrammer\n",
    "else:\n",
    "    prog = None"
   ]
  },
  {
   "cell_type": "code",
   "execution_count": null,
   "metadata": {},
   "outputs": [],
   "source": [
    "import time\n",
    "time.sleep(0.05)\n",
    "scope.default_setup()\n",
    "def reset_target(scope):\n",
    "    if PLATFORM == \"CW303\" or PLATFORM == \"CWLITEXMEGA\":\n",
    "        scope.io.pdic = 'low'\n",
    "        time.sleep(0.1)\n",
    "        scope.io.pdic = 'high_z' #XMEGA doesn't like pdic driven high\n",
    "        time.sleep(0.1) #xmega needs more startup time\n",
    "    else:  \n",
    "        scope.io.nrst = 'low'\n",
    "        time.sleep(0.05)\n",
    "        scope.io.nrst = 'high_z'\n",
    "        time.sleep(0.05)"
   ]
  }
 ],
 "metadata": {
  "kernelspec": {
   "display_name": "Python 3.10.5 64-bit (windows store)",
   "language": "python",
   "name": "python3"
  },
  "language_info": {
   "codemirror_mode": {
    "name": "ipython",
    "version": 3
   },
   "file_extension": ".py",
   "mimetype": "text/x-python",
   "name": "python",
   "nbconvert_exporter": "python",
   "pygments_lexer": "ipython3",
   "version": "3.10.5"
  },
  "vscode": {
   "interpreter": {
    "hash": "5fb955165457380985db86db626230b448991bb247ae99ab852707dfa9ea455b"
   }
  }
 },
 "nbformat": 4,
 "nbformat_minor": 4
}
