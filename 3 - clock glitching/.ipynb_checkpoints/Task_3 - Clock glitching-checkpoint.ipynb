{
 "cells": [
  {
   "cell_type": "markdown",
   "id": "cultural-copper",
   "metadata": {},
   "source": [
    "# Task - Clock glitching"
   ]
  },
  {
   "cell_type": "markdown",
   "id": "dental-bandwidth",
   "metadata": {},
   "source": [
    "## Password Bypass\n",
    "<a id='another_cell'></a>"
   ]
  },
  {
   "cell_type": "markdown",
   "id": "scientific-export",
   "metadata": {},
   "source": [
    "Passwords are in common use and nowadays users are forced to type in strong passwords for authentication, e.g. by using a combination of numbers, lower case letters, upper case letters and a minimum number of characters in total.<br>\n",
    "Bruteforcing is harder with strong passwords but not always necessary as we will see in this section. <br>\n",
    "Before we bypass the password check using glitching, take a look at the following C-Code of a password authentication function:"
   ]
  },
  {
   "cell_type": "markdown",
   "id": "overall-indianapolis",
   "metadata": {},
   "source": [
    "```C\n",
    "#define PW_MAX_LEN 40\n",
    "#define BUFF_SIZE  1024\n",
    "\n",
    "/*\n",
    " * Authenticate user given a password\n",
    " */\n",
    "int iAuthenticateUser(char * password) {\n",
    "    int AuthFlag = 0;\n",
    "\n",
    "    // Buffer where the password will be stored in \n",
    "    char cPasswordBuffer[PW_MAX_LEN];\n",
    "\n",
    "    // Copy Password to buffer\n",
    "    strcpy(cPasswordBuffer, password);\n",
    "\n",
    "    // Compare with the stored (strong) password \n",
    "    if(strcmp(cPasswordBuffer, \"D0N0tU53Un54f35tr1ngFunct10n5!\") == 0) {\n",
    "        // Password matches\n",
    "        printf(\"passwords match\\n\");\n",
    "        AuthFlag = 0x01;\n",
    "    }\n",
    "    return AuthFlag;\n",
    "}\n",
    "\n",
    "int main() {\n",
    "\n",
    "        // Get password from user\n",
    "        char data_buf[BUFF_SIZE];\n",
    "        memset(data_buf, 0, BUFF_SIZE);\n",
    "        printf(\"To get access to the device a password is required \\n\");\n",
    "    \n",
    "        // Reads in data from user\n",
    "        read(0, data_buf, BUFF_SIZE);\n",
    "\n",
    "        // Check if user is authenticated\n",
    "        if(iAuthenticateUser(data_buf)== 0) {\n",
    "                // Password was wrong - return\n",
    "                return(0);\n",
    "        }\n",
    "\n",
    "        // Password matched\n",
    "        printf(\"Access granted \\n\");\n",
    "    \n",
    "        /*\n",
    "            Device does Security/Safety critical work or sends back sensible information\n",
    "        */\n",
    "        ...;\n",
    "        ...;\n",
    "        ...;\n",
    "\n",
    "        return(0);\n",
    "}\n",
    "```"
   ]
  },
  {
   "cell_type": "markdown",
   "id": "active-paintball",
   "metadata": {},
   "source": [
    "There are lots of examples like this, which show the importance of secure coding."
   ]
  },
  {
   "cell_type": "markdown",
   "id": "suburban-tradition",
   "metadata": {},
   "source": [
    "<div>\n",
    "<img src=\"images/question_darkblue.png\" align=\"left\" width=\"24\" height=\"24\"/>\n",
    "<span style=\"line-height:24px; margin-left: 0.5em\"><font color=\"darkblue\">Can you imagine what could go wrong here?</font></span>\n",
    "</div>"
   ]
  },
  {
   "cell_type": "markdown",
   "id": "urban-client",
   "metadata": {},
   "source": [
    "<div>\n",
    "<img src=\"images/write_chocolate.png\" align=\"left\" width=\"24\" height=\"24\"/>\n",
    "<span style=\"line-height:24px; margin-left: 0.5em\"><font color='Chocolate'>\n",
    "<b> Please fill in with your own observations </b>\n",
    "</font></span>\n",
    "</div>"
   ]
  },
  {
   "cell_type": "markdown",
   "id": "stock-donor",
   "metadata": {},
   "source": [
    "Wenn man die If-Anweisung, in der gecheckt wird, ob das Password stimmt, überspringen kann, ist der Code immer noch funktional. Aber man der Schutz ist nicht mehr aktiv"
   ]
  },
  {
   "cell_type": "markdown",
   "id": "steady-framing",
   "metadata": {
    "deletable": false,
    "editable": false,
    "heading_collapsed": true,
    "run_control": {
     "frozen": true
    }
   },
   "source": [
    "### BONUS QUESTION"
   ]
  },
  {
   "cell_type": "markdown",
   "id": "offensive-galaxy",
   "metadata": {
    "hidden": true
   },
   "source": [
    "<div>\n",
    "<img src=\"images/question_darkblue.png\" align=\"left\" width=\"24\" height=\"24\"/>\n",
    "<span style=\"line-height:24px; margin-left: 0.5em\"><font color=\"darkblue\">Do you know by chance a method on how to find faults like these in software effectively?</font></span>\n",
    "</div>"
   ]
  },
  {
   "cell_type": "markdown",
   "id": "thick-treaty",
   "metadata": {
    "hidden": true
   },
   "source": [
    "<div>\n",
    "<img src=\"images/write_chocolate.png\" align=\"left\" width=\"24\" height=\"24\"/>\n",
    "<span style=\"line-height:24px; margin-left: 0.5em\"><font color='Chocolate'>\n",
    "<b> Please fill in with your own observations </b>\n",
    "</font></span>\n",
    "</div>"
   ]
  },
  {
   "cell_type": "markdown",
   "id": "korean-emerald",
   "metadata": {
    "hidden": true
   },
   "source": [
    "<font color='Chocolate'>\n",
    "replace this line with your observations\n",
    "</font>"
   ]
  },
  {
   "cell_type": "markdown",
   "id": "given-expense",
   "metadata": {
    "hidden": true
   },
   "source": [
    "Fortunately, most password functions are better coded than the one shown above.\n",
    "In the next sections you will learn about a fault injection method, which is, at last, able to bypass a secure version of the function above."
   ]
  },
  {
   "cell_type": "markdown",
   "id": "careful-orchestra",
   "metadata": {},
   "source": [
    "## Introduction to clock glitching"
   ]
  },
  {
   "cell_type": "markdown",
   "id": "sharing-homeless",
   "metadata": {},
   "source": [
    "Microcontrollers execute instructions one after the other. The execution times are fixed with the clock signal. A single instruction may require multiple clock cycles, in which the instruction is fetched from memory and executed.<br>\n",
    "To speed up the execution of several instruction the microcontroller uses the concept of a pipeline.\n",
    "For the given Microcontroller STM32 F303 with a Cortex-M4 Core, the pipeline consists of three stages: fetch, decode, execute.<br>\n",
    "If both of the next instructions are only 16 bit long, which is the case most of the times, both instructions are fetched simultaniously, while decoding and execution are done in sequence, as shown in the diagram."
   ]
  },
  {
   "cell_type": "markdown",
   "id": "polyphonic-deposit",
   "metadata": {},
   "source": [
    "![](images/pipelining.png)"
   ]
  },
  {
   "cell_type": "markdown",
   "id": "continuing-salmon",
   "metadata": {},
   "source": [
    "At time t$_\\text{3}$ instruction 1 is decoded and its execution is started, while instruction 2 has been fetched and starts decoding and instruction 3 and 4 are both fetched in parallel. This means that a single clock cycle is simultaniously used for different stages (fetch, decode, execute) for different instructions as illustrated above.<br>\n",
    "The different stages may require a different amount of time to complete. With the manipulation of a single clock cycle multiple stages of the pipeline may be affected in different ways. According to this research (https://online.tugraz.at/tug_online/voe_main2.getvolltext?pCurrPk=79126) the stage decoding is not affected by the glitching, but the stages fetch and execute may both be affected. Glitching may lead to effectively skipping an instruction or the abort of the stage leading to a false result."
   ]
  },
  {
   "cell_type": "markdown",
   "id": "gentle-puppy",
   "metadata": {},
   "source": [
    "![](images/glitched_pipelining.png)"
   ]
  },
  {
   "cell_type": "markdown",
   "id": "clean-accordance",
   "metadata": {},
   "source": [
    "As shown above, the third clock period may be manipulated by pulling the clock line down for a short period of time between t$_\\text{3}$ and t$_\\text{3*}$ effectively introducint a new clock cycle. This results in the clock starting at t$_\\text{3}$ being significantly shortened, which may result in the execution of instruction 1 being aborted, since the next rising edge at t$_\\text{3*}$ forces the execution of instruction 2 and instructions 3 and 4 being unsuccessfully fetched, while instruction 2 remains unaffected.<br>\n",
    "This behaviour is not defined by the manufacturer of the microcontroller and must be discovered by trial and error, as you will see in this task.<br>\n",
    "Knowing about this behaviour lets you exploit it for example to bypass a password check. The behaviour is quite delicate though and may result in a lot of crashes of the microcontroller along the way."
   ]
  },
  {
   "cell_type": "markdown",
   "id": "champion-myrtle",
   "metadata": {},
   "source": [
    "With the hardware embedded into the ChipWhisperer it is possible to control the timings of the clock signal with a very high precision.<br>\n",
    "The ChipWhisperer uses two configurable phase shifted clock signals and a few gates to create a glitch signal that can be applied to the clock signal using an XOR gate to briefly invert the target's clock signal.<br>\n",
    "The following description is partially taken directly from the ChipWhisperer documentation:"
   ]
  },
  {
   "cell_type": "markdown",
   "id": "compound-enterprise",
   "metadata": {},
   "source": [
    "A system clock (which can come from either the ChipWhisperer or the Device Under Test (DUT)) is used to generate the glitches. These glitches are then inserted back into the clock signal, although it's possible to use the glitches alone for other purposes (i.e. for voltage glitching, EM glitching).\n",
    "\n",
    "The generation of glitches is done with two variable phase shift modules, configured as follows:"
   ]
  },
  {
   "cell_type": "markdown",
   "id": "entitled-sheep",
   "metadata": {},
   "source": [
    "![glitch_phaseshift](images/Glitchgen-phaseshift.png)"
   ]
  },
  {
   "cell_type": "markdown",
   "id": "czech-festival",
   "metadata": {},
   "source": [
    "The glitch enable line is used to determine when glitches are inserted. Glitches can be inserted continuously (useful for development) or triggered by some event. The following figure shows how the glitch can be muxed to output to the Device Under Test (DUT)."
   ]
  },
  {
   "cell_type": "markdown",
   "id": "accepting-brazil",
   "metadata": {},
   "source": [
    "![glitch_phaseshift](images/Glitchgen-mux_small.png)"
   ]
  },
  {
   "cell_type": "markdown",
   "id": "executive-australia",
   "metadata": {},
   "source": [
    "The clock glitching hardware in the ChipWhisperer can be adjusted theoretically in 30 ps increments. This allows for very precise adjustments. However, the adjustment range is with only $\\pm$ 5 ns very short. For this task, the clock of the microcontroller is set to 7.37 MHz, which leads to a clock period of 136 ns. Ideally it should be possible to get an adjustment range of half a clock cycle, around $\\pm$ 68 ns.<br>\n",
    "This can be achieved by a partial reconfiguration of the underlying FPGA. All of this is done for you by the ChipWhisperer framework.\n",
    "\n",
    "The phase shift is defined in percent with a range of $\\pm$ 50 % for both the glitch offset and glitch width. For the glitch width, however, only a positive value makes sense."
   ]
  },
  {
   "cell_type": "markdown",
   "id": "czech-desire",
   "metadata": {},
   "source": [
    "![glitch_parameters](images/glitch_parameters.png)"
   ]
  },
  {
   "cell_type": "markdown",
   "id": "accepted-bottom",
   "metadata": {},
   "source": [
    "The image above visualizes the glitch parameter ranges and shows an example glitch applied to the clock signal with a glitch offset of -30 % and a glitch width of 20 %."
   ]
  },
  {
   "cell_type": "markdown",
   "id": "rotary-telephone",
   "metadata": {},
   "source": [
    "Read trough the lecture slides of chapter 3_3. (https://gitlab.tf.uni-freiburg.de/embex-security-lab/security-lab-2022/-/blob/main/documentation/Lecture%20Slides/03_3-fault_injection.pdf)"
   ]
  },
  {
   "cell_type": "markdown",
   "id": "appreciated-halifax",
   "metadata": {},
   "source": [
    "<div>\n",
    "<img src=\"images/question_darkblue.png\" align=\"left\" width=\"24\" height=\"24\"/>\n",
    "<span style=\"line-height:24px; margin-left: 0.5em\"><font color=\"darkblue\">To which attack class would you categorize clock glitching?</font></span>\n",
    "</div>"
   ]
  },
  {
   "cell_type": "markdown",
   "id": "figured-jurisdiction",
   "metadata": {},
   "source": [
    "<div>\n",
    "<img src=\"images/write_chocolate.png\" align=\"left\" width=\"24\" height=\"24\"/>\n",
    "<span style=\"line-height:24px; margin-left: 0.5em\"><font color='Chocolate'>\n",
    "<b> Please fill in with your own observations </b>\n",
    "</font></span>\n",
    "</div>"
   ]
  },
  {
   "cell_type": "markdown",
   "id": "super-halloween",
   "metadata": {},
   "source": [
    "Clockgliching zählt zu den non-inversive Attacken, da der chip in der Regel nicht beschädigt wird und nach nem reset wieder wie gewohnt funktioniert.\n",
    "Falls der Chip eine eigene Clock besitzt, kann es sein, dass man doch an den chip muss und die Clock zu unterbinden oder mit der Datenlinie verbinden.\n",
    "</font>"
   ]
  },
  {
   "cell_type": "markdown",
   "id": "clinical-electron",
   "metadata": {},
   "source": [
    "## Getting started with clock glitching"
   ]
  },
  {
   "cell_type": "markdown",
   "id": "lasting-german",
   "metadata": {},
   "source": [
    "In the first part of this exercise you will get some experience with clock glitching using the ChipWhisperer. You will experimentally find suitable glitching parameters.<br>\n",
    "\n",
    "ChipWhisperer comes with some helper scripts to get started and to interface with the ChipWhisperer board.\n",
    "\n",
    "For your convenience they are located in the subfolder `helper_scripts/`.\n",
    "\n",
    "Please plug in the ChipWhisperer with the provided USB cable and run the next cell.\n",
    "\n",
    "Running the script `helper_scripts/Setup_Generic.ipynb` should result in the output:<br>\n",
    "\n",
    "Serial baud rate = 38400<br>\n",
    "INFO: Found ChipWhisperer😍"
   ]
  },
  {
   "cell_type": "code",
   "execution_count": 1,
   "id": "postal-shame",
   "metadata": {
    "deletable": false,
    "editable": false,
    "scrolled": false
   },
   "outputs": [
    {
     "name": "stderr",
     "output_type": "stream",
     "text": [
      "(ChipWhisperer NAEUSB WARNING|File naeusb.py:699) Your firmware (0.30) is outdated - latest is 0.62See https://chipwhisperer.readthedocs.io/en/latest/firmware.html for more information\n"
     ]
    },
    {
     "name": "stdout",
     "output_type": "stream",
     "text": [
      "INFO: Found ChipWhisperer😍\n"
     ]
    }
   ],
   "source": [
    "# settings for generic setup\n",
    "SCOPETYPE = 'OPENADC'\n",
    "PLATFORM = 'CWLITEARM'\n",
    "CRYPTO_TARGET='TINYAES128C'\n",
    "SS_VER='SS_VER_1_1'\n",
    "\n",
    "# run the setup script\n",
    "%run \"helper_scripts/Setup_Generic.ipynb\""
   ]
  },
  {
   "cell_type": "markdown",
   "id": "significant-quality",
   "metadata": {},
   "source": [
    "Brilliant! The connection to the ChipWhisperer board is now established.<br>\n",
    "A custom firmware for the target chip is required for this task.<br>\n",
    "\n",
    "The next cell flashes the provided `glitch.hex` file to the target chip."
   ]
  },
  {
   "cell_type": "code",
   "execution_count": 2,
   "id": "parallel-gospel",
   "metadata": {
    "code_folding": [],
    "deletable": false,
    "editable": false
   },
   "outputs": [
    {
     "name": "stdout",
     "output_type": "stream",
     "text": [
      "Detected unknown STM32F ID: 0x446\n",
      "Extended erase (0x44), this can take ten seconds or more\n",
      "Attempting to program 5463 bytes at 0x8000000\n",
      "STM32F Programming flash...\n",
      "STM32F Reading flash...\n",
      "Verified flash OK, 5463 bytes\n"
     ]
    }
   ],
   "source": [
    "# flash the target firmware to the ChipWhisperer STM32 chip\n",
    "target_firmware = \"glitch.hex\"\n",
    "cw.program_target(scope, prog, target_firmware)"
   ]
  },
  {
   "cell_type": "markdown",
   "id": "hazardous-child",
   "metadata": {},
   "source": [
    "The general configuration options for clock glitching have been described above. In the following section you will see how the configuration of the glitch module of the ChipWhisperer can be put into practice.\n",
    "\n",
    "All the settings/methods for the glitch module can be accessed under `scope.glitch`"
   ]
  },
  {
   "cell_type": "code",
   "execution_count": 3,
   "id": "beginning-desperate",
   "metadata": {
    "deletable": false,
    "editable": false
   },
   "outputs": [
    {
     "data": {
      "text/plain": [
       "clk_src     = target\n",
       "width       = 10.15625\n",
       "width_fine  = 0\n",
       "offset      = 10.15625\n",
       "offset_fine = 0\n",
       "trigger_src = manual\n",
       "arm_timing  = after_scope\n",
       "ext_offset  = 0\n",
       "repeat      = 1\n",
       "output      = clock_xor"
      ]
     },
     "execution_count": 3,
     "metadata": {},
     "output_type": "execute_result"
    }
   ],
   "source": [
    "scope.glitch"
   ]
  },
  {
   "cell_type": "markdown",
   "id": "excess-kernel",
   "metadata": {},
   "source": [
    "Some of the important settings we will want to look at here are:"
   ]
  },
  {
   "cell_type": "markdown",
   "id": "relevant-louisville",
   "metadata": {},
   "source": [
    "* clk_src\n",
    "> The clock signal that the glitch DCM is using as input. Can be set to \"target\" or \"clkgen\".<br>\n",
    "In this case, we'll be providing the clock to the target, so we'll want this set to \"clkgen\"\n",
    "* offset\n",
    "> Where in the output clock to place the glitch. Can be in the range `[-50, 50]`.<br>\n",
    "Often, we'll want to try many offsets when trying to glitch a target.\n",
    "* width\n",
    "> How wide to make the glitch. Can be in the range `[-50, 50]`, though there is no reason to use widths < 0. Wider glitches more easily cause glitches, but are also more likely to crash the target, meaning we'll often want to try a range of widths when attacking a target.\n",
    "* output\n",
    "> The output produced by the glitch module. For clock glitching, clock_xor is often the most useful option.\n",
    "* ext_offset\n",
    "> The number of clock cycles after the trigger to put the glitch. \n",
    "* repeat\n",
    "> The number of clock cycles to repeat the glitch for. Higher values increase the number of instructions that can be glitched, but often increase the risk of crashing the target.\n",
    "* trigger_src\n",
    "> How to trigger the glitch. For this tutorial, we want to automatically trigger the glitch from the trigger pin only after arming the ChipWhipserer, so we'll use `ext_single`"
   ]
  },
  {
   "cell_type": "markdown",
   "id": "raised-treasury",
   "metadata": {},
   "source": [
    "For further information regarding the settings of the glitch module please refer to: https://chipwhisperer.readthedocs.io/en/latest/api.html#chipwhisperer.scopes.OpenADC.glitch"
   ]
  },
  {
   "cell_type": "markdown",
   "id": "brown-ground",
   "metadata": {},
   "source": [
    "In addition, we'll need to tell ChipWhipserer to use the glitch module's output as a clock source for the target by setting `scope.io.hs2 = \"glitch\"`.<br>\n",
    "Finally, we'll also use a `namedtuple` to make looping through parameters simpler.\n",
    "\n",
    "The ChipWhisperer provides a glitch controller, to make the usage of the glitch module simpler to interface with. It is initialized with the different potential outcomes (e.g. `\"success\", \"reset\", \"normal\"`) and the different parameters (e.g. `\"width\", \"offset\"`) used for the glitch configuration."
   ]
  },
  {
   "cell_type": "code",
   "execution_count": 4,
   "id": "awful-sender",
   "metadata": {
    "deletable": false,
    "editable": false
   },
   "outputs": [
    {
     "data": {
      "application/vnd.jupyter.widget-view+json": {
       "model_id": "222d0c4df3a34dcc869bacc22045c273",
       "version_major": 2,
       "version_minor": 0
      },
      "text/plain": [
       "IntText(value=0, description='success count:', disabled=True)"
      ]
     },
     "metadata": {},
     "output_type": "display_data"
    },
    {
     "data": {
      "application/vnd.jupyter.widget-view+json": {
       "model_id": "a7c8a09569db49878d4486f231043185",
       "version_major": 2,
       "version_minor": 0
      },
      "text/plain": [
       "IntText(value=0, description='reset count:', disabled=True)"
      ]
     },
     "metadata": {},
     "output_type": "display_data"
    },
    {
     "data": {
      "application/vnd.jupyter.widget-view+json": {
       "model_id": "60dd81ceded24fe7a486b090ab34d7b8",
       "version_major": 2,
       "version_minor": 0
      },
      "text/plain": [
       "IntText(value=0, description='normal count:', disabled=True)"
      ]
     },
     "metadata": {},
     "output_type": "display_data"
    },
    {
     "data": {
      "application/vnd.jupyter.widget-view+json": {
       "model_id": "a450399d2d5445679ef7afa24b9ae571",
       "version_major": 2,
       "version_minor": 0
      },
      "text/plain": [
       "FloatSlider(value=0.0, continuous_update=False, description='width setting:', disabled=True, max=10.0, readout…"
      ]
     },
     "metadata": {},
     "output_type": "display_data"
    },
    {
     "data": {
      "application/vnd.jupyter.widget-view+json": {
       "model_id": "541277e808ec48de9f8b06c2386bb8be",
       "version_major": 2,
       "version_minor": 0
      },
      "text/plain": [
       "FloatSlider(value=0.0, continuous_update=False, description='offset setting:', disabled=True, max=10.0, readou…"
      ]
     },
     "metadata": {},
     "output_type": "display_data"
    }
   ],
   "source": [
    "import chipwhisperer.common.results.glitch as glitch\n",
    "gc = glitch.GlitchController(groups=[\"success\", \"reset\", \"normal\"], parameters=[\"width\", \"offset\"])\n",
    "gc.display_stats()"
   ]
  },
  {
   "cell_type": "markdown",
   "id": "institutional-vermont",
   "metadata": {},
   "source": [
    "The glitch controller has a lot of functionality built in such as easily accessing the current settings. Those are updated in real time while glitching. This allows monitoring in real time the currently executed glitch configuration. This is especially helpfu to see the progress of the glitch attack, when the configuration space is rather large."
   ]
  },
  {
   "cell_type": "markdown",
   "id": "defensive-distributor",
   "metadata": {},
   "source": [
    "The glitch controller allows systematic generation of glitch settings in the glitch configuration space."
   ]
  },
  {
   "cell_type": "code",
   "execution_count": 5,
   "id": "quantitative-modern",
   "metadata": {
    "deletable": false,
    "editable": false
   },
   "outputs": [
    {
     "name": "stdout",
     "output_type": "stream",
     "text": [
      "Offset: -5\tWidth: 0\n",
      "Offset: -2.5\tWidth: 0\n",
      "Offset: 0.0\tWidth: 0\n",
      "Offset: 2.5\tWidth: 0\n",
      "Offset: 5.0\tWidth: 0\n",
      "Offset: -5\tWidth: 2.5\n",
      "Offset: -2.5\tWidth: 2.5\n",
      "Offset: 0.0\tWidth: 2.5\n",
      "Offset: 2.5\tWidth: 2.5\n",
      "Offset: 5.0\tWidth: 2.5\n",
      "Offset: -5\tWidth: 5.0\n",
      "Offset: -2.5\tWidth: 5.0\n",
      "Offset: 0.0\tWidth: 5.0\n",
      "Offset: 2.5\tWidth: 5.0\n",
      "Offset: 5.0\tWidth: 5.0\n"
     ]
    }
   ],
   "source": [
    "import time\n",
    "\n",
    "# setting the ranges for the glitch offset and glitch width\n",
    "gc.set_range(\"offset\", -5, 5)\n",
    "gc.set_range(\"width\", 0, 5)\n",
    "\n",
    "# each setting moves from min to max based in the global step size\n",
    "gc.set_global_step([2.5])\n",
    "\n",
    "# generate the set of glitch settings\n",
    "for glitch_setting in gc.glitch_values():\n",
    "    # print the generated settings\n",
    "    print(\"Offset: {}\\tWidth: {}\".format(glitch_setting[1], glitch_setting[0]))\n",
    "    time.sleep(.25)"
   ]
  },
  {
   "cell_type": "markdown",
   "id": "rolled-current",
   "metadata": {},
   "source": [
    "You can see that the settings are generated systematically by iterating over both glitch parameters.<br>\n",
    "You can also see that the displayed statistics with `gc.display_stats()` are updated for every new set of glitch settings."
   ]
  },
  {
   "cell_type": "markdown",
   "id": "strong-cache",
   "metadata": {},
   "source": [
    "There are two more important configuration parameters:\n",
    "- External offset `ext_offset`: the number of clock periods after the trigger after which the glitch shall be applied\n",
    "- Affected consecutive clock periods `repeat`: the number of censecutive glitched clock periods."
   ]
  },
  {
   "cell_type": "markdown",
   "id": "recorded-monaco",
   "metadata": {},
   "source": [
    "As with a lot of security related tasks, visualization is very important to find patterns in data that can be used as an advantage. Glitching is no exception.<br>\n",
    "In order to keep track of the most promising glitch configurations the results may be plotted in a two dimensional grid."
   ]
  },
  {
   "cell_type": "code",
   "execution_count": 6,
   "id": "extraordinary-dakota",
   "metadata": {},
   "outputs": [
    {
     "data": {
      "application/javascript": [
       "/* Put everything inside the global mpl namespace */\n",
       "/* global mpl */\n",
       "window.mpl = {};\n",
       "\n",
       "mpl.get_websocket_type = function () {\n",
       "    if (typeof WebSocket !== 'undefined') {\n",
       "        return WebSocket;\n",
       "    } else if (typeof MozWebSocket !== 'undefined') {\n",
       "        return MozWebSocket;\n",
       "    } else {\n",
       "        alert(\n",
       "            'Your browser does not have WebSocket support. ' +\n",
       "                'Please try Chrome, Safari or Firefox ≥ 6. ' +\n",
       "                'Firefox 4 and 5 are also supported but you ' +\n",
       "                'have to enable WebSockets in about:config.'\n",
       "        );\n",
       "    }\n",
       "};\n",
       "\n",
       "mpl.figure = function (figure_id, websocket, ondownload, parent_element) {\n",
       "    this.id = figure_id;\n",
       "\n",
       "    this.ws = websocket;\n",
       "\n",
       "    this.supports_binary = this.ws.binaryType !== undefined;\n",
       "\n",
       "    if (!this.supports_binary) {\n",
       "        var warnings = document.getElementById('mpl-warnings');\n",
       "        if (warnings) {\n",
       "            warnings.style.display = 'block';\n",
       "            warnings.textContent =\n",
       "                'This browser does not support binary websocket messages. ' +\n",
       "                'Performance may be slow.';\n",
       "        }\n",
       "    }\n",
       "\n",
       "    this.imageObj = new Image();\n",
       "\n",
       "    this.context = undefined;\n",
       "    this.message = undefined;\n",
       "    this.canvas = undefined;\n",
       "    this.rubberband_canvas = undefined;\n",
       "    this.rubberband_context = undefined;\n",
       "    this.format_dropdown = undefined;\n",
       "\n",
       "    this.image_mode = 'full';\n",
       "\n",
       "    this.root = document.createElement('div');\n",
       "    this.root.setAttribute('style', 'display: inline-block');\n",
       "    this._root_extra_style(this.root);\n",
       "\n",
       "    parent_element.appendChild(this.root);\n",
       "\n",
       "    this._init_header(this);\n",
       "    this._init_canvas(this);\n",
       "    this._init_toolbar(this);\n",
       "\n",
       "    var fig = this;\n",
       "\n",
       "    this.waiting = false;\n",
       "\n",
       "    this.ws.onopen = function () {\n",
       "        fig.send_message('supports_binary', { value: fig.supports_binary });\n",
       "        fig.send_message('send_image_mode', {});\n",
       "        if (fig.ratio !== 1) {\n",
       "            fig.send_message('set_device_pixel_ratio', {\n",
       "                device_pixel_ratio: fig.ratio,\n",
       "            });\n",
       "        }\n",
       "        fig.send_message('refresh', {});\n",
       "    };\n",
       "\n",
       "    this.imageObj.onload = function () {\n",
       "        if (fig.image_mode === 'full') {\n",
       "            // Full images could contain transparency (where diff images\n",
       "            // almost always do), so we need to clear the canvas so that\n",
       "            // there is no ghosting.\n",
       "            fig.context.clearRect(0, 0, fig.canvas.width, fig.canvas.height);\n",
       "        }\n",
       "        fig.context.drawImage(fig.imageObj, 0, 0);\n",
       "    };\n",
       "\n",
       "    this.imageObj.onunload = function () {\n",
       "        fig.ws.close();\n",
       "    };\n",
       "\n",
       "    this.ws.onmessage = this._make_on_message_function(this);\n",
       "\n",
       "    this.ondownload = ondownload;\n",
       "};\n",
       "\n",
       "mpl.figure.prototype._init_header = function () {\n",
       "    var titlebar = document.createElement('div');\n",
       "    titlebar.classList =\n",
       "        'ui-dialog-titlebar ui-widget-header ui-corner-all ui-helper-clearfix';\n",
       "    var titletext = document.createElement('div');\n",
       "    titletext.classList = 'ui-dialog-title';\n",
       "    titletext.setAttribute(\n",
       "        'style',\n",
       "        'width: 100%; text-align: center; padding: 3px;'\n",
       "    );\n",
       "    titlebar.appendChild(titletext);\n",
       "    this.root.appendChild(titlebar);\n",
       "    this.header = titletext;\n",
       "};\n",
       "\n",
       "mpl.figure.prototype._canvas_extra_style = function (_canvas_div) {};\n",
       "\n",
       "mpl.figure.prototype._root_extra_style = function (_canvas_div) {};\n",
       "\n",
       "mpl.figure.prototype._init_canvas = function () {\n",
       "    var fig = this;\n",
       "\n",
       "    var canvas_div = (this.canvas_div = document.createElement('div'));\n",
       "    canvas_div.setAttribute(\n",
       "        'style',\n",
       "        'border: 1px solid #ddd;' +\n",
       "            'box-sizing: content-box;' +\n",
       "            'clear: both;' +\n",
       "            'min-height: 1px;' +\n",
       "            'min-width: 1px;' +\n",
       "            'outline: 0;' +\n",
       "            'overflow: hidden;' +\n",
       "            'position: relative;' +\n",
       "            'resize: both;'\n",
       "    );\n",
       "\n",
       "    function on_keyboard_event_closure(name) {\n",
       "        return function (event) {\n",
       "            return fig.key_event(event, name);\n",
       "        };\n",
       "    }\n",
       "\n",
       "    canvas_div.addEventListener(\n",
       "        'keydown',\n",
       "        on_keyboard_event_closure('key_press')\n",
       "    );\n",
       "    canvas_div.addEventListener(\n",
       "        'keyup',\n",
       "        on_keyboard_event_closure('key_release')\n",
       "    );\n",
       "\n",
       "    this._canvas_extra_style(canvas_div);\n",
       "    this.root.appendChild(canvas_div);\n",
       "\n",
       "    var canvas = (this.canvas = document.createElement('canvas'));\n",
       "    canvas.classList.add('mpl-canvas');\n",
       "    canvas.setAttribute('style', 'box-sizing: content-box;');\n",
       "\n",
       "    this.context = canvas.getContext('2d');\n",
       "\n",
       "    var backingStore =\n",
       "        this.context.backingStorePixelRatio ||\n",
       "        this.context.webkitBackingStorePixelRatio ||\n",
       "        this.context.mozBackingStorePixelRatio ||\n",
       "        this.context.msBackingStorePixelRatio ||\n",
       "        this.context.oBackingStorePixelRatio ||\n",
       "        this.context.backingStorePixelRatio ||\n",
       "        1;\n",
       "\n",
       "    this.ratio = (window.devicePixelRatio || 1) / backingStore;\n",
       "\n",
       "    var rubberband_canvas = (this.rubberband_canvas = document.createElement(\n",
       "        'canvas'\n",
       "    ));\n",
       "    rubberband_canvas.setAttribute(\n",
       "        'style',\n",
       "        'box-sizing: content-box; position: absolute; left: 0; top: 0; z-index: 1;'\n",
       "    );\n",
       "\n",
       "    // Apply a ponyfill if ResizeObserver is not implemented by browser.\n",
       "    if (this.ResizeObserver === undefined) {\n",
       "        if (window.ResizeObserver !== undefined) {\n",
       "            this.ResizeObserver = window.ResizeObserver;\n",
       "        } else {\n",
       "            var obs = _JSXTOOLS_RESIZE_OBSERVER({});\n",
       "            this.ResizeObserver = obs.ResizeObserver;\n",
       "        }\n",
       "    }\n",
       "\n",
       "    this.resizeObserverInstance = new this.ResizeObserver(function (entries) {\n",
       "        var nentries = entries.length;\n",
       "        for (var i = 0; i < nentries; i++) {\n",
       "            var entry = entries[i];\n",
       "            var width, height;\n",
       "            if (entry.contentBoxSize) {\n",
       "                if (entry.contentBoxSize instanceof Array) {\n",
       "                    // Chrome 84 implements new version of spec.\n",
       "                    width = entry.contentBoxSize[0].inlineSize;\n",
       "                    height = entry.contentBoxSize[0].blockSize;\n",
       "                } else {\n",
       "                    // Firefox implements old version of spec.\n",
       "                    width = entry.contentBoxSize.inlineSize;\n",
       "                    height = entry.contentBoxSize.blockSize;\n",
       "                }\n",
       "            } else {\n",
       "                // Chrome <84 implements even older version of spec.\n",
       "                width = entry.contentRect.width;\n",
       "                height = entry.contentRect.height;\n",
       "            }\n",
       "\n",
       "            // Keep the size of the canvas and rubber band canvas in sync with\n",
       "            // the canvas container.\n",
       "            if (entry.devicePixelContentBoxSize) {\n",
       "                // Chrome 84 implements new version of spec.\n",
       "                canvas.setAttribute(\n",
       "                    'width',\n",
       "                    entry.devicePixelContentBoxSize[0].inlineSize\n",
       "                );\n",
       "                canvas.setAttribute(\n",
       "                    'height',\n",
       "                    entry.devicePixelContentBoxSize[0].blockSize\n",
       "                );\n",
       "            } else {\n",
       "                canvas.setAttribute('width', width * fig.ratio);\n",
       "                canvas.setAttribute('height', height * fig.ratio);\n",
       "            }\n",
       "            canvas.setAttribute(\n",
       "                'style',\n",
       "                'width: ' + width + 'px; height: ' + height + 'px;'\n",
       "            );\n",
       "\n",
       "            rubberband_canvas.setAttribute('width', width);\n",
       "            rubberband_canvas.setAttribute('height', height);\n",
       "\n",
       "            // And update the size in Python. We ignore the initial 0/0 size\n",
       "            // that occurs as the element is placed into the DOM, which should\n",
       "            // otherwise not happen due to the minimum size styling.\n",
       "            if (fig.ws.readyState == 1 && width != 0 && height != 0) {\n",
       "                fig.request_resize(width, height);\n",
       "            }\n",
       "        }\n",
       "    });\n",
       "    this.resizeObserverInstance.observe(canvas_div);\n",
       "\n",
       "    function on_mouse_event_closure(name) {\n",
       "        return function (event) {\n",
       "            return fig.mouse_event(event, name);\n",
       "        };\n",
       "    }\n",
       "\n",
       "    rubberband_canvas.addEventListener(\n",
       "        'mousedown',\n",
       "        on_mouse_event_closure('button_press')\n",
       "    );\n",
       "    rubberband_canvas.addEventListener(\n",
       "        'mouseup',\n",
       "        on_mouse_event_closure('button_release')\n",
       "    );\n",
       "    rubberband_canvas.addEventListener(\n",
       "        'dblclick',\n",
       "        on_mouse_event_closure('dblclick')\n",
       "    );\n",
       "    // Throttle sequential mouse events to 1 every 20ms.\n",
       "    rubberband_canvas.addEventListener(\n",
       "        'mousemove',\n",
       "        on_mouse_event_closure('motion_notify')\n",
       "    );\n",
       "\n",
       "    rubberband_canvas.addEventListener(\n",
       "        'mouseenter',\n",
       "        on_mouse_event_closure('figure_enter')\n",
       "    );\n",
       "    rubberband_canvas.addEventListener(\n",
       "        'mouseleave',\n",
       "        on_mouse_event_closure('figure_leave')\n",
       "    );\n",
       "\n",
       "    canvas_div.addEventListener('wheel', function (event) {\n",
       "        if (event.deltaY < 0) {\n",
       "            event.step = 1;\n",
       "        } else {\n",
       "            event.step = -1;\n",
       "        }\n",
       "        on_mouse_event_closure('scroll')(event);\n",
       "    });\n",
       "\n",
       "    canvas_div.appendChild(canvas);\n",
       "    canvas_div.appendChild(rubberband_canvas);\n",
       "\n",
       "    this.rubberband_context = rubberband_canvas.getContext('2d');\n",
       "    this.rubberband_context.strokeStyle = '#000000';\n",
       "\n",
       "    this._resize_canvas = function (width, height, forward) {\n",
       "        if (forward) {\n",
       "            canvas_div.style.width = width + 'px';\n",
       "            canvas_div.style.height = height + 'px';\n",
       "        }\n",
       "    };\n",
       "\n",
       "    // Disable right mouse context menu.\n",
       "    this.rubberband_canvas.addEventListener('contextmenu', function (_e) {\n",
       "        event.preventDefault();\n",
       "        return false;\n",
       "    });\n",
       "\n",
       "    function set_focus() {\n",
       "        canvas.focus();\n",
       "        canvas_div.focus();\n",
       "    }\n",
       "\n",
       "    window.setTimeout(set_focus, 100);\n",
       "};\n",
       "\n",
       "mpl.figure.prototype._init_toolbar = function () {\n",
       "    var fig = this;\n",
       "\n",
       "    var toolbar = document.createElement('div');\n",
       "    toolbar.classList = 'mpl-toolbar';\n",
       "    this.root.appendChild(toolbar);\n",
       "\n",
       "    function on_click_closure(name) {\n",
       "        return function (_event) {\n",
       "            return fig.toolbar_button_onclick(name);\n",
       "        };\n",
       "    }\n",
       "\n",
       "    function on_mouseover_closure(tooltip) {\n",
       "        return function (event) {\n",
       "            if (!event.currentTarget.disabled) {\n",
       "                return fig.toolbar_button_onmouseover(tooltip);\n",
       "            }\n",
       "        };\n",
       "    }\n",
       "\n",
       "    fig.buttons = {};\n",
       "    var buttonGroup = document.createElement('div');\n",
       "    buttonGroup.classList = 'mpl-button-group';\n",
       "    for (var toolbar_ind in mpl.toolbar_items) {\n",
       "        var name = mpl.toolbar_items[toolbar_ind][0];\n",
       "        var tooltip = mpl.toolbar_items[toolbar_ind][1];\n",
       "        var image = mpl.toolbar_items[toolbar_ind][2];\n",
       "        var method_name = mpl.toolbar_items[toolbar_ind][3];\n",
       "\n",
       "        if (!name) {\n",
       "            /* Instead of a spacer, we start a new button group. */\n",
       "            if (buttonGroup.hasChildNodes()) {\n",
       "                toolbar.appendChild(buttonGroup);\n",
       "            }\n",
       "            buttonGroup = document.createElement('div');\n",
       "            buttonGroup.classList = 'mpl-button-group';\n",
       "            continue;\n",
       "        }\n",
       "\n",
       "        var button = (fig.buttons[name] = document.createElement('button'));\n",
       "        button.classList = 'mpl-widget';\n",
       "        button.setAttribute('role', 'button');\n",
       "        button.setAttribute('aria-disabled', 'false');\n",
       "        button.addEventListener('click', on_click_closure(method_name));\n",
       "        button.addEventListener('mouseover', on_mouseover_closure(tooltip));\n",
       "\n",
       "        var icon_img = document.createElement('img');\n",
       "        icon_img.src = '_images/' + image + '.png';\n",
       "        icon_img.srcset = '_images/' + image + '_large.png 2x';\n",
       "        icon_img.alt = tooltip;\n",
       "        button.appendChild(icon_img);\n",
       "\n",
       "        buttonGroup.appendChild(button);\n",
       "    }\n",
       "\n",
       "    if (buttonGroup.hasChildNodes()) {\n",
       "        toolbar.appendChild(buttonGroup);\n",
       "    }\n",
       "\n",
       "    var fmt_picker = document.createElement('select');\n",
       "    fmt_picker.classList = 'mpl-widget';\n",
       "    toolbar.appendChild(fmt_picker);\n",
       "    this.format_dropdown = fmt_picker;\n",
       "\n",
       "    for (var ind in mpl.extensions) {\n",
       "        var fmt = mpl.extensions[ind];\n",
       "        var option = document.createElement('option');\n",
       "        option.selected = fmt === mpl.default_extension;\n",
       "        option.innerHTML = fmt;\n",
       "        fmt_picker.appendChild(option);\n",
       "    }\n",
       "\n",
       "    var status_bar = document.createElement('span');\n",
       "    status_bar.classList = 'mpl-message';\n",
       "    toolbar.appendChild(status_bar);\n",
       "    this.message = status_bar;\n",
       "};\n",
       "\n",
       "mpl.figure.prototype.request_resize = function (x_pixels, y_pixels) {\n",
       "    // Request matplotlib to resize the figure. Matplotlib will then trigger a resize in the client,\n",
       "    // which will in turn request a refresh of the image.\n",
       "    this.send_message('resize', { width: x_pixels, height: y_pixels });\n",
       "};\n",
       "\n",
       "mpl.figure.prototype.send_message = function (type, properties) {\n",
       "    properties['type'] = type;\n",
       "    properties['figure_id'] = this.id;\n",
       "    this.ws.send(JSON.stringify(properties));\n",
       "};\n",
       "\n",
       "mpl.figure.prototype.send_draw_message = function () {\n",
       "    if (!this.waiting) {\n",
       "        this.waiting = true;\n",
       "        this.ws.send(JSON.stringify({ type: 'draw', figure_id: this.id }));\n",
       "    }\n",
       "};\n",
       "\n",
       "mpl.figure.prototype.handle_save = function (fig, _msg) {\n",
       "    var format_dropdown = fig.format_dropdown;\n",
       "    var format = format_dropdown.options[format_dropdown.selectedIndex].value;\n",
       "    fig.ondownload(fig, format);\n",
       "};\n",
       "\n",
       "mpl.figure.prototype.handle_resize = function (fig, msg) {\n",
       "    var size = msg['size'];\n",
       "    if (size[0] !== fig.canvas.width || size[1] !== fig.canvas.height) {\n",
       "        fig._resize_canvas(size[0], size[1], msg['forward']);\n",
       "        fig.send_message('refresh', {});\n",
       "    }\n",
       "};\n",
       "\n",
       "mpl.figure.prototype.handle_rubberband = function (fig, msg) {\n",
       "    var x0 = msg['x0'] / fig.ratio;\n",
       "    var y0 = (fig.canvas.height - msg['y0']) / fig.ratio;\n",
       "    var x1 = msg['x1'] / fig.ratio;\n",
       "    var y1 = (fig.canvas.height - msg['y1']) / fig.ratio;\n",
       "    x0 = Math.floor(x0) + 0.5;\n",
       "    y0 = Math.floor(y0) + 0.5;\n",
       "    x1 = Math.floor(x1) + 0.5;\n",
       "    y1 = Math.floor(y1) + 0.5;\n",
       "    var min_x = Math.min(x0, x1);\n",
       "    var min_y = Math.min(y0, y1);\n",
       "    var width = Math.abs(x1 - x0);\n",
       "    var height = Math.abs(y1 - y0);\n",
       "\n",
       "    fig.rubberband_context.clearRect(\n",
       "        0,\n",
       "        0,\n",
       "        fig.canvas.width / fig.ratio,\n",
       "        fig.canvas.height / fig.ratio\n",
       "    );\n",
       "\n",
       "    fig.rubberband_context.strokeRect(min_x, min_y, width, height);\n",
       "};\n",
       "\n",
       "mpl.figure.prototype.handle_figure_label = function (fig, msg) {\n",
       "    // Updates the figure title.\n",
       "    fig.header.textContent = msg['label'];\n",
       "};\n",
       "\n",
       "mpl.figure.prototype.handle_cursor = function (fig, msg) {\n",
       "    fig.rubberband_canvas.style.cursor = msg['cursor'];\n",
       "};\n",
       "\n",
       "mpl.figure.prototype.handle_message = function (fig, msg) {\n",
       "    fig.message.textContent = msg['message'];\n",
       "};\n",
       "\n",
       "mpl.figure.prototype.handle_draw = function (fig, _msg) {\n",
       "    // Request the server to send over a new figure.\n",
       "    fig.send_draw_message();\n",
       "};\n",
       "\n",
       "mpl.figure.prototype.handle_image_mode = function (fig, msg) {\n",
       "    fig.image_mode = msg['mode'];\n",
       "};\n",
       "\n",
       "mpl.figure.prototype.handle_history_buttons = function (fig, msg) {\n",
       "    for (var key in msg) {\n",
       "        if (!(key in fig.buttons)) {\n",
       "            continue;\n",
       "        }\n",
       "        fig.buttons[key].disabled = !msg[key];\n",
       "        fig.buttons[key].setAttribute('aria-disabled', !msg[key]);\n",
       "    }\n",
       "};\n",
       "\n",
       "mpl.figure.prototype.handle_navigate_mode = function (fig, msg) {\n",
       "    if (msg['mode'] === 'PAN') {\n",
       "        fig.buttons['Pan'].classList.add('active');\n",
       "        fig.buttons['Zoom'].classList.remove('active');\n",
       "    } else if (msg['mode'] === 'ZOOM') {\n",
       "        fig.buttons['Pan'].classList.remove('active');\n",
       "        fig.buttons['Zoom'].classList.add('active');\n",
       "    } else {\n",
       "        fig.buttons['Pan'].classList.remove('active');\n",
       "        fig.buttons['Zoom'].classList.remove('active');\n",
       "    }\n",
       "};\n",
       "\n",
       "mpl.figure.prototype.updated_canvas_event = function () {\n",
       "    // Called whenever the canvas gets updated.\n",
       "    this.send_message('ack', {});\n",
       "};\n",
       "\n",
       "// A function to construct a web socket function for onmessage handling.\n",
       "// Called in the figure constructor.\n",
       "mpl.figure.prototype._make_on_message_function = function (fig) {\n",
       "    return function socket_on_message(evt) {\n",
       "        if (evt.data instanceof Blob) {\n",
       "            var img = evt.data;\n",
       "            if (img.type !== 'image/png') {\n",
       "                /* FIXME: We get \"Resource interpreted as Image but\n",
       "                 * transferred with MIME type text/plain:\" errors on\n",
       "                 * Chrome.  But how to set the MIME type?  It doesn't seem\n",
       "                 * to be part of the websocket stream */\n",
       "                img.type = 'image/png';\n",
       "            }\n",
       "\n",
       "            /* Free the memory for the previous frames */\n",
       "            if (fig.imageObj.src) {\n",
       "                (window.URL || window.webkitURL).revokeObjectURL(\n",
       "                    fig.imageObj.src\n",
       "                );\n",
       "            }\n",
       "\n",
       "            fig.imageObj.src = (window.URL || window.webkitURL).createObjectURL(\n",
       "                img\n",
       "            );\n",
       "            fig.updated_canvas_event();\n",
       "            fig.waiting = false;\n",
       "            return;\n",
       "        } else if (\n",
       "            typeof evt.data === 'string' &&\n",
       "            evt.data.slice(0, 21) === 'data:image/png;base64'\n",
       "        ) {\n",
       "            fig.imageObj.src = evt.data;\n",
       "            fig.updated_canvas_event();\n",
       "            fig.waiting = false;\n",
       "            return;\n",
       "        }\n",
       "\n",
       "        var msg = JSON.parse(evt.data);\n",
       "        var msg_type = msg['type'];\n",
       "\n",
       "        // Call the  \"handle_{type}\" callback, which takes\n",
       "        // the figure and JSON message as its only arguments.\n",
       "        try {\n",
       "            var callback = fig['handle_' + msg_type];\n",
       "        } catch (e) {\n",
       "            console.log(\n",
       "                \"No handler for the '\" + msg_type + \"' message type: \",\n",
       "                msg\n",
       "            );\n",
       "            return;\n",
       "        }\n",
       "\n",
       "        if (callback) {\n",
       "            try {\n",
       "                // console.log(\"Handling '\" + msg_type + \"' message: \", msg);\n",
       "                callback(fig, msg);\n",
       "            } catch (e) {\n",
       "                console.log(\n",
       "                    \"Exception inside the 'handler_\" + msg_type + \"' callback:\",\n",
       "                    e,\n",
       "                    e.stack,\n",
       "                    msg\n",
       "                );\n",
       "            }\n",
       "        }\n",
       "    };\n",
       "};\n",
       "\n",
       "// from https://stackoverflow.com/questions/1114465/getting-mouse-location-in-canvas\n",
       "mpl.findpos = function (e) {\n",
       "    //this section is from http://www.quirksmode.org/js/events_properties.html\n",
       "    var targ;\n",
       "    if (!e) {\n",
       "        e = window.event;\n",
       "    }\n",
       "    if (e.target) {\n",
       "        targ = e.target;\n",
       "    } else if (e.srcElement) {\n",
       "        targ = e.srcElement;\n",
       "    }\n",
       "    if (targ.nodeType === 3) {\n",
       "        // defeat Safari bug\n",
       "        targ = targ.parentNode;\n",
       "    }\n",
       "\n",
       "    // pageX,Y are the mouse positions relative to the document\n",
       "    var boundingRect = targ.getBoundingClientRect();\n",
       "    var x = e.pageX - (boundingRect.left + document.body.scrollLeft);\n",
       "    var y = e.pageY - (boundingRect.top + document.body.scrollTop);\n",
       "\n",
       "    return { x: x, y: y };\n",
       "};\n",
       "\n",
       "/*\n",
       " * return a copy of an object with only non-object keys\n",
       " * we need this to avoid circular references\n",
       " * https://stackoverflow.com/a/24161582/3208463\n",
       " */\n",
       "function simpleKeys(original) {\n",
       "    return Object.keys(original).reduce(function (obj, key) {\n",
       "        if (typeof original[key] !== 'object') {\n",
       "            obj[key] = original[key];\n",
       "        }\n",
       "        return obj;\n",
       "    }, {});\n",
       "}\n",
       "\n",
       "mpl.figure.prototype.mouse_event = function (event, name) {\n",
       "    var canvas_pos = mpl.findpos(event);\n",
       "\n",
       "    if (name === 'button_press') {\n",
       "        this.canvas.focus();\n",
       "        this.canvas_div.focus();\n",
       "    }\n",
       "\n",
       "    var x = canvas_pos.x * this.ratio;\n",
       "    var y = canvas_pos.y * this.ratio;\n",
       "\n",
       "    this.send_message(name, {\n",
       "        x: x,\n",
       "        y: y,\n",
       "        button: event.button,\n",
       "        step: event.step,\n",
       "        guiEvent: simpleKeys(event),\n",
       "    });\n",
       "\n",
       "    /* This prevents the web browser from automatically changing to\n",
       "     * the text insertion cursor when the button is pressed.  We want\n",
       "     * to control all of the cursor setting manually through the\n",
       "     * 'cursor' event from matplotlib */\n",
       "    event.preventDefault();\n",
       "    return false;\n",
       "};\n",
       "\n",
       "mpl.figure.prototype._key_event_extra = function (_event, _name) {\n",
       "    // Handle any extra behaviour associated with a key event\n",
       "};\n",
       "\n",
       "mpl.figure.prototype.key_event = function (event, name) {\n",
       "    // Prevent repeat events\n",
       "    if (name === 'key_press') {\n",
       "        if (event.key === this._key) {\n",
       "            return;\n",
       "        } else {\n",
       "            this._key = event.key;\n",
       "        }\n",
       "    }\n",
       "    if (name === 'key_release') {\n",
       "        this._key = null;\n",
       "    }\n",
       "\n",
       "    var value = '';\n",
       "    if (event.ctrlKey && event.key !== 'Control') {\n",
       "        value += 'ctrl+';\n",
       "    }\n",
       "    else if (event.altKey && event.key !== 'Alt') {\n",
       "        value += 'alt+';\n",
       "    }\n",
       "    else if (event.shiftKey && event.key !== 'Shift') {\n",
       "        value += 'shift+';\n",
       "    }\n",
       "\n",
       "    value += 'k' + event.key;\n",
       "\n",
       "    this._key_event_extra(event, name);\n",
       "\n",
       "    this.send_message(name, { key: value, guiEvent: simpleKeys(event) });\n",
       "    return false;\n",
       "};\n",
       "\n",
       "mpl.figure.prototype.toolbar_button_onclick = function (name) {\n",
       "    if (name === 'download') {\n",
       "        this.handle_save(this, null);\n",
       "    } else {\n",
       "        this.send_message('toolbar_button', { name: name });\n",
       "    }\n",
       "};\n",
       "\n",
       "mpl.figure.prototype.toolbar_button_onmouseover = function (tooltip) {\n",
       "    this.message.textContent = tooltip;\n",
       "};\n",
       "\n",
       "///////////////// REMAINING CONTENT GENERATED BY embed_js.py /////////////////\n",
       "// prettier-ignore\n",
       "var _JSXTOOLS_RESIZE_OBSERVER=function(A){var t,i=new WeakMap,n=new WeakMap,a=new WeakMap,r=new WeakMap,o=new Set;function s(e){if(!(this instanceof s))throw new TypeError(\"Constructor requires 'new' operator\");i.set(this,e)}function h(){throw new TypeError(\"Function is not a constructor\")}function c(e,t,i,n){e=0 in arguments?Number(arguments[0]):0,t=1 in arguments?Number(arguments[1]):0,i=2 in arguments?Number(arguments[2]):0,n=3 in arguments?Number(arguments[3]):0,this.right=(this.x=this.left=e)+(this.width=i),this.bottom=(this.y=this.top=t)+(this.height=n),Object.freeze(this)}function d(){t=requestAnimationFrame(d);var s=new WeakMap,p=new Set;o.forEach((function(t){r.get(t).forEach((function(i){var r=t instanceof window.SVGElement,o=a.get(t),d=r?0:parseFloat(o.paddingTop),f=r?0:parseFloat(o.paddingRight),l=r?0:parseFloat(o.paddingBottom),u=r?0:parseFloat(o.paddingLeft),g=r?0:parseFloat(o.borderTopWidth),m=r?0:parseFloat(o.borderRightWidth),w=r?0:parseFloat(o.borderBottomWidth),b=u+f,F=d+l,v=(r?0:parseFloat(o.borderLeftWidth))+m,W=g+w,y=r?0:t.offsetHeight-W-t.clientHeight,E=r?0:t.offsetWidth-v-t.clientWidth,R=b+v,z=F+W,M=r?t.width:parseFloat(o.width)-R-E,O=r?t.height:parseFloat(o.height)-z-y;if(n.has(t)){var k=n.get(t);if(k[0]===M&&k[1]===O)return}n.set(t,[M,O]);var S=Object.create(h.prototype);S.target=t,S.contentRect=new c(u,d,M,O),s.has(i)||(s.set(i,[]),p.add(i)),s.get(i).push(S)}))})),p.forEach((function(e){i.get(e).call(e,s.get(e),e)}))}return s.prototype.observe=function(i){if(i instanceof window.Element){r.has(i)||(r.set(i,new Set),o.add(i),a.set(i,window.getComputedStyle(i)));var n=r.get(i);n.has(this)||n.add(this),cancelAnimationFrame(t),t=requestAnimationFrame(d)}},s.prototype.unobserve=function(i){if(i instanceof window.Element&&r.has(i)){var n=r.get(i);n.has(this)&&(n.delete(this),n.size||(r.delete(i),o.delete(i))),n.size||r.delete(i),o.size||cancelAnimationFrame(t)}},A.DOMRectReadOnly=c,A.ResizeObserver=s,A.ResizeObserverEntry=h,A}; // eslint-disable-line\n",
       "mpl.toolbar_items = [[\"Home\", \"Reset original view\", \"fa fa-home icon-home\", \"home\"], [\"Back\", \"Back to previous view\", \"fa fa-arrow-left icon-arrow-left\", \"back\"], [\"Forward\", \"Forward to next view\", \"fa fa-arrow-right icon-arrow-right\", \"forward\"], [\"\", \"\", \"\", \"\"], [\"Pan\", \"Left button pans, Right button zooms\\nx/y fixes axis, CTRL fixes aspect\", \"fa fa-arrows icon-move\", \"pan\"], [\"Zoom\", \"Zoom to rectangle\\nx/y fixes axis\", \"fa fa-square-o icon-check-empty\", \"zoom\"], [\"\", \"\", \"\", \"\"], [\"Download\", \"Download plot\", \"fa fa-floppy-o icon-save\", \"download\"]];\n",
       "\n",
       "mpl.extensions = [\"eps\", \"jpeg\", \"pgf\", \"pdf\", \"png\", \"ps\", \"raw\", \"svg\", \"tif\"];\n",
       "\n",
       "mpl.default_extension = \"png\";/* global mpl */\n",
       "\n",
       "var comm_websocket_adapter = function (comm) {\n",
       "    // Create a \"websocket\"-like object which calls the given IPython comm\n",
       "    // object with the appropriate methods. Currently this is a non binary\n",
       "    // socket, so there is still some room for performance tuning.\n",
       "    var ws = {};\n",
       "\n",
       "    ws.binaryType = comm.kernel.ws.binaryType;\n",
       "    ws.readyState = comm.kernel.ws.readyState;\n",
       "    function updateReadyState(_event) {\n",
       "        if (comm.kernel.ws) {\n",
       "            ws.readyState = comm.kernel.ws.readyState;\n",
       "        } else {\n",
       "            ws.readyState = 3; // Closed state.\n",
       "        }\n",
       "    }\n",
       "    comm.kernel.ws.addEventListener('open', updateReadyState);\n",
       "    comm.kernel.ws.addEventListener('close', updateReadyState);\n",
       "    comm.kernel.ws.addEventListener('error', updateReadyState);\n",
       "\n",
       "    ws.close = function () {\n",
       "        comm.close();\n",
       "    };\n",
       "    ws.send = function (m) {\n",
       "        //console.log('sending', m);\n",
       "        comm.send(m);\n",
       "    };\n",
       "    // Register the callback with on_msg.\n",
       "    comm.on_msg(function (msg) {\n",
       "        //console.log('receiving', msg['content']['data'], msg);\n",
       "        var data = msg['content']['data'];\n",
       "        if (data['blob'] !== undefined) {\n",
       "            data = {\n",
       "                data: new Blob(msg['buffers'], { type: data['blob'] }),\n",
       "            };\n",
       "        }\n",
       "        // Pass the mpl event to the overridden (by mpl) onmessage function.\n",
       "        ws.onmessage(data);\n",
       "    });\n",
       "    return ws;\n",
       "};\n",
       "\n",
       "mpl.mpl_figure_comm = function (comm, msg) {\n",
       "    // This is the function which gets called when the mpl process\n",
       "    // starts-up an IPython Comm through the \"matplotlib\" channel.\n",
       "\n",
       "    var id = msg.content.data.id;\n",
       "    // Get hold of the div created by the display call when the Comm\n",
       "    // socket was opened in Python.\n",
       "    var element = document.getElementById(id);\n",
       "    var ws_proxy = comm_websocket_adapter(comm);\n",
       "\n",
       "    function ondownload(figure, _format) {\n",
       "        window.open(figure.canvas.toDataURL());\n",
       "    }\n",
       "\n",
       "    var fig = new mpl.figure(id, ws_proxy, ondownload, element);\n",
       "\n",
       "    // Call onopen now - mpl needs it, as it is assuming we've passed it a real\n",
       "    // web socket which is closed, not our websocket->open comm proxy.\n",
       "    ws_proxy.onopen();\n",
       "\n",
       "    fig.parent_element = element;\n",
       "    fig.cell_info = mpl.find_output_cell(\"<div id='\" + id + \"'></div>\");\n",
       "    if (!fig.cell_info) {\n",
       "        console.error('Failed to find cell for figure', id, fig);\n",
       "        return;\n",
       "    }\n",
       "    fig.cell_info[0].output_area.element.on(\n",
       "        'cleared',\n",
       "        { fig: fig },\n",
       "        fig._remove_fig_handler\n",
       "    );\n",
       "};\n",
       "\n",
       "mpl.figure.prototype.handle_close = function (fig, msg) {\n",
       "    var width = fig.canvas.width / fig.ratio;\n",
       "    fig.cell_info[0].output_area.element.off(\n",
       "        'cleared',\n",
       "        fig._remove_fig_handler\n",
       "    );\n",
       "    fig.resizeObserverInstance.unobserve(fig.canvas_div);\n",
       "\n",
       "    // Update the output cell to use the data from the current canvas.\n",
       "    fig.push_to_output();\n",
       "    var dataURL = fig.canvas.toDataURL();\n",
       "    // Re-enable the keyboard manager in IPython - without this line, in FF,\n",
       "    // the notebook keyboard shortcuts fail.\n",
       "    IPython.keyboard_manager.enable();\n",
       "    fig.parent_element.innerHTML =\n",
       "        '<img src=\"' + dataURL + '\" width=\"' + width + '\">';\n",
       "    fig.close_ws(fig, msg);\n",
       "};\n",
       "\n",
       "mpl.figure.prototype.close_ws = function (fig, msg) {\n",
       "    fig.send_message('closing', msg);\n",
       "    // fig.ws.close()\n",
       "};\n",
       "\n",
       "mpl.figure.prototype.push_to_output = function (_remove_interactive) {\n",
       "    // Turn the data on the canvas into data in the output cell.\n",
       "    var width = this.canvas.width / this.ratio;\n",
       "    var dataURL = this.canvas.toDataURL();\n",
       "    this.cell_info[1]['text/html'] =\n",
       "        '<img src=\"' + dataURL + '\" width=\"' + width + '\">';\n",
       "};\n",
       "\n",
       "mpl.figure.prototype.updated_canvas_event = function () {\n",
       "    // Tell IPython that the notebook contents must change.\n",
       "    IPython.notebook.set_dirty(true);\n",
       "    this.send_message('ack', {});\n",
       "    var fig = this;\n",
       "    // Wait a second, then push the new image to the DOM so\n",
       "    // that it is saved nicely (might be nice to debounce this).\n",
       "    setTimeout(function () {\n",
       "        fig.push_to_output();\n",
       "    }, 1000);\n",
       "};\n",
       "\n",
       "mpl.figure.prototype._init_toolbar = function () {\n",
       "    var fig = this;\n",
       "\n",
       "    var toolbar = document.createElement('div');\n",
       "    toolbar.classList = 'btn-toolbar';\n",
       "    this.root.appendChild(toolbar);\n",
       "\n",
       "    function on_click_closure(name) {\n",
       "        return function (_event) {\n",
       "            return fig.toolbar_button_onclick(name);\n",
       "        };\n",
       "    }\n",
       "\n",
       "    function on_mouseover_closure(tooltip) {\n",
       "        return function (event) {\n",
       "            if (!event.currentTarget.disabled) {\n",
       "                return fig.toolbar_button_onmouseover(tooltip);\n",
       "            }\n",
       "        };\n",
       "    }\n",
       "\n",
       "    fig.buttons = {};\n",
       "    var buttonGroup = document.createElement('div');\n",
       "    buttonGroup.classList = 'btn-group';\n",
       "    var button;\n",
       "    for (var toolbar_ind in mpl.toolbar_items) {\n",
       "        var name = mpl.toolbar_items[toolbar_ind][0];\n",
       "        var tooltip = mpl.toolbar_items[toolbar_ind][1];\n",
       "        var image = mpl.toolbar_items[toolbar_ind][2];\n",
       "        var method_name = mpl.toolbar_items[toolbar_ind][3];\n",
       "\n",
       "        if (!name) {\n",
       "            /* Instead of a spacer, we start a new button group. */\n",
       "            if (buttonGroup.hasChildNodes()) {\n",
       "                toolbar.appendChild(buttonGroup);\n",
       "            }\n",
       "            buttonGroup = document.createElement('div');\n",
       "            buttonGroup.classList = 'btn-group';\n",
       "            continue;\n",
       "        }\n",
       "\n",
       "        button = fig.buttons[name] = document.createElement('button');\n",
       "        button.classList = 'btn btn-default';\n",
       "        button.href = '#';\n",
       "        button.title = name;\n",
       "        button.innerHTML = '<i class=\"fa ' + image + ' fa-lg\"></i>';\n",
       "        button.addEventListener('click', on_click_closure(method_name));\n",
       "        button.addEventListener('mouseover', on_mouseover_closure(tooltip));\n",
       "        buttonGroup.appendChild(button);\n",
       "    }\n",
       "\n",
       "    if (buttonGroup.hasChildNodes()) {\n",
       "        toolbar.appendChild(buttonGroup);\n",
       "    }\n",
       "\n",
       "    // Add the status bar.\n",
       "    var status_bar = document.createElement('span');\n",
       "    status_bar.classList = 'mpl-message pull-right';\n",
       "    toolbar.appendChild(status_bar);\n",
       "    this.message = status_bar;\n",
       "\n",
       "    // Add the close button to the window.\n",
       "    var buttongrp = document.createElement('div');\n",
       "    buttongrp.classList = 'btn-group inline pull-right';\n",
       "    button = document.createElement('button');\n",
       "    button.classList = 'btn btn-mini btn-primary';\n",
       "    button.href = '#';\n",
       "    button.title = 'Stop Interaction';\n",
       "    button.innerHTML = '<i class=\"fa fa-power-off icon-remove icon-large\"></i>';\n",
       "    button.addEventListener('click', function (_evt) {\n",
       "        fig.handle_close(fig, {});\n",
       "    });\n",
       "    button.addEventListener(\n",
       "        'mouseover',\n",
       "        on_mouseover_closure('Stop Interaction')\n",
       "    );\n",
       "    buttongrp.appendChild(button);\n",
       "    var titlebar = this.root.querySelector('.ui-dialog-titlebar');\n",
       "    titlebar.insertBefore(buttongrp, titlebar.firstChild);\n",
       "};\n",
       "\n",
       "mpl.figure.prototype._remove_fig_handler = function (event) {\n",
       "    var fig = event.data.fig;\n",
       "    if (event.target !== this) {\n",
       "        // Ignore bubbled events from children.\n",
       "        return;\n",
       "    }\n",
       "    fig.close_ws(fig, {});\n",
       "};\n",
       "\n",
       "mpl.figure.prototype._root_extra_style = function (el) {\n",
       "    el.style.boxSizing = 'content-box'; // override notebook setting of border-box.\n",
       "};\n",
       "\n",
       "mpl.figure.prototype._canvas_extra_style = function (el) {\n",
       "    // this is important to make the div 'focusable\n",
       "    el.setAttribute('tabindex', 0);\n",
       "    // reach out to IPython and tell the keyboard manager to turn it's self\n",
       "    // off when our div gets focus\n",
       "\n",
       "    // location in version 3\n",
       "    if (IPython.notebook.keyboard_manager) {\n",
       "        IPython.notebook.keyboard_manager.register_events(el);\n",
       "    } else {\n",
       "        // location in version 2\n",
       "        IPython.keyboard_manager.register_events(el);\n",
       "    }\n",
       "};\n",
       "\n",
       "mpl.figure.prototype._key_event_extra = function (event, _name) {\n",
       "    // Check for shift+enter\n",
       "    if (event.shiftKey && event.which === 13) {\n",
       "        this.canvas_div.blur();\n",
       "        // select the cell after this one\n",
       "        var index = IPython.notebook.find_cell_index(this.cell_info[0]);\n",
       "        IPython.notebook.select(index + 1);\n",
       "    }\n",
       "};\n",
       "\n",
       "mpl.figure.prototype.handle_save = function (fig, _msg) {\n",
       "    fig.ondownload(fig, null);\n",
       "};\n",
       "\n",
       "mpl.find_output_cell = function (html_output) {\n",
       "    // Return the cell and output element which can be found *uniquely* in the notebook.\n",
       "    // Note - this is a bit hacky, but it is done because the \"notebook_saving.Notebook\"\n",
       "    // IPython event is triggered only after the cells have been serialised, which for\n",
       "    // our purposes (turning an active figure into a static one), is too late.\n",
       "    var cells = IPython.notebook.get_cells();\n",
       "    var ncells = cells.length;\n",
       "    for (var i = 0; i < ncells; i++) {\n",
       "        var cell = cells[i];\n",
       "        if (cell.cell_type === 'code') {\n",
       "            for (var j = 0; j < cell.output_area.outputs.length; j++) {\n",
       "                var data = cell.output_area.outputs[j];\n",
       "                if (data.data) {\n",
       "                    // IPython >= 3 moved mimebundle to data attribute of output\n",
       "                    data = data.data;\n",
       "                }\n",
       "                if (data['text/html'] === html_output) {\n",
       "                    return [cell, data, j];\n",
       "                }\n",
       "            }\n",
       "        }\n",
       "    }\n",
       "};\n",
       "\n",
       "// Register the function which deals with the matplotlib target/channel.\n",
       "// The kernel may be null if the page has been refreshed.\n",
       "if (IPython.notebook.kernel !== null) {\n",
       "    IPython.notebook.kernel.comm_manager.register_target(\n",
       "        'matplotlib',\n",
       "        mpl.mpl_figure_comm\n",
       "    );\n",
       "}\n"
      ],
      "text/plain": [
       "<IPython.core.display.Javascript object>"
      ]
     },
     "metadata": {},
     "output_type": "display_data"
    },
    {
     "data": {
      "text/html": [
       "<img src=\"data:image/png;base64,iVBORw0KGgoAAAANSUhEUgAABEkAAAM3CAYAAADBag5yAAAgAElEQVR4XuzdCbDdZXk/8PcmiCQpYRFEQ5VNw1YRbGhZZIlUxb0dYNRaERdUsFCwWlu1yKK2VgHBoogzomg7VUGrI2gdy+YCSLAw7kYURFOIYEJICIvJ/fM7959UILnn/nJO3vM+7+9zZ5y2ub9z3ud8vr/H6fPMueeMjT/0k/wQIECAAAECBAgQIECAAAECBDouMGZJ0vE7wMsnQIAAAQIECBAgQIAAAQIEegKWJG4EAgQIECBAgAABAgQIECBAgIAliXuAAAECBAgQIECAAAECBAgQIDAh4J0k7gQCBAgQIECAAAECBAgQIECAgCWJe4AAAQIECBAgQIAAAQIECBAgMCHgnSTuBAIECBAgQIAAAQIECBAgQICAJYl7gAABAgQIECBAgAABAgQIECAwIeCdJO4EAgQIECBAgAABAgQIECBAgIAliXuAAAECBAgQIECAAAECBAgQIDAh4J0k7gQCBAgQIECAAAECBAgQIECAgCWJe4AAAQIECBAgQIAAAQIECBAgMCHgnSTuBAIECBAgQIAAAQIECBAgQICAJYl7gAABAgQIECBAgAABAgQIECAwIeCdJO4EAgQIECBAgAABAgQIECBAgIAliXuAAAECBAgQIECAAAECBAgQIDAh4J0k7gQCBAgQIECAAAECBAgQIECAgCWJe4AAAQIECBAgQIAAAQIECBAgMCHgnSTuBAIECBAgQIAAAQIECBAgQICAJYl7gAABAgQIECBAgAABAgQIECAwIeCdJO4EAgQIECBAgAABAgQIECBAgIAliXuAAAECBAgQIECAAAECBAgQIDAh4J0k7gQCBAgQIECAAAECBAgQIECAgCWJe4AAAQIECBAgQIAAAQIECBAgMCHgnSTuBAIECBAgQIAAAQIECBAgQICAJYl7gAABAgQIECBAgAABAgQIECAwIeCdJO4EAgQIECBAgAABAgQIECBAgIAliXuAAAECBAgQIECAAAECBAgQIDAh4J0k7gQCBAgQIECAAAECBAgQIECAgCWJe4AAAQIECBAgQIAAAQIECBAgMCHgnSTuBAIECBAgQIAAAQIECBAgQICAJYl7gAABAgQIECBAgAABAgQIECAwIeCdJO4EAgQIECBAgAABAgQIECBAgIAliXuAAAECBAgQIECAAAECBAgQIDAh4J0k7gQCBAgQIECAAAECBAgQIECAgCWJe4AAAQIECBAgQIAAAQIECBAgMCHgnSTuBAIECBAgQIAAAQIECBAgQICAJYl7gAABAgQIECBAgAABAgQIECAwIeCdJO4EAgQIECBAgAABAgQIECBAgIAliXuAAAECBAgQIECAAAECBAgQIDAh4J0k7gQCBAgQIECAAAECBAgQIECAgCWJe4AAAQIECBAgQIAAAQIECBAgMCHgnSTuBAIECBAgQIAAAQIECBAgQICAJYl7gAABAgQIECBAgAABAgQIECAwIeCdJO4EAgQIECBAgAABAgQIECBAgIAliXuAAAECBAgQIECAAAECBAgQIDAh4J0k7gQCBAgQIECAAAECBAgQIECAgCWJe4AAAQIECBAgQIAAAQIECBAgMCHgnSTuBAIECBAgQIAAAQIECBAgQICAJYl7gAABAgQIECBAgAABAgQIECAwIeCdJO4EAgQIECBAgAABAgQIECBAgIAliXuAAAECBAgQIECAAAECBAgQIDAh4J0k7gQCBAgQIECAAAECBAgQIECAgCWJe4AAAQIECBAgQIAAAQIECBAgMCHgnSTuBAIECBAgQIAAAQIECBAgQICAJYl7gAABAgQIECBAgAABAgQIECAwIeCdJO4EAgQIECBAgAABAgQIECBAgIAliXuAAAECBAgQIECAAAECBAgQIDAh4J0k7gQCBAgQIECAAAECBAgQIECAgCWJe4AAAQIECBAgQIAAAQIECBAgMCHgnSTuBAIECBAgQIAAAQIECBAgQICAJYl7gAABAgQIECBAgAABAgQIECAwIeCdJO4EAgQIECBAgAABAgQIECBAgIAliXuAAAECBAgQIECAAAECBAgQIDAh4J0k7gQCBAgQIECAAAECBAgQIECAgCWJe4AAAQIECBAgQIAAAQIECBAgMCHgnSTuBAIECBAgQIAAAQIECBAgQICAJYl7gAABAgQIECBAgAABAgQIECAwIeCdJO4EAgQIECBAgAABAgQIECBAgIAliXuAAAECBAgQIECAAAECBAgQIDAh4J0k7gQCBAgQIECAAAECBAgQIECAgCWJe4AAAQIECBAgQIAAAQIECBAgMCHgnSTuBAIECBAgQIAAAQIECBAgQICAJYl7gAABAgQIECBAgAABAgQIECAwIeCdJO4EAgQIECBAgAABAgQIECBAgIAliXuAAAECBAgQIECAAAECBAgQIDAh4J0k7gQCBAgQIECAAAECBAgQIECAgCWJe4AAAQIECBAgQIAAAQIECBAgMCHgnSTuBAIECBAgQIAAAQIECBAgQICAJYl7gAABAgQIECBAgAABAgQIECAwIeCdJO4EAgQIECBAgAABAgQIECBAgIAliXuAAAECBAgQIECAAAECBAgQIDAh4J0k7gQCBAgQIECAAAECBAgQIECAgCWJe4AAAQIECBAgQIAAAQIECBAgMCHgnSTuBAIECBAgQIAAAQIECBAgQICAJYl7gAABAgQIECBAgAABAgQIECAwIeCdJO4EAgQIECBAgAABAgQIECBAgIAliXuAAAECBAgQIECAAAECBAgQIDAh4J0k7gQCBAgQIECAAAECBAgQIECAgCWJe4AAAQIECBAgQIAAAQIECBAgMCHgnSTuBAIECBAgQIAAAQIECBAgQICAJYl7gAABAgQIECBAgAABAgQIECAwIeCdJO4EAgQIECBAgAABAgQIECBAgIAliXuAAAECBAgQIECAAAECBAgQIDAh4J0k7gQCBAgQIECAAAECBAgQIECAgCWJe4AAAQIECBAgQIAAAQIECBAgMCHgnSTuBAIECBAgQIAAAQIECBAgQICAJYl7oJ/AtGnTepfMnDmz36V+T4AAAQIECBAgQIAAAQIPCdx77709h9WrV/MIJuCdJMECy13u2NhY78hZs2blPtp5BAgQIECAAAECBAgQCCmwYsWKXt3j4+Mh6+9y0ZYkXU5/Cq/9D/7gD3pXLV++fApXu4QAAQIECBAgQIAAAQIEzFFx7wFLkrjZZalcc2dhdggBAgQIECBAgAABAhUJmKPihmlJEje7LJVr7izMDiFAgAABAgQIECBAoCIBc1TcMC1J4maXpXLNnYXZIQQIECBAgAABAgQIVCRgjoobpiVJ3OyyVK65szA7hAABAgQIECBAgACBigTMUXHDtCSJm12WyjV3FmaHECBAgAABAgQIECBQkYA5Km6YliRxs8tSuebOwuwQAgQIECBAgAABAgQqEjBHxQ3TkiRudlkq19xZmB1CgAABAgQIECBAgEBFAuaouGFaksTNLkvlmjsLs0MIECBAgAABAgQIEKhIwBwVN0xLkrjZZalcc2dhdggBAgQIECBAgAABAhUJmKPihmlJEje7LJVr7izMDiFAgAABAgQIECBAoCIBc1TcMC1J4maXpXLNnYXZIQQIECBAgAABAgQIVCRgjoobpiVJ3OyyVK65szA7hAABAgQIECBAgACBigTMUXHDtCSJm12WyjV3FmaHECBAgAABAgQIECBQkYA5Km6YliRxs8tSuebOwuwQAgQIECBAgAABAgQqEjBHxQ3TkiRudlkq19xZmB1CgAABAgQIECBAgEBFAuaouGFaksTNLkvlmjsLs0MIECBAgAABAgQIEKhIwBwVN0xLkrjZZalcc2dhdggBAgQIECBAgAABAhUJmKPihmlJEje7LJVr7izMDiFAgAABAgQIECBAoCIBc1TcMC1JgmX3iU98Ir361a+etOo999wzff/73x/KK9PcQ2H0JAQIECBAgAABAgQIdEjAHBU3bEuSYNmtWZI85jGPSVtvvfU6q99tt93SlVdeOZRXprmHwuhJCBAgQIAAAQIECBDokIA5Km7YliTBsluzJDnkkEOGtgiZjEBzB7tBlEuAAAECBAgQIECAwMgFzFEjj2CDC7Ak2WC60TzQkmQ07k4lQIAAAQIECBAgQIDAVAUsSaYqVd51liTlZTJpRZYk/8fz05+mtGhRSnPmpDR3brAglUtgCAJ6YAiIniK0gB4IHZ/ihySgD4YE6WnCCpTaA5YkYW+pZEkSLDtLkpSuvTalk05K6brr/i+8/fZL6eyzU2r+px8CtQvogdoT9vr6CeiBfkJ+3wUBfdCFlL3GyQRK7wFLkrj3ryVJsOzWLEm22Wab9PjHPz7dfPPNadNNN00777xzOvzww9OJJ5740DsrHnprxZB+Smvu5r8M589P6b77Hv0CN9sspSuusCgZUvSeplABPVBoMMrKJqAHslE7qGABfVBwOErLIhChB0qbo7IEU8khliTBgvz9rwCeNm1a2mKLLdKyZcvSqlWreq+k+b//4z/+o7cwGcZPac29//4T7yRZ30/zTpJrrhnGK/ccBMoU0ANl5qKqfAJ6IJ+1k8oV0AflZqOyPAIReqC0OSpPMnWcYkkSLMevfe1rD/2ZyXXpyCOPTE95ylNS81XAK1euTJdeeml685vfnG677bY0c+bMtGDBgrT77rtP6dWtaeB1XbxixYo0a9astHz58ik918a8qPl7w1137X9Cc91Tn9r/OlcQiCagB6Ilpt5hC+iBYYt6vogC+iBiamoepkCUHrAkGWbqeZ/LkiSv90Y97Ve/+lXaZ5990p133ple+tKX9t5RMpWfKEuSK6+c+FObfj/NdQ99Q7IfAtUJ6IHqIvWCWgrogZZgLq9SQB9UGasX1UIgSg9YkrQItbBLLUkKC2TQck499dR02mmnpdmzZ6clS5ak5k9yBvkpqbmjbI0H8fZYApMJ6AH3R9cF9EDX7wCvvxHQB+6DrgtE6YGS5qiu3zNtX78lSVuxwq+/7LLL0gte8IJelYsXL07bbrvtQBWX1twR/v5wIHAPJtBHQA+4RbouoAe6fgd4/Y2APnAfdF0gQg+UNkd1/Z5p8/otSdpoBbi29iVJhE+yDnCbKDGwgB4IHJ7ShyKgB4bC6EmCC+iD4AEqf2CBCD1gSTJwzCN7AkuSkdFvnIPX/LlN05R33313VX9us0as+S/Fk09++LfcNN9qc/bZvv5349xVnrU0AT1QWiLqyS2gB3KLO69EAX1QYipqyilQeg9YkuS8G4Z7liXJcD036rONj4+nsbGx9Z6xaNGi9PSnP733wa1HHXVU+uxnPztwPSU398KFKT30ktOcOb7NZuCgPUFIAT0QMjZFD1FADwwR01OFFdAHYaNT+JAESu2BkueoIdFX+zSWJIGiveWWW9LLX/7y9PrXvz49+9nPTn/4h3/Yq775CuCvfOUr6W//9m9Tc82MGTPS9ddfn/bcc8+BX53mHpjQExAgQIAAAQIECBAg0DEBc1TcwC1JAmXXLEB22mmntRU3y5CZM2empUuXplWrVvX+fcstt0z//u//np73vOcN5ZVp7qEwehICBAgQIECAAAECBDokYI6KG7YlSaDsmneMfOxjH0vf+ta30k033dT79pp77rknbb755mnu3Lnp8MMPT8cdd1zabrvthvaqNPfQKD0RAQIECBAgQIAAAQIdETBHxQ3akiRudlkq19xZmB1CgAABAgQIECBAgEBFAuaouGFaksTNLkvlmjsLs0MIECBAgAABAgQIEKhIwBwVN0xLkrjZZalcc2dhdggBAgQIECBAgAABAhUJmKPihmlJEje7LJVr7izMDiFAgAABAgQIECBAoCIBc1TcMC1J4maXpXLNnYXZIQQIECBAgAABAgQIVCRgjoobpiVJ3OyyVK65szA7hAABAgQIECBAgACBigTMUXHDtCSJm12WyjV3FmaHECBAgAABAgQIECBQkYA5Km6YliRxs8tSuebOwuwQAgQIECBAgAABAgQqEjBHxQ3TkiRudlkq19xZmB1CgAABAgQIECBAgEBFAuaouGFaksTNLkvlmjsLs0MIECBAgAABAgQIEKhIwBwVN0xLkrjZZalcc2dhdggBAgQIECBAgAABAhUJmKPihmlJEje7LJVr7izMDiFAgAABAgQIECBAoCIBc1TcMC1J4maXpXLNnYXZIQQIECBAgAABAgQIVCRgjoobpiVJ3OyyVK65szA7hAABAgQIECBAgACBigTMUXHDtCSJm12WyjV3FmaHECBAgAABAgQIECBQkYA5Km6YliRxs8tSuebOwuwQAgQIECBAgAABAgQqEjBHxQ3TkiRudlkq19xZmB1CgAABAgQIECBAgEBFAuaouGFaksTNLkvlmjsLs0MIECBAgAABAgQIEKhIwBwVN0xLkrjZZalcc2dhdggBAgQIECBAgAABAhUJmKPihmlJEje7LJVr7izMDiFAgAABAgQIECBAoCIBc1TcMC1J4maXpXLNnYXZIQQIECBAgAABAgQIVCRgjoobpiVJ3OyyVK65szA7hAABAgQIECBAgACBigTMUXHDtCSJm12WyjV3FmaHECBAgAABAgQIECBQkYA5Km6YliRxs8tSuebOwuwQAgQIECBAgAABAgQqEjBHxQ3TkiRudlkq19xZmB1CgAABAgQIECBAgEBFAuaouGFaksTNLkvlmjsLs0MIECBAgAABAgQIEKhIwBwVN0xLkrjZZalcc2dhdggBAgQIECBAgAABAhUJmKPihmlJEje7LJVr7izMDiFAgAABAgQIECBAoCIBc1TcMC1J4maXpXLNnYXZIQQIECBAgAABAgQIVCRgjoobpiVJ3OyyVK65szA7hAABAgQIECBAgACBigTMUXHDtCSJm12WyjV3FmaHECBAgAABAgQIECBQkYA5Km6YliRxs8tSuebOwuwQAgQIECBAgAABAgQqEjBHxQ3TkiRudlkq19xZmB1CgAABAgQIECBAgEBFAuaouGFaksTNLkvlmjsLs0MIECBAgAABAgQIEKhIwBwVN0xLkrjZZalcc2dhdggBAgQIECBAgAABAhUJmKPihmlJEje7LJVr7izMDiFAgAABAgQIECBAoCIBc1TcMC1J4maXpXLNnYXZIQQIECBAgAABAgQIVCRgjoobpiVJ3OyyVK65szA7hAABAgQIECBAgACBigTMUXHDtCSJm12WyjV3FmaHECBAgAABAgQIECBQkYA5Km6YliRxs8tSuebOwuwQAgQIECBAgAABAgQqEjBHxQ3TkiRudlkq19xZmB1CgAABAgQIECBAgEBFAuaouGFaksTNLkvlmjsLs0MIECBAgAABAgQIEKhIwBwVN0xLkrjZZalcc2dhdggBAgQIECBAgAABAhUJmKPihmlJEje7LJVr7izMDiFAgAABAgQIECBAoCIBc1TcMC1J4maXpXLNnYXZIQQIECBAgAABAgQIVCRgjoobpiVJ3OyyVK65szA7hAABAgQIECBAgACBigTMUXHDtCSJm12WyjV3FmaHECBAgAABAgQIECBQkYA5Km6YliRxs8tSuebOwuwQAgQIECBAgAABAgQqEjBHxQ3TkiRudlkq19xZmB1CgAABAgQIECBAgEBFAuaouGFaksTNLkvlmjsLs0MIECBAgAABAgQIEKhIwBwVN0xLkrjZZalcc2dhdggBAgQIECBAgAABAhUJmKPihmlJEje7LJVr7izMDiFAgAABAgQIECBAoCIBc1TcMC1J4maXpXLNnYXZIQQIECBAgAABAgQIVCRgjoobpiVJ3OyyVK65szA7hAABAgQIECBAgACBigTMUXHDtCSJm12WyjV3FmaHECBAgAABAgQIECBQkYA5Km6YliRxs8tSuebOwuwQAgQIECBAgAABAgQqEjBHxQ3TkiRudlkq19xZmB1CgAABAgQIECBAgEBFAuaouGFaksTNLkvlmjsLs0MIECBAgAABAgQIEKhIwBwVN0xLkrjZZalcc2dhdggBAgQIECBAgAABAhUJmKPihmlJEje7LJVr7izMDiFAgAABAgQIECBAoCIBc1TcMC1J4maXpXLNnYXZIQQIECBAgAABAgQIVCRgjoobpiVJ3OyyVK65szA7hAABAgQIECBAgACBigTMUXHDtCSJm12WyjV3FmaHECBAgAABAgQIECBQkYA5Km6YliRxs8tSuebOwuwQAgQIECBAgAABAgQqEjBHxQ3TkiRudlkq19xZmB1CgAABAgQIECBAgEBFAuaouGFaksTNLkvlmjsLs0MIECBAgAABAgQIEKhIwBwVN0xLkrjZZalcc2dhdggBAgQIECBAgAABAhUJmKPihmlJEje7LJVr7izMDiFAgAABAgQIECBAoCIBc1TcMC1J4maXpXLNnYXZIQQIECBAgAABAgQIVCRgjoobpiVJ3OyyVK65szA7hAABAgQIECBAgACBigTMUXHDtCSJm12WyjV3FmaHECBAgAABAgQIECBQkYA5Km6YliRxs8tSuebOwuwQAgQIECBAgAABAgQqEjBHxQ3TkiRudlkq19xZmB1CgAABAgQIECBAgEBFAuaouGFaksTNLkvlmjsLs0MIECBAgAABAgQIEKhIwBwVN0xLkrjZZalcc2dhdggBAgQIECBAgAABAhUJmKPihmlJEje7LJVr7izMDiFAgAABAgQIECBAoCIBc1TcMC1J4maXpXLNnYXZIQQIECBAgAABAgQIVCRgjoobpiVJ3OyyVK65szA7hAABAgQIECBAgACBigTMUXHDtCSJm12WyjV3FmaHECBAgAABAgQIECBQkYA5Km6YliRxs8tSuebOwuwQAgQIECBAgAABAgQqEjBHxQ3TkiRudlkq19xZmB1CgAABAgQIECBAgEBFAuaouGFaksTNLkvlmjsLs0MIECBAgAABAgQIEKhIwBwVN0xLkrjZZalcc2dhdggBAgQIECBAgAABAhUJmKPihmlJEje7LJVr7izMDiFAgAABAgQIECBAoCIBc1TcMC1J4maXpXLNnYXZIQQIECBAgAABAgQIVCRgjoobpiVJ3OyyVK65szA7hAABAgQIECBAgACBigTMUXHDtCSJm12WyjV3FmaHECBAgAABAgQIECBQkYA5Km6YliRxs8tSuebOwuwQAgQIECBAgAABAgQqEjBHxQ3TkiRudlkq19xZmB1CgAABAgQIECBAgEBFAuaouGFaksTNLkvlmjsLs0MIECBAgAABAgQIEKhIwBwVN0xLkrjZZalcc2dhdggBAgQIECBAgAABAhUJmKPihmlJEje7LJVr7izMDiFAgAABAgQIECBAoCIBc1TcMC1J4maXpXLNnYXZIQQIECBAgAABAgQIVCRgjoobpiVJ3OyyVK65szA7hAABAgQIECBAgACBigTMUXHDtCSJm12WyjV3FmaHECBAgAABAgQIECBQkYA5Km6YliRxs8tSuebOwuwQAgQIECBAgAABAgQqEjBHxQ3TkiRudlkq19xZmB1CgAABAgQIECBAgEBFAuaouGFaksTNbm3l9957b9pjjz3Srbfe2vu3Cy+8MB1zzDFDeWWaeyiMnoQAAQIECBAgQIAAgQ4JmKPihm1JEje7tZX/3d/9XXr/+9+/9v+2JKkgVC+BAAECBAgQIECAAIGwApYkYaNLliRxs+tV/r3vfS894xnPSH/8x3+crrvuut6/WZIED1X5BAgQIECAAAECBAiEFrAkiRufJUnc7NL4+Hh65jOfma699tp0/fXX9xYlliSBA1U6AQIECBAgQIAAAQJVCFiSxI3RkiRudumCCy5Ib3jDG9Jxxx2XPvzhD6exsTFLksB5Kp0AAQIECBAgQIAAgToELEni5mhJEjS7xYsXp9122y1tsskm6Sc/+UnaaqutLEmCZqlsAgQIECBAgAABAgTqErAkiZunJUnQ7F75ylemT3/60+njH/94evWrX917Fd5JEjRMZRMgQIAAAQIECBAgUJWAJUncOC1JAmZ3+eWXp8MOOywdcMAB6Zvf/Oba5YglScAwlUyAAAECBAgQIECAQHUCliRxI7UkCZbd/fffn/baa6908803pwULFqS999577SvY0CXJmgZeF8WKFSvSrFmz0vLly4NJKZcAAQIECBAgQIAAAQKjEbAkGY37ME61JBmGYsbnOO2009Kpp56aTjjhhHTuuec+7GRLkoxBOIoAAQIECBAgQIAAAQLrEbAkiXtrWJIEym7hwoXpaU97Wtpyyy17H9a6xRZbDGVJMhmB5g50gyiVAAECBAgQIECAAIEiBMxRRcSwQUVYkmwQ22ge9JKXvCR96UtfSh/5yEfSX/3VXz2qiM0337z3b+eff356xStekaZPn55mzJgxULGaeyA+DyZAgAABAgQIECBAoIMC5qi4oVuSBMqu+fyRm266acoVP/3pT0833njjlK9f14WaeyA+DyZAgAABAgQIECBAoIMC5qi4oVuSBMrOkiRQWEolQIAAAQIECBAgQKCzApYkcaO3JImb3aMq39APbp2MQHNXdIN4KQQIECBAgAABAgQIZBEwR2Vh3iiHWJJsFNbRPKklyWjcnUqAAAECBAgQIECAAIHfF7AkiXs/WJLEze5RlVuSVBSml0KAAAECBAgQIECAQFgBS5Kw0SVLkrjZWZJUlJ2XQoAAAQIECBAgQIBAPQKWJHGztCSJm12WyjV3FmaHECBAgAABAgQIECBQkYA5Km6YliRxs8tSuebOwuwQAgQIECBAgAABAgQqEjBHxQ3TkiRudlkq19xZmB1CgAABAgQIECBAgEBFAuaouGFaksTNLkvlmjsLs0MIECBAgAABAgQIEKhIwBwVN0xLkrjZZalcc2dhdggBAgQIECBAgAABAhUJmKPihmlJEje7LJVr7izMDiFAgAABAgQIECBAoCIBc1TcMC1J4maXpXLNnYXZIXf5n2EAACAASURBVAQIECBAgAABAgQIVCRgjoobpiVJ3OyyVK65szA7hAABAgQIECBAgACBigTMUXHDtCSJm12WyjV3FmaHECBAgAABAgQIECBQkYA5Km6YliRxs8tSuebOwuwQAgQIECBAgAABAgQqEjBHxQ3TkiRudlkq19xZmB1CgAABAgQIECBAgEBFAuaouGFaksTNLkvlmjsLs0MIECBAgAABAgQIEKhIwBwVN0xLkrjZZalcc2dhdggBAgQIECBAgAABAhUJmKPihmlJEje7LJVr7izMDiFAgAABAgQIECBAoCIBc1TcMC1J4maXpXLNnYXZIQQIECBAgAABAgQIVCRgjoobpiVJ3OyyVK65szA7hAABAgQIECBAgACBigTMUXHDtCSJm12WyjV3FmaHECBAgAABAgQIECBQkYA5Km6YliRxs8tSuebOwuwQAgQIECBAgAABAgQqEjBHxQ3TkiRudlkq19xZmB1CgAABAgQIECBAgEBFAuaouGFaksTNLkvlmjsLs0MIECBAgAABAgQIEKhIwBwVN0xLkrjZZalcc2dhdggBAgQIECBAgAABAhUJmKPihmlJEje7LJVr7izMDiFAgAABAgQIECBAoCIBc1TcMC1J4maXpXLNnYXZIQQIECBAgAABAgQIVCRgjoobpiVJ3OyyVK65szA7hAABAgQIECBAgACBigTMUXHDtCSJm12WyjV3FmaHECBAgAABAgQIECBQkYA5Km6YliRxs8tSuebOwuwQAgQIECBAgAABAgQqEjBHxQ3TkiRudlkq19xZmB1CgAABAgQIECBAgEBFAuaouGFaksTNLkvlmjsLs0MIECBAgAABAgQIEKhIwBwVN0xLkrjZZalcc2dhdggBAgQIECBAgAABAhUJmKPihmlJEje7LJVr7izMDiFAgAABAgQIECBAoCIBc1TcMC1J4maXpXLNnYXZIQQIECBAgAABAgQIVCRgjoobpiVJ3OyyVK65szA7hAABAgQIECBAgACBigTMUXHDtCSJm12WyjV3FmaHECBAgAABAgQIECBQkYA5Km6YliRxs8tSuebOwuwQAgQIECBAgAABAgQqEjBHxQ3TkiRudlkq19xZmB1CgAABAgQIECBAgEBFAuaouGFaksTNLkvlmjsLs0MIECBAgAABAgQIEKhIwBwVN0xLkrjZZalcc2dhdggBAgQIECBAgAABAhUJmKPihmlJEje7LJVr7izMDiFAgAABAgQIECBAoCIBc1TcMC1J4maXpXLNnYXZIQQIECBAgAABAgQIVCRgjoobpiVJ3OyyVK65szA7hAABAgQIECBAgACBigTMUXHDtCSJm12WyjV3FmaHECBAgAABAgQIECBQkYA5Km6YliRxs8tSuebOwuwQAgQIECBAgAABAgQqEjBHxQ3TkiRudlkq19xZmB1CgAABAgQIECBAgEBFAuaouGFaksTNLkvlmjsLs0MIECBAgAABAgQIEKhIwBwVN0xLkrjZZalcc2dhdggBAgQIECBAgAABAhUJmKPihmlJEje7LJVr7izMDiFAgAABAgQIECBAoCIBc1TcMC1J4maXpXLNnYXZIQQIECBAgAABAgQIVCRgjoobpiVJ3OyyVK65szA7hAABAgQIECBAgACBigTMUXHDtCSJm12WyjV3FmaHECBAgAABAgQIECBQkYA5Km6YliRxs8tSuebOwuwQAgQIECBAgAABAgQqEjBHxQ3TkiRudlkq19xZmB1CgAABAgQIECBAgEBFAuaouGFaksTNLkvlmjsLs0MIECBAgAABAgQIEKhIwBwVN0xLkrjZZalcc2dhdggBAgQIECBAgAABAhUJmKPihmlJEje7LJVr7izMDiFAgAABAgQIECBAoCIBc1TcMC1J4maXpXLNnYXZIQQIECBAgAABAgQIVCRgjoobpiVJ3OyyVK65szA7hAABAgQIECBAgACBigTMUXHDtCSJm12WyjV3FmaHECBAgAABAgQIECBQkYA5Km6YliRxs8tSuebOwuwQAgQIECBAgAABAgQqEjBHxQ3TkiRudlkq19xZmB1CgAABAgQIECBAgEBFAuaouGFaksTNLkvlmjsLs0MIECBAgAABAgQIEKhIwBwVN0xLkrjZZalcc2dhdggBAgQIECBAgAABAhUJmKPihmlJEje7LJVr7izMDiFAgAABAgQIECBAoCIBc1TcMC1J4maXpXLNnYXZIQQIECBAgAABAgQIVCRgjoobpiVJ3OyyVK65szA7hAABAgQIECBAgACBigTMUXHDtCSJm12WyjV3FmaHECBAgAABAgQIECBQkYA5Km6YliRxs8tSuebOwuwQAgQIECBAgAABAgQqEjBHxQ3TkiRudlkq19xZmB1CgAABAgQIECBAgEBFAuaouGFaksTNLkvlmjsLs0MIECBAgAABAgQIEKhIwBwVN0xLkrjZZalcc2dhdggBAgQIECBAgAABAhUJmKPihmlJEje7LJVr7izMDiFAgAABAgQIECBAoCIBc1TcMC1J4maXpXLNnYXZIQQIECBAgAABAgQIVCRgjoobpiVJ3OyyVK65szA7hAABAgQIECBAgACBigTMUXHDtCSJm12WyjV3FmaHECBAgAABAgQIECBQkYA5Km6YliRxs8tSuebOwuwQAgQIECBAgAABAgQqEjBHxQ3TkiRudlkq19xZmB1CgAABAgQIECBAgEBFAuaouGFaksTNLkvlmjsLs0MIECBAgAABAgQIEKhIwBwVN0xLkrjZZalcc2dhdggBAgQIECBAgAABAhUJmKPihmlJEje7LJVr7izMDiFAgAABAgQIECBAoCIBc1TcMC1J4maXpXLNnYXZIQQIECBAgAABAgQIVCRgjoobpiVJ3OyyVK65szA7hAABAgQIECBAgACBigTMUXHDtCSJm12WyjV3FmaHECBAgAABAgQIECBQkYA5Km6YliRxs8tSuebOwuwQAgQIECBAgAABAgQqEjBHxQ3TkiRudlkq19xZmB1CgAABAgQIECBAgEBFAuaouGFaksTNLkvlmjsLs0MIECBAgAABAgQIEKhIwBwVN0xLkrjZZalcc2dhdggBAgQIECBAgAABAhUJmKPihmlJEje7LJVr7izMDiFAgAABAgQIECBAoCIBc1TcMC1J4maXpXLNnYXZIQQIECBAgAABAgQIVCRgjoobpiVJ3OyyVK65szA7hAABAgQIECBAgACBigTMUXHDtCSJm12WyjV3FmaHECBAgAABAgQIECBQkYA5Km6YliRxs8tSuebOwuwQAgQIECBAgAABAgQqEjBHxQ3TkiRudlkq19xZmB1CgAABAgQIECBAgEBFAuaouGFaksTNLkvlmjsLs0MIECBAgAABAgQIEKhIwBwVN0xLkrjZZalcc2dhdggBAgQIECBAgAABAhUJmKPihmlJEje7LJVr7izMDiFAgAABAgQIECBAoCIBc1TcMC1J4maXpXLNnYXZIQQIECBAgAABAgQIVCRgjoobpiVJ3OyyVK65szA7hAABAgQIECBAgACBigTMUXHDtCTZgOx+97vfpQsuuCBdfPHF6Qc/+EFaunRpav5tfT9jY2OT/n4DSsj2EM2djdpBBAgQIECAAAECBAhUImCOihukJUnL7O6+++70Z3/2Z+m73/1uGh8fn/KjV69ePeVrS7pQc5eUhloIECBAgAABAgQIEIggYI6KkNK6a7QkaZndySefnM4555y02WabpTe84Q3pRS96Udp+++17//dkPzvssEPLk9Z9+be//e305S9/OX3nO99JP//5z9NvfvOb9OCDD6btttsu7bfffun1r399Ouyww4ZyVvMkmntolJ6IAAECBAgQIECAAIGOCJij4gZtSdIyux133DHddttt6aKLLkqveMUrWj568Mtf9rKXpc985jNrn2j27NnpvvvuSw888MDaf3vTm96U/vVf/3XwwyxJhmLoSQgQIECAAAECBAgQ6JaAJUncvC1JWma35h0jy5cvT5tssknLRw9++fnnn9/7fJODDz44PeUpT0kzZ87s/dnPz372s/Se97wnffKTn+wd0vzPo48+euADNffAhJ6AAAECBAgQIECAAIGOCZij4gZuSdIyu+adJEuWLEnNZ5OU+NMsT77xjW+k+fPnp8svv3zgEjX3wISegAABAgQIECBAgACBjgmYo+IGbknSMrsTTzwxnXfeeWnBggVpn332afnojX/5m9/85nT22Wen3XbbLf3oRz8a+EDNPTChJyBAgAABAgQIECBAoGMC5qi4gVuStMzurrvu6i1HnvjEJ6avfvWraauttmr5DBvv8ubPbg488MB0zTXXpOc973npsssuG/gwzT0woScgQIAAAQIECBAgQKBjAuaouIFbkkyS3dVXX73O3/7yl79MzTtKmp83vvGNaa+99kpz5syZ9C5o/gxmY/0sW7Ys/fjHP04f+MAH0uc+97neMZdeeml6/vOfP/CRmntgQk9AgAABAgQIECBAgEDHBMxRcQO3JJkku2nTpqWxsbH1XtG8c2Oy3695YHNN82Grw/y58cYb1/nnPptvvnk688wz07HHHjvl49Y08LoesGLFijRr1qzUfFCtHwIECBAgQIAAAQIECBDoL2BJ0t+o1CssSSZJpvmQ1qksQaYS7i9+8YupXDbla37wgx+kww47rHd98ydAzRKm+eadf/7nf06ve93reouNqf5YkkxVynUECBAgQIAAAQIECBDoL2BJ0t+o1CssSUpNpkVdzYKkWZq8613vSl/84hfT0572tPSVr3wlbb/99i2eZd2Xau6BCT0BAQIECBAgQIAAAQIdEzBHxQ3ckiRuduus/Mgjj0yXXHJJevGLX9xbmAz6o7kHFfR4AgQIECBAgAABAgS6JmCOipu4JUnL7C666KI0Y8aMdNRRR03pkZ///Od7n+dx9NFHT+n6QS+68sor0/z583tPc+edd6bHPe5xAz2l5h6Iz4MJECBAgAABAgQIEOiggDkqbuiWJC2zaz7Mtfn631//+tdTeuROO+2UbrvttqF/cOv6Dl+4cGGaO3du79fXXXdd+pM/+ZMp1bm+izT3QHweTIAAAQIECBAgQIBABwXMUXFDtyRpmV2zJHnCE56QFi1aNKVHNkuS5iuDV61aNaXrB73oa1/7Wnruc5/be5rmc0r22GOPgZ5Scw/E58EECBAgQIAAAQIECHRQwBwVN3RLkpbZtV2SzJ49O61evXooX6HbfEDrJptsst6Km3Ne8IIXpK9+9atpm222SbfffnuaPn16y1f48Ms190B8HkyAAAECBAgQIECAQAcFzFFxQ7ckaZndVJcky5YtS83nl5x44om9b5u56aabWp706MtvvPHG9KY3vSkdf/zx6VnPelbvz36an2Z5smDBgnTGGWekyy67rPdvZ599djrppJMGPlNzD0zoCQgQIECAAAECBAgQ6JiAOSpu4JYkfbI77bTT0umnn772qvHx8TQ2NtYq8fe+973pbW97W6vHrOviZkmyzz77rP3VzJkzU/Ofu+++Oz344IO9f2+WOG95y1vS+973voHPa55Acw+F0ZMQIECAAAECBAgQINAhAXNU3LAtSaawJGkWJWt+mgVJsyiZyk/zTo/XvOY1qXl8s7wY9GflypXpC1/4Qvrv//7vdP311/f+nGbJkiW9RcmOO+6YDjrooPS6170u7b333oMetfbxmntolJ6IAAECBAgQIECAAIGOCJij4gZtSdInu+ZdGkuXLu1d1SxHdt5557Ttttum73znO+t9ZLMQaT6LZIsttoh7Z/z/yjV3+Ai9AAIECBAgQIAAAQIEMguYozKDD/E4S5KWmIceemjvQ1Evvvjilo+MebnmjpmbqgkQIECAAAECBAgQGJ2AOWp09oOebEkyqGDlj9fclQfs5REgQIAAAQIECBAgMHQBc9TQSbM9oSVJNuqYB2numLmpmgABAgQIECBAgACB0QmYo0ZnP+jJliSTCP7+t9oMCn3KKacM+hQjebzmHgm7QwkQIECAAAECBAgQCCxgjoobniXJJNk1H8Da9ut+H/l0a74yeNWqVSHvEs0dMjZFEyBAgAABAgQIECAwQgFz1AjxBzzakmQSwGOOOWadS5Jm8fHFL34xNd9803z97rx589KcOXN6z7Ro0aJ0ww03pBUrVqQtt9wyvfjFL+49x4UXXjhgVKN5uOYejbtTCRAgQIAAAQIECBCIK2COipudJUnL7FavXp2OOOKIdOmll6YzzjgjnXDCCb1Fye//rFy5Mn3oQx9K73znO9MLX/jCdMkllwz8jpSWZQ7tcs09NEpPRIAAAQIECBAgQIBARwTMUXGDtiRpmd1ZZ52V3vrWt6Zzzz03velNb5r00eedd1468cQT05lnnplOOumklieVcbnmLiMHVRAgQIAAAQIECBAgEEfAHBUnq0dWaknSMru99tor/fSnP03Lli1Lm2666aSPvv/++9Ps2bPTbrvtlm666aaWJ5VxueYuIwdVECBAgAABAgQIECAQR8AcFScrS5IBs5o1a1Z67GMfm377299O6Zm23nrr9MADD6Tly5dP6frSLtLcpSWiHgIECBAgQIAAAQIEShcwR5We0Prr806Sltltu+22vQXJj370ozR37txJH/2Tn/wk7b777mmbbbZJixcvbnlSGZdr7jJyUAUBAgQIECBAgAABAnEEzFFxsnpkpZYkLbM76qijeh/EesABB6TLLrus9+c06/q555570vOe97x0zTXX9D7o9bOf/WzLk8q4XHOXkYMqCBAgQIAAAQIECBCII2COipOVJcmAWf3whz/sfeVv83kj2223XTr++OPTwQcf/LCvAL766qvT+eef3/s64BkzZqQFCxb03lES8UdzR0xNzQQIECBAgAABAgQIjFLAHDVK/cHO9k6SDfC7/PLL08te9rJ05513rverfcfHx3t/ZvOZz3wmzZ8/fwNOKeMhmruMHFRBgAABAgQIECBAgEAcAXNUnKweWaklyQZm13wuyYc+9KH0+c9/PjXvLlm1alXvmaZPn5722GOPdOSRR/a+Irj54NbIP5o7cnpqJ0CAAAECBAgQIEBgFALmqFGoD+dMS5IhODbfXrNkyZLeM2211VZ9vxp4CEdmewrNnY3aQQQIECBAgAABAgQIVCJgjoobpCVJ3OyyVK65szA7hAABAgQIECBAgACBigTMUXHDtCSJm12WyjV3FmaHECBAgAABAgQIECBQkYA5Km6YliSTZHfRRRf1frvFFlukl7zkJb3/fc2/tY386KOPbvuQIq7X3EXEoAgCBAgQIECAAAECBAIJmKMChfWIUi1JJslu2rRpvW+v2XXXXXsfztr8rPm3tpGv+WDXto8b9fWae9QJOJ8AAQIECBAgQIAAgWgC5qhoif1fvZYkk2R36KGH9pYkT37yk9MnP/nJ3pVr/q1t5FdccUXbhxRxveYuIgZFECBAgAABAgQIECAQSMAcFSisR5RqSRI3uyyVa+4szA4hQIAAAQIECBAgQKAiAXNU3DAtSeJml6VyzZ2F2SEECBAgQIAAAQIECFQkYI6KG6YlSdzsslSuubMwO4QAAQIECBAgQIAAgYoEzFFxw7QkaZnddtttlw466KDefw4++OC099579z63pNYfzV1rsl4XAQIECBAgQIAAAQIbS8ActbFkN/7zWpK0NG6+3ab5WbMYmT17djrggAN6C5PmP/vuu2/aZJNNWj5ruZdr7nKzURkBAgQIECBAgAABAmUKmKPKzGUqVVmSTEXp96757ne/m6666qp09dVXp29+85vprrvuetjSZMaMGelP//RP1y5N9t9//7TZZpu1PKWcyzV3OVmohAABAgQIECBAgACBGALmqBg5ratKS5IBs/v+97/fW5is+c/tt9/+sKXJYx7zmDRv3rzeQiXij+aOmJqaCRAgQIAAAQIECBAYpYA5apT6g51tSTKY36MevXDhwt7C5IILLkjXX3/92oXJqlWrhnxSnqfT3HmcnUKAAAECBAgQIECAQD0C5qi4WVqSDCm75h0lzZ/hNP/5xje+kRYvXpzGx8d7zz5r1qx0zz33DOmkvE+jufN6O40AAQIECBAgQIAAgfgC5qi4GVqSbEB2zfLjf/7nf3rvGFmzFFmyZMnapcjmm2+eDjzwwHTIIYeE/zBXzb0BN4iHECBAgAABAgQIECDQaQFzVNz4LUlaZveCF7wgffvb307Lli1buxTZeuut0zOf+cy1S5F99tknrfkWnJZPX9zlmru4SBREgAABAgQIECBAgEDhAuaowgOapDxLkpbZNcuP5ut/m3eL/PVf/3V6+ctfnvbcc8+WzxLncs0dJyuVEiBAgAABAgQIECBQhoA5qowcNqQKS5KWaptssklavXp171HNsmSXXXZJhx566Np3kTzpSU9q+YxlX665y85HdQQIECBAgAABAgQIlCdgjiovk6lWZEkyVan/f13zAazN1/mu+crfBQsWpAcffLC3MGl+dthhh97nkDSfR9L8Z+edd255QlmXa+6y8lANAQIECBAgQIAAAQLlC5ijys9ofRVakgyY3cqVK9M111yz9kNcr7vuunTfffetXZrMmTOntyz59Kc/PeBJo3m45h6Nu1MJECBAgAABAgQIEIgrYI6Km50lyZCza95V8pWvfCW95z3vSddff33v2Zt3maxatWrIJ+V5Os2dx9kpBAgQIECAAAECBAjUI2COipulJckQslu8ePHad5I0Xwn8wx/+sPfNN81/LEmGAOwpCBAgQIAAAQIECBAgEEjAkiRQWI8o1ZJkA7L79a9/nZplSPO5JM3//OlPf9p7lt9fiuy+++69zyZZ85/mz24i/mjuiKmpmQABAgQIECBAgACBUQqYo0apP9jZliQt/Zpvs7nlllsethSZPn16evrTn752IXLQQQelxz3ucS2fuczLNXeZuaiKAAECBAgQIECAAIFyBcxR5WbTrzJLkn5Cj/j9tGnT0qabbprmzZu3dily4IEHps0337zlM8W4XHPHyEmVBAgQIECAAAECBAiUI2COKieLtpVYkrQUu/LKK9N+++2XNttss5aPjHm55o6Zm6oJECBAgAABAgQIEBidgDlqdPaDnmxJMqhg5Y8vubmbj4JZtCil5uNe5s6tPAgvj8A6BPSA26LrAnqg63eA198I6AP3QdcFSu2Bkueort8z/V6/JUk/oY7/vsTmvvbalE46KaXrrvu/cB56c086++z00Lt8Oh6Yl98JAT3QiZi9yEkE9IDbg0BK+sBd0HWB0nugxDmq6/fMVF+/JclUpTp6XWnN3fyX4fz5Kd1336MDaf4C6oorLEo6eqt25mXrgc5E7YWuR0APuDUITCxI/P9D7oQuC0TogdLmqC7fL21fuyVJW7GOXV9ac++//8T/Y7C+n+adJNdc07GQvNxOCeiBTsXtxa5DQA+4LQikpA/cBV0XiNADpc1RXb9n2rx+S5I2Wh28tqTmbv7ecNdd+4fQXPfUp/a/zhUEognogWiJqXfYAnpg2KKeL6KAPoiYmpqHKRClB0qao4bp34XnsiTpQsoDvMaSmvuhLxbqvbW0309z3SGH9LvK7wnEE9AD8TJT8XAF9MBwPT1bTAF9EDM3VQ9PIEoPlDRHDU+/G89kSdKNnDf4VZbU3FG2xhuM7YEE+gjoAbdI1wX0QNfvAK+/EdAH7oOuC0TpgZLmqK7fM21fvyVJW7GOXV9ac0f4+8OO3SJebmYBPZAZ3HHFCeiB4iJR0AgE9MEI0B1ZlECEHihtjioqwMKLsSQpPKBRl1dac0f4JOtRZ+b8ugX0QN35enX9BfRAfyNX1C+gD+rP2CucXCBCD5Q2R7mnpi5gSTJ1q3VeuXLlyrR06dL04IMPTvpMT37ykwc8aTQPL7G5m/9SPPnkh3/LTfOtNmef7et/R3OXODW3gB7ILe680gT0QGmJqGcUAvpgFOrOLEmg9B4ocY4qKb+Sa7Ek2YB0lixZkv7pn/4pXXzxxenWW2/t+wxjY2Ppd7/7Xd/rSryg5OZeuDClRYtSmjPHt9mUeO+oaeML6IGNb+yEsgX0QNn5qC6PgD7I4+yUcgVK7YGS56hy0yyjMkuSljksemgqP/DAA9Mvf/nLND4+PuVHr169esrXlnSh5i4pDbUQIECAAAECBAgQIBBBwBwVIaV112hJ0jK717zmNekTn/hE2mqrrdIpp5ySXvSiF6Xtt98+Pfaxj235TDEu19wxclIlAQIECBAgQIAAAQLlCJijysmibSWWJC3F5jz0tx133HFHuvTSS9Phhx/e8tHxLtfc8TJTMQECBAgQIECAAAECoxUwR43Wf5DTLUla6s2YMSNNmzYt3XPPPb3/WfuP5q49Ya+PAAECBAgQIECAAIFhC5ijhi2a7/ksSVpaz50796EPC12Uli9f3vKRMS/X3DFzUzUBAgQIECBAgAABAqMTMEeNzn7Qky1JWgq+853v7H2zzeWXX54OOeSQlo+Od7nmjpeZigkQIECAAAECBAgQGK2AOWq0/oOcbknSUu/ee+9N+++/f1q5cmX68pe/nJp3ltT8o7lrTtdrI0CAAAECBAgQIEBgYwiYozaGap7ntCSZxPmiiy5a52/vvvvu9K53vSutWLEiHXHEEWmvvfZKzQe6TvZz9NFH50l0yKdo7iGDejoCBAgQIECAAAECBKoXMEfFjdiSZJLsmg9mHRsbW+cV4+PjvX9f3+8f+aBVq1aFvEs0d8jYFE2AAAECBAgQIECAwAgFzFEjxB/waEuSSQAPPfTQKS9B+uVwxRVX9LukyN9r7iJjURQBAgQIECBAgAABAgULmKMKDqdPaZYkcbPLUrnmzsLsEAIECBAgQIAAAQIEKhIwR8UN05IkbnZZKtfcWZgdQoAAAQIECBAgQIBARQLmqLhhWpLEzS5L5Zo7C7NDCBAgQIAAAQIEibbzawAAIABJREFUCBCoSMAcFTdMS5KW2f3kJz9J73vf+3pf/fv3f//3kz76jDPOSL/4xS/SO97xjrTLLru0PKmMyzV3GTmoggABAgQIECBAgACBOALmqDhZPbJSS5KW2TWLkfe///3p/PPPT8cee+ykjz7rrLPSW9/61vQP//AP6d3vfnfLk8q4XHOXkYMqCBAgQIAAAQIECBCII2COipOVJcmAWT3jGc9IN910U/rf//3f9PjHP37SZ7vjjjvSE5/4xNQ8ZsGCBQOePJqHa+7RuDuVAAECBAgQIECAAIG4AuaouNl5J0nL7LbZZpu0atWqtGTJkik9csstt0ybbrppWrx48ZSuL+0izV1aIuohQIAAAQIECBAgQKB0AXNU6Qmtvz5LkpbZzZw5s7f0WLp06ZQeucUWW6QHHnggrVy5ckrXl3aR5i4tEfUQIECAAAECBAgQIFC6gDmq9IQsSYaW0FOe8pTeh7EuXLgw7bzzzpM+789//vPUXL/DDjv0HhPxR3NHTE3NBAgQIECAAAECBAiMUsAcNUr9wc72TpKWfq997WvTJz7xifSqV70qffzjH5/00cccc0z61Kc+lV75ylf2HhPxR3NHTE3NBAgQIECAAAECBAiMUsAcNUr9wc62JGnp973vfS/ts88+aXx8vPftNu9973vT1ltv/bBnueuuu9Lb3/729LGPfSxNmzat96Gte++9d8uTyrhcc5eRgyoIECBAgAABAgQIEIgjYI6Kk9UjK7Uk2YDsmq8Aftvb3pbGxsZ6n08yb9689OQnP7n3TLfeemu64YYbep9D0ixS3ve+9/W+Bjjqj+aOmpy6CRAgQIAAAQIECBAYlYA5alTyg59rSbKBhv/2b//WW37cfvvt63yGOXPmpGaZ8vKXv3wDTyjjYZq7jBxUQYAAAQIECBAgQIBAHAFzVJysHlmpJckA2T344IPp61//erruuuvWfsXvdtttl/bbb7902GGHpU022WSAZy/joZq7jBxUQYAAAQIECBAgQIBAHAFzVJysLEniZjWSyjX3SNgdSoAAAQIECBAgQIBAYAFzVNzwvJOkZXann356am74N7/5zVN65LnnnpuWLl2aTjnllCldX9pFmru0RNRDgAABAgQIECBAgEDpAuao0hNaf32WJC2za76t5glPeEJatGjRlB650047pV/+8pdp1apVU7q+tIs0d2mJqIcAAQIECBAgQIAAgdIFzFGlJ2RJMrSE2i5Jdtxxx3TbbbdZkgwtAU9EgAABAgQIECBAgACBsgUsScrOZ7LqvJOkZXZtliTNVwA3zTF9+vS0bNmylieVcbnmLiMHVRAgQIAAAQIECBAgEEfAHBUnq0dWaknSJ7tmudF8psian+adIdtuu21asGBBapYg6/pp/v3uu+9On/70p9MHPvCBNG/evPSd73wn5F2iuUPGpmgCBAgQIECAAAECBEYoYI4aIf6AR1uS9AE87bTTUvNhrWt+mgXI2NjYlNmb6z/60Y+mY489dsqPKelCzV1SGmohQIAAAQIECBAgQCCCgDkqQkrrrtGSpE92p5566sOWJM2CZH3vIFnzVM01s2fPTnvssUd6zWtek1772teGvUM0d9joFE6AAAECBAgQIECAwIgEzFEjgh/CsZYkLRHbfCZJy6cu8nLNXWQsiiJAgAABAgQIECBAoGABc1TB4fQpzZKkZXbHHHNM2nLLLdMHP/jBlo+MebnmjpmbqgkQIECAAAECBAgQGJ2AOWp09oOebEkyqGDlj9fclQfs5REgQIAAAQIECBAgMHQBc9TQSbM9oSVJNuqYB2numLmpmgABAgQIECBAgACB0QmYo0ZnP+jJliSTCK75VpttttkmHX/88b0rf/+bbtrgn3LKKW0uL+ZazV1MFAohQIAAAQIECBAgQCCIgDkqSFDrKNOSZJLsmg9pbb6pZtddd00//OEPe1eu+bepRr7mK4NXrVo11YcUdZ3mLioOxRAgQIAAAQIECBAgEEDAHBUgpPWUaEkySXbNh7Q2S5InPvGJ6b3vfW/vyjX/1jbyCy+8sO1DirhecxcRgyIIECBAgAABAgQIEAgkYI4KFNYjSrUkiZtdlso1dxZmhxAgQIAAAQIECBAgUJGAOSpumJYkcbPLUrnmzsLsEAIECBAgQIAAAQIEKhIwR8UN05IkbnZZKtfcWZgdQoAAAQIECBAgQIBARQLmqLhhWpLEzS5L5Zo7C7NDCBAgQIAAAQIECBCoSMAcFTdMS5JJstt5552Hkmzz4a8333zzUJ7r1ltvTZdcckm6/PLL00033ZTuuOOOtNlmm6WnPvWp6UUvelE68cQT09Zbbz2Us5on0dxDo/REBAgQIECAAAECBAh0RMAcFTdoS5JJsmu+7ncYP82SZBhfAXzLLbekZnHTfK3wmp8tttgi3XPPPWn16tW9f2q+ieeyyy5Le++99zBKtyQZiqInIUCAAAECBAgQIECgSwKWJHHTtiSZJLurrrpqaMkecsghAz/Xz372szR37tzeO0aaryJ+1rOelZolyX333Ze+9KUvpRNOOCEtXrw4PelJT0o//vGP08yZMwc+U3MPTOgJCBAgQIAAAQIECBDomIA5Km7gliSBslu6dGm67bbb0tOe9rR1Vn311VenNcuYCy+8sLdIGfRHcw8q6PEECBAgQIAAAQIECHRNwBwVN3FLkrjZrbPynXbaKTV/ltO8q+Tcc88d+NVp7oEJPQEBAgQIECBAgAABAh0TMEfFDdySJG5266x83rx56YYbbkjHH398Ou+88wZ+dZp7YEJPQIAAAQIECBAgQIBAxwTMUXEDtySZQna/+93v0r333puaD2DdfPPNH/aIs846Ky1fvny9z3Lsscf2Pkw1x89vf/vbNGfOnHT//fenD3/4w+m4444b+FjNPTChJyBAgAABAgQIECBAoGMC5qi4gVuSTCG7l770peniiy9Ob3zjGx/17oxmAdJ8WOr6fv7yL/8yfepTn5rCKYNf8pa3vCWdeeaZvW+k+fnPf5623XbbKT3pmgZe18UrVqxIs2bNmnQRNKVDXESAAAECBAgQIECAAIGOCFiSxA3akqRPds03yuy6665p6623TrfeeuujvjFmzZLk4IMPftQzNX/20rwD5eabb0477LDDRr1LLr/88vSc5zyn91XD//Iv/5Le+ta3Tvk8S5IpU7mQAAECBAgQIECAAAECfQUsSfoSFXuBJUmfaN7znvekf/zHf0xvf/vb07vf/e5HXb1mSdIsJx75c+qpp6bTTz89nXHGGekd73jHRrsJFi5cmA488MD0m9/8Jh1++OHpsssu6/1p0DB+NPcwFD0HAQIECBAgQIAAAQJdEjBHxU3bkqRPds997nPT17/+9XTttdemfffdt9WS5Mc//nHaY4890rOf/ez0X//1XxvlLvnVr36VDjrooN432jT1Ne8omeydIW2L0NxtxVxPgAABAgQIECBAgEDXBcxRce8AS5I+2W2//fbpjjvuSA888ECaNm1aqyXJ+Ph4mjFjRtpmm21Ss8wY9k/zWSiHHHJIapYxe+65Z7rqqqvS4x73uKEeo7mHyunJCBAgQIAAAQIECBDogIA5Km7IliR9smuWHDNnzkx33XXXOq9829velpYtW5Y+8pGPrPP3j3/843sfetp8Nskwf5YuXZrmz5+fbrzxxrTzzjunb37zmxvlW3Q09zBT81wECBAgQIAAAQIECHRBwBwVN2VLkj7ZDXpzD/r4dZXXfONM8yc811xzTWre6dIsSHbccceNchdujPo3SqGelAABAgQIECBAgAABAoUImKMKCWIDyrAk6YPWLB9uu+22dPvtt0/5K3XXPGXz5zBPeMITet9s84tf/GID4nn0Q+6///70whe+sPc5Kc27VK6++uret+9srB/NvbFkPS8BAgQIECBAgAABArUKmKPiJmtJ0ie7v/iLv0hf+tKX0kUXXZRe8YpXtEr6U5/6VHrVq16VXvziF6f//M//bPXYdV3cfIPOUUcdlb7whS+krbbaKl155ZVpr732Gvh5J3sCzb1ReT05AQIECBAgQIAAAQIVCpij4oZqSdInu49+9KPpuOOOS3/0R3+UbrjhhvSYxzxmSmk3H/T6jGc8I/3oRz9K5513XnrjG984pcdNdlHzrpHmg1qbn+azUmbPnr3eyw844ID0+c9/fuAzNffAhJ6AAAECBAgQIECAAIGOCZij4gZuSdInu5UrV/Y+GLX505kjjjgiffKTn+wtKCb7aR5z9NFHp0suuaT3JzHNn9r0e8xUbqHmnSPNh7VO5adZpjTXD/qjuQcV9HgCBAgQIECAAAECBLomYI6Km7glyRSya/5UplmQND877bRT+pu/+Zv0/Oc/P+2yyy4Pe/TNN9+cLr300nTuuef2FiNjY2Ppc5/7XGr+ZCfqj+aOmpy6CRAgQIAAAQIECBAYlYA5alTyg59rSTJFwwsuuCCdcMIJ6cEHH+wtP5qfzTbbLG255Za9/735St777ruv97+Pj4/3/iznnHPOGcqf2UyxxI1ymebeKKyelAABAgQIECBAgACBigXMUXHDtSRpkd2CBQvSO9/5zvS1r31t0kc95znPSWeccUbad999Wzx7mZdq7jJzURUBAgQIECBAgAABAuUKmKPKzaZfZZYk/YTW8fvmK4Gvuuqq3oeyLlmypHdF820zu+++e++DVZ/0pCdtwLOW+RDNXWYuqiJAgAABAgQIECBAoFwBc1S52fSrzJKkn1DHf6+5O34DePkECBAgQIAAAQIECLQWMEe1JivmAZYkxURRZiGau8xcVEWAAAECBAgQIECAQLkC5qhys+lXmSVJP6GO/15zd/wG8PIJECBAgAABAgQIEGgtYI5qTVbMAyxJiomizEI0d5m5qIoAAQIECBAgQIAAgXIFzFHlZtOvMkuSfkId/73m7vgN4OUTIECAAAECBAgQINBawBzVmqyYB1iSFBNFmYVo7jJzURUBAgQIECBAgAABAuUKmKPKzaZfZZYk/YQ6/nvN3fEbwMsnQIAAAQIECBAgQKC1gDmqNVkxD7AkKSaKMgvR3GXmoioCBAgQIECAAAECBMoVMEeVm02/yixJ+gl1/Peau+M3gJdPgAABAgQIECBAgEBrAXNUa7JiHmBJUkwUZRaiucvMRVUECBAgQIAAAQIECJQrYI4qN5t+lVmS9BPq+O81d8dvAC+fAAECBAgQIECAAIHWAuao1mTFPMCSpJgoyixEc5eZi6oIECBAgAABAgQIEChXwBxVbjb9KrMk6SfU8d9r7o7fAF4+AQIECBAgQIAAAQKtBcxRrcmKeYAlSTFRlFmI5i4zF1URIECAAAECBAgQIFCugDmq3Gz6VWZJ0k+o47/X3B2/Abx8AgQIECBAgAABAgRaC5ijWpMV8wBLkmKiKLMQzV1mLqoiQIAAAQIECBAgQKBcAXNUudn0q8ySpJ9Qx3+vuTt+A3j5BAgQIECAAAECBAi0FjBHtSYr5gGWJMVEUWYhmrvMXFRFgAABAgQIECBAgEC5AuaocrPpV5klST+hjv9ec3f8BvDyCRAgQIAAAQIECBBoLWCOak1WzAMsSYqJosxCNHeZuaiKAAECBAgQIECAAIFyBcxR5WbTrzJLkn5CHf+95u74DeDlEyBAgAABAgQIECDQWsAc1ZqsmAdYkhQTRZmFaO4yc1EVAQIECBAgQIAAAQLlCpijys2mX2WWJP2EOv57zd3xG8DLJ0CAAAECBAgQIECgtYA5qjVZMQ+wJCkmijIL0dxl5qIqAgQIECBAgAABAgTKFTBHlZtNv8osSfoJdfz3mrvjN4CXT4AAAQIECBAgQIBAawFzVGuyYh5gSVJMFGUWornLzEVVBAgQIECAAAECBAiUK2COKjebfpVZkvQT6vjvNXfHbwAvnwABAgQIECBAgACB1gLmqNZkxTzAkqSYKMosRHOXmYuqCBAgQIAAAQIECBAoV8AcVW42/SqzJOkn1PHfa+6O3wBePgECBAgQIECAAAECrQXMUa3JinmAJUkxUZRZiOYuMxdVESBAgAABAgQIECBQroA5qtxs+lVmSdJPqOO/19wdvwG8fAIECBAgQIAAAQIEWguYo1qTFfMAS5JioiizEM1dZi6qIkCAAAECBAgQIECgXAFzVLnZ9KvMkqSfUMd/r7k7fgN4+QQIECBAgAABAgQItBYwR7UmK+YBliTFRFFmIZq7zFxURYAAAQIECBAgQIBAuQLmqHKz6VeZJUk/oY7/XnN3/Abw8gkQIECAAAECBAgQaC1gjmpNVswDLEmKiaLMQjR3mbmoigABAgQIECBAgACBcgXMUeVm068yS5J+Qh3/vebu+A3g5RMgQIAAAQIECBAg0FrAHNWarJgHWJIUE0WZhWjuMnNRFQECBAgQIECAAAEC5QqYo8rNpl9lliT9hDr+e83d8RvAyydAgAABAgQIECBAoLWAOao1WTEPsCQpJooyC9HcZeaiKgIECBAgQIAAAQIEyhUwR5WbTb/KLEn6CXX895q74zeAl0+AAAECBAgQIECAQGsBc1RrsmIeYElSTBRlFqK5y8xFVQQIECBAgAABAgQIlCtgjio3m36VWZL0E+r47zV3x28AL58AAQIECBAgQIAAgdYC5qjWZMU8wJKkmCjKLERzl5mLqggQIECAAAECBAgQKFfAHFVuNv0qsyTpJ9Tx32vujt8AXj4BAgQIECBAgAABAq0FzFGtyYp5gCVJMVGUWYjmLjMXVREgQIAAAQIECBAgUK6AOarcbPpVZknST6jjv9fcHb8BvHwCBAgQIECAAAECBFoLmKNakxXzAEuSYqIosxDNXWYuqiJAgAABAgQIECBAoFwBc1S52fSrzJKkn1DHf6+5O34DePkECBAgQIAAAQIECLQWMEe1JivmAZYkxURRZiGau8xcVEWAAAECBAgQIECAQLkC5qhys+lXmSVJP6GO/15zd/wG8PIJECBAgAABAgQIEGgtYI5qTVbMAyxJiomizEI0d5m5qIoAAQIECBAgQIAAgXIFzFHlZtOvMkuSfkId/73m7vgN4OUTIECAAAECBAgQINBawBzVmqyYB1iSFBNFmYVo7jJzURUBAgQIECBAgAABAuUKmKPKzaZfZZYk/YQ6/nvN3fEbwMsnQIAAAQIECBAgQKC1gDmqNVkxD7AkKSaKMgvR3GXmoioCBAgQIECAAAECBMoVMEeVm02/yixJ+gl1/Peau+M3gJdPgAABAgQIECBAgEBrAXNUa7JiHmBJUkwUZRaiucvMRVUECBAgQIAAAQIECJQrYI4qN5t+lVmS9BPq+O81d8dvAC+fAAECBAgQIECAAIHWAuao1mTFPMCSpJgoyixEc5eZi6oIECBAgAABAgQIEChXwBxVbjb9KrMk6SfU8d9r7o7fAF4+AQIECBAgQIAAAQKtBcxRrcmKeYAlSTFRlFmI5i4zF1URIECAAAECBAgQIFCugDmq3Gz6VWZJ0k+o47/X3B2/Abx8AgQIECBAgAABAgRaC5ijWpMV8wBLkmKiKLMQzV1mLqoiQIAAAQIECBAgQKBcAXNUudn0q8ySpJ9Qx3+vuTt+A3j5BAgQIECAAAECBAi0FjBHtSYr5gGWJMVEUWYhmrvMXFRFgAABAgQIECBAgEC5AuaocrPpV5klST+hjv9ec3f8BvDyCRAgQIAAAQIECBBoLWCOak1WzAMsSYqJosxCNHeZuaiKAAECBAgQIECAAIFyBcxR5WbTrzJLkn5CHf+95u74DeDlEyBAgAABAgQIECDQWsAc1ZqsmAdYkhQTRZmFaO4yc1EVAQIECBAgQIAAAQLlCpijys2mX2WWJP2EOv57zd3xG8DLJ0CAAAECBAgQIECgtYA5qjVZMQ+wJCkmijIL0dxl5qIqAgQIECBAgAABAgTKFTBHlZtNv8osSfoJdfz3mrvjN4CXT4AAAQIECBAgQIBAawFzVGuyYh5gSVJMFGUWornLzEVVBAgQIECAAAECBAiUK2COKjebfpVZkvQT6vjvNXfHbwAvnwABAgQIECBAgACB1gLmqNZkxTzAkqSYKMosRHOXmYuqCBAgQIAAAQIECBAoV8AcVW42/SqzJOkn1PHfa+6O3wBePgECBAgQIECAAAECrQXMUa3JinmAJUkxUZRZiOYuMxdVESBAgAABAgQIECBQroA5qtxs+lVmSdJPqOO/19wdvwG8fAIECBAgQIAAAQIEWguYo1qTFfMAS5JioiizEM1dZi6qIkCAAAECBAgQIECgXAFzVLnZ9KvMkqSfUMd/r7k7fgN4+QQIECBAgAABAgQItBYwR7UmK+YBliTFRFFmIZq7zFxURYAAAQIECBAgQIBAuQLmqHKz6VeZJUk/oY7/XnN3/Abw8gkQIECAAAECBAgQaC1gjmpNVswDLEmKiaLMQjR3mbmoigABAgQIECBAgACBcgXMUeVm068yS5J+Qh3/vebu+A3g5RMgQIAAAQIECBAg0FrAHNWarJgHWJIUE0WZhWjuMnNRFQECBAgQIECAAAEC5QqYo8rNpl9lliT9hDr+e83d8RvAyydAgAABAgQIECBAoLWAOao1WTEPsCQpJooyC9HcZeaiKgIECBAgQIAAAQIEyhUwR5WbTb/KLEn6CXX895q74zeAl0+AAAECBAgQIECAQGsBc1RrsmIeYElSTBRlFqK5y8xFVQQIECBAgAABAgQIlCtgjio3m36VWZL0E+r47zV3x28AL58AAQIECBAgQIAAgdYC5qjWZMU8wJKkmCjKLERzl5mLqggQIECAAAECBAgQKFfAHFVuNv0qsyTpJ9Tx32vujt8AXj4BAgQIECBAgAABAq0FzFGtyYp5gCVJMVFMrZA777wzXXHFFWnBggXp+uuvTzfccENatmxZ78Hj4+NTe5IWV2nuFlguJUCAAAECBAgQIECAwEMC5qi4t4ElSbDsPvjBD6aTTz55nVVbkgQLU7kECBAgQIAAAQIECFQpYEkSN1ZLkmDZnXPOOekDH/hA2nfffdO8efPS2NhYevvb3957FZYkwcJULgECBAgQIECAAAECVQpYksSN1ZIkWHarVq1K06dPX1v1lVdemebPn29JEixH5RIgQIAAAQIECBAgUK+AJUncbC1J4mbXq9ySJHiAyidAgAABAgQIECBAoDoBS5K4kVqSxM3OkiR4dsonQIAAAQIECBAgQKBOAUuSuLlaksTNzpIkeHbKJ0CAAAECBAgQIECgTgFLkri5WpLEzW5oS5I1DbwuihUrVqRZs2al5cuXB5dSPgECBAgQIECAAAECBPIIWJLkcd4Yp1iSbAzVjM85jM8ksSTJGJijCBAgQIAAAQIECBCoXsCSJG7EliRxs+tVPowlyWQEmjv4DaJ8AgQIECBAgAABAgSyC5ijspMP7UBLkqFRjuaJLElG4+5UAgQIECBAgAABAgQIrE/AkiTuvWFJEje7XuWWJMEDVD4BAgQIECBAgAABAtUJWJLEjdSSJG52liTBs1M+AQIECBAgQIAAAQJ1CliSxM3VkiRudpYkwbNTPgECBAgQIECAAAECdQpYksTN1ZIkbnaWJMGzUz4BAgQIECBAgAABAnUKWJLEzdWSJFh2q1evTr/97W/XVv2tb30r/fmf/3nv//7Nb36z9t+nT5+ettpqq4FfneYemNATECBAgAABAgQIECDQMQFzVNzALUmCZXfLLbeknXbaqW/VO+ywQ2quHfRHcw8q6PEECBAgQIAAAQIECHRNwBwVN3FLkmDZWZIEC0y5BAgQIECAAAECBAh0TsCSJG7kliRxs8tSuebOwuwQAgQIECBAgAABAgQqEjBHxQ3TkiRudlkq19xZmB1CgAABAgQIECBAgEBFAuaouGFaksTNLkvlmjsLs0MIECBAgAABAgQIEKhIwBwVN0xLkrjZZalcc2dhdggBAgQIECBAgAABAhUJmKPihmlJEje7LJVr7izMDiFAgAABAgQIECBAoCIBc1TcMC1J4maXpXLNnYXZIQQIECBAgAABAgQIVCRgjoobpiVJ3OyyVK65szA7hAABAgQIECBAgACBigTMUXHDtCSJm12WyjV3FmaHECBAgAABAgQIECBQkYA5Km6YliRxs8tSuebOwuwQAgQIECBAgAABAgQqEjBHxQ3TkiRudlkq19xZmB1CgAABAgQIECBAgEBFAuaouGFaksTNLkvlmjsLs0MIECBAgAABAgQIEKhIwBwVN0xLkrjZZalcc2dhdggBAgQIECBAgAABAhUJmKPihmlJEje7LJVr7izMDiFAgAABAgQIECBAoCIBc1TcMC1J4maXpXLNnYXZIQQIECBAgAABAgQIVCRgjoobpiVJ3OyyVK65szA7hAABAgQIECBAgACBigTMUXHDtCSJm12WyjV3FmaHECBAgAABAgQIECBQkYA5Km6YliRxs8tSuebOwuwQAgQIECBAgAABAgQqEjBHxQ3TkiRudlkq19xZmB1CgAABAgQIECBAgEBFAuaouGFaksTNLkvlmjsLs0MIECBAgAABAgQIEKhIwBwVN0xLkrjZZalcc2dhdggBAgQIECBAgAABAhUJmKPihmlJEje7LJVr7izMDiFAgAABAgQIECBAoCIBc1TcMC1J4maXpXLNnYXZIQQIECBAgAABAgQIVCRgjoobpiVJ3OyyVK65szA7hAABAgQIECBAgACBigTMUXHDtCSJm12WyjV3FmaHECBAgAABAgQIECBQkYA5Km6YliRxs8tSuebOwuwQAgQIECBAgAABAgQqEjBHxQ3TkiRudlkq19xZmB1CgAABAgQIECBAgEBFAuaouGFaksTNLkvlmjsLs0MIECBAgAABAgQIEKhIwBwVN0xLkrjZZalcc2dhdggBAgQIECBAgAABAhUJmKPihmlJEje7LJVr7izMDiFAgAABAgQIECBAoCIBc1TcMC1J4maXpXLnKR8yAAAgAElEQVTNnYXZIQQIECBAgAABAgQIVCRgjoobpiVJ3OyyVK65szA7hAABAgQIECBAgACBigTMUXHDtCSJm12WyjV3FmaHECBAgAABAgQIECBQkYA5Km6YliRxs8tSuebOwuwQAgQIECBAgAABAgQqEjBHxQ3TkiRudlkq19xZmB1CgAABAgQIECBAgEBFAuaouGFaksTNLkvlmjsLs0MIECBAgAABAgQIEKhIwBwVN0xLkrjZZalcc2dhdggBAgQIECBAgAABAhUJmKPihmlJEje7LJVr7izMDiFAgAABAgQIECBAoCIBc1TcMC1J4maXpXLNnYXZIQQIECBAgAABAgQIVCRgjoobpiVJ3OyyVK65szA7hAABAgQIECBAgACBigTMUXHDtCSJm12WyjV3FmaHECBAgAABAgQIECBQkYA5Km6YliRxs8tSuebOwuwQAgQIECBAgAABAgQqEjBHxQ3TkiRudlkq19xZmB1CgAABAgQIECBAgEBFAuaouGFaksTNLkvlmjsLs0MIECBAgAABAgQIEKhIwBwVN0xLkrjZZalcc2dhdggBAgQIECBAgAABAhUJmKPihmlJEje7LJVr7izMDiFAgAABAgQIECBAoCIBc1TcMC1J4maXpXLNnYXZIQQIECBAgAABAgQIVCRgjoobpiVJ3OyyVK65szA7hAABAgQIECBAgACBigTMUXHDtCSJm12WyjV3FmaHECBAgAABAgQIECBQkYA5Km6YliRxs8tSuebOwuwQAgQIECBAgAABAgQqEjBHxQ3TkiRudlkq19xZmB1CgAABAgQIECBAgEBFAuaouGFaksTNLkvlmjsLs0MIECBAgAABAgQIEKhIwBwVN0xLkrjZZalcc2dhdggBAgQIECBAgAABAhUJmKPihmlJEje7LJVr7izMDiFAgAABAgQIECBAoCIBc1TcMC1J4maXpXLNnYXZIQQIEPh/7d0LlJdF+cDxBxYMuS8XuRgFJIsCghaEchEovAGW5AVOyE2LAotQLqVHTUsxQCA6BxQhXJAwRFkxAS2OgBR3FpCTgoaKsBAgLNdFRZe/z3R+v/8uu8u++7vMvjO/75zTSeF935n5PO+A8+y8MwgggAACCCCAgEcCzKPcDSZJEndjZ6XlDG4rzFSCAAIIIIAAAggggAACHgkwj3I3mCRJ3I2dlZYzuK0wUwkCCCCAAAIIIIAAAgh4JMA8yt1gkiRxN3ZWWs7gtsJMJQgggAACCCCAAAIIIOCRAPMod4NJksTd2FlpOYPbCjOVIIAAAggggAACCCCAgEcCzKPcDSZJEndjZ6XlDG4rzFSCAAIIIIAAAggggAACHgkwj3I3mCRJ3I2dlZYzuK0wUwkCCCCAAAIIIIAAAgh4JMA8yt1gkiRxN3ZWWs7gtsJMJQgggAACCCCAAAIIIOCRAPMod4NJksTd2FlpOYPbCjOVIIAAAggggAACCCCAgEcCzKPcDSZJEndjZ6XlDG4rzFSCAAIIIIAAAggggAACHgkwj3I3mCRJ3I2dlZYzuK0wUwkCCCCAAAIIIIAAAgh4JMA8yt1gkiRxN3ZWWs7gtsJMJQgggAACCCCAAAIIIOCRAPMod4NJksTd2FlpOYPbCjOVIIAAAggggAACCCCAgEcCzKPcDSZJEndjZ6XlDG4rzFSCAAIIIIAAAggggAACHgkwj3I3mCRJ3I2dlZYzuK0wUwkCCCCAAAIIIIAAAgh4JMA8yt1gkiRxN3ZWWs7gtsJMJQgggAACCCCAAAIIIOCRAPMod4NJksTd2FlpOYPbCjOVIIAAAggggAACCCCAgEcCzKPcDSZJEndjZ6XlDG4rzFSCAAIIIIAAAggggAACHgkwj3I3mCRJ3I2dlZYzuK0wUwkCCCCAAAIIIIAAAgh4JMA8yt1gkiRxN3ZWWs7gtsJMJQgggAACCCCAAAIIIOCRAPMod4NJksTd2FlpOYPbCjOVIIAAAggggAACCCCAgEcCzKPcDSZJEndjZ6XlDG4rzFSCAAIIIIAAAggggAACHgkwj3I3mCRJ3I2dlZYzuK0wUwkCCCCAAAIIIIAAAgh4JMA8yt1gkiRxN3ZWWs7gtsJMJQgggAACCCCAAAIIIOCRAPMod4NJksTd2FlpOYPbCjOVIIAAAggggAACCCCAgEcCzKPcDSZJEndjZ6XlDG4rzFSCAAIIIIAAAggggAACHgkwj3I3mCRJ3I2dlZYzuK0wUwkCCCCAAAIIIIAAAgh4JMA8yt1gkiRxN3ZWWs7gtsJMJQgggAACCCCAAAIIIOCRAPMod4NJksTd2FlpOYPbCjOVIIAAAggggAACCCCAgEcCzKPcDSZJEndjZ6XlDG4rzFSCAAIIIIAAAggggAACHgkwj3I3mCRJ3I2dlZYzuK0wUwkCCCCAAAIIIIAAAgh4JMA8yt1gkiRxN3ZWWs7gtsJMJQgggAACCCCAAAIIIOCRAPMod4NJksTd2FlpOYPbCjOVIIAAAggggAACCCCAgEcCzKPcDSZJEndjZ6XlDG4rzFSCAAIIIIAAAggggAACHgkwj3I3mCRJ3I2dlZYzuK0wUwkCCCCAAAIIIIAAAgh4JMA8yt1gkiRxN3ZWWs7gtsJMJQgggAACCCCAAAIIIOCRAPMod4NJksTd2FlpOYPbCjOVIIAAAggggAACCCCAgEcCzKPcDSZJEndjZ6XlDG4rzFSCAAIIIIAAAggggAACHgkwj3I3mCRJ3I2dlZYzuK0wUwkCCCCAAAIIIIAAAgh4JMA8yt1gkiRxN3ZWWs7gtsJMJQgggAACCCCAAAIIIOCRAPMod4NJksTd2FlpOYPbCjOVIIAAAggggAACCCCAgEcCzKPcDSZJEndjZ6XlDG4rzFSCAAIIIIAAAggggAACHgkwj3I3mCRJ3I2dlZYzuK0wUwkCCCCAAAIIIIAAAgh4JMA8yt1gkiRxN3ZWWs7gtsJMJQgggAACCCCAAAIIIOCRAPMod4NJksTR2OXk5Mj48eNl2bJlcuDAAUlPT5fOnTvL2LFjpWPHjgnrFYM7YZQ8CAEEEEAAAQQQQAABBFJEgHmUu4EmSeJg7LKzs6Vnz56Sm5trWl+zZk05efKknDt3TtLS0mT27NkyZMiQhPSMwZ0QRh6CAAIIIIAAAggggAACKSTAPMrdYJMkcSx2eXl50rJlS9m3b5906NBB5s+fLxkZGXLkyBEZM2aMZGZmSuXKlWXz5s3Stm3buHvH4I6bkAcggAACCCCAAAIIIIBAigkwj3I34CRJHIvd5MmTTTJEV4/s2rVLGjZsGO1Bfn6+dOrUSTZs2CC33nqrZGVlxd07BnfchDwAAQQQQAABBBBAAAEEUkyAeZS7ASdJ4ljs2rdvL1u2bJHhw4fLjBkzirR+4cKF0r9/f7Oa5PDhw1KrVq24ehjmwf3eeyL794s0bixfraaJq5vcjICTAowBJ8NGoxMowBhIICaPclaAceBs6Gh4ggTCOgbCPI9KEL23jyFJ4lBodd8RXUGiZfHixdK3b98irdfPburXr2/2J3nttdekd+/ecfUwjIN7/XqRUaPkqxUz/9+1a64RmTpVRP+fgoDvAowB3yNM/0oTYAyUJsTvp4IA4yAVokwfLyQQ9jEQxnkUb1QwAZIkwZxCcdXGjRujJ9fs3LnT7E1SXNFPcA4ePCiTJk0yn+bEU8I2uPUPwx49RD79tGivqlQRWbmSREk88ebe8AswBsIfI1qYXAHGQHJ9ebobAowDN+JEK5Mn4MIYCNs8KnnR8O/JJEkciumSJUvMXiNaTpw4ITVq1Ci29VdffbVs27ZN7r//ftE9TOIpYRvc114ron8ollR0Jcm6dfH0mHsRCLcAYyDc8aF1yRdgDCTfmBrCL8A4CH+MaGFyBVwYA2GbRyU3In49nSSJQ/FcsGCBDBgwwLT47NmzUqlSpWJb37lzZ1m7dq0MGzZMZs6cWWoPIwO4uAtPnz4t1apVk1OnTpX6nGRfoN8blrB4plDVel2LFsluDc9HwL4AY8C+OTWGS4AxEK540JryEWAclI87tYZHwJUxQJIkPO9MWVtCkqSsYuV4faonSVat+t+nNqUVva5bt9Ku4vcRcE+AMeBezGhxYgUYA4n15GluCjAO3IwbrU6cgCtjgCRJ4mJu+0kkSWyLx1Ffqn9u40rWOI4QcysCFxRgDPCCpLoAYyDV3wD6rwKMA96DVBdwZQyQJHH3TSVJ4lDs2LhVxIXvDx16pWiqgwKMAQeDRpMTKsAYSCgnD3NUgHHgaOBodsIEXBgDJEkSFm7rDyJJYp089gr1COBatWqZ431T9QhgF3ayjj3C3IlA6QKMgdKNuMJvAcaA3/Gld8EEGAfBnLjKXwEXxgBJEnffP5IkjsWuQ4cOsnnzZhkxYoRMnz69SOtffPFF6devn1SuXFkOHz5skirxlDAObv1D8b77Cp9yo6faTJ3K8b/xxJp73RFgDLgTK1qaHAHGQHJceapbAowDt+JFaxMvEPYxEMZ5VOKj4OcTSZI4FtcpU6bI6NGjTfJj165d0qBBg2gPdIWJnmyz7qszcPWo4KysrLh7F+bB/f77Ivv3izRuzGk2cQeaBzgpwBhwMmw0OoECjIEEYvIoZwUYB86GjoYnSCCsYyDM86gE0Xv7GJIkjoU2Ly/vq2NwW8q+ffukY8eOMm/ePMnIyJCjR4/K2LFjZc6cOWYVia42adu2bdy9Y3DHTcgDEEAAAQQQQAABBBBAIMUEmEe5G3CSJA7GLjs7W3r27Cm5ubmm9bqqRPcryc/Pl7S0NJk1a5YMHTo0IT1jcCeEkYcggAACCCCAAAIIIIBACgkwj3I32CRJHI1dTk6OjB8/XpYuXSoHDhyQ9PR086nNuHHjzAqTRBUGd6IkeQ4CCCCAAAIIIIAAAgikigDzKHcjTZLE3dhZaTmD2wozlSCAAAIIIIAAAggggIBHAsyj3A0mSRJ3Y2el5QxuK8xUggACCCCAAAIIIIAAAh4JMI9yN5gkSdyNnZWWM7itMFMJAggggAACCCCAAAIIeCTAPMrdYJIkcTd2VlrO4LbCTCUIIIAAAggggAACCCDgkQDzKHeDSZLE3dhZaTmD2wozlSCAAAIIIIAAAggggIBHAsyj3A0mSRJ3Y2el5QxuK8xUggACCCCAAAIIIIAAAh4JMI9yN5gkSdyNnZWWM7itMFMJAggggAACCCCAAAIIeCTAPMrdYJIkcTd2VlrO4LbCTCUIIIAAAggggAACCCDgkQDzKHeDSZLE3dhZaTmD2wozlSCAAAIIIIAAAggggIBHAsyj3A0mSRJ3Y2el5QxuK8xUggACCCCAAAIIIIAAAh4JMI9yN5gkSdyNnZWWM7itMFMJAggggAACCCCAAAIIeCTAPMrdYJIkcTd2VlrO4LbCTCUIIIAAAggggAACCCDgkQDzKHeDSZLE3dhZaTmD2wozlSCAAAIIIIAAAggggIBHAsyj3A0mSRJ3Y2el5QxuK8xUggACCCCAAAIIIIAAAh4JMI9yN5gkSdyNnZWWM7itMFMJAggggAACCCCAAAIIeCTAPMrdYJIkcTd2VlrO4LbCTCUIIIAAAggggAACCCDgkQDzKHeDSZLE3dhZaTmD2wozlSCAAAIIIIAAAggggIBHAsyj3A0mSRJ3Y2el5QxuK8xUggACCCCAAAIIIIAAAh4JMI9yN5gkSdyNnZWWV6hQwdRTrVo1K/VRCQIIIIAAAggggAACCCDgusDp06dNF86dO+d6V1Ku/SRJUi7kZetwxYoVzQ1Vq1Yt241cHUqByB/WJL1CGR6vGsW75lU4Q9sZ3rPQhsa7hvGueRfSUHaI9yyUYYm5UXl5eebe/Pz8mJ/BjeUjQJKkfNypFYFyEWDZX7mwp2SlvGspGXbrneY9s06eshXyrqVs6K12nPfMKjeVIVCiAEkSXg4EUkiAv3xTKNjl3FXetXIOQIpUz3uWIoEOQTd510IQhBRoAu9ZCgSZLjohQJLEiTDRSAQSI8Bfvolx5CmlC/CulW7EFfEL8J7Fb8gTggnwrgVz4qr4BHjP4vPjbgQSJUCSJFGSPAcBBwT4y9eBIHnSRN41TwIZ8m7wnoU8QB41j3fNo2CGuCu8ZyEODk1LKQGSJCkVbjqb6gL85Zvqb4C9/vOu2bNO5Zp4z1I5+nb7zrtm1ztVa+M9S9XI0++wCZAkCVtEaA8CSRTgL98k4vLoQgK8a7wQNgR4z2woU4cK8K7xHtgQ4D2zoUwdCJQuQJKkdCOuQMAbAf7y9SaUoe8I71roQ+RFA3nPvAijE53gXXMiTM43kvfM+RDSAU8ESJJ4Eki6gQACCCCAAAIIIIAAAggggAAC8QmQJInPj7sRQAABBBBAAAEEEEAAAQQQQMATAZIkngSSbiCAAAIIIIAAAggggAACCCCAQHwCJEni8+NuBBBAAAEEEEAAAQQQQAABBBDwRIAkiSeBpBsIIIAAAggggAACCCCAAAIIIBCfAEmS+Py4GwEEEEAAAQQQQAABBBBAAAEEPBEgSeJJIOkGAggggAACCCCAAAIIIIAAAgjEJ0CSJD4/7kYAAQQQQAABBBBAAAEEEEAAAU8ESJJ4Eki6gQACCCCAAAIIIIAAAggggAAC8QmQJInPj7sRQAABBBBAAAEEEEAAAQQQQMATAZIkngSSbiCQSIEDBw7I5ZdfLidOnDCPXblypXTv3j2RVfCsFBR49913ZfHixbJq1SrZsWOHHDlyRKpXry5XXHGF3HbbbTJ8+HCpWrVqCsrQ5bIK5OTkyPjx42XZsmWif16lp6dL586dZezYsdKxY8eyPo7rESgisGfPHnn55ZflzTfflO3bt8vBgwelSpUq0qJFC7nllltk5MiRUqdOHeQQSLhAXl6etGrVSvQd1PLcc8/JkCFDEl4PD0QAgZIFSJLwdiCAQBGBO++8UxYtWhT9dZIkvCTxCqxevbpQoq1ChQpSq1YtOX78uJw7d848PiMjQ1asWCFNmjSJtzru91ggOztbevbsKbm5uaaXNWvWlJMnT5r3KC0tTWbPns2EwuP42+jaRx99JM2bN4/+2aR16p9X+p7l5+ebJjRq1Mgk6a666iobTaKOFBIYN26cTJo0KdpjkiQpFHy6GhoBkiShCQUNQSAcAsuXL5devXqZn8Zu2LDBNIokSThi43IrNPmh75Um4AYOHChdu3Y1q0ZOnTol8+fPNysA9J/bt28vGzduFE2iUBA4X0B/wtqyZUvZt2+fdOjQwbw7mlzTVUljxoyRzMxMqVy5smzevFnatm0LIAIxCfznP/8x75WuGNGf4H/ve98zSZJPP/1UXn31VfnlL38phw4dMgndnTt3sgIuJmVuKk5AV1l++9vflu985zvR/wYjScK7goB9AZIk9s2pEYHQCpw5c0batGlj/uNPkyU6kSVJEtpwOdWwvXv3ypdffilNmzYttt3PP/+8DBo0iPfNqajab+zkyZNNMkRXj+zatUsaNmwYbYT+hL9Tp05mYnHrrbdKVlaW/QZSoxcCx44dE/0z68orryy2P2+99ZZ069bN/B4TWC9CHopO6Gq4Ll26yPr162XTpk0mUcI7ForQ0IgUFCBJkoJBp8sIlCTw4IMPypNPPikTJkwwP/Fv1qwZk1ZeFysCZ8+eNfuTfP7556IT4fvvv99KvVTiloCuNNqyZYvZv2bGjBlFGr9w4ULp37+/WU1y+PBh89N/CgLJENC/H/WzHF1V8qc//SkZVfDMFBN49tln5Wc/+1n0z7fIikoScSn2ItDdUAiQJAlFGGgEAuUv8M4775hvqy+77DKzSZ1ujEiSpPzjkkotqFevnvlsYuLEiebzGwoCBQV0PwhdQaJFNwDu27dvESB9f+rXr2/2knjttdekd+/eICKQFIFIwm7EiBEyffr0pNTBQ1NHQFfw6ob5lSpVMqvkdDNqkiSpE396Gj4BkiThiwktQsC6gE4odOnwmjVrzE7+PXr0MD8hI0liPRQpW+G///1v86mXFt0M8eabb05ZCzpevIDuVRM5uUb3gdC9SYor+gmOnkSiGx/qpzkUBBItcPToUWncuLF89tlnZkWTrmyiIBCPgO7VpXsszZkzR4YOHWoeRZIkHlHuRSA+AZIk8flxNwJeCOhfyvfcc49Zpv7CCy+YPpEk8SK0znTi9ttvN8dt6kaIumniRRdd5EzbaagdgSVLlpi9RrTo8eQ1atQotuKrr75atm3bZj7Z0k+3KAgkWkCTb/pu6SeCH3zwgVm9REEgVgH94dT3v/99s6fSP//5z2hyhCRJrKLch0D8AiRJ4jfkCQg4LfDJJ5+YJZ66F4T+dFZ/OkaSxOmQOtf4uXPnRo9sffHFF+WOO+5wrg80OPkCCxYskAEDBpiKdA8bXZZeXOncubOsXbtWhg0bJjNnzkx+w6ghpQR0QnvDDTeYjaj5NDClQp+UzupqJD2Ja/fu3eZUroJHSpMkSQo5D0UgkABJkkBMXIRAuATGjx8vjzzySEyN0lUjkVNE9AG6rFOPzTx/s0xWksTE691NiXzXisNZt26d+QmanqykG9Y988wz3hnSocQIkCRJjCNPiV3g/fffF03C6abAN910k/k0kOPKY/fkTpHHHntMHn300WI3ACZJwhuCQPkJkCQpP3tqRiBmgccff1wefvjhmO4vuEt65BhD3Qti69athX4yS5IkJl7vbkrUu1YczI4dO8xeOLm5uXLLLbeYzThLWh3gHSwdKrMAn9uUmYwbEiiwb98+6dq1q/kUtUOHDmb/Lv3choJArAKadNNjpmvXrm02az3/NC6SJLHKch8C8QuQJInfkCcg4KxAu3bt5O2335alS5fKddddV6gfH3/8sbRu3dr8mv60TP/jUCewVapUcba/NDw8Avofh/pO6Qab3bt3l+XLl/NuhSc8oWwJG7eGMiwp0Sg9eUQTuvpJqv69uHr1aqlbt25K9J1OJk/ghz/8obz66qvy9NNPy1133VWkosi+S7rCUj81TEtLk4svvjh5DeLJCCAQFSBJwsuAQAoL6E8vjh8/HlhA/0J/5ZVXAl/PhQgUJ6AJuC5dusjevXvlu9/9rqxYsaLETTgRRCAioEcA609a9TQujgDmvbAlcOzYMXPim24G3Lx5c7OxZqNGjWxVTz0eC+j+I9u3bw/cQ/3Blr6HFAQQSL4ASZLkG1MDAqEVIEkS2tB42zBdOaIrSCLLjFetWiV16tTxtr90LLEC+pmDbm44YsQImT59epGH68a//fr1k8qVK5t9I85fvp7Y1vA03wVOnz4t119/vejeSZdeeqlJkDRt2tT3btM/SwIkSSxBUw0CMQiQJIkBjVsQSAUB9iRJhSjb7aPuPaKf1ugnXhkZGaJ74jRo0MBuI6jNaYEpU6bI6NGjTfJDv+Ev+P7oChPdVFMntHpUcFZWltN9pfHlK6CnjvTp08esdLvkkkvMn1ctW7Ys30ZRe0oJsCdJSoWbzoZMgCRJyAJCcxAIiwBJkrBEwo92FPyJrP4kViccTZo08aNz9MKaQF5enpmo6iaaHTt2lHnz5pmE29GjR2Xs2LGip3fpKhJdbaLHalIQiEVAj/fVo8g10Zaeni664o33KRZJ7olHgCRJPHrci0B8AiRJ4vPjbgS8FSBJ4m1oy6VjOpkdPHiwqVtPhKhWrVqJ7dDPJaZNm1Yu7aTS8AtkZ2dLz549zalIWnRVie5Xkp+fbzY2nDVrljnanIJArAKRk9/0ft0os2bNmiU+qlOnTmaPHAoCiRYgSZJoUZ6HQHABkiTBrbgSgZQSIEmSUuFOemczMzMDT1w1maLXUxAoSSAnJ0fGjx9vTuY6cOCA+Wm/fmozbtw4s8KEgkA8ArpyRDdrDVL01Bu9noJAogVIkiRalOchEFyAJElwK65EAAEEEEAAAQQQQAABBBBAAAGPBUiSeBxcuoYAAggggAACCCCAAAIIIIAAAsEFSJIEt+JKBBBAAAEEEEAAAQQQQAABBBDwWIAkicfBpWsIIIAAAggggAACCCCAAAIIIBBcgCRJcCuuRAABBBBAAAEEEEAAAQQQQAABjwVIkngcXLqGAAIIIIAAAggggAACCCCAAALBBUiSBLfiSgQQQAABBBBAAAEEEEAAAQQQ8FiAJInHwaVrCCCAAAIIIIAAAggggAACCCAQXIAkSXArrkQAAQQQQAABBBBAAAEEEEAAAY8FSJJ4HFy6hgACCCCAAAIIIIAAAggggAACwQVIkgS34koEEEAAAQQQQAABBBBAAAEEEPBYgCSJx8GlawgggAACCCCAAAIIIIAAAgggEFyAJElwK65EAAEEEEAAAQQQQAABBBBAAAGPBUiSeBxcuoYAAggggAACCCCAAAIIIIAAAsEFSJIEt+JKBBBAAAEEEEAAAQQQQAABBBDwWIAkicfBpWsIIIAAAgicL7Bq1Srp0aOHfPOb35SPPvqo0G8PGTJE5s6dK7/97W/l0UcftYLXvXt3Wb16tTz33HOi9Yel/Pe//5WHHnpI3njjDdF//uKLL6Rbt26iflrOnTsn06dPl9mzZ8t7770nZ86cMb/+4YcfStOmTcPSDdqBAAIIIIAAAmUUIElSRjAuRwABBBBAoLwF8vLyZN68efL666/L1q1b5ZNPPpEvv/xS6tSpI23atJHrrrtO+vXrJy1atCjS1FiTJJGkyahRo6R27doJIwhjkkQTIm3btpV3333X9DM9PV0uuugi6dSpkyxevNj82hNPPGGSKFqqVKkitWrVMv+8adMmadKkScJ8SnvQsWPH5I9//KO5zFZiq7Q28fsIIIAAAgi4LECSxOXo0XYEEEAAgZQTeOWVV+TnP/+5HDx4MNr3iy++WL72ta/J8ePHzQoHLRUqVJDbb79d5s+fbyb4kXKhJMkDDzwgWVlZ8otf/ML8r2DR52lJ9EqJMCZJli5dKn369DFJp/Xr1xebbLrkkkvk8OHDMhpaxsgAAA1NSURBVGXKFNHEUcTH9gupq4GaNWtmqo3E3nYbqA8BBBBAAAGfBEiS+BRN+oIAAggg4LXAs88+axIkOhlu1aqV/PrXv5Ybb7xRGjRoYPqtKyC2bNkiS5YskZkzZ8rRo0clNze30MqPCyVJLoSXSkmSiRMnGtvbbrtNXnrppSIshw4dipqfPHlSqlevXm7vHUmScqOnYgQQQAABTwVIkngaWLqFAAIIIOCXwObNm83nHmfPnpUf/ehHsmDBArN6pKRy6tQpGTt2rPzhD3+Ifgqi15IkKf29eOyxx8ynK4MHD5bMzMwiN+zZsye670h5r94gSVJ6PLkCAQQQQACBsgiQJCmLFtcigAACCCBQTgI33XST2URUP63YsWOHVKtWLaaWlHVPkshmriVVVtwmr2+//bZMmzbNJGT2798vVatWlW984xtyww03yNChQ+Xyyy+PPq7g5zZ33HGHPPnkk7Jw4ULZu3ev2QtE+/3444/LpZdeGlN/tf4JEybIsmXLZN++fWb/kNatW5sEyN133y1paWnR52piRBMkJRXdXFbbX1IpmFTRz6F0Rcry5cvNBrmaTKlfv76Jn67+GTZsmNSrV6/Io7Zt2yZTp041drphrNq1a9fOtPWuu+6SihUrFrG7UHvDtBluTAHkJgQQQAABBCwLkCSxDE51CCCAAAIIlFXg448/NqfRaNEJtO6BEWspa5LkV7/6lUlaRPZA0Yl9wcTCmDFjRP8XKZMmTZLf/OY3kp+fb36pRo0aZr+OEydOmH8/f3VGJEmiSZU///nPogkW3WNFkwqffvqpuUcTLNnZ2VK3bt0ydXvdunXSq1cv0c1NtdSsWdM88/PPPzf/fv3114vu8aKJCC1PPfWU+Z+uwjl9+nShDVn199VBN8TVTXJ1s1wtkU+d9J/197QfmhS59tprTZJDS6VKlcwnOZF26K9p8kQTQAWLbsA6evToQnbajohl3759ZdGiRVF/XVG0Zs2aYtuiz9W2aJsoCCCAAAIIIBBcgCRJcCuuRAABBBBAoFwEnn/+eRk0aJCpW4+bLe7UmqANK2uSJPLcIHuS/OUvfzGrHbRoex9++GG57LLLzL9rwkD3Sjly5Ig8+OCD0eZGkiR6Yo4mQXTfFT2iWBMRf//7383zdF8VTR5oAiNo0f1YdN8WTe60b9/eJGD0xBpNkGg7R4wYYRImusfL008/XeixkRUlJX1uU9onLrraRD/T0Tjp6hP9TEr99JjgnTt3mvp1U91rrrkmWq+emqN7oOjqGa1f+60bx2obdSPZkSNHmlU5v/vd74xrpJTWlqBeXIcAAggggAAC/xMgScKbgAACCCCAQMgFNKmgn6HopyJ6/G88J6kkK0miyQdd7aLJkJ/85Ccya9asQKqRJImuttBVJFdccUWh+3R1xX333WeerQmBoCWyr4ieQqNH+WrCoWCZMWOG3HvvvWZVxu7du6MrdfSaeJMkmpzROv/6178GWsmhCaHmzZubT4xWrlwp3bp1K9JNPWVHky161LAmfiInFpEkCfpGcB0CCCCAAALBBEiSBHPiKgQQQAABBMpNYPjw4fLMM89Iw4YN5cCBA8W2Q09jmTt3bpHfO/9zmGQlSXTPj969e5vJe05OTrH7bRTX8EiSRD8L0aTC+UUTGJHVKPoZTNC9WHTViO7d8sgjjxS7z8hnn31mEiOacNBjfDUREynxJkl0hciGDRtEEzz6uVJpZcWKFebTH13xsmnTphIvVwf1WLt2rfmcRwtJktJ0+X0EEEAAAQTKJkCSpGxeXI0AAggggIB1gSBJEv1sRI/9Pb+cv7FqspIkWo9+CqKrHf71r38FNookSZ544olCn+FEHqCfm+geJVp049UgG7jqqha9R/fyePPNN83nO8UV3dMjKytLBg4cKPPmzYteEm+SJHK/nj7005/+VHRD2o4dO5Z4GtHvf/97k8zRlUK6UqSkop8Q6elGujfKnXfeSZIk8FvGhQgggAACCAQXIEkS3IorEUAAAQQQKBeBWD63iSQfbCVJIomc/v37ywsvvBDYqeDpNiWdxBJkP5SCFeonP40aNTK/tGvXLsnIyCi2Pbp6RFd76AaqupFqpMSbJNHEju45onuJRIqusNFEiSZM7rnnnuhmsfr7uj/K+fuiXAhQ9zmJWLGSJPCrxoUIIIAAAggEEiBJEoiJixBAAAEEECg/gVg2biVJ8r8kyfbt282GrcWVZCVJInXpZzG6Ietbb70lW7dulS+++ML8ln7mo7+mp/ZoiawCKumTowu9eSRJym9cUjMCCCCAgJ8CJEn8jCu9QgABBBDwSCCWI4BtJ0kiqy90rwxNDgQtyVhJUvBzm7/97W/Sp0+fYpuTrM9tiqvs+PHj8vLLL8u4cePMCT96ks1LL71kLo18qlRWO72XJEnQN43rEEAAAQQQCCZAkiSYE1chgAACCCBQrgI33nijORK3WbNmZkPS0jYwTXSSpGLFinLu3Dn54IMPTBvOL6+//rrcfPPNZuNW3Tukfv36gbySkSTRiiMbt5Z0dHDBjVunTp0qo0aNirY33s9tLtRxPYpYT/9Rn0OHDplL9VOfXr16ldlO7y2YQNM9WOI5+ShQwLgIAQQQQAABzwVIkngeYLqHAAIIIOCHwMaNG6VLly5m405dAbFgwYISNwLVHic6SVK7dm3R1RD62chVV11VBFXb1bRpU9m/f39MRwAX3Gfj/IeXdU8SvV83kdUVGjVr1pQPP/zwgkcAa+In8umL3htvkkRXskSO6D2/Lxq3AQMGSI0aNeTEiRPmt/V6PblGjwAeOnSozJkzp8SXNjc3V9LT06O/f+zYsei/6+9pnCgIIIAAAgggELsASZLY7bgTAQQQQAABqwK6uee9995rVnS0atVK9NhfXWHSoEED0w5dSaAblerpJ5MnTxY9MjdRG7fqqTXr1q0TXZkxceJE0ZUlJSUA9NcHDRpkTmz51re+ZS7TzVQ1QaBt0l+PlGStJNGTYNRIj/jt0KGD6AqOK6+80iSZ5s+fbzZL1Q1WdcPZGTNmFOpKvEmSli1bmg1a+/btK+3atZNKlSqZ2KxZs0YGDx4se/bsMRu7Llq0KFqvnrKjyS8teq8atWnTxvy7tnPz5s1mQ9yVK1fKO++8U6i9jRs3NkdDT5s2TUaOHGn1naQyBBBAAAEEfBMgSeJbROkPAggggIDXArqvhU7sDx8+HO1n1apVzWkpujJBVyVo0dUXetLMpEmTCh2bG+sRwLNnzzbH2WrR43X1cxGtQz9TKfipyoQJE+SBBx4wiRwtumJCr4usmtAkQWZmZrTtyUqSaAWa1NFPgHQFjBY9XvfMmTNRo549e8qSJUsKnTSj18WbJImsutFnaYJE69U2RDZu1c+VVq9eLU2aNCn0rs6aNcskwTSRo0VjqscI672aZNGiq3V0ZUzB8tBDD4keoaylevXqUrduXfPPTz31lEnGUBBAAAEEEEAguABJkuBWXIkAAggggEAoBE6fPi1z584V3QdET2/RhIlOouvUqSOtW7eWrl27ysCBA4vdOyTWJIl2fObMmaIT+Z07d4q2Qcv5K1X017Kzs83RupoI0BUkmijRz1l01cvdd98tLVq0iDomM0mileTk5IgmbpYtW2b2StGkg67Q0GSNHsWblpZWJKbxJknU+I033jAn2OieIbqaRevVFSY/+MEPTFJJPwMqruzevdusCPnHP/5h7tWESb169UybNanz4x//WL7+9a8XulWTL5oM05U6er8mgrRc6BOmULzINAIBBBBAAIEQCpAkCWFQaBICCCCAAAIIIIAAAggggAACCNgXIEli35waEUAAAQQQQAABBBBAAAEEEEAghAIkSUIYFJqEAAIIIIAAAggggAACCCCAAAL2BUiS2DenRgQQQAABBBBAAAEEEEAAAQQQCKEASZIQBoUmIYAAAggggAACCCCAAAIIIICAfQGSJPbNqREBBBBAAAEEEEAAAQQQQAABBEIoQJIkhEGhSQgggAACCCCAAAIIIIAAAgggYF+AJIl9c2pEAAEEEEAAAQQQQAABBBBAAIEQCpAkCWFQaBICCCCAAAIIIIAAAggggAACCNgXIEli35waEUAAAQQQQAABBBBAAAEEEEAghAIkSUIYFJqEAAIIIIAAAggggAACCCCAAAL2BUiS2DenRgQQQAABBBBAAAEEEEAAAQQQCKEASZIQBoUmIYAAAggggAACCCCAAAIIIICAfQGSJPbNqREBBBBAAAEEEEAAAQQQQAABBEIoQJIkhEGhSQgggAACCCCAAAIIIIAAAgggYF+AJIl9c2pEAAEEEEAAAQQQQAABBBBAAIEQCpAkCWFQaBICCCCAAAIIIIAAAggggAACCNgXIEli35waEUAAAQQQQAABBBBAAAEEEEAghAIkSUIYFJqEAAIIIIAAAggggAACCCCAAAL2BUiS2DenRgQQQAABBBBAAAEEEEAAAQQQCKEASZIQBoUmIYAAAggggAACCCCAAAIIIICAfYEK9qukRgQQQAABBBBAAAEEEEAAAQQQQCB8Av8HnbBOTnX+PsoAAAAASUVORK5CYII=\" width=\"639.9166666666667\">"
      ],
      "text/plain": [
       "<IPython.core.display.HTML object>"
      ]
     },
     "metadata": {},
     "output_type": "display_data"
    }
   ],
   "source": [
    "%matplotlib notebook\n",
    "import matplotlib.pylab as plt\n",
    "fig = plt.figure()\n",
    "\n",
    "plt.xlabel(\"Glitch offset\")\n",
    "plt.ylabel(\"Glitch width\")\n",
    "\n",
    "for glitch_setting in gc.glitch_values():\n",
    "    plt.plot(glitch_setting[1], glitch_setting[0], 'b.')\n",
    "\n",
    "## to update the plot:\n",
    "fig.canvas.draw()"
   ]
  },
  {
   "cell_type": "markdown",
   "id": "imperial-sleeping",
   "metadata": {},
   "source": [
    "This two dimensional representation will become very useful later on."
   ]
  },
  {
   "cell_type": "markdown",
   "id": "careful-reserve",
   "metadata": {},
   "source": [
    "The target will crash a lot while glitching. The following function will help to reset the target."
   ]
  },
  {
   "cell_type": "code",
   "execution_count": 7,
   "id": "signal-nancy",
   "metadata": {},
   "outputs": [],
   "source": [
    " def reboot_flush():            \n",
    "    scope.io.nrst = False\n",
    "    time.sleep(0.05)\n",
    "    scope.io.nrst = \"high_z\"\n",
    "    time.sleep(0.05)\n",
    "    #Flush garbage too\n",
    "    target.flush()"
   ]
  },
  {
   "cell_type": "markdown",
   "id": "mineral-graphics",
   "metadata": {},
   "source": [
    "## Nested loops"
   ]
  },
  {
   "cell_type": "markdown",
   "id": "adult-wildlife",
   "metadata": {},
   "source": [
    "In this section a nested loop is attacked in order to get an idea about the glitching behaviour. The execution is triggered by sending a simpleserial message to the target board.\n",
    "\n",
    "The following code snippet shows you the function executed while the glitching attempts are performed.<br>\n",
    "We use a Trigger-pin to signal the ChipWhisperer when to start glitching. <br>\n",
    "This is done for simplification since otherwise it can get quite challenging to configure the right spot to glitch.<br> \n",
    "Additionally we know that the Microcontroller crashed while glitching when the trigger is up before we send data to the target board."
   ]
  },
  {
   "cell_type": "markdown",
   "id": "built-cleanup",
   "metadata": {},
   "source": [
    "```C\n",
    "uint8_t glitch_loop(uint8_t* in) {\n",
    "    volatile uint16_t i, j;\n",
    "    volatile uint32_t cnt;\n",
    "    cnt = 0;\n",
    "    trigger_high(); // Set pin to high to signal the ChipWhisperer to begin glitching\n",
    "    \n",
    "    for(i=0; i<50; i++) {\n",
    "        for(j=0; j<50; j++) {\n",
    "            cnt++;\n",
    "        }\n",
    "    }\n",
    "    \n",
    "    trigger_low(); // Set pin to low\n",
    "    simpleserial_put('r', 4, (uint8_t*)&cnt);  // Sends cnt back to CW via the simpleserial protocol (https://wiki.newae.com/SimpleSerial)\n",
    "    return (cnt != 2500);\n",
    "}\n",
    "```"
   ]
  },
  {
   "cell_type": "markdown",
   "id": "israeli-collective",
   "metadata": {},
   "source": [
    "The microcontroller spends a lot of time in the nested loops especially in the branching instructions of the for loops, which makes the glitching easier. It is also really easy to see the effect of the glitch by monitoring the result count, which should be 2500 but will reduce in value if a glitch has been successful."
   ]
  },
  {
   "cell_type": "markdown",
   "id": "robust-motivation",
   "metadata": {},
   "source": [
    "Let's check first that the correct firmware is being executed on the target. The result should be 2500."
   ]
  },
  {
   "cell_type": "code",
   "execution_count": 8,
   "id": "hearing-dayton",
   "metadata": {
    "deletable": false,
    "editable": false
   },
   "outputs": [
    {
     "name": "stdout",
     "output_type": "stream",
     "text": [
      "Response count: 2500\n"
     ]
    }
   ],
   "source": [
    "import struct\n",
    "\n",
    "# trigger the execution of the function glitch_loop\n",
    "target.simpleserial_write(\"g\", bytearray([]))\n",
    "\n",
    "# request the response for the last request\n",
    "response = target.simpleserial_read_witherrors('r', 4, glitch_timeout=10)\n",
    "\n",
    "print(\"Response count: {}\".format(struct.unpack(\"<I\", response['payload'])[0]))"
   ]
  },
  {
   "cell_type": "markdown",
   "id": "handmade-silicon",
   "metadata": {},
   "source": [
    "Let's have a look at the result package received. There is a bit to unpack here."
   ]
  },
  {
   "cell_type": "code",
   "execution_count": 9,
   "id": "departmental-coverage",
   "metadata": {},
   "outputs": [
    {
     "name": "stdout",
     "output_type": "stream",
     "text": [
      "{'valid': True, 'payload': bytearray(b'\\xc4\\t\\x00\\x00'), 'full_response': 'rC4090000\\n', 'rv': 0}\n",
      "(2500,)\n"
     ]
    }
   ],
   "source": [
    "print(response)\n",
    "print(struct.unpack(\"<I\", response['payload']))"
   ]
  },
  {
   "cell_type": "markdown",
   "id": "inner-check",
   "metadata": {},
   "source": [
    "- The field `'valid'` shows if the serial communication was valid.\n",
    "- The field `'payload'` contains a bytearray with tuple wrapped up in a struct.\n",
    "- The field `'full_response'` contains the payload as raw serial.\n",
    "- The field `'rv'` shows the return value / error code.\n",
    "\n",
    "The unpacked tuple contains a single value, which corresponds to the returned count value by the nested loops."
   ]
  },
  {
   "cell_type": "markdown",
   "id": "familiar-current",
   "metadata": {},
   "source": [
    "Let's start glitching."
   ]
  },
  {
   "cell_type": "markdown",
   "id": "extensive-quarter",
   "metadata": {},
   "source": [
    "A general configuration of the glitch controller has to be performed as you can see in the next cell."
   ]
  },
  {
   "cell_type": "code",
   "execution_count": 10,
   "id": "rolled-spice",
   "metadata": {},
   "outputs": [
    {
     "name": "stdout",
     "output_type": "stream",
     "text": [
      "clk_src     = clkgen\n",
      "width       = 10.15625\n",
      "width_fine  = 0\n",
      "offset      = 10.15625\n",
      "offset_fine = 0\n",
      "trigger_src = ext_single\n",
      "arm_timing  = after_scope\n",
      "ext_offset  = 0\n",
      "repeat      = 1\n",
      "output      = clock_xor\n",
      "\n"
     ]
    }
   ],
   "source": [
    "#Basic setup for the glitch controller\n",
    "scope.glitch.clk_src = \"clkgen\" # set glitch input clock\n",
    "scope.glitch.output = \"clock_xor\" # glitch_out = clk XOR glitch\n",
    "#Trigger will be set from victim software \n",
    "scope.glitch.trigger_src = \"ext_single\" # glitch only after scope.arm() called. \n",
    "\n",
    "scope.io.hs2 = \"glitch\"  # output glitch_out on the clock line\n",
    "print(scope.glitch)"
   ]
  },
  {
   "cell_type": "code",
   "execution_count": 11,
   "id": "timely-stocks",
   "metadata": {},
   "outputs": [
    {
     "data": {
      "application/vnd.jupyter.widget-view+json": {
       "model_id": "bfcb3de7015542d98af596b34bb4ad6b",
       "version_major": 2,
       "version_minor": 0
      },
      "text/plain": [
       "IntText(value=0, description='success count:', disabled=True)"
      ]
     },
     "metadata": {},
     "output_type": "display_data"
    },
    {
     "data": {
      "application/vnd.jupyter.widget-view+json": {
       "model_id": "b564f1950a5b41fe9abc7c39cf6fdcdc",
       "version_major": 2,
       "version_minor": 0
      },
      "text/plain": [
       "IntText(value=0, description='reset count:', disabled=True)"
      ]
     },
     "metadata": {},
     "output_type": "display_data"
    },
    {
     "data": {
      "application/vnd.jupyter.widget-view+json": {
       "model_id": "5629c050683b4f6895230a49604f37a6",
       "version_major": 2,
       "version_minor": 0
      },
      "text/plain": [
       "IntText(value=0, description='normal count:', disabled=True)"
      ]
     },
     "metadata": {},
     "output_type": "display_data"
    },
    {
     "data": {
      "application/vnd.jupyter.widget-view+json": {
       "model_id": "097a33efe4ae42a9a0cb2e63e170d77f",
       "version_major": 2,
       "version_minor": 0
      },
      "text/plain": [
       "FloatSlider(value=0.0, continuous_update=False, description='width setting:', disabled=True, max=5.0, readout_…"
      ]
     },
     "metadata": {},
     "output_type": "display_data"
    },
    {
     "data": {
      "application/vnd.jupyter.widget-view+json": {
       "model_id": "c36b77b9aebb44e595f540832a403e34",
       "version_major": 2,
       "version_minor": 0
      },
      "text/plain": [
       "FloatSlider(value=-5.0, continuous_update=False, description='offset setting:', disabled=True, max=5.0, min=-5…"
      ]
     },
     "metadata": {},
     "output_type": "display_data"
    }
   ],
   "source": [
    "gc.display_stats()"
   ]
  },
  {
   "cell_type": "markdown",
   "id": "extraordinary-lawrence",
   "metadata": {},
   "source": [
    "<div>\n",
    "<img src=\"images/question_darkblue.png\" align=\"left\" width=\"24\" height=\"24\"/>\n",
    "<span style=\"line-height:24px; margin-left: 0.5em\"><font color=\"darkblue\">What do you expect from the following glitch loop?</font></span>\n",
    "</div>"
   ]
  },
  {
   "cell_type": "markdown",
   "id": "juvenile-thing",
   "metadata": {},
   "source": [
    "<div>\n",
    "<img src=\"images/write_chocolate.png\" align=\"left\" width=\"24\" height=\"24\"/>\n",
    "<span style=\"line-height:24px; margin-left: 0.5em\"><font color='Chocolate'>\n",
    "<b> Please fill in with your own observations </b>\n",
    "</font></span>\n",
    "</div>"
   ]
  },
  {
   "cell_type": "markdown",
   "id": "adult-karma",
   "metadata": {},
   "source": [
    "<font color='Chocolate'>\n",
    "Die returnvalue sollte kleiner als 2500 sien da durch den glich einzele loopdurchläufe übersprungen werden.\n",
    "</font>"
   ]
  },
  {
   "cell_type": "markdown",
   "id": "pregnant-ebony",
   "metadata": {},
   "source": [
    "<div>\n",
    "<img src=\"images/question_darkblue.png\" align=\"left\" width=\"24\" height=\"24\"/>\n",
    "<span style=\"line-height:24px; margin-left: 0.5em\"><font color=\"darkblue\">How will a successful glitch alter the return value of the function?</font></span>\n",
    "</div>"
   ]
  },
  {
   "cell_type": "markdown",
   "id": "welcome-humidity",
   "metadata": {},
   "source": [
    "<div>\n",
    "<img src=\"images/write_chocolate.png\" align=\"left\" width=\"24\" height=\"24\"/>\n",
    "<span style=\"line-height:24px; margin-left: 0.5em\"><font color='Chocolate'>\n",
    "<b> Please fill in with your own observations </b>\n",
    "</font></span>\n",
    "</div>"
   ]
  },
  {
   "cell_type": "markdown",
   "id": "korean-stress",
   "metadata": {},
   "source": [
    "<font color='Chocolate'>\n",
    "Mann kan anhand der diverenz von 2500 und dem retunwert erkennen, wie viele gliches erfolgreich sind/waren.<br>\n",
    "generell sollte der Wert von 2500 abweichen\n",
    "</font>"
   ]
  },
  {
   "cell_type": "markdown",
   "id": "affected-logging",
   "metadata": {},
   "source": [
    "Please complete the following glitch loop.\n",
    "You will need the knowledge about the effect of a successful glitch, to identify a successful glitch in the glitch loop.\n",
    "\n",
    "You will see that the execution will take some time, as the loop iterates over the different glitch configuration settings."
   ]
  },
  {
   "cell_type": "code",
   "execution_count": 15,
   "id": "fitting-canvas",
   "metadata": {
    "scrolled": true
   },
   "outputs": [
    {
     "name": "stderr",
     "output_type": "stream",
     "text": [
      "(ChipWhisperer Glitch WARNING|File ChipWhispererGlitch.py:934) Negative offsets <-45 may result in double glitches!\n",
      "(ChipWhisperer Glitch WARNING|File ChipWhispererGlitch.py:759) Partial reconfiguration for width = 0 may not work\n",
      "(ChipWhisperer Glitch WARNING|File ChipWhispererGlitch.py:934) Negative offsets <-45 may result in double glitches!\n",
      "(ChipWhisperer Glitch WARNING|File ChipWhispererGlitch.py:759) Partial reconfiguration for width = 0 may not work\n",
      "(ChipWhisperer Glitch WARNING|File ChipWhispererGlitch.py:759) Partial reconfiguration for width = 0 may not work\n",
      "(ChipWhisperer Glitch WARNING|File ChipWhispererGlitch.py:759) Partial reconfiguration for width = 0 may not work\n",
      "(ChipWhisperer Glitch WARNING|File ChipWhispererGlitch.py:759) Partial reconfiguration for width = 0 may not work\n",
      "(ChipWhisperer Glitch WARNING|File ChipWhispererGlitch.py:759) Partial reconfiguration for width = 0 may not work\n",
      "(ChipWhisperer Glitch WARNING|File ChipWhispererGlitch.py:759) Partial reconfiguration for width = 0 may not work\n",
      "(ChipWhisperer Glitch WARNING|File ChipWhispererGlitch.py:759) Partial reconfiguration for width = 0 may not work\n",
      "(ChipWhisperer Glitch WARNING|File ChipWhispererGlitch.py:759) Partial reconfiguration for width = 0 may not work\n",
      "(ChipWhisperer Glitch WARNING|File ChipWhispererGlitch.py:759) Partial reconfiguration for width = 0 may not work\n",
      "(ChipWhisperer Glitch WARNING|File ChipWhispererGlitch.py:759) Partial reconfiguration for width = 0 may not work\n",
      "(ChipWhisperer Glitch WARNING|File ChipWhispererGlitch.py:759) Partial reconfiguration for width = 0 may not work\n",
      "(ChipWhisperer Glitch WARNING|File ChipWhispererGlitch.py:759) Partial reconfiguration for width = 0 may not work\n",
      "(ChipWhisperer Glitch WARNING|File ChipWhispererGlitch.py:759) Partial reconfiguration for width = 0 may not work\n",
      "(ChipWhisperer Glitch WARNING|File ChipWhispererGlitch.py:759) Partial reconfiguration for width = 0 may not work\n",
      "(ChipWhisperer Glitch WARNING|File ChipWhispererGlitch.py:759) Partial reconfiguration for width = 0 may not work\n",
      "(ChipWhisperer Glitch WARNING|File ChipWhispererGlitch.py:759) Partial reconfiguration for width = 0 may not work\n",
      "(ChipWhisperer Glitch WARNING|File ChipWhispererGlitch.py:759) Partial reconfiguration for width = 0 may not work\n",
      "(ChipWhisperer Glitch WARNING|File ChipWhispererGlitch.py:759) Partial reconfiguration for width = 0 may not work\n",
      "(ChipWhisperer Glitch WARNING|File ChipWhispererGlitch.py:759) Partial reconfiguration for width = 0 may not work\n",
      "(ChipWhisperer Glitch WARNING|File ChipWhispererGlitch.py:759) Partial reconfiguration for width = 0 may not work\n",
      "(ChipWhisperer Glitch WARNING|File ChipWhispererGlitch.py:759) Partial reconfiguration for width = 0 may not work\n",
      "(ChipWhisperer Glitch WARNING|File ChipWhispererGlitch.py:759) Partial reconfiguration for width = 0 may not work\n",
      "(ChipWhisperer Glitch WARNING|File ChipWhispererGlitch.py:759) Partial reconfiguration for width = 0 may not work\n",
      "(ChipWhisperer Glitch WARNING|File ChipWhispererGlitch.py:759) Partial reconfiguration for width = 0 may not work\n",
      "(ChipWhisperer Glitch WARNING|File ChipWhispererGlitch.py:759) Partial reconfiguration for width = 0 may not work\n",
      "(ChipWhisperer Glitch WARNING|File ChipWhispererGlitch.py:759) Partial reconfiguration for width = 0 may not work\n",
      "(ChipWhisperer Glitch WARNING|File ChipWhispererGlitch.py:759) Partial reconfiguration for width = 0 may not work\n",
      "(ChipWhisperer Glitch WARNING|File ChipWhispererGlitch.py:759) Partial reconfiguration for width = 0 may not work\n",
      "(ChipWhisperer Glitch WARNING|File ChipWhispererGlitch.py:759) Partial reconfiguration for width = 0 may not work\n",
      "(ChipWhisperer Glitch WARNING|File ChipWhispererGlitch.py:759) Partial reconfiguration for width = 0 may not work\n",
      "(ChipWhisperer Glitch WARNING|File ChipWhispererGlitch.py:759) Partial reconfiguration for width = 0 may not work\n",
      "(ChipWhisperer Glitch WARNING|File ChipWhispererGlitch.py:759) Partial reconfiguration for width = 0 may not work\n",
      "(ChipWhisperer Glitch WARNING|File ChipWhispererGlitch.py:759) Partial reconfiguration for width = 0 may not work\n",
      "(ChipWhisperer Glitch WARNING|File ChipWhispererGlitch.py:759) Partial reconfiguration for width = 0 may not work\n",
      "(ChipWhisperer Glitch WARNING|File ChipWhispererGlitch.py:759) Partial reconfiguration for width = 0 may not work\n",
      "(ChipWhisperer Glitch WARNING|File ChipWhispererGlitch.py:759) Partial reconfiguration for width = 0 may not work\n",
      "(ChipWhisperer Glitch WARNING|File ChipWhispererGlitch.py:759) Partial reconfiguration for width = 0 may not work\n",
      "(ChipWhisperer Glitch WARNING|File ChipWhispererGlitch.py:759) Partial reconfiguration for width = 0 may not work\n",
      "(ChipWhisperer Glitch WARNING|File ChipWhispererGlitch.py:759) Partial reconfiguration for width = 0 may not work\n",
      "(ChipWhisperer Glitch WARNING|File ChipWhispererGlitch.py:759) Partial reconfiguration for width = 0 may not work\n",
      "(ChipWhisperer Glitch WARNING|File ChipWhispererGlitch.py:759) Partial reconfiguration for width = 0 may not work\n",
      "(ChipWhisperer Glitch WARNING|File ChipWhispererGlitch.py:759) Partial reconfiguration for width = 0 may not work\n",
      "(ChipWhisperer Glitch WARNING|File ChipWhispererGlitch.py:759) Partial reconfiguration for width = 0 may not work\n",
      "(ChipWhisperer Glitch WARNING|File ChipWhispererGlitch.py:759) Partial reconfiguration for width = 0 may not work\n",
      "(ChipWhisperer Glitch WARNING|File ChipWhispererGlitch.py:759) Partial reconfiguration for width = 0 may not work\n",
      "(ChipWhisperer Glitch WARNING|File ChipWhispererGlitch.py:759) Partial reconfiguration for width = 0 may not work\n",
      "(ChipWhisperer Glitch WARNING|File ChipWhispererGlitch.py:759) Partial reconfiguration for width = 0 may not work\n",
      "(ChipWhisperer Glitch WARNING|File ChipWhispererGlitch.py:759) Partial reconfiguration for width = 0 may not work\n",
      "(ChipWhisperer Glitch WARNING|File ChipWhispererGlitch.py:759) Partial reconfiguration for width = 0 may not work\n",
      "(ChipWhisperer Glitch WARNING|File ChipWhispererGlitch.py:759) Partial reconfiguration for width = 0 may not work\n",
      "(ChipWhisperer Glitch WARNING|File ChipWhispererGlitch.py:759) Partial reconfiguration for width = 0 may not work\n",
      "(ChipWhisperer Glitch WARNING|File ChipWhispererGlitch.py:759) Partial reconfiguration for width = 0 may not work\n",
      "(ChipWhisperer Glitch WARNING|File ChipWhispererGlitch.py:759) Partial reconfiguration for width = 0 may not work\n",
      "(ChipWhisperer Glitch WARNING|File ChipWhispererGlitch.py:759) Partial reconfiguration for width = 0 may not work\n",
      "(ChipWhisperer Glitch WARNING|File ChipWhispererGlitch.py:759) Partial reconfiguration for width = 0 may not work\n",
      "(ChipWhisperer Glitch WARNING|File ChipWhispererGlitch.py:759) Partial reconfiguration for width = 0 may not work\n",
      "(ChipWhisperer Glitch WARNING|File ChipWhispererGlitch.py:759) Partial reconfiguration for width = 0 may not work\n",
      "(ChipWhisperer Glitch WARNING|File ChipWhispererGlitch.py:759) Partial reconfiguration for width = 0 may not work\n",
      "(ChipWhisperer Glitch WARNING|File ChipWhispererGlitch.py:759) Partial reconfiguration for width = 0 may not work\n",
      "(ChipWhisperer Glitch WARNING|File ChipWhispererGlitch.py:759) Partial reconfiguration for width = 0 may not work\n",
      "(ChipWhisperer Glitch WARNING|File ChipWhispererGlitch.py:759) Partial reconfiguration for width = 0 may not work\n",
      "(ChipWhisperer Glitch WARNING|File ChipWhispererGlitch.py:759) Partial reconfiguration for width = 0 may not work\n",
      "(ChipWhisperer Glitch WARNING|File ChipWhispererGlitch.py:759) Partial reconfiguration for width = 0 may not work\n",
      "(ChipWhisperer Glitch WARNING|File ChipWhispererGlitch.py:759) Partial reconfiguration for width = 0 may not work\n",
      "(ChipWhisperer Glitch WARNING|File ChipWhispererGlitch.py:759) Partial reconfiguration for width = 0 may not work\n",
      "(ChipWhisperer Glitch WARNING|File ChipWhispererGlitch.py:759) Partial reconfiguration for width = 0 may not work\n",
      "(ChipWhisperer Glitch WARNING|File ChipWhispererGlitch.py:759) Partial reconfiguration for width = 0 may not work\n",
      "(ChipWhisperer Glitch WARNING|File ChipWhispererGlitch.py:759) Partial reconfiguration for width = 0 may not work\n",
      "(ChipWhisperer Glitch WARNING|File ChipWhispererGlitch.py:759) Partial reconfiguration for width = 0 may not work\n"
     ]
    },
    {
     "name": "stderr",
     "output_type": "stream",
     "text": [
      "(ChipWhisperer Glitch WARNING|File ChipWhispererGlitch.py:759) Partial reconfiguration for width = 0 may not work\n",
      "(ChipWhisperer Glitch WARNING|File ChipWhispererGlitch.py:759) Partial reconfiguration for width = 0 may not work\n",
      "(ChipWhisperer Glitch WARNING|File ChipWhispererGlitch.py:759) Partial reconfiguration for width = 0 may not work\n",
      "(ChipWhisperer Glitch WARNING|File ChipWhispererGlitch.py:759) Partial reconfiguration for width = 0 may not work\n",
      "(ChipWhisperer Glitch WARNING|File ChipWhispererGlitch.py:759) Partial reconfiguration for width = 0 may not work\n",
      "(ChipWhisperer Glitch WARNING|File ChipWhispererGlitch.py:759) Partial reconfiguration for width = 0 may not work\n",
      "(ChipWhisperer Glitch WARNING|File ChipWhispererGlitch.py:759) Partial reconfiguration for width = 0 may not work\n",
      "(ChipWhisperer Glitch WARNING|File ChipWhispererGlitch.py:759) Partial reconfiguration for width = 0 may not work\n",
      "(ChipWhisperer Glitch WARNING|File ChipWhispererGlitch.py:759) Partial reconfiguration for width = 0 may not work\n",
      "(ChipWhisperer Glitch WARNING|File ChipWhispererGlitch.py:759) Partial reconfiguration for width = 0 may not work\n",
      "(ChipWhisperer Glitch WARNING|File ChipWhispererGlitch.py:759) Partial reconfiguration for width = 0 may not work\n",
      "(ChipWhisperer Glitch WARNING|File ChipWhispererGlitch.py:759) Partial reconfiguration for width = 0 may not work\n",
      "(ChipWhisperer Glitch WARNING|File ChipWhispererGlitch.py:759) Partial reconfiguration for width = 0 may not work\n",
      "(ChipWhisperer Glitch WARNING|File ChipWhispererGlitch.py:759) Partial reconfiguration for width = 0 may not work\n",
      "(ChipWhisperer Glitch WARNING|File ChipWhispererGlitch.py:759) Partial reconfiguration for width = 0 may not work\n",
      "(ChipWhisperer Glitch WARNING|File ChipWhispererGlitch.py:759) Partial reconfiguration for width = 0 may not work\n",
      "(ChipWhisperer Glitch WARNING|File ChipWhispererGlitch.py:759) Partial reconfiguration for width = 0 may not work\n",
      "(ChipWhisperer Glitch WARNING|File ChipWhispererGlitch.py:759) Partial reconfiguration for width = 0 may not work\n",
      "(ChipWhisperer Glitch WARNING|File ChipWhispererGlitch.py:759) Partial reconfiguration for width = 0 may not work\n",
      "(ChipWhisperer Glitch WARNING|File ChipWhispererGlitch.py:759) Partial reconfiguration for width = 0 may not work\n",
      "(ChipWhisperer Glitch WARNING|File ChipWhispererGlitch.py:759) Partial reconfiguration for width = 0 may not work\n",
      "(ChipWhisperer Glitch WARNING|File ChipWhispererGlitch.py:759) Partial reconfiguration for width = 0 may not work\n",
      "(ChipWhisperer Glitch WARNING|File ChipWhispererGlitch.py:759) Partial reconfiguration for width = 0 may not work\n",
      "(ChipWhisperer Glitch WARNING|File ChipWhispererGlitch.py:759) Partial reconfiguration for width = 0 may not work\n",
      "(ChipWhisperer Glitch WARNING|File ChipWhispererGlitch.py:759) Partial reconfiguration for width = 0 may not work\n",
      "(ChipWhisperer Glitch WARNING|File ChipWhispererGlitch.py:759) Partial reconfiguration for width = 0 may not work\n",
      "(ChipWhisperer Glitch WARNING|File ChipWhispererGlitch.py:759) Partial reconfiguration for width = 0 may not work\n",
      "(ChipWhisperer Glitch WARNING|File ChipWhispererGlitch.py:759) Partial reconfiguration for width = 0 may not work\n",
      "(ChipWhisperer Glitch WARNING|File ChipWhispererGlitch.py:759) Partial reconfiguration for width = 0 may not work\n",
      "(ChipWhisperer Glitch WARNING|File ChipWhispererGlitch.py:934) Negative offsets <-45 may result in double glitches!\n",
      "(ChipWhisperer Glitch WARNING|File ChipWhispererGlitch.py:759) Partial reconfiguration for width = 0 may not work\n",
      "(ChipWhisperer Glitch WARNING|File ChipWhispererGlitch.py:934) Negative offsets <-45 may result in double glitches!\n"
     ]
    },
    {
     "name": "stdout",
     "output_type": "stream",
     "text": [
      "Trigger still high!\n",
      "Trigger still high!\n"
     ]
    },
    {
     "name": "stderr",
     "output_type": "stream",
     "text": [
      "(ChipWhisperer Glitch WARNING|File ChipWhispererGlitch.py:934) Negative offsets <-45 may result in double glitches!\n",
      "(ChipWhisperer Glitch WARNING|File ChipWhispererGlitch.py:934) Negative offsets <-45 may result in double glitches!\n"
     ]
    },
    {
     "name": "stdout",
     "output_type": "stream",
     "text": [
      "Trigger still high!\n"
     ]
    },
    {
     "name": "stderr",
     "output_type": "stream",
     "text": [
      "(ChipWhisperer Glitch WARNING|File ChipWhispererGlitch.py:934) Negative offsets <-45 may result in double glitches!\n",
      "(ChipWhisperer Glitch WARNING|File ChipWhispererGlitch.py:934) Negative offsets <-45 may result in double glitches!\n",
      "(ChipWhisperer Glitch WARNING|File ChipWhispererGlitch.py:934) Negative offsets <-45 may result in double glitches!\n",
      "(ChipWhisperer Glitch WARNING|File ChipWhispererGlitch.py:934) Negative offsets <-45 may result in double glitches!\n",
      "(ChipWhisperer Glitch WARNING|File ChipWhispererGlitch.py:934) Negative offsets <-45 may result in double glitches!\n",
      "(ChipWhisperer Glitch WARNING|File ChipWhispererGlitch.py:934) Negative offsets <-45 may result in double glitches!\n",
      "(ChipWhisperer Glitch WARNING|File ChipWhispererGlitch.py:934) Negative offsets <-45 may result in double glitches!\n",
      "(ChipWhisperer Glitch WARNING|File ChipWhispererGlitch.py:934) Negative offsets <-45 may result in double glitches!\n",
      "(ChipWhisperer Glitch WARNING|File ChipWhispererGlitch.py:934) Negative offsets <-45 may result in double glitches!\n",
      "(ChipWhisperer Glitch WARNING|File ChipWhispererGlitch.py:934) Negative offsets <-45 may result in double glitches!\n",
      "(ChipWhisperer Glitch WARNING|File ChipWhispererGlitch.py:934) Negative offsets <-45 may result in double glitches!\n",
      "(ChipWhisperer Glitch WARNING|File ChipWhispererGlitch.py:934) Negative offsets <-45 may result in double glitches!\n",
      "(ChipWhisperer Glitch WARNING|File ChipWhispererGlitch.py:934) Negative offsets <-45 may result in double glitches!\n",
      "(ChipWhisperer Glitch WARNING|File ChipWhispererGlitch.py:934) Negative offsets <-45 may result in double glitches!\n",
      "(ChipWhisperer Glitch WARNING|File ChipWhispererGlitch.py:934) Negative offsets <-45 may result in double glitches!\n",
      "(ChipWhisperer Glitch WARNING|File ChipWhispererGlitch.py:934) Negative offsets <-45 may result in double glitches!\n",
      "(ChipWhisperer Glitch WARNING|File ChipWhispererGlitch.py:934) Negative offsets <-45 may result in double glitches!\n",
      "(ChipWhisperer Glitch WARNING|File ChipWhispererGlitch.py:934) Negative offsets <-45 may result in double glitches!\n",
      "(ChipWhisperer Glitch WARNING|File ChipWhispererGlitch.py:934) Negative offsets <-45 may result in double glitches!\n",
      "(ChipWhisperer Glitch WARNING|File ChipWhispererGlitch.py:934) Negative offsets <-45 may result in double glitches!\n",
      "(ChipWhisperer Glitch WARNING|File ChipWhispererGlitch.py:934) Negative offsets <-45 may result in double glitches!\n",
      "(ChipWhisperer Glitch WARNING|File ChipWhispererGlitch.py:934) Negative offsets <-45 may result in double glitches!\n",
      "(ChipWhisperer Glitch WARNING|File ChipWhispererGlitch.py:934) Negative offsets <-45 may result in double glitches!\n",
      "(ChipWhisperer Glitch WARNING|File ChipWhispererGlitch.py:934) Negative offsets <-45 may result in double glitches!\n",
      "(ChipWhisperer Glitch WARNING|File ChipWhispererGlitch.py:934) Negative offsets <-45 may result in double glitches!\n",
      "(ChipWhisperer Glitch WARNING|File ChipWhispererGlitch.py:934) Negative offsets <-45 may result in double glitches!\n",
      "(ChipWhisperer Glitch WARNING|File ChipWhispererGlitch.py:934) Negative offsets <-45 may result in double glitches!\n",
      "(ChipWhisperer Glitch WARNING|File ChipWhispererGlitch.py:934) Negative offsets <-45 may result in double glitches!\n",
      "(ChipWhisperer Glitch WARNING|File ChipWhispererGlitch.py:934) Negative offsets <-45 may result in double glitches!\n",
      "(ChipWhisperer Glitch WARNING|File ChipWhispererGlitch.py:934) Negative offsets <-45 may result in double glitches!\n",
      "(ChipWhisperer Glitch WARNING|File ChipWhispererGlitch.py:934) Negative offsets <-45 may result in double glitches!\n",
      "(ChipWhisperer Glitch WARNING|File ChipWhispererGlitch.py:934) Negative offsets <-45 may result in double glitches!\n",
      "(ChipWhisperer Glitch WARNING|File ChipWhispererGlitch.py:934) Negative offsets <-45 may result in double glitches!\n",
      "(ChipWhisperer Glitch WARNING|File ChipWhispererGlitch.py:934) Negative offsets <-45 may result in double glitches!\n",
      "(ChipWhisperer Glitch WARNING|File ChipWhispererGlitch.py:934) Negative offsets <-45 may result in double glitches!\n",
      "(ChipWhisperer Glitch WARNING|File ChipWhispererGlitch.py:934) Negative offsets <-45 may result in double glitches!\n",
      "(ChipWhisperer Glitch WARNING|File ChipWhispererGlitch.py:934) Negative offsets <-45 may result in double glitches!\n",
      "(ChipWhisperer Glitch WARNING|File ChipWhispererGlitch.py:934) Negative offsets <-45 may result in double glitches!\n",
      "(ChipWhisperer Glitch WARNING|File ChipWhispererGlitch.py:934) Negative offsets <-45 may result in double glitches!\n",
      "(ChipWhisperer Glitch WARNING|File ChipWhispererGlitch.py:934) Negative offsets <-45 may result in double glitches!\n",
      "(ChipWhisperer Glitch WARNING|File ChipWhispererGlitch.py:934) Negative offsets <-45 may result in double glitches!\n",
      "(ChipWhisperer Glitch WARNING|File ChipWhispererGlitch.py:934) Negative offsets <-45 may result in double glitches!\n",
      "(ChipWhisperer Glitch WARNING|File ChipWhispererGlitch.py:934) Negative offsets <-45 may result in double glitches!\n",
      "(ChipWhisperer Glitch WARNING|File ChipWhispererGlitch.py:934) Negative offsets <-45 may result in double glitches!\n"
     ]
    }
   ],
   "source": [
    "import chipwhisperer.common.results.glitch as glitch\n",
    "from tqdm.notebook import trange\n",
    "import struct\n",
    "\n",
    "# set external offset\n",
    "scope.glitch.ext_offset = 2\n",
    "gc.set_range(\"width\", 0, 49)\n",
    "gc.set_range(\"offset\", -49, 49)\n",
    "gc.set_global_step([2])\n",
    "scope.glitch.repeat = 3\n",
    "\n",
    "scope.adc.timeout = 0.1\n",
    "\n",
    "reboot_flush()\n",
    "\n",
    "# iterate over all glitch settings\n",
    "##\n",
    "for glitch_setting in gc.glitch_values():\n",
    "    \n",
    "    # raise NotImplementedError(\"Add your code here, and delete this.\")\n",
    "    scope.glitch.offset = glitch_setting[1]\n",
    "    scope.glitch.width = glitch_setting[0]\n",
    "    # speed up, if the trigger has never been low without waiting for timeout\n",
    "    if scope.adc.state:\n",
    "        # can detect crash here (fast) before timing out (slow)\n",
    "        print(\"Trigger still high!\")\n",
    "        gc.add(\"reset\", (scope.glitch.width, scope.glitch.offset))\n",
    "        \n",
    "        reboot_flush()\n",
    "        \n",
    "    # The glitching is only possible when armed.\n",
    "    scope.arm()\n",
    "    \n",
    "    # send message\n",
    "    target.simpleserial_write(\"g\", bytearray([]))\n",
    "    ##\n",
    "    ret = scope.capture()\n",
    "    \n",
    "    # get return message\n",
    "    response = target.simpleserial_read_witherrors('r', 4, glitch_timeout=10)\n",
    "    ##\n",
    "    \n",
    "    # check if target has crashed\n",
    "    if ret:\n",
    "        # timeout\n",
    "        gc.add(\"reset\", (scope.glitch.width, scope.glitch.offset))\n",
    "    else:\n",
    "        # response message received\n",
    "        # raise NotImplementedError(\"Add your code here, and delete this.\")\n",
    "        if response['valid'] is False:# ignore invalid messages\n",
    "            continue\n",
    "        else:\n",
    "            # get glitch_count from response message and check if it is normal\n",
    "            glitch_count = struct.unpack(\"<I\", response['payload'])\n",
    "            #print(glitch_count[0])\n",
    "            \n",
    "            # raise NotImplementedError(\"Add your code here, and delete this.\")\n",
    "            if glitch_count[0] == 2500:\n",
    "                 gc.add(\"normal\", (scope.glitch.width, scope.glitch.offset))\n",
    "            else: # glitch successful :)\n",
    "                gc.add(\"success\", (scope.glitch.width, scope.glitch.offset))"
   ]
  },
  {
   "cell_type": "markdown",
   "id": "double-conviction",
   "metadata": {},
   "source": [
    "Next: visualize the glitch settings in a two dimensional view."
   ]
  },
  {
   "cell_type": "code",
   "execution_count": 16,
   "id": "available-sword",
   "metadata": {
    "deletable": false,
    "editable": false
   },
   "outputs": [
    {
     "data": {
      "application/javascript": [
       "/* Put everything inside the global mpl namespace */\n",
       "/* global mpl */\n",
       "window.mpl = {};\n",
       "\n",
       "mpl.get_websocket_type = function () {\n",
       "    if (typeof WebSocket !== 'undefined') {\n",
       "        return WebSocket;\n",
       "    } else if (typeof MozWebSocket !== 'undefined') {\n",
       "        return MozWebSocket;\n",
       "    } else {\n",
       "        alert(\n",
       "            'Your browser does not have WebSocket support. ' +\n",
       "                'Please try Chrome, Safari or Firefox ≥ 6. ' +\n",
       "                'Firefox 4 and 5 are also supported but you ' +\n",
       "                'have to enable WebSockets in about:config.'\n",
       "        );\n",
       "    }\n",
       "};\n",
       "\n",
       "mpl.figure = function (figure_id, websocket, ondownload, parent_element) {\n",
       "    this.id = figure_id;\n",
       "\n",
       "    this.ws = websocket;\n",
       "\n",
       "    this.supports_binary = this.ws.binaryType !== undefined;\n",
       "\n",
       "    if (!this.supports_binary) {\n",
       "        var warnings = document.getElementById('mpl-warnings');\n",
       "        if (warnings) {\n",
       "            warnings.style.display = 'block';\n",
       "            warnings.textContent =\n",
       "                'This browser does not support binary websocket messages. ' +\n",
       "                'Performance may be slow.';\n",
       "        }\n",
       "    }\n",
       "\n",
       "    this.imageObj = new Image();\n",
       "\n",
       "    this.context = undefined;\n",
       "    this.message = undefined;\n",
       "    this.canvas = undefined;\n",
       "    this.rubberband_canvas = undefined;\n",
       "    this.rubberband_context = undefined;\n",
       "    this.format_dropdown = undefined;\n",
       "\n",
       "    this.image_mode = 'full';\n",
       "\n",
       "    this.root = document.createElement('div');\n",
       "    this.root.setAttribute('style', 'display: inline-block');\n",
       "    this._root_extra_style(this.root);\n",
       "\n",
       "    parent_element.appendChild(this.root);\n",
       "\n",
       "    this._init_header(this);\n",
       "    this._init_canvas(this);\n",
       "    this._init_toolbar(this);\n",
       "\n",
       "    var fig = this;\n",
       "\n",
       "    this.waiting = false;\n",
       "\n",
       "    this.ws.onopen = function () {\n",
       "        fig.send_message('supports_binary', { value: fig.supports_binary });\n",
       "        fig.send_message('send_image_mode', {});\n",
       "        if (fig.ratio !== 1) {\n",
       "            fig.send_message('set_device_pixel_ratio', {\n",
       "                device_pixel_ratio: fig.ratio,\n",
       "            });\n",
       "        }\n",
       "        fig.send_message('refresh', {});\n",
       "    };\n",
       "\n",
       "    this.imageObj.onload = function () {\n",
       "        if (fig.image_mode === 'full') {\n",
       "            // Full images could contain transparency (where diff images\n",
       "            // almost always do), so we need to clear the canvas so that\n",
       "            // there is no ghosting.\n",
       "            fig.context.clearRect(0, 0, fig.canvas.width, fig.canvas.height);\n",
       "        }\n",
       "        fig.context.drawImage(fig.imageObj, 0, 0);\n",
       "    };\n",
       "\n",
       "    this.imageObj.onunload = function () {\n",
       "        fig.ws.close();\n",
       "    };\n",
       "\n",
       "    this.ws.onmessage = this._make_on_message_function(this);\n",
       "\n",
       "    this.ondownload = ondownload;\n",
       "};\n",
       "\n",
       "mpl.figure.prototype._init_header = function () {\n",
       "    var titlebar = document.createElement('div');\n",
       "    titlebar.classList =\n",
       "        'ui-dialog-titlebar ui-widget-header ui-corner-all ui-helper-clearfix';\n",
       "    var titletext = document.createElement('div');\n",
       "    titletext.classList = 'ui-dialog-title';\n",
       "    titletext.setAttribute(\n",
       "        'style',\n",
       "        'width: 100%; text-align: center; padding: 3px;'\n",
       "    );\n",
       "    titlebar.appendChild(titletext);\n",
       "    this.root.appendChild(titlebar);\n",
       "    this.header = titletext;\n",
       "};\n",
       "\n",
       "mpl.figure.prototype._canvas_extra_style = function (_canvas_div) {};\n",
       "\n",
       "mpl.figure.prototype._root_extra_style = function (_canvas_div) {};\n",
       "\n",
       "mpl.figure.prototype._init_canvas = function () {\n",
       "    var fig = this;\n",
       "\n",
       "    var canvas_div = (this.canvas_div = document.createElement('div'));\n",
       "    canvas_div.setAttribute(\n",
       "        'style',\n",
       "        'border: 1px solid #ddd;' +\n",
       "            'box-sizing: content-box;' +\n",
       "            'clear: both;' +\n",
       "            'min-height: 1px;' +\n",
       "            'min-width: 1px;' +\n",
       "            'outline: 0;' +\n",
       "            'overflow: hidden;' +\n",
       "            'position: relative;' +\n",
       "            'resize: both;'\n",
       "    );\n",
       "\n",
       "    function on_keyboard_event_closure(name) {\n",
       "        return function (event) {\n",
       "            return fig.key_event(event, name);\n",
       "        };\n",
       "    }\n",
       "\n",
       "    canvas_div.addEventListener(\n",
       "        'keydown',\n",
       "        on_keyboard_event_closure('key_press')\n",
       "    );\n",
       "    canvas_div.addEventListener(\n",
       "        'keyup',\n",
       "        on_keyboard_event_closure('key_release')\n",
       "    );\n",
       "\n",
       "    this._canvas_extra_style(canvas_div);\n",
       "    this.root.appendChild(canvas_div);\n",
       "\n",
       "    var canvas = (this.canvas = document.createElement('canvas'));\n",
       "    canvas.classList.add('mpl-canvas');\n",
       "    canvas.setAttribute('style', 'box-sizing: content-box;');\n",
       "\n",
       "    this.context = canvas.getContext('2d');\n",
       "\n",
       "    var backingStore =\n",
       "        this.context.backingStorePixelRatio ||\n",
       "        this.context.webkitBackingStorePixelRatio ||\n",
       "        this.context.mozBackingStorePixelRatio ||\n",
       "        this.context.msBackingStorePixelRatio ||\n",
       "        this.context.oBackingStorePixelRatio ||\n",
       "        this.context.backingStorePixelRatio ||\n",
       "        1;\n",
       "\n",
       "    this.ratio = (window.devicePixelRatio || 1) / backingStore;\n",
       "\n",
       "    var rubberband_canvas = (this.rubberband_canvas = document.createElement(\n",
       "        'canvas'\n",
       "    ));\n",
       "    rubberband_canvas.setAttribute(\n",
       "        'style',\n",
       "        'box-sizing: content-box; position: absolute; left: 0; top: 0; z-index: 1;'\n",
       "    );\n",
       "\n",
       "    // Apply a ponyfill if ResizeObserver is not implemented by browser.\n",
       "    if (this.ResizeObserver === undefined) {\n",
       "        if (window.ResizeObserver !== undefined) {\n",
       "            this.ResizeObserver = window.ResizeObserver;\n",
       "        } else {\n",
       "            var obs = _JSXTOOLS_RESIZE_OBSERVER({});\n",
       "            this.ResizeObserver = obs.ResizeObserver;\n",
       "        }\n",
       "    }\n",
       "\n",
       "    this.resizeObserverInstance = new this.ResizeObserver(function (entries) {\n",
       "        var nentries = entries.length;\n",
       "        for (var i = 0; i < nentries; i++) {\n",
       "            var entry = entries[i];\n",
       "            var width, height;\n",
       "            if (entry.contentBoxSize) {\n",
       "                if (entry.contentBoxSize instanceof Array) {\n",
       "                    // Chrome 84 implements new version of spec.\n",
       "                    width = entry.contentBoxSize[0].inlineSize;\n",
       "                    height = entry.contentBoxSize[0].blockSize;\n",
       "                } else {\n",
       "                    // Firefox implements old version of spec.\n",
       "                    width = entry.contentBoxSize.inlineSize;\n",
       "                    height = entry.contentBoxSize.blockSize;\n",
       "                }\n",
       "            } else {\n",
       "                // Chrome <84 implements even older version of spec.\n",
       "                width = entry.contentRect.width;\n",
       "                height = entry.contentRect.height;\n",
       "            }\n",
       "\n",
       "            // Keep the size of the canvas and rubber band canvas in sync with\n",
       "            // the canvas container.\n",
       "            if (entry.devicePixelContentBoxSize) {\n",
       "                // Chrome 84 implements new version of spec.\n",
       "                canvas.setAttribute(\n",
       "                    'width',\n",
       "                    entry.devicePixelContentBoxSize[0].inlineSize\n",
       "                );\n",
       "                canvas.setAttribute(\n",
       "                    'height',\n",
       "                    entry.devicePixelContentBoxSize[0].blockSize\n",
       "                );\n",
       "            } else {\n",
       "                canvas.setAttribute('width', width * fig.ratio);\n",
       "                canvas.setAttribute('height', height * fig.ratio);\n",
       "            }\n",
       "            canvas.setAttribute(\n",
       "                'style',\n",
       "                'width: ' + width + 'px; height: ' + height + 'px;'\n",
       "            );\n",
       "\n",
       "            rubberband_canvas.setAttribute('width', width);\n",
       "            rubberband_canvas.setAttribute('height', height);\n",
       "\n",
       "            // And update the size in Python. We ignore the initial 0/0 size\n",
       "            // that occurs as the element is placed into the DOM, which should\n",
       "            // otherwise not happen due to the minimum size styling.\n",
       "            if (fig.ws.readyState == 1 && width != 0 && height != 0) {\n",
       "                fig.request_resize(width, height);\n",
       "            }\n",
       "        }\n",
       "    });\n",
       "    this.resizeObserverInstance.observe(canvas_div);\n",
       "\n",
       "    function on_mouse_event_closure(name) {\n",
       "        return function (event) {\n",
       "            return fig.mouse_event(event, name);\n",
       "        };\n",
       "    }\n",
       "\n",
       "    rubberband_canvas.addEventListener(\n",
       "        'mousedown',\n",
       "        on_mouse_event_closure('button_press')\n",
       "    );\n",
       "    rubberband_canvas.addEventListener(\n",
       "        'mouseup',\n",
       "        on_mouse_event_closure('button_release')\n",
       "    );\n",
       "    rubberband_canvas.addEventListener(\n",
       "        'dblclick',\n",
       "        on_mouse_event_closure('dblclick')\n",
       "    );\n",
       "    // Throttle sequential mouse events to 1 every 20ms.\n",
       "    rubberband_canvas.addEventListener(\n",
       "        'mousemove',\n",
       "        on_mouse_event_closure('motion_notify')\n",
       "    );\n",
       "\n",
       "    rubberband_canvas.addEventListener(\n",
       "        'mouseenter',\n",
       "        on_mouse_event_closure('figure_enter')\n",
       "    );\n",
       "    rubberband_canvas.addEventListener(\n",
       "        'mouseleave',\n",
       "        on_mouse_event_closure('figure_leave')\n",
       "    );\n",
       "\n",
       "    canvas_div.addEventListener('wheel', function (event) {\n",
       "        if (event.deltaY < 0) {\n",
       "            event.step = 1;\n",
       "        } else {\n",
       "            event.step = -1;\n",
       "        }\n",
       "        on_mouse_event_closure('scroll')(event);\n",
       "    });\n",
       "\n",
       "    canvas_div.appendChild(canvas);\n",
       "    canvas_div.appendChild(rubberband_canvas);\n",
       "\n",
       "    this.rubberband_context = rubberband_canvas.getContext('2d');\n",
       "    this.rubberband_context.strokeStyle = '#000000';\n",
       "\n",
       "    this._resize_canvas = function (width, height, forward) {\n",
       "        if (forward) {\n",
       "            canvas_div.style.width = width + 'px';\n",
       "            canvas_div.style.height = height + 'px';\n",
       "        }\n",
       "    };\n",
       "\n",
       "    // Disable right mouse context menu.\n",
       "    this.rubberband_canvas.addEventListener('contextmenu', function (_e) {\n",
       "        event.preventDefault();\n",
       "        return false;\n",
       "    });\n",
       "\n",
       "    function set_focus() {\n",
       "        canvas.focus();\n",
       "        canvas_div.focus();\n",
       "    }\n",
       "\n",
       "    window.setTimeout(set_focus, 100);\n",
       "};\n",
       "\n",
       "mpl.figure.prototype._init_toolbar = function () {\n",
       "    var fig = this;\n",
       "\n",
       "    var toolbar = document.createElement('div');\n",
       "    toolbar.classList = 'mpl-toolbar';\n",
       "    this.root.appendChild(toolbar);\n",
       "\n",
       "    function on_click_closure(name) {\n",
       "        return function (_event) {\n",
       "            return fig.toolbar_button_onclick(name);\n",
       "        };\n",
       "    }\n",
       "\n",
       "    function on_mouseover_closure(tooltip) {\n",
       "        return function (event) {\n",
       "            if (!event.currentTarget.disabled) {\n",
       "                return fig.toolbar_button_onmouseover(tooltip);\n",
       "            }\n",
       "        };\n",
       "    }\n",
       "\n",
       "    fig.buttons = {};\n",
       "    var buttonGroup = document.createElement('div');\n",
       "    buttonGroup.classList = 'mpl-button-group';\n",
       "    for (var toolbar_ind in mpl.toolbar_items) {\n",
       "        var name = mpl.toolbar_items[toolbar_ind][0];\n",
       "        var tooltip = mpl.toolbar_items[toolbar_ind][1];\n",
       "        var image = mpl.toolbar_items[toolbar_ind][2];\n",
       "        var method_name = mpl.toolbar_items[toolbar_ind][3];\n",
       "\n",
       "        if (!name) {\n",
       "            /* Instead of a spacer, we start a new button group. */\n",
       "            if (buttonGroup.hasChildNodes()) {\n",
       "                toolbar.appendChild(buttonGroup);\n",
       "            }\n",
       "            buttonGroup = document.createElement('div');\n",
       "            buttonGroup.classList = 'mpl-button-group';\n",
       "            continue;\n",
       "        }\n",
       "\n",
       "        var button = (fig.buttons[name] = document.createElement('button'));\n",
       "        button.classList = 'mpl-widget';\n",
       "        button.setAttribute('role', 'button');\n",
       "        button.setAttribute('aria-disabled', 'false');\n",
       "        button.addEventListener('click', on_click_closure(method_name));\n",
       "        button.addEventListener('mouseover', on_mouseover_closure(tooltip));\n",
       "\n",
       "        var icon_img = document.createElement('img');\n",
       "        icon_img.src = '_images/' + image + '.png';\n",
       "        icon_img.srcset = '_images/' + image + '_large.png 2x';\n",
       "        icon_img.alt = tooltip;\n",
       "        button.appendChild(icon_img);\n",
       "\n",
       "        buttonGroup.appendChild(button);\n",
       "    }\n",
       "\n",
       "    if (buttonGroup.hasChildNodes()) {\n",
       "        toolbar.appendChild(buttonGroup);\n",
       "    }\n",
       "\n",
       "    var fmt_picker = document.createElement('select');\n",
       "    fmt_picker.classList = 'mpl-widget';\n",
       "    toolbar.appendChild(fmt_picker);\n",
       "    this.format_dropdown = fmt_picker;\n",
       "\n",
       "    for (var ind in mpl.extensions) {\n",
       "        var fmt = mpl.extensions[ind];\n",
       "        var option = document.createElement('option');\n",
       "        option.selected = fmt === mpl.default_extension;\n",
       "        option.innerHTML = fmt;\n",
       "        fmt_picker.appendChild(option);\n",
       "    }\n",
       "\n",
       "    var status_bar = document.createElement('span');\n",
       "    status_bar.classList = 'mpl-message';\n",
       "    toolbar.appendChild(status_bar);\n",
       "    this.message = status_bar;\n",
       "};\n",
       "\n",
       "mpl.figure.prototype.request_resize = function (x_pixels, y_pixels) {\n",
       "    // Request matplotlib to resize the figure. Matplotlib will then trigger a resize in the client,\n",
       "    // which will in turn request a refresh of the image.\n",
       "    this.send_message('resize', { width: x_pixels, height: y_pixels });\n",
       "};\n",
       "\n",
       "mpl.figure.prototype.send_message = function (type, properties) {\n",
       "    properties['type'] = type;\n",
       "    properties['figure_id'] = this.id;\n",
       "    this.ws.send(JSON.stringify(properties));\n",
       "};\n",
       "\n",
       "mpl.figure.prototype.send_draw_message = function () {\n",
       "    if (!this.waiting) {\n",
       "        this.waiting = true;\n",
       "        this.ws.send(JSON.stringify({ type: 'draw', figure_id: this.id }));\n",
       "    }\n",
       "};\n",
       "\n",
       "mpl.figure.prototype.handle_save = function (fig, _msg) {\n",
       "    var format_dropdown = fig.format_dropdown;\n",
       "    var format = format_dropdown.options[format_dropdown.selectedIndex].value;\n",
       "    fig.ondownload(fig, format);\n",
       "};\n",
       "\n",
       "mpl.figure.prototype.handle_resize = function (fig, msg) {\n",
       "    var size = msg['size'];\n",
       "    if (size[0] !== fig.canvas.width || size[1] !== fig.canvas.height) {\n",
       "        fig._resize_canvas(size[0], size[1], msg['forward']);\n",
       "        fig.send_message('refresh', {});\n",
       "    }\n",
       "};\n",
       "\n",
       "mpl.figure.prototype.handle_rubberband = function (fig, msg) {\n",
       "    var x0 = msg['x0'] / fig.ratio;\n",
       "    var y0 = (fig.canvas.height - msg['y0']) / fig.ratio;\n",
       "    var x1 = msg['x1'] / fig.ratio;\n",
       "    var y1 = (fig.canvas.height - msg['y1']) / fig.ratio;\n",
       "    x0 = Math.floor(x0) + 0.5;\n",
       "    y0 = Math.floor(y0) + 0.5;\n",
       "    x1 = Math.floor(x1) + 0.5;\n",
       "    y1 = Math.floor(y1) + 0.5;\n",
       "    var min_x = Math.min(x0, x1);\n",
       "    var min_y = Math.min(y0, y1);\n",
       "    var width = Math.abs(x1 - x0);\n",
       "    var height = Math.abs(y1 - y0);\n",
       "\n",
       "    fig.rubberband_context.clearRect(\n",
       "        0,\n",
       "        0,\n",
       "        fig.canvas.width / fig.ratio,\n",
       "        fig.canvas.height / fig.ratio\n",
       "    );\n",
       "\n",
       "    fig.rubberband_context.strokeRect(min_x, min_y, width, height);\n",
       "};\n",
       "\n",
       "mpl.figure.prototype.handle_figure_label = function (fig, msg) {\n",
       "    // Updates the figure title.\n",
       "    fig.header.textContent = msg['label'];\n",
       "};\n",
       "\n",
       "mpl.figure.prototype.handle_cursor = function (fig, msg) {\n",
       "    fig.rubberband_canvas.style.cursor = msg['cursor'];\n",
       "};\n",
       "\n",
       "mpl.figure.prototype.handle_message = function (fig, msg) {\n",
       "    fig.message.textContent = msg['message'];\n",
       "};\n",
       "\n",
       "mpl.figure.prototype.handle_draw = function (fig, _msg) {\n",
       "    // Request the server to send over a new figure.\n",
       "    fig.send_draw_message();\n",
       "};\n",
       "\n",
       "mpl.figure.prototype.handle_image_mode = function (fig, msg) {\n",
       "    fig.image_mode = msg['mode'];\n",
       "};\n",
       "\n",
       "mpl.figure.prototype.handle_history_buttons = function (fig, msg) {\n",
       "    for (var key in msg) {\n",
       "        if (!(key in fig.buttons)) {\n",
       "            continue;\n",
       "        }\n",
       "        fig.buttons[key].disabled = !msg[key];\n",
       "        fig.buttons[key].setAttribute('aria-disabled', !msg[key]);\n",
       "    }\n",
       "};\n",
       "\n",
       "mpl.figure.prototype.handle_navigate_mode = function (fig, msg) {\n",
       "    if (msg['mode'] === 'PAN') {\n",
       "        fig.buttons['Pan'].classList.add('active');\n",
       "        fig.buttons['Zoom'].classList.remove('active');\n",
       "    } else if (msg['mode'] === 'ZOOM') {\n",
       "        fig.buttons['Pan'].classList.remove('active');\n",
       "        fig.buttons['Zoom'].classList.add('active');\n",
       "    } else {\n",
       "        fig.buttons['Pan'].classList.remove('active');\n",
       "        fig.buttons['Zoom'].classList.remove('active');\n",
       "    }\n",
       "};\n",
       "\n",
       "mpl.figure.prototype.updated_canvas_event = function () {\n",
       "    // Called whenever the canvas gets updated.\n",
       "    this.send_message('ack', {});\n",
       "};\n",
       "\n",
       "// A function to construct a web socket function for onmessage handling.\n",
       "// Called in the figure constructor.\n",
       "mpl.figure.prototype._make_on_message_function = function (fig) {\n",
       "    return function socket_on_message(evt) {\n",
       "        if (evt.data instanceof Blob) {\n",
       "            var img = evt.data;\n",
       "            if (img.type !== 'image/png') {\n",
       "                /* FIXME: We get \"Resource interpreted as Image but\n",
       "                 * transferred with MIME type text/plain:\" errors on\n",
       "                 * Chrome.  But how to set the MIME type?  It doesn't seem\n",
       "                 * to be part of the websocket stream */\n",
       "                img.type = 'image/png';\n",
       "            }\n",
       "\n",
       "            /* Free the memory for the previous frames */\n",
       "            if (fig.imageObj.src) {\n",
       "                (window.URL || window.webkitURL).revokeObjectURL(\n",
       "                    fig.imageObj.src\n",
       "                );\n",
       "            }\n",
       "\n",
       "            fig.imageObj.src = (window.URL || window.webkitURL).createObjectURL(\n",
       "                img\n",
       "            );\n",
       "            fig.updated_canvas_event();\n",
       "            fig.waiting = false;\n",
       "            return;\n",
       "        } else if (\n",
       "            typeof evt.data === 'string' &&\n",
       "            evt.data.slice(0, 21) === 'data:image/png;base64'\n",
       "        ) {\n",
       "            fig.imageObj.src = evt.data;\n",
       "            fig.updated_canvas_event();\n",
       "            fig.waiting = false;\n",
       "            return;\n",
       "        }\n",
       "\n",
       "        var msg = JSON.parse(evt.data);\n",
       "        var msg_type = msg['type'];\n",
       "\n",
       "        // Call the  \"handle_{type}\" callback, which takes\n",
       "        // the figure and JSON message as its only arguments.\n",
       "        try {\n",
       "            var callback = fig['handle_' + msg_type];\n",
       "        } catch (e) {\n",
       "            console.log(\n",
       "                \"No handler for the '\" + msg_type + \"' message type: \",\n",
       "                msg\n",
       "            );\n",
       "            return;\n",
       "        }\n",
       "\n",
       "        if (callback) {\n",
       "            try {\n",
       "                // console.log(\"Handling '\" + msg_type + \"' message: \", msg);\n",
       "                callback(fig, msg);\n",
       "            } catch (e) {\n",
       "                console.log(\n",
       "                    \"Exception inside the 'handler_\" + msg_type + \"' callback:\",\n",
       "                    e,\n",
       "                    e.stack,\n",
       "                    msg\n",
       "                );\n",
       "            }\n",
       "        }\n",
       "    };\n",
       "};\n",
       "\n",
       "// from https://stackoverflow.com/questions/1114465/getting-mouse-location-in-canvas\n",
       "mpl.findpos = function (e) {\n",
       "    //this section is from http://www.quirksmode.org/js/events_properties.html\n",
       "    var targ;\n",
       "    if (!e) {\n",
       "        e = window.event;\n",
       "    }\n",
       "    if (e.target) {\n",
       "        targ = e.target;\n",
       "    } else if (e.srcElement) {\n",
       "        targ = e.srcElement;\n",
       "    }\n",
       "    if (targ.nodeType === 3) {\n",
       "        // defeat Safari bug\n",
       "        targ = targ.parentNode;\n",
       "    }\n",
       "\n",
       "    // pageX,Y are the mouse positions relative to the document\n",
       "    var boundingRect = targ.getBoundingClientRect();\n",
       "    var x = e.pageX - (boundingRect.left + document.body.scrollLeft);\n",
       "    var y = e.pageY - (boundingRect.top + document.body.scrollTop);\n",
       "\n",
       "    return { x: x, y: y };\n",
       "};\n",
       "\n",
       "/*\n",
       " * return a copy of an object with only non-object keys\n",
       " * we need this to avoid circular references\n",
       " * https://stackoverflow.com/a/24161582/3208463\n",
       " */\n",
       "function simpleKeys(original) {\n",
       "    return Object.keys(original).reduce(function (obj, key) {\n",
       "        if (typeof original[key] !== 'object') {\n",
       "            obj[key] = original[key];\n",
       "        }\n",
       "        return obj;\n",
       "    }, {});\n",
       "}\n",
       "\n",
       "mpl.figure.prototype.mouse_event = function (event, name) {\n",
       "    var canvas_pos = mpl.findpos(event);\n",
       "\n",
       "    if (name === 'button_press') {\n",
       "        this.canvas.focus();\n",
       "        this.canvas_div.focus();\n",
       "    }\n",
       "\n",
       "    var x = canvas_pos.x * this.ratio;\n",
       "    var y = canvas_pos.y * this.ratio;\n",
       "\n",
       "    this.send_message(name, {\n",
       "        x: x,\n",
       "        y: y,\n",
       "        button: event.button,\n",
       "        step: event.step,\n",
       "        guiEvent: simpleKeys(event),\n",
       "    });\n",
       "\n",
       "    /* This prevents the web browser from automatically changing to\n",
       "     * the text insertion cursor when the button is pressed.  We want\n",
       "     * to control all of the cursor setting manually through the\n",
       "     * 'cursor' event from matplotlib */\n",
       "    event.preventDefault();\n",
       "    return false;\n",
       "};\n",
       "\n",
       "mpl.figure.prototype._key_event_extra = function (_event, _name) {\n",
       "    // Handle any extra behaviour associated with a key event\n",
       "};\n",
       "\n",
       "mpl.figure.prototype.key_event = function (event, name) {\n",
       "    // Prevent repeat events\n",
       "    if (name === 'key_press') {\n",
       "        if (event.key === this._key) {\n",
       "            return;\n",
       "        } else {\n",
       "            this._key = event.key;\n",
       "        }\n",
       "    }\n",
       "    if (name === 'key_release') {\n",
       "        this._key = null;\n",
       "    }\n",
       "\n",
       "    var value = '';\n",
       "    if (event.ctrlKey && event.key !== 'Control') {\n",
       "        value += 'ctrl+';\n",
       "    }\n",
       "    else if (event.altKey && event.key !== 'Alt') {\n",
       "        value += 'alt+';\n",
       "    }\n",
       "    else if (event.shiftKey && event.key !== 'Shift') {\n",
       "        value += 'shift+';\n",
       "    }\n",
       "\n",
       "    value += 'k' + event.key;\n",
       "\n",
       "    this._key_event_extra(event, name);\n",
       "\n",
       "    this.send_message(name, { key: value, guiEvent: simpleKeys(event) });\n",
       "    return false;\n",
       "};\n",
       "\n",
       "mpl.figure.prototype.toolbar_button_onclick = function (name) {\n",
       "    if (name === 'download') {\n",
       "        this.handle_save(this, null);\n",
       "    } else {\n",
       "        this.send_message('toolbar_button', { name: name });\n",
       "    }\n",
       "};\n",
       "\n",
       "mpl.figure.prototype.toolbar_button_onmouseover = function (tooltip) {\n",
       "    this.message.textContent = tooltip;\n",
       "};\n",
       "\n",
       "///////////////// REMAINING CONTENT GENERATED BY embed_js.py /////////////////\n",
       "// prettier-ignore\n",
       "var _JSXTOOLS_RESIZE_OBSERVER=function(A){var t,i=new WeakMap,n=new WeakMap,a=new WeakMap,r=new WeakMap,o=new Set;function s(e){if(!(this instanceof s))throw new TypeError(\"Constructor requires 'new' operator\");i.set(this,e)}function h(){throw new TypeError(\"Function is not a constructor\")}function c(e,t,i,n){e=0 in arguments?Number(arguments[0]):0,t=1 in arguments?Number(arguments[1]):0,i=2 in arguments?Number(arguments[2]):0,n=3 in arguments?Number(arguments[3]):0,this.right=(this.x=this.left=e)+(this.width=i),this.bottom=(this.y=this.top=t)+(this.height=n),Object.freeze(this)}function d(){t=requestAnimationFrame(d);var s=new WeakMap,p=new Set;o.forEach((function(t){r.get(t).forEach((function(i){var r=t instanceof window.SVGElement,o=a.get(t),d=r?0:parseFloat(o.paddingTop),f=r?0:parseFloat(o.paddingRight),l=r?0:parseFloat(o.paddingBottom),u=r?0:parseFloat(o.paddingLeft),g=r?0:parseFloat(o.borderTopWidth),m=r?0:parseFloat(o.borderRightWidth),w=r?0:parseFloat(o.borderBottomWidth),b=u+f,F=d+l,v=(r?0:parseFloat(o.borderLeftWidth))+m,W=g+w,y=r?0:t.offsetHeight-W-t.clientHeight,E=r?0:t.offsetWidth-v-t.clientWidth,R=b+v,z=F+W,M=r?t.width:parseFloat(o.width)-R-E,O=r?t.height:parseFloat(o.height)-z-y;if(n.has(t)){var k=n.get(t);if(k[0]===M&&k[1]===O)return}n.set(t,[M,O]);var S=Object.create(h.prototype);S.target=t,S.contentRect=new c(u,d,M,O),s.has(i)||(s.set(i,[]),p.add(i)),s.get(i).push(S)}))})),p.forEach((function(e){i.get(e).call(e,s.get(e),e)}))}return s.prototype.observe=function(i){if(i instanceof window.Element){r.has(i)||(r.set(i,new Set),o.add(i),a.set(i,window.getComputedStyle(i)));var n=r.get(i);n.has(this)||n.add(this),cancelAnimationFrame(t),t=requestAnimationFrame(d)}},s.prototype.unobserve=function(i){if(i instanceof window.Element&&r.has(i)){var n=r.get(i);n.has(this)&&(n.delete(this),n.size||(r.delete(i),o.delete(i))),n.size||r.delete(i),o.size||cancelAnimationFrame(t)}},A.DOMRectReadOnly=c,A.ResizeObserver=s,A.ResizeObserverEntry=h,A}; // eslint-disable-line\n",
       "mpl.toolbar_items = [[\"Home\", \"Reset original view\", \"fa fa-home icon-home\", \"home\"], [\"Back\", \"Back to previous view\", \"fa fa-arrow-left icon-arrow-left\", \"back\"], [\"Forward\", \"Forward to next view\", \"fa fa-arrow-right icon-arrow-right\", \"forward\"], [\"\", \"\", \"\", \"\"], [\"Pan\", \"Left button pans, Right button zooms\\nx/y fixes axis, CTRL fixes aspect\", \"fa fa-arrows icon-move\", \"pan\"], [\"Zoom\", \"Zoom to rectangle\\nx/y fixes axis\", \"fa fa-square-o icon-check-empty\", \"zoom\"], [\"\", \"\", \"\", \"\"], [\"Download\", \"Download plot\", \"fa fa-floppy-o icon-save\", \"download\"]];\n",
       "\n",
       "mpl.extensions = [\"eps\", \"jpeg\", \"pgf\", \"pdf\", \"png\", \"ps\", \"raw\", \"svg\", \"tif\"];\n",
       "\n",
       "mpl.default_extension = \"png\";/* global mpl */\n",
       "\n",
       "var comm_websocket_adapter = function (comm) {\n",
       "    // Create a \"websocket\"-like object which calls the given IPython comm\n",
       "    // object with the appropriate methods. Currently this is a non binary\n",
       "    // socket, so there is still some room for performance tuning.\n",
       "    var ws = {};\n",
       "\n",
       "    ws.binaryType = comm.kernel.ws.binaryType;\n",
       "    ws.readyState = comm.kernel.ws.readyState;\n",
       "    function updateReadyState(_event) {\n",
       "        if (comm.kernel.ws) {\n",
       "            ws.readyState = comm.kernel.ws.readyState;\n",
       "        } else {\n",
       "            ws.readyState = 3; // Closed state.\n",
       "        }\n",
       "    }\n",
       "    comm.kernel.ws.addEventListener('open', updateReadyState);\n",
       "    comm.kernel.ws.addEventListener('close', updateReadyState);\n",
       "    comm.kernel.ws.addEventListener('error', updateReadyState);\n",
       "\n",
       "    ws.close = function () {\n",
       "        comm.close();\n",
       "    };\n",
       "    ws.send = function (m) {\n",
       "        //console.log('sending', m);\n",
       "        comm.send(m);\n",
       "    };\n",
       "    // Register the callback with on_msg.\n",
       "    comm.on_msg(function (msg) {\n",
       "        //console.log('receiving', msg['content']['data'], msg);\n",
       "        var data = msg['content']['data'];\n",
       "        if (data['blob'] !== undefined) {\n",
       "            data = {\n",
       "                data: new Blob(msg['buffers'], { type: data['blob'] }),\n",
       "            };\n",
       "        }\n",
       "        // Pass the mpl event to the overridden (by mpl) onmessage function.\n",
       "        ws.onmessage(data);\n",
       "    });\n",
       "    return ws;\n",
       "};\n",
       "\n",
       "mpl.mpl_figure_comm = function (comm, msg) {\n",
       "    // This is the function which gets called when the mpl process\n",
       "    // starts-up an IPython Comm through the \"matplotlib\" channel.\n",
       "\n",
       "    var id = msg.content.data.id;\n",
       "    // Get hold of the div created by the display call when the Comm\n",
       "    // socket was opened in Python.\n",
       "    var element = document.getElementById(id);\n",
       "    var ws_proxy = comm_websocket_adapter(comm);\n",
       "\n",
       "    function ondownload(figure, _format) {\n",
       "        window.open(figure.canvas.toDataURL());\n",
       "    }\n",
       "\n",
       "    var fig = new mpl.figure(id, ws_proxy, ondownload, element);\n",
       "\n",
       "    // Call onopen now - mpl needs it, as it is assuming we've passed it a real\n",
       "    // web socket which is closed, not our websocket->open comm proxy.\n",
       "    ws_proxy.onopen();\n",
       "\n",
       "    fig.parent_element = element;\n",
       "    fig.cell_info = mpl.find_output_cell(\"<div id='\" + id + \"'></div>\");\n",
       "    if (!fig.cell_info) {\n",
       "        console.error('Failed to find cell for figure', id, fig);\n",
       "        return;\n",
       "    }\n",
       "    fig.cell_info[0].output_area.element.on(\n",
       "        'cleared',\n",
       "        { fig: fig },\n",
       "        fig._remove_fig_handler\n",
       "    );\n",
       "};\n",
       "\n",
       "mpl.figure.prototype.handle_close = function (fig, msg) {\n",
       "    var width = fig.canvas.width / fig.ratio;\n",
       "    fig.cell_info[0].output_area.element.off(\n",
       "        'cleared',\n",
       "        fig._remove_fig_handler\n",
       "    );\n",
       "    fig.resizeObserverInstance.unobserve(fig.canvas_div);\n",
       "\n",
       "    // Update the output cell to use the data from the current canvas.\n",
       "    fig.push_to_output();\n",
       "    var dataURL = fig.canvas.toDataURL();\n",
       "    // Re-enable the keyboard manager in IPython - without this line, in FF,\n",
       "    // the notebook keyboard shortcuts fail.\n",
       "    IPython.keyboard_manager.enable();\n",
       "    fig.parent_element.innerHTML =\n",
       "        '<img src=\"' + dataURL + '\" width=\"' + width + '\">';\n",
       "    fig.close_ws(fig, msg);\n",
       "};\n",
       "\n",
       "mpl.figure.prototype.close_ws = function (fig, msg) {\n",
       "    fig.send_message('closing', msg);\n",
       "    // fig.ws.close()\n",
       "};\n",
       "\n",
       "mpl.figure.prototype.push_to_output = function (_remove_interactive) {\n",
       "    // Turn the data on the canvas into data in the output cell.\n",
       "    var width = this.canvas.width / this.ratio;\n",
       "    var dataURL = this.canvas.toDataURL();\n",
       "    this.cell_info[1]['text/html'] =\n",
       "        '<img src=\"' + dataURL + '\" width=\"' + width + '\">';\n",
       "};\n",
       "\n",
       "mpl.figure.prototype.updated_canvas_event = function () {\n",
       "    // Tell IPython that the notebook contents must change.\n",
       "    IPython.notebook.set_dirty(true);\n",
       "    this.send_message('ack', {});\n",
       "    var fig = this;\n",
       "    // Wait a second, then push the new image to the DOM so\n",
       "    // that it is saved nicely (might be nice to debounce this).\n",
       "    setTimeout(function () {\n",
       "        fig.push_to_output();\n",
       "    }, 1000);\n",
       "};\n",
       "\n",
       "mpl.figure.prototype._init_toolbar = function () {\n",
       "    var fig = this;\n",
       "\n",
       "    var toolbar = document.createElement('div');\n",
       "    toolbar.classList = 'btn-toolbar';\n",
       "    this.root.appendChild(toolbar);\n",
       "\n",
       "    function on_click_closure(name) {\n",
       "        return function (_event) {\n",
       "            return fig.toolbar_button_onclick(name);\n",
       "        };\n",
       "    }\n",
       "\n",
       "    function on_mouseover_closure(tooltip) {\n",
       "        return function (event) {\n",
       "            if (!event.currentTarget.disabled) {\n",
       "                return fig.toolbar_button_onmouseover(tooltip);\n",
       "            }\n",
       "        };\n",
       "    }\n",
       "\n",
       "    fig.buttons = {};\n",
       "    var buttonGroup = document.createElement('div');\n",
       "    buttonGroup.classList = 'btn-group';\n",
       "    var button;\n",
       "    for (var toolbar_ind in mpl.toolbar_items) {\n",
       "        var name = mpl.toolbar_items[toolbar_ind][0];\n",
       "        var tooltip = mpl.toolbar_items[toolbar_ind][1];\n",
       "        var image = mpl.toolbar_items[toolbar_ind][2];\n",
       "        var method_name = mpl.toolbar_items[toolbar_ind][3];\n",
       "\n",
       "        if (!name) {\n",
       "            /* Instead of a spacer, we start a new button group. */\n",
       "            if (buttonGroup.hasChildNodes()) {\n",
       "                toolbar.appendChild(buttonGroup);\n",
       "            }\n",
       "            buttonGroup = document.createElement('div');\n",
       "            buttonGroup.classList = 'btn-group';\n",
       "            continue;\n",
       "        }\n",
       "\n",
       "        button = fig.buttons[name] = document.createElement('button');\n",
       "        button.classList = 'btn btn-default';\n",
       "        button.href = '#';\n",
       "        button.title = name;\n",
       "        button.innerHTML = '<i class=\"fa ' + image + ' fa-lg\"></i>';\n",
       "        button.addEventListener('click', on_click_closure(method_name));\n",
       "        button.addEventListener('mouseover', on_mouseover_closure(tooltip));\n",
       "        buttonGroup.appendChild(button);\n",
       "    }\n",
       "\n",
       "    if (buttonGroup.hasChildNodes()) {\n",
       "        toolbar.appendChild(buttonGroup);\n",
       "    }\n",
       "\n",
       "    // Add the status bar.\n",
       "    var status_bar = document.createElement('span');\n",
       "    status_bar.classList = 'mpl-message pull-right';\n",
       "    toolbar.appendChild(status_bar);\n",
       "    this.message = status_bar;\n",
       "\n",
       "    // Add the close button to the window.\n",
       "    var buttongrp = document.createElement('div');\n",
       "    buttongrp.classList = 'btn-group inline pull-right';\n",
       "    button = document.createElement('button');\n",
       "    button.classList = 'btn btn-mini btn-primary';\n",
       "    button.href = '#';\n",
       "    button.title = 'Stop Interaction';\n",
       "    button.innerHTML = '<i class=\"fa fa-power-off icon-remove icon-large\"></i>';\n",
       "    button.addEventListener('click', function (_evt) {\n",
       "        fig.handle_close(fig, {});\n",
       "    });\n",
       "    button.addEventListener(\n",
       "        'mouseover',\n",
       "        on_mouseover_closure('Stop Interaction')\n",
       "    );\n",
       "    buttongrp.appendChild(button);\n",
       "    var titlebar = this.root.querySelector('.ui-dialog-titlebar');\n",
       "    titlebar.insertBefore(buttongrp, titlebar.firstChild);\n",
       "};\n",
       "\n",
       "mpl.figure.prototype._remove_fig_handler = function (event) {\n",
       "    var fig = event.data.fig;\n",
       "    if (event.target !== this) {\n",
       "        // Ignore bubbled events from children.\n",
       "        return;\n",
       "    }\n",
       "    fig.close_ws(fig, {});\n",
       "};\n",
       "\n",
       "mpl.figure.prototype._root_extra_style = function (el) {\n",
       "    el.style.boxSizing = 'content-box'; // override notebook setting of border-box.\n",
       "};\n",
       "\n",
       "mpl.figure.prototype._canvas_extra_style = function (el) {\n",
       "    // this is important to make the div 'focusable\n",
       "    el.setAttribute('tabindex', 0);\n",
       "    // reach out to IPython and tell the keyboard manager to turn it's self\n",
       "    // off when our div gets focus\n",
       "\n",
       "    // location in version 3\n",
       "    if (IPython.notebook.keyboard_manager) {\n",
       "        IPython.notebook.keyboard_manager.register_events(el);\n",
       "    } else {\n",
       "        // location in version 2\n",
       "        IPython.keyboard_manager.register_events(el);\n",
       "    }\n",
       "};\n",
       "\n",
       "mpl.figure.prototype._key_event_extra = function (event, _name) {\n",
       "    // Check for shift+enter\n",
       "    if (event.shiftKey && event.which === 13) {\n",
       "        this.canvas_div.blur();\n",
       "        // select the cell after this one\n",
       "        var index = IPython.notebook.find_cell_index(this.cell_info[0]);\n",
       "        IPython.notebook.select(index + 1);\n",
       "    }\n",
       "};\n",
       "\n",
       "mpl.figure.prototype.handle_save = function (fig, _msg) {\n",
       "    fig.ondownload(fig, null);\n",
       "};\n",
       "\n",
       "mpl.find_output_cell = function (html_output) {\n",
       "    // Return the cell and output element which can be found *uniquely* in the notebook.\n",
       "    // Note - this is a bit hacky, but it is done because the \"notebook_saving.Notebook\"\n",
       "    // IPython event is triggered only after the cells have been serialised, which for\n",
       "    // our purposes (turning an active figure into a static one), is too late.\n",
       "    var cells = IPython.notebook.get_cells();\n",
       "    var ncells = cells.length;\n",
       "    for (var i = 0; i < ncells; i++) {\n",
       "        var cell = cells[i];\n",
       "        if (cell.cell_type === 'code') {\n",
       "            for (var j = 0; j < cell.output_area.outputs.length; j++) {\n",
       "                var data = cell.output_area.outputs[j];\n",
       "                if (data.data) {\n",
       "                    // IPython >= 3 moved mimebundle to data attribute of output\n",
       "                    data = data.data;\n",
       "                }\n",
       "                if (data['text/html'] === html_output) {\n",
       "                    return [cell, data, j];\n",
       "                }\n",
       "            }\n",
       "        }\n",
       "    }\n",
       "};\n",
       "\n",
       "// Register the function which deals with the matplotlib target/channel.\n",
       "// The kernel may be null if the page has been refreshed.\n",
       "if (IPython.notebook.kernel !== null) {\n",
       "    IPython.notebook.kernel.comm_manager.register_target(\n",
       "        'matplotlib',\n",
       "        mpl.mpl_figure_comm\n",
       "    );\n",
       "}\n"
      ],
      "text/plain": [
       "<IPython.core.display.Javascript object>"
      ]
     },
     "metadata": {},
     "output_type": "display_data"
    },
    {
     "data": {
      "text/html": [
       "<img src=\"data:image/png;base64,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\" width=\"639.9166666666667\">"
      ],
      "text/plain": [
       "<IPython.core.display.HTML object>"
      ]
     },
     "metadata": {},
     "output_type": "display_data"
    }
   ],
   "source": [
    "%matplotlib notebook\n",
    "gc.results.plot_2d(plotdots={\"success\":\"+g\", \"reset\":\"xr\", \"normal\": None})"
   ]
  },
  {
   "cell_type": "markdown",
   "id": "plastic-pepper",
   "metadata": {},
   "source": [
    "<div>\n",
    "<img src=\"images/question_darkblue.png\" align=\"left\" width=\"24\" height=\"24\"/>\n",
    "<span style=\"line-height:24px; margin-left: 0.5em\"><font color=\"darkblue\">What do you notice in the diagram, is there a certain area you would like to have a closer look at?</font></span>\n",
    "</div>"
   ]
  },
  {
   "cell_type": "markdown",
   "id": "blessed-smith",
   "metadata": {},
   "source": [
    "<div>\n",
    "<img src=\"images/write_chocolate.png\" align=\"left\" width=\"24\" height=\"24\"/>\n",
    "<span style=\"line-height:24px; margin-left: 0.5em\"><font color='Chocolate'>\n",
    "<b> Please fill in with your own observations </b>\n",
    "</font></span>\n",
    "</div>"
   ]
  },
  {
   "cell_type": "markdown",
   "id": "protecting-screening",
   "metadata": {},
   "source": [
    "<font color='Chocolate'>\n",
    "replace this line with your observations\n",
    "</font>"
   ]
  },
  {
   "cell_type": "markdown",
   "id": "extended-manchester",
   "metadata": {},
   "source": [
    "<div>\n",
    "<img src=\"images/question_darkblue.png\" align=\"left\" width=\"24\" height=\"24\"/>\n",
    "<span style=\"line-height:24px; margin-left: 0.5em\"><font color=\"darkblue\">Do you think the pattern for successful glitches will differ for:<br>\n",
    "a) Same Microcontroller running a different software?<br>\n",
    "b) Different Microcontroller running the same software?</font></span>\n",
    "</div>"
   ]
  },
  {
   "cell_type": "markdown",
   "id": "embedded-viewer",
   "metadata": {},
   "source": [
    "<div>\n",
    "<img src=\"images/write_chocolate.png\" align=\"left\" width=\"24\" height=\"24\"/>\n",
    "<span style=\"line-height:24px; margin-left: 0.5em\"><font color='Chocolate'>\n",
    "<b> Please fill in with your own observations </b>\n",
    "</font></span>\n",
    "</div>"
   ]
  },
  {
   "cell_type": "markdown",
   "id": "bridal-shell",
   "metadata": {},
   "source": [
    "<font color='Chocolate'>\n",
    "replace this line with your observations\n",
    "</font>"
   ]
  },
  {
   "cell_type": "markdown",
   "id": "minor-company",
   "metadata": {},
   "source": [
    "Play around with the settings and ranges. With reducing the global_step size you will gain a much higher \"resolution\" at the cost of execution time. It makes sense to first explore the space of glitch settings and dive deeper once you found sub-spaces worth taking a closer look at.<br>\n",
    "\n",
    "Adjust the glitch settings in such a way that it guarantees you a successfull glitch.<br>\n",
    "You can also try a range of settings, the success rate should then be higher than 90%."
   ]
  },
  {
   "cell_type": "code",
   "execution_count": null,
   "id": "broadband-instrumentation",
   "metadata": {},
   "outputs": [],
   "source": [
    "# Play around with the settings\n",
    "# Have a look at gc.display_stats() to see in real time which set of settings are tried at the time."
   ]
  },
  {
   "cell_type": "markdown",
   "id": "jewish-reproduction",
   "metadata": {},
   "source": [
    "<div>\n",
    "<img src=\"images/question_darkblue.png\" align=\"left\" width=\"24\" height=\"24\"/>\n",
    "<span style=\"line-height:24px; margin-left: 0.5em\"><font color=\"darkblue\">What are the most promising glitch settings with a success rate of at least 90%?</font></span>\n",
    "</div>"
   ]
  },
  {
   "cell_type": "markdown",
   "id": "rising-anthropology",
   "metadata": {},
   "source": [
    "<div>\n",
    "<img src=\"images/write_chocolate.png\" align=\"left\" width=\"24\" height=\"24\"/>\n",
    "<span style=\"line-height:24px; margin-left: 0.5em\"><font color='Chocolate'>\n",
    "<b> Please fill in with your own observations </b>\n",
    "</font></span>\n",
    "</div>"
   ]
  },
  {
   "cell_type": "markdown",
   "id": "contemporary-notice",
   "metadata": {},
   "source": [
    "<font color='Chocolate'>\n",
    "replace this line with your observations\n",
    "</font>"
   ]
  },
  {
   "cell_type": "markdown",
   "id": "expressed-narrative",
   "metadata": {},
   "source": [
    "Remember the glitch settings you find most promising because these settings will come in useful in the following glitch attempts.<br>\n",
    "In practise, these kind of attacks take quite some time to find a successfull glitch.<br>\n",
    "After finding one you want to use the information on where to find the glitch, to reproduce it.<br>"
   ]
  },
  {
   "cell_type": "code",
   "execution_count": null,
   "id": "secondary-producer",
   "metadata": {},
   "outputs": [],
   "source": [
    "raise NotImplementedError(\"Add your code here, and delete this.\")"
   ]
  },
  {
   "cell_type": "markdown",
   "id": "funded-williams",
   "metadata": {},
   "source": [
    "## Bypass password check using Fault Injection"
   ]
  },
  {
   "cell_type": "markdown",
   "id": "cheap-bosnia",
   "metadata": {},
   "source": [
    "Take a look at another password authentication function:\n",
    "\n",
    "```C\n",
    "uint8_t password(uint8_t* pw)\n",
    "{\n",
    "    char passok = 1;\n",
    "    int cnt;\n",
    "\n",
    "    trigger_high();\n",
    "\n",
    "    //Simple test - doesn't check for too-long password!\n",
    "    for(cnt = 0; cnt < PW_LEN; cnt++){\n",
    "        if (pw[cnt] != passwd[cnt]){\n",
    "            passok = 0;\n",
    "        }\n",
    "    }\n",
    "    \n",
    "    ..\n",
    "    ..\n",
    "    ..\n",
    "    ..\n",
    "\n",
    "}\n",
    "```"
   ]
  },
  {
   "cell_type": "markdown",
   "id": "geographic-victor",
   "metadata": {},
   "source": [
    "<div>\n",
    "<img src=\"images/question_darkblue.png\" align=\"left\" width=\"24\" height=\"24\"/>\n",
    "<span style=\"line-height:24px; margin-left: 0.5em\"><font color=\"darkblue\">How was the flaw from the function in 3.1 fixed?</font></span>\n",
    "</div>"
   ]
  },
  {
   "cell_type": "markdown",
   "id": "dramatic-uncle",
   "metadata": {},
   "source": [
    "<div>\n",
    "<img src=\"images/write_chocolate.png\" align=\"left\" width=\"24\" height=\"24\"/>\n",
    "<span style=\"line-height:24px; margin-left: 0.5em\"><font color='Chocolate'>\n",
    "<b> Please fill in with your own observations </b>\n",
    "</font></span>\n",
    "</div>"
   ]
  },
  {
   "cell_type": "markdown",
   "id": "educated-reverse",
   "metadata": {},
   "source": [
    "<font color='Chocolate'>\n",
    "replace this line with your observations\n",
    "</font>"
   ]
  },
  {
   "cell_type": "markdown",
   "id": "optical-documentary",
   "metadata": {},
   "source": [
    "For the following task a similar function is implemented to check the password.\n",
    "\n",
    "Assuming the password is complex enough, bruteforcing it will be impractical. <br> \n",
    "Fortunately, you already lernead a bit about clock glitching and we might be able to utilize this knowledge to bypass the password even for a simingly secure function like this!<br>\n",
    "\n",
    "But first we need to flash the software onto our target."
   ]
  },
  {
   "cell_type": "code",
   "execution_count": null,
   "id": "signed-amsterdam",
   "metadata": {},
   "outputs": [],
   "source": [
    "# flash the target firmware to the ChipWhisperer STM32 chip\n",
    "target_firmware = \"PasswordBypass.hex\"\n",
    "cw.program_target(scope, prog, target_firmware)"
   ]
  },
  {
   "cell_type": "markdown",
   "id": "herbal-southwest",
   "metadata": {},
   "source": [
    "We don't know a lot about the password check and authentication function we want to bypass.<br>\n",
    "The system requires the transmission of the password via serial communication.<br>\n",
    "We can send a dummy password with a length of 6 to get started ..."
   ]
  },
  {
   "cell_type": "code",
   "execution_count": null,
   "id": "superb-frontier",
   "metadata": {},
   "outputs": [],
   "source": [
    "# send dummy password\n",
    "pw = bytearray([0x00]*6)\n",
    "target.simpleserial_write('p', pw)\n",
    "\n",
    "val = target.simpleserial_read_witherrors('r', 1, glitch_timeout=10)#For loop check\n",
    "valid = val['valid']\n",
    "if valid:\n",
    "    response = val['payload']\n",
    "    raw_serial = val['full_response']\n",
    "    error_code = val['rv']\n",
    "\n",
    "print(val)"
   ]
  },
  {
   "cell_type": "markdown",
   "id": "uniform-brook",
   "metadata": {},
   "source": [
    "... and get a response that the request was invalid.<br>"
   ]
  },
  {
   "cell_type": "markdown",
   "id": "committed-pickup",
   "metadata": {},
   "source": [
    "Send passwords with different lengths and see if you can get the system to accept the request (not necessarily the password) as valid."
   ]
  },
  {
   "cell_type": "code",
   "execution_count": null,
   "id": "ecological-weekend",
   "metadata": {},
   "outputs": [],
   "source": [
    "for pw_len in range(30):\n",
    "    raise NotImplementedError(\"Add your code here, and delete this.\")"
   ]
  },
  {
   "cell_type": "markdown",
   "id": "enhanced-friday",
   "metadata": {},
   "source": [
    "<div>\n",
    "<img src=\"images/question_darkblue.png\" align=\"left\" width=\"24\" height=\"24\"/>\n",
    "<span style=\"line-height:24px; margin-left: 0.5em\"><font color=\"darkblue\">What is the correct length of the password and how did you find it?</font></span>\n",
    "</div>"
   ]
  },
  {
   "cell_type": "markdown",
   "id": "passing-estate",
   "metadata": {},
   "source": [
    "<div>\n",
    "<img src=\"images/write_chocolate.png\" align=\"left\" width=\"24\" height=\"24\"/>\n",
    "<span style=\"line-height:24px; margin-left: 0.5em\"><font color='Chocolate'>\n",
    "<b> Please fill in with your own observations </b>\n",
    "</font></span>\n",
    "</div>"
   ]
  },
  {
   "cell_type": "markdown",
   "id": "tutorial-nepal",
   "metadata": {},
   "source": [
    "<font color='Chocolate'>\n",
    "replace this line with your observations\n",
    "</font>"
   ]
  },
  {
   "cell_type": "markdown",
   "id": "instant-lender",
   "metadata": {},
   "source": [
    "Once we got the correct password length the actual code as shown below is executed and glitching it should enable us to bypass the password check alltogether.\n",
    "\n",
    "```C\n",
    "if (passok == 1) {\n",
    "    //Simple test - doesn't check for too-long password!\n",
    "    for(cnt = 0; cnt < PW_LEN; cnt++){\n",
    "        if (pw[cnt] != passwd[cnt]){\n",
    "            passok = 0;\n",
    "        }\n",
    "    }\n",
    "}\n",
    "```"
   ]
  },
  {
   "cell_type": "markdown",
   "id": "removed-model",
   "metadata": {},
   "source": [
    "We keep the glitch setup from the previous section (Nested loops) but want to add a parameter for external offset `ext_offset` to shift the glitched clock to match the time of execution of the code above."
   ]
  },
  {
   "cell_type": "code",
   "execution_count": null,
   "id": "checked-package",
   "metadata": {},
   "outputs": [],
   "source": [
    "# Add the external offset \"ext_offset\" to the parameters \n",
    "# gc = glitch.GlitchController(groups=[\"success\", \"reset\", \"normal\"], parameters=[\"width\", \"offset\"])\n",
    "# gc.display_stats()\n",
    "gc = glitch.GlitchController(groups=[\"success\", \"reset\", \"normal\"], parameters=[\"width\", \"offset\", \"ext_offset\"])\n",
    "gc.display_stats()"
   ]
  },
  {
   "cell_type": "markdown",
   "id": "abandoned-chicago",
   "metadata": {},
   "source": [
    "Let's print the generated glitch settings with our new parameter."
   ]
  },
  {
   "cell_type": "code",
   "execution_count": null,
   "id": "extensive-public",
   "metadata": {},
   "outputs": [],
   "source": [
    "# setting the ranges for the glitch offset and glitch width\n",
    "gc.set_range(\"width\", 13, 13)\n",
    "gc.set_range(\"offset\", -2.5, -2.5)\n",
    "gc.set_range(\"ext_offset\", 0, 20)\n",
    "\n",
    "\n",
    "# each setting moves from min to max based on the global step size\n",
    "gc.set_global_step([1])\n",
    "\n",
    "# generate the set of glitch settings\n",
    "for glitch_setting in gc.glitch_values():\n",
    "    # print the generated settings\n",
    "    print(\"Offset: {}\\tWidth: {}\\tExt Offset: {}\".format(glitch_setting[1], glitch_setting[0], glitch_setting[2]))\n",
    "    time.sleep(.1)"
   ]
  },
  {
   "cell_type": "markdown",
   "id": "amended-coral",
   "metadata": {},
   "source": [
    "<div>\n",
    "<img src=\"images/question_darkblue.png\" align=\"left\" width=\"24\" height=\"24\"/>\n",
    "<span style=\"line-height:24px; margin-left: 0.5em\"><font color=\"darkblue\">How can you check the success of your glitch attack?</font></span>\n",
    "</div>"
   ]
  },
  {
   "cell_type": "markdown",
   "id": "rough-involvement",
   "metadata": {},
   "source": [
    "<div>\n",
    "<img src=\"images/write_chocolate.png\" align=\"left\" width=\"24\" height=\"24\"/>\n",
    "<span style=\"line-height:24px; margin-left: 0.5em\"><font color='Chocolate'>\n",
    "<b> Please fill in with your own observations </b>\n",
    "</font></span>\n",
    "</div>"
   ]
  },
  {
   "cell_type": "markdown",
   "id": "thirty-cream",
   "metadata": {},
   "source": [
    "<font color='Chocolate'>\n",
    "replace this line with your observations\n",
    "</font>"
   ]
  },
  {
   "cell_type": "markdown",
   "id": "boring-validity",
   "metadata": {},
   "source": [
    "We provide you with a template to glitch the abovementioned password authentication function.\n",
    "Take the previous steps into consideration to get successful glitches. "
   ]
  },
  {
   "cell_type": "code",
   "execution_count": null,
   "id": "standing-bikini",
   "metadata": {},
   "outputs": [],
   "source": [
    "import chipwhisperer.common.results.glitch as glitch\n",
    "from tqdm.notebook import trange\n",
    "import struct\n",
    "\n",
    "# set external offset\n",
    "gc.set_range(\"width\", 0, 50)\n",
    "gc.set_range(\"offset\", -50, 50)\n",
    "gc.set_range(\"ext_offset\", 0, 20)\n",
    "gc.set_global_step([0.5])\n",
    "\n",
    "scope.glitch.repeat = 3\n",
    "\n",
    "scope.adc.timeout = 0.1\n",
    "\n",
    "reboot_flush()\n",
    "# iterate over all glitch settings\n",
    "for glitch_setting in gc.glitch_values(): ##\n",
    "    scope.glitch.offset = \n",
    "    scope.glitch.width = \n",
    "    scope.glitch.ext_offset = \n",
    " \n",
    "    # speed up, if the trigger has never been low without waiting for timeout\n",
    "    if scope.adc.state:\n",
    "        # can detect crash here (fast) before timing out (slow)\n",
    "        print(\"Trigger still high!\")\n",
    "        gc.add(\"reset\", (scope.glitch.width, scope.glitch.offset, scope.glitch.ext_offset))\n",
    "        \n",
    "        reboot_flush()\n",
    "        \n",
    "    # The glitching is only possible when armed.\n",
    "    scope.arm()\n",
    "    \n",
    "    # send message\n",
    "    \n",
    "    ret = scope.capture()\n",
    "    \n",
    "    # get return message\n",
    "    \n",
    "    # check if target has crashed\n",
    "    if ret:\n",
    "        # timeout\n",
    "        gc.add(\"reset\", (scope.glitch.width, scope.glitch.offset, scope.glitch.ext_offset))\n",
    "        reboot_flush() ##\n",
    "    else:\n",
    "        # response message received\n",
    "        if val['payload'] is None: ## ignore invalid messages\n",
    "            continue \n",
    "        \n",
    "        else:\n",
    "            # password check ok?\n",
    "            if :\n",
    "                gc.add(\"success\", (scope.glitch.width, scope.glitch.offset, scope.glitch.ext_offset))\n",
    "            else:\n",
    "                gc.add(\"normal\", (scope.glitch.width, scope.glitch.offset, scope.glitch.ext_offset))"
   ]
  },
  {
   "cell_type": "markdown",
   "id": "bigger-actor",
   "metadata": {},
   "source": [
    "<div>\n",
    "<img src=\"images/question_darkblue.png\" align=\"left\" width=\"24\" height=\"24\"/>\n",
    "<span style=\"line-height:24px; margin-left: 0.5em\"><font color=\"darkblue\">What is your decider to determine the success of a glitch attempt?</font></span>\n",
    "</div>"
   ]
  },
  {
   "cell_type": "markdown",
   "id": "blessed-affect",
   "metadata": {},
   "source": [
    "<div>\n",
    "<img src=\"images/write_chocolate.png\" align=\"left\" width=\"24\" height=\"24\"/>\n",
    "<span style=\"line-height:24px; margin-left: 0.5em\"><font color='Chocolate'>\n",
    "<b> Please fill in with your own observations </b>\n",
    "</font></span>\n",
    "</div>"
   ]
  },
  {
   "cell_type": "markdown",
   "id": "weekly-bookmark",
   "metadata": {},
   "source": [
    "<font color='Chocolate'>\n",
    "replace this line with your observations\n",
    "</font>"
   ]
  },
  {
   "cell_type": "markdown",
   "id": "precise-tobacco",
   "metadata": {},
   "source": [
    "<div>\n",
    "<img src=\"images/question_darkblue.png\" align=\"left\" width=\"24\" height=\"24\"/>\n",
    "<span style=\"line-height:24px; margin-left: 0.5em\"><font color=\"darkblue\">Considering the authentication function source code, where do you think (instruction or part of instruction) the glitch happened and why?</font></span>\n",
    "</div>"
   ]
  },
  {
   "cell_type": "markdown",
   "id": "multiple-conversation",
   "metadata": {},
   "source": [
    "<div>\n",
    "<img src=\"images/write_chocolate.png\" align=\"left\" width=\"24\" height=\"24\"/>\n",
    "<span style=\"line-height:24px; margin-left: 0.5em\"><font color='Chocolate'>\n",
    "<b> Please fill in with your own observations </b>\n",
    "</font></span>\n",
    "</div>"
   ]
  },
  {
   "cell_type": "markdown",
   "id": "alternative-operation",
   "metadata": {},
   "source": [
    "<font color='Chocolate'>\n",
    "replace this line with your observations\n",
    "</font>"
   ]
  },
  {
   "cell_type": "markdown",
   "id": "similar-marketplace",
   "metadata": {},
   "source": [
    "## Password Bypass using Power Analysis and Fault Injection"
   ]
  },
  {
   "cell_type": "markdown",
   "id": "coastal-numbers",
   "metadata": {},
   "source": [
    "In the previously used implementation, the firmware sent back information if the password was correct or not.<br>\n",
    "This is a major (and unfortunately quite common) security flaw, which allows automization of a lot of attacks. <br> \n",
    "In this task we will use a more secure version of the password authentication function. <br> \n",
    "The same protocol was used but we will not gain any information. <br> \n",
    "This task will give you more freedom than the previous ones. Try to use code / knowledge from the DPA and glitching tasks."
   ]
  },
  {
   "cell_type": "markdown",
   "id": "saved-dispatch",
   "metadata": {},
   "source": [
    "Like always, flash the firmware on the target first."
   ]
  },
  {
   "cell_type": "code",
   "execution_count": null,
   "id": "heated-knock",
   "metadata": {},
   "outputs": [],
   "source": [
    "# flash the target firmware to the ChipWhisperer STM32 chip\n",
    "target_firmware = \"PasswordBypassTask_3_6.hex\"\n",
    "cw.program_target(scope, prog, target_firmware)"
   ]
  },
  {
   "cell_type": "markdown",
   "id": "rolled-magazine",
   "metadata": {},
   "source": [
    "As in 3.5 let's first find out the length of the password. <br>\n",
    "This approach will be more realistic but is a bit tricky. <br> \n",
    "Send passwords with the different lengths to the device as before. \n",
    "Try to use a simple power analysis to find out which of the password lenghts you tried was the correct one.<br>\n",
    "Differently to the previous tasks, there is no trigger implemented in the firmware of the Microcontroller to tell the ChipWhisperer when to begin recording the power trace, so you should find a fitting trigger and try to fit the window where the sampling is done. <br>\n",
    "You might want to look at the following commands in the documentation:<br>\n",
    "https://chipwhisperer.readthedocs.io/en/latest/api.html#chipwhisperer.scopes.OpenADC.adc <br>\n",
    "https://chipwhisperer.readthedocs.io/en/latest/api.html#chipwhisperer.scopes.OpenADC.trigger <br>\n",
    "https://chipwhisperer.readthedocs.io/en/latest/api.html#chipwhisperer.scopes.OpenADC.clock"
   ]
  },
  {
   "cell_type": "markdown",
   "id": "inside-minute",
   "metadata": {},
   "source": [
    "<font color=\"darkgreen\">\n",
    "<details>\n",
    "<summary>\n",
    "<div>\n",
    "<img src=\"images/hint_darkgreen.png\" align=\"left\" width=\"24\" height=\"24\"/>\n",
    "<span style=\"line-height:24px; margin-left: 0.5em\">\n",
    "<b>Click to show hints</b>\n",
    "</span>\n",
    "</div>\n",
    "</summary>\n",
    "\n",
    "Keep in mind you will have to send the password first.<br>\n",
    "Is there a way to get your trigger timed by the transmitted password?\n",
    "\n",
    "</details></font>"
   ]
  },
  {
   "cell_type": "code",
   "execution_count": null,
   "id": "organic-retreat",
   "metadata": {},
   "outputs": [],
   "source": [
    "from tqdm import tnrange\n",
    "import numpy as np\n",
    "\n",
    "trace_array = []\n",
    "N = \n",
    "\n",
    "# adjust trigger and adc settings \n",
    "\n",
    "# Loop over pw lenghts\n",
    "for i in tnrange(N, desc='Capturing traces'):\n",
    "    \n",
    "    # flush before getting the traces\n",
    "    reboot_flush()\n",
    "    \n",
    "    # setup power analysis and send password \n",
    "    \n",
    "    ret = \n",
    "    \n",
    "    if ret:\n",
    "        print(\"Target timed out!\")\n",
    "        continue\n",
    "        \n",
    "    # store captured trace\n",
    "\n",
    "# Plot the different traces \n",
    "    "
   ]
  },
  {
   "cell_type": "markdown",
   "id": "stunning-piano",
   "metadata": {},
   "source": [
    "What is your guess for the password length and why?<br>\n",
    "`--- please fill in with your own observations ---`<br>"
   ]
  },
  {
   "cell_type": "markdown",
   "id": "quantitative-basic",
   "metadata": {},
   "source": [
    "<div>\n",
    "<img src=\"images/question_darkblue.png\" align=\"left\" width=\"24\" height=\"24\"/>\n",
    "<span style=\"line-height:24px; margin-left: 0.5em\"><font color=\"darkblue\">What is your guess for the password length and why?</font></span>\n",
    "</div>"
   ]
  },
  {
   "cell_type": "markdown",
   "id": "liberal-october",
   "metadata": {},
   "source": [
    "<div>\n",
    "<img src=\"images/write_chocolate.png\" align=\"left\" width=\"24\" height=\"24\"/>\n",
    "<span style=\"line-height:24px; margin-left: 0.5em\"><font color='Chocolate'>\n",
    "<b> Please fill in with your own observations </b>\n",
    "</font></span>\n",
    "</div>"
   ]
  },
  {
   "cell_type": "markdown",
   "id": "successful-jacksonville",
   "metadata": {},
   "source": [
    "<font color='Chocolate'>\n",
    "replace this line with your observations\n",
    "</font>"
   ]
  },
  {
   "cell_type": "markdown",
   "id": "brave-number",
   "metadata": {},
   "source": [
    "In the next step we want to glitch this target. \n",
    "In order to find out if we glitched successfully, you should use the power traces. \n",
    "To make it easier, we recorded a trace of a successful password authentication, this was done on a different device, where the password is known."
   ]
  },
  {
   "cell_type": "markdown",
   "id": "interested-charter",
   "metadata": {},
   "source": [
    "![](images/Trace_Successful_Pw.png)"
   ]
  },
  {
   "cell_type": "markdown",
   "id": "tight-vaccine",
   "metadata": {},
   "source": [
    "<div>\n",
    "<img src=\"images/question_darkblue.png\" align=\"left\" width=\"24\" height=\"24\"/>\n",
    "<span style=\"line-height:24px; margin-left: 0.5em\"><font color=\"darkblue\">Comparing the prerecorded trace with the trace you recorded, what differences do you see?</font></span>\n",
    "</div>"
   ]
  },
  {
   "cell_type": "markdown",
   "id": "coral-vegetation",
   "metadata": {},
   "source": [
    "<div>\n",
    "<img src=\"images/write_chocolate.png\" align=\"left\" width=\"24\" height=\"24\"/>\n",
    "<span style=\"line-height:24px; margin-left: 0.5em\"><font color='Chocolate'>\n",
    "<b> Please fill in with your own observations </b>\n",
    "</font></span>\n",
    "</div>"
   ]
  },
  {
   "cell_type": "markdown",
   "id": "handed-tribute",
   "metadata": {},
   "source": [
    "<font color='Chocolate'>\n",
    "replace this line with your observations\n",
    "</font>"
   ]
  },
  {
   "cell_type": "markdown",
   "id": "deluxe-friendly",
   "metadata": {},
   "source": [
    "<div>\n",
    "<img src=\"images/question_darkblue.png\" align=\"left\" width=\"24\" height=\"24\"/>\n",
    "<span style=\"line-height:24px; margin-left: 0.5em\"><font color=\"darkblue\">How could you use the differences of the two power traces to sort the successful and unsuccessful glitches?</font></span>\n",
    "</div>"
   ]
  },
  {
   "cell_type": "markdown",
   "id": "structural-richmond",
   "metadata": {},
   "source": [
    "<div>\n",
    "<img src=\"images/write_chocolate.png\" align=\"left\" width=\"24\" height=\"24\"/>\n",
    "<span style=\"line-height:24px; margin-left: 0.5em\"><font color='Chocolate'>\n",
    "<b> Please fill in with your own observations </b>\n",
    "</font></span>\n",
    "</div>"
   ]
  },
  {
   "cell_type": "markdown",
   "id": "broke-wallet",
   "metadata": {},
   "source": [
    "<font color='Chocolate'>\n",
    "replace this line with your observations\n",
    "</font>"
   ]
  },
  {
   "cell_type": "markdown",
   "id": "republican-while",
   "metadata": {},
   "source": [
    "You can do the next task in two ways. One is much harder than the other. <br>\n",
    "- First option: You use the same firmware as before but with the internal triggers added in.<br> \n",
    "With this added internal trigger you can glitch as in 3.5 but using the power traces as a metric to decide if the glitch was a success or not. <br>\n",
    "- Second option: The more realistic (but harder) approach would be to use the PasswordBypassTask_2_5.hex firmware and fit the glitches to the time, where in the trace, the sensitive password check is done. **Consider this as a bonus task and only do this if you feel comfortable with the ChipWhisperer and trigger settings.**<br>\n",
    "Depending on which way you want to solve, execute the next block, or not."
   ]
  },
  {
   "cell_type": "code",
   "execution_count": null,
   "id": "scenic-pennsylvania",
   "metadata": {},
   "outputs": [],
   "source": [
    "# flash the target firmware to the ChipWhisperer STM32 chip\n",
    "target_firmware = \"Task3.6_withTrigger.hex\"\n",
    "cw.program_target(scope, prog, target_firmware)\n",
    "\n",
    "# set trigger to default parameters for internal trigger\n",
    "scope.default_setup()\n",
    "scope.glitch.clk_src = 'clkgen'\n",
    "scope.glitch.trigger_src = 'ext_single'\n",
    "scope.glitch.repeat = 1\n",
    "scope.glitch.output = \"clock_xor\"\n",
    "scope.io.hs2 = \"glitch\""
   ]
  },
  {
   "cell_type": "markdown",
   "id": "geological-respondent",
   "metadata": {},
   "source": [
    "If you want to do the approach without using the software trigger, you need to use the ext_offset to hit the same spot when the internal trigger would go up, which is right before the password-checking loop.<br>\n",
    "Now it's your turn to try it, good luck!\n",
    "\n",
    "Don't forget to visualize your glitch results and there is always `gc.display_stats()` to keep track of the currently executed glitch attempt."
   ]
  },
  {
   "cell_type": "code",
   "execution_count": null,
   "id": "exclusive-bracelet",
   "metadata": {},
   "outputs": [],
   "source": [
    "import chipwhisperer.common.results.glitch as glitch\n",
    "from tqdm.notebook import trange\n",
    "import struct\n",
    "\n",
    "# settings\n",
    "gc.set_range(\"width\", 0, 50)\n",
    "gc.set_range(\"offset\", -50, 50)\n",
    "gc.set_range(\"ext_offset\", 0, 20) # you might want to change that if you decided to do the bonus task\n",
    "gc.set_global_step([0.5])\n",
    "\n",
    "scope.glitch.repeat = 3\n",
    "\n",
    "scope.adc.timeout = 0.1\n",
    "\n",
    "# put the recorded traces in a list to validate afterwards\n",
    "pw_traces_success = []\n",
    "pw_traces_normal = []\n",
    "\n",
    "reboot_flush()\n",
    "\n",
    "# iterate over all glitch settings\n",
    "for glitch_setting in gc.glitch_values(): ##\n",
    "    scope.glitch.offset = \n",
    "    scope.glitch.width = \n",
    "    scope.glitch.ext_offset = \n",
    " \n",
    "    # speed up, if the trigger has never been low without waiting for timeout\n",
    "    if scope.adc.state:\n",
    "        # can detect crash here (fast) before timing out (slow)\n",
    "        print(\"Trigger still high!\")\n",
    "        gc.add(\"reset\", (scope.glitch.width, scope.glitch.offset, scope.glitch.ext_offset))\n",
    "        reboot_flush()\n",
    "        \n",
    "    # The glitching is only possible when armed.\n",
    "    scope.arm()\n",
    "    \n",
    "    # send message\n",
    "    \n",
    "    ret = scope.capture()\n",
    "    \n",
    "    # get power trace\n",
    "    \n",
    "    # check if target has crashed\n",
    "    if ret:\n",
    "        # timeout\n",
    "        gc.add(\"reset\", (scope.glitch.width, scope.glitch.offset, scope.glitch.ext_offset))\n",
    "    else:\n",
    "\n",
    "        else:\n",
    "            # Implement your metric to check the power trace\n",
    "            if :\n",
    "                gc.add(\"success\", (scope.glitch.width, scope.glitch.offset, scope.glitch.ext_offset))\n",
    "            else:\n",
    "                gc.add(\"normal\", (scope.glitch.width, scope.glitch.offset, scope.glitch.ext_offset))"
   ]
  },
  {
   "cell_type": "code",
   "execution_count": null,
   "id": "received-america",
   "metadata": {},
   "outputs": [],
   "source": [
    "%matplotlib notebook\n",
    "import matplotlib.pylab as plt\n",
    "plt.figure() # Creates a new figure\n",
    "\n",
    "#Check if they look right\n",
    "for trace in pw_traces_success:\n",
    "    plt.plot(abs(trace))\n",
    "plt.show()"
   ]
  },
  {
   "cell_type": "markdown",
   "id": "expected-league",
   "metadata": {
    "deletable": false,
    "editable": false,
    "run_control": {
     "frozen": true
    }
   },
   "source": [
    "## Conclusion"
   ]
  },
  {
   "cell_type": "markdown",
   "id": "split-niagara",
   "metadata": {
    "deletable": false,
    "editable": false,
    "run_control": {
     "frozen": true
    }
   },
   "source": [
    "As you have seen even without knowing anything about the key or the encryption used you were hopefully able to deduce enough information about the data to decrypt them anyways.\n",
    "\n",
    "But why was this possible?<br>\n",
    "\n"
   ]
  },
  {
   "cell_type": "markdown",
   "id": "prime-mailman",
   "metadata": {
    "deletable": false,
    "editable": false,
    "run_control": {
     "frozen": true
    }
   },
   "source": [
    "### Exploited weaknesses"
   ]
  },
  {
   "cell_type": "markdown",
   "id": "experimental-secondary",
   "metadata": {
    "deletable": false,
    "editable": false,
    "run_control": {
     "frozen": true
    }
   },
   "source": [
    "<div>\n",
    "<img src=\"images/question_darkblue.png\" align=\"left\" width=\"24\" height=\"24\"/>\n",
    "\n",
    "<span style=\"line-height:24px; margin-left: 0.5em\"><font color='darkblue'>List the weaknesses you have exploited throughout this task and explain why they lead to you decrypting the cipher text.</font></span>\n",
    "</div>"
   ]
  },
  {
   "cell_type": "markdown",
   "id": "presidential-strategy",
   "metadata": {
    "deletable": false,
    "editable": false,
    "run_control": {
     "frozen": true
    }
   },
   "source": [
    "<div>\n",
    "<img src=\"images/write_chocolate.png\" align=\"left\" width=\"24\" height=\"24\"/>\n",
    "<span style=\"line-height:24px; margin-left: 0.5em\"><font color='Chocolate'>\n",
    "<b> Please fill in with your own observations </b>\n",
    "</font></span>\n",
    "</div>"
   ]
  },
  {
   "cell_type": "markdown",
   "id": "driven-south",
   "metadata": {},
   "source": [
    "<font color='Chocolate'>\n",
    "replace this line with your observations\n",
    "</font>"
   ]
  },
  {
   "cell_type": "markdown",
   "id": "creative-advisory",
   "metadata": {
    "deletable": false,
    "editable": false,
    "run_control": {
     "frozen": true
    }
   },
   "source": [
    "### Promising counter measures"
   ]
  },
  {
   "cell_type": "markdown",
   "id": "interracial-ratio",
   "metadata": {
    "deletable": false,
    "editable": false,
    "run_control": {
     "frozen": true
    }
   },
   "source": [
    "<div>\n",
    "<img src=\"images/question_darkblue.png\" align=\"left\" width=\"24\" height=\"24\"/>\n",
    "\n",
    "<span style=\"line-height:24px; margin-left: 0.5em\"><font color='darkblue'>Can you think of one or more promising counter measure(s) that would have prevented your attack from being successful?</font></span>\n",
    "</div>"
   ]
  },
  {
   "cell_type": "markdown",
   "id": "australian-skirt",
   "metadata": {
    "deletable": false,
    "editable": false,
    "run_control": {
     "frozen": true
    }
   },
   "source": [
    "<div>\n",
    "<img src=\"images/write_chocolate.png\" align=\"left\" width=\"24\" height=\"24\"/>\n",
    "<span style=\"line-height:24px; margin-left: 0.5em\"><font color='Chocolate'>\n",
    "<b> Please fill in with your own observations </b>\n",
    "</font></span>\n",
    "</div>"
   ]
  },
  {
   "cell_type": "markdown",
   "id": "comfortable-stadium",
   "metadata": {},
   "source": [
    "<font color='Chocolate'>\n",
    "replace this line with your observations\n",
    "</font>"
   ]
  },
  {
   "cell_type": "markdown",
   "id": "reliable-italian",
   "metadata": {
    "deletable": false,
    "editable": false,
    "run_control": {
     "frozen": true
    }
   },
   "source": [
    "### Challenges "
   ]
  },
  {
   "cell_type": "markdown",
   "id": "sufficient-press",
   "metadata": {
    "deletable": false,
    "editable": false,
    "run_control": {
     "frozen": true
    }
   },
   "source": [
    "<div>\n",
    "<img src=\"images/question_darkblue.png\" align=\"left\" width=\"24\" height=\"24\"/>\n",
    "\n",
    "<span style=\"line-height:24px; margin-left: 0.5em\"><font color='darkblue'>List the challanges you faced and describe your train of thought that lead you to mastering them.</font></span>\n",
    "</div>"
   ]
  },
  {
   "cell_type": "markdown",
   "id": "constitutional-dress",
   "metadata": {
    "deletable": false,
    "editable": false,
    "run_control": {
     "frozen": true
    }
   },
   "source": [
    "<div>\n",
    "<img src=\"images/write_chocolate.png\" align=\"left\" width=\"24\" height=\"24\"/>\n",
    "<span style=\"line-height:24px; margin-left: 0.5em\"><font color='Chocolate'>\n",
    "<b> Please fill in with your own observations </b>\n",
    "</font></span>\n",
    "</div>"
   ]
  },
  {
   "cell_type": "markdown",
   "id": "extraordinary-instrumentation",
   "metadata": {},
   "source": [
    "<font color='Chocolate'>\n",
    "replace this line with your observations\n",
    "</font>"
   ]
  },
  {
   "cell_type": "markdown",
   "id": "convenient-retrieval",
   "metadata": {
    "deletable": false,
    "editable": false,
    "run_control": {
     "frozen": true
    }
   },
   "source": [
    "## Submission"
   ]
  },
  {
   "cell_type": "markdown",
   "id": "korean-highway",
   "metadata": {
    "deletable": false,
    "editable": false,
    "run_control": {
     "frozen": true
    }
   },
   "source": [
    "Please commit your changes thus far until the end of the timeframe of this task according to:<br>\n",
    "https://gitlab.tf.uni-freiburg.de/embex-security-lab/security-lab-2022"
   ]
  },
  {
   "cell_type": "markdown",
   "id": "premier-range",
   "metadata": {},
   "source": [
    "## Additional presentation task\n",
    "**You only have to work on the following task if you decided to present for this task**<br>\n",
    "You are welcome to continue working on the following task without presentation, if you have chosen a different task to present.\n",
    "\n",
    "You will find an additional course provided by ChipWhisperer in their repository -> 'ChipWhisperer5_64\\git\\home\\portable\\chipwhisperer\\jupyter\\courses\\fault101\\Fault 2_1 - Introduction to Voltage Glitching.ipynb'. <br>\n",
    "The course consists of the same loop as Task 3.4 but the Fault injection will be based on Voltage Glitching.<br> \n",
    "Finish the course and create a presentation with a few slides showing your approach and results from this task and show differences between the Fault Injection methods.<br>\n",
    "\n",
    "\n",
    "You can find the date for the presentation here: https://gitlab.tf.uni-freiburg.de/embex-security-lab/security-lab-2022"
   ]
  },
  {
   "cell_type": "markdown",
   "id": "derived-probability",
   "metadata": {},
   "source": [
    "*Acknowledgement: the material used in this task is inspired and partially taken from the ChipWhisperer learning material.*"
   ]
  }
 ],
 "metadata": {
  "kernelspec": {
   "display_name": "Python 3 (ipykernel)",
   "language": "python",
   "name": "python3"
  },
  "language_info": {
   "codemirror_mode": {
    "name": "ipython",
    "version": 3
   },
   "file_extension": ".py",
   "mimetype": "text/x-python",
   "name": "python",
   "nbconvert_exporter": "python",
   "pygments_lexer": "ipython3",
   "version": "3.10.5"
  },
  "toc": {
   "base_numbering": 3,
   "nav_menu": {},
   "number_sections": true,
   "sideBar": true,
   "skip_h1_title": false,
   "title_cell": "Table of Contents",
   "title_sidebar": "Contents",
   "toc_cell": false,
   "toc_position": {},
   "toc_section_display": true,
   "toc_window_display": false
  },
  "vscode": {
   "interpreter": {
    "hash": "5fb955165457380985db86db626230b448991bb247ae99ab852707dfa9ea455b"
   }
  }
 },
 "nbformat": 4,
 "nbformat_minor": 5
}
