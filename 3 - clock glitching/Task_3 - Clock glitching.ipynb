{
 "cells": [
  {
   "cell_type": "markdown",
   "id": "cultural-copper",
   "metadata": {},
   "source": [
    "# Task - Clock glitching"
   ]
  },
  {
   "cell_type": "markdown",
   "id": "dental-bandwidth",
   "metadata": {},
   "source": [
    "## Password Bypass\n",
    "<a id='another_cell'></a>"
   ]
  },
  {
   "cell_type": "markdown",
   "id": "scientific-export",
   "metadata": {},
   "source": [
    "Passwords are in common use and nowadays users are forced to type in strong passwords for authentication, e.g. by using a combination of numbers, lower case letters, upper case letters and a minimum number of characters in total.<br>\n",
    "Bruteforcing is harder with strong passwords but not always necessary as we will see in this section. <br>\n",
    "Before we bypass the password check using glitching, take a look at the following C-Code of a password authentication function:"
   ]
  },
  {
   "cell_type": "markdown",
   "id": "overall-indianapolis",
   "metadata": {},
   "source": [
    "```C\n",
    "#define PW_MAX_LEN 40\n",
    "#define BUFF_SIZE  1024\n",
    "\n",
    "/*\n",
    " * Authenticate user given a password\n",
    " */\n",
    "int iAuthenticateUser(char * password) {\n",
    "    int AuthFlag = 0;\n",
    "\n",
    "    // Buffer where the password will be stored in \n",
    "    char cPasswordBuffer[PW_MAX_LEN];\n",
    "\n",
    "    // Copy Password to buffer\n",
    "    strcpy(cPasswordBuffer, password);\n",
    "\n",
    "    // Compare with the stored (strong) password \n",
    "    if(strcmp(cPasswordBuffer, \"D0N0tU53Un54f35tr1ngFunct10n5!\") == 0) {\n",
    "        // Password matches\n",
    "        printf(\"passwords match\\n\");\n",
    "        AuthFlag = 0x01;\n",
    "    }\n",
    "    return AuthFlag;\n",
    "}\n",
    "\n",
    "int main() {\n",
    "\n",
    "        // Get password from user\n",
    "        char data_buf[BUFF_SIZE];\n",
    "        memset(data_buf, 0, BUFF_SIZE);\n",
    "        printf(\"To get access to the device a password is required \\n\");\n",
    "    \n",
    "        // Reads in data from user\n",
    "        read(0, data_buf, BUFF_SIZE);\n",
    "\n",
    "        // Check if user is authenticated\n",
    "        if(iAuthenticateUser(data_buf)== 0) {\n",
    "                // Password was wrong - return\n",
    "                return(0);\n",
    "        }\n",
    "\n",
    "        // Password matched\n",
    "        printf(\"Access granted \\n\");\n",
    "    \n",
    "        /*\n",
    "            Device does Security/Safety critical work or sends back sensible information\n",
    "        */\n",
    "        ...;\n",
    "        ...;\n",
    "        ...;\n",
    "\n",
    "        return(0);\n",
    "}\n",
    "```"
   ]
  },
  {
   "cell_type": "markdown",
   "id": "active-paintball",
   "metadata": {},
   "source": [
    "There are lots of examples like this, which show the importance of secure coding."
   ]
  },
  {
   "cell_type": "markdown",
   "id": "suburban-tradition",
   "metadata": {},
   "source": [
    "<div>\n",
    "<img src=\"images/question_darkblue.png\" align=\"left\" width=\"24\" height=\"24\"/>\n",
    "<span style=\"line-height:24px; margin-left: 0.5em\"><font color=\"darkblue\">Can you imagine what could go wrong here?</font></span>\n",
    "</div>"
   ]
  },
  {
   "cell_type": "markdown",
   "id": "urban-client",
   "metadata": {},
   "source": [
    "<div>\n",
    "<img src=\"images/write_chocolate.png\" align=\"left\" width=\"24\" height=\"24\"/>\n",
    "<span style=\"line-height:24px; margin-left: 0.5em\"><font color='Chocolate'>\n",
    "<b> Please fill in with your own observations </b>\n",
    "</font></span>\n",
    "</div>"
   ]
  },
  {
   "cell_type": "markdown",
   "id": "stock-donor",
   "metadata": {},
   "source": [
    "Wenn man die If-Anweisung, in der gecheckt wird, ob das Password stimmt, überspringen kann, ist der Code immer noch funktional. Aber man der Schutz ist nicht mehr aktiv"
   ]
  },
  {
   "cell_type": "markdown",
   "id": "steady-framing",
   "metadata": {
    "deletable": false,
    "editable": false,
    "heading_collapsed": true,
    "run_control": {
     "frozen": true
    }
   },
   "source": [
    "### BONUS QUESTION"
   ]
  },
  {
   "cell_type": "markdown",
   "id": "offensive-galaxy",
   "metadata": {
    "hidden": true
   },
   "source": [
    "<div>\n",
    "<img src=\"images/question_darkblue.png\" align=\"left\" width=\"24\" height=\"24\"/>\n",
    "<span style=\"line-height:24px; margin-left: 0.5em\"><font color=\"darkblue\">Do you know by chance a method on how to find faults like these in software effectively?</font></span>\n",
    "</div>"
   ]
  },
  {
   "cell_type": "markdown",
   "id": "thick-treaty",
   "metadata": {
    "hidden": true
   },
   "source": [
    "<div>\n",
    "<img src=\"images/write_chocolate.png\" align=\"left\" width=\"24\" height=\"24\"/>\n",
    "<span style=\"line-height:24px; margin-left: 0.5em\"><font color='Chocolate'>\n",
    "<b> Please fill in with your own observations </b>\n",
    "</font></span>\n",
    "</div>"
   ]
  },
  {
   "cell_type": "markdown",
   "id": "korean-emerald",
   "metadata": {
    "hidden": true
   },
   "source": [
    "<font color='Chocolate'>\n",
    "replace this line with your observations\n",
    "</font>"
   ]
  },
  {
   "cell_type": "markdown",
   "id": "given-expense",
   "metadata": {
    "hidden": true
   },
   "source": [
    "Fortunately, most password functions are better coded than the one shown above.\n",
    "In the next sections you will learn about a fault injection method, which is, at last, able to bypass a secure version of the function above."
   ]
  },
  {
   "cell_type": "markdown",
   "id": "careful-orchestra",
   "metadata": {},
   "source": [
    "## Introduction to clock glitching"
   ]
  },
  {
   "cell_type": "markdown",
   "id": "sharing-homeless",
   "metadata": {},
   "source": [
    "Microcontrollers execute instructions one after the other. The execution times are fixed with the clock signal. A single instruction may require multiple clock cycles, in which the instruction is fetched from memory and executed.<br>\n",
    "To speed up the execution of several instruction the microcontroller uses the concept of a pipeline.\n",
    "For the given Microcontroller STM32 F303 with a Cortex-M4 Core, the pipeline consists of three stages: fetch, decode, execute.<br>\n",
    "If both of the next instructions are only 16 bit long, which is the case most of the times, both instructions are fetched simultaniously, while decoding and execution are done in sequence, as shown in the diagram."
   ]
  },
  {
   "cell_type": "markdown",
   "id": "polyphonic-deposit",
   "metadata": {},
   "source": [
    "![](images/pipelining.png)"
   ]
  },
  {
   "cell_type": "markdown",
   "id": "continuing-salmon",
   "metadata": {},
   "source": [
    "At time t$_\\text{3}$ instruction 1 is decoded and its execution is started, while instruction 2 has been fetched and starts decoding and instruction 3 and 4 are both fetched in parallel. This means that a single clock cycle is simultaniously used for different stages (fetch, decode, execute) for different instructions as illustrated above.<br>\n",
    "The different stages may require a different amount of time to complete. With the manipulation of a single clock cycle multiple stages of the pipeline may be affected in different ways. According to this research (https://online.tugraz.at/tug_online/voe_main2.getvolltext?pCurrPk=79126) the stage decoding is not affected by the glitching, but the stages fetch and execute may both be affected. Glitching may lead to effectively skipping an instruction or the abort of the stage leading to a false result."
   ]
  },
  {
   "cell_type": "markdown",
   "id": "gentle-puppy",
   "metadata": {},
   "source": [
    "![](images/glitched_pipelining.png)"
   ]
  },
  {
   "cell_type": "markdown",
   "id": "clean-accordance",
   "metadata": {},
   "source": [
    "As shown above, the third clock period may be manipulated by pulling the clock line down for a short period of time between t$_\\text{3}$ and t$_\\text{3*}$ effectively introducint a new clock cycle. This results in the clock starting at t$_\\text{3}$ being significantly shortened, which may result in the execution of instruction 1 being aborted, since the next rising edge at t$_\\text{3*}$ forces the execution of instruction 2 and instructions 3 and 4 being unsuccessfully fetched, while instruction 2 remains unaffected.<br>\n",
    "This behaviour is not defined by the manufacturer of the microcontroller and must be discovered by trial and error, as you will see in this task.<br>\n",
    "Knowing about this behaviour lets you exploit it for example to bypass a password check. The behaviour is quite delicate though and may result in a lot of crashes of the microcontroller along the way."
   ]
  },
  {
   "cell_type": "markdown",
   "id": "champion-myrtle",
   "metadata": {},
   "source": [
    "With the hardware embedded into the ChipWhisperer it is possible to control the timings of the clock signal with a very high precision.<br>\n",
    "The ChipWhisperer uses two configurable phase shifted clock signals and a few gates to create a glitch signal that can be applied to the clock signal using an XOR gate to briefly invert the target's clock signal.<br>\n",
    "The following description is partially taken directly from the ChipWhisperer documentation:"
   ]
  },
  {
   "cell_type": "markdown",
   "id": "compound-enterprise",
   "metadata": {},
   "source": [
    "A system clock (which can come from either the ChipWhisperer or the Device Under Test (DUT)) is used to generate the glitches. These glitches are then inserted back into the clock signal, although it's possible to use the glitches alone for other purposes (i.e. for voltage glitching, EM glitching).\n",
    "\n",
    "The generation of glitches is done with two variable phase shift modules, configured as follows:"
   ]
  },
  {
   "cell_type": "markdown",
   "id": "entitled-sheep",
   "metadata": {},
   "source": [
    "![glitch_phaseshift](images/Glitchgen-phaseshift.png)"
   ]
  },
  {
   "cell_type": "markdown",
   "id": "czech-festival",
   "metadata": {},
   "source": [
    "The glitch enable line is used to determine when glitches are inserted. Glitches can be inserted continuously (useful for development) or triggered by some event. The following figure shows how the glitch can be muxed to output to the Device Under Test (DUT)."
   ]
  },
  {
   "cell_type": "markdown",
   "id": "accepting-brazil",
   "metadata": {},
   "source": [
    "![glitch_phaseshift](images/Glitchgen-mux_small.png)"
   ]
  },
  {
   "cell_type": "markdown",
   "id": "executive-australia",
   "metadata": {},
   "source": [
    "The clock glitching hardware in the ChipWhisperer can be adjusted theoretically in 30 ps increments. This allows for very precise adjustments. However, the adjustment range is with only $\\pm$ 5 ns very short. For this task, the clock of the microcontroller is set to 7.37 MHz, which leads to a clock period of 136 ns. Ideally it should be possible to get an adjustment range of half a clock cycle, around $\\pm$ 68 ns.<br>\n",
    "This can be achieved by a partial reconfiguration of the underlying FPGA. All of this is done for you by the ChipWhisperer framework.\n",
    "\n",
    "The phase shift is defined in percent with a range of $\\pm$ 50 % for both the glitch offset and glitch width. For the glitch width, however, only a positive value makes sense."
   ]
  },
  {
   "cell_type": "markdown",
   "id": "czech-desire",
   "metadata": {},
   "source": [
    "![glitch_parameters](images/glitch_parameters.png)"
   ]
  },
  {
   "cell_type": "markdown",
   "id": "accepted-bottom",
   "metadata": {},
   "source": [
    "The image above visualizes the glitch parameter ranges and shows an example glitch applied to the clock signal with a glitch offset of -30 % and a glitch width of 20 %."
   ]
  },
  {
   "cell_type": "markdown",
   "id": "rotary-telephone",
   "metadata": {},
   "source": [
    "Read trough the lecture slides of chapter 3_3. (https://gitlab.tf.uni-freiburg.de/embex-security-lab/security-lab-2022/-/blob/main/documentation/Lecture%20Slides/03_3-fault_injection.pdf)"
   ]
  },
  {
   "cell_type": "markdown",
   "id": "appreciated-halifax",
   "metadata": {},
   "source": [
    "<div>\n",
    "<img src=\"images/question_darkblue.png\" align=\"left\" width=\"24\" height=\"24\"/>\n",
    "<span style=\"line-height:24px; margin-left: 0.5em\"><font color=\"darkblue\">To which attack class would you categorize clock glitching?</font></span>\n",
    "</div>"
   ]
  },
  {
   "cell_type": "markdown",
   "id": "figured-jurisdiction",
   "metadata": {},
   "source": [
    "<div>\n",
    "<img src=\"images/write_chocolate.png\" align=\"left\" width=\"24\" height=\"24\"/>\n",
    "<span style=\"line-height:24px; margin-left: 0.5em\"><font color='Chocolate'>\n",
    "<b> Please fill in with your own observations </b>\n",
    "</font></span>\n",
    "</div>"
   ]
  },
  {
   "cell_type": "markdown",
   "id": "super-halloween",
   "metadata": {},
   "source": [
    "Clockgliching zählt zu den non-inversive Attacken, da der chip in der Regel nicht beschädigt wird und nach nem reset wieder wie gewohnt funktioniert.\n",
    "Falls der Chip eine eigene Clock besitzt, kann es sein, dass man doch an den chip muss und die Clock zu unterbinden oder mit der Datenlinie verbinden.\n",
    "</font>"
   ]
  },
  {
   "cell_type": "markdown",
   "id": "clinical-electron",
   "metadata": {},
   "source": [
    "## Getting started with clock glitching"
   ]
  },
  {
   "cell_type": "markdown",
   "id": "lasting-german",
   "metadata": {},
   "source": [
    "In the first part of this exercise you will get some experience with clock glitching using the ChipWhisperer. You will experimentally find suitable glitching parameters.<br>\n",
    "\n",
    "ChipWhisperer comes with some helper scripts to get started and to interface with the ChipWhisperer board.\n",
    "\n",
    "For your convenience they are located in the subfolder `helper_scripts/`.\n",
    "\n",
    "Please plug in the ChipWhisperer with the provided USB cable and run the next cell.\n",
    "\n",
    "Running the script `helper_scripts/Setup_Generic.ipynb` should result in the output:<br>\n",
    "\n",
    "Serial baud rate = 38400<br>\n",
    "INFO: Found ChipWhisperer😍"
   ]
  },
  {
   "cell_type": "code",
   "execution_count": 1,
   "id": "postal-shame",
   "metadata": {
    "deletable": false,
    "editable": false,
    "scrolled": false
   },
   "outputs": [
    {
     "name": "stderr",
     "output_type": "stream",
     "text": [
      "(ChipWhisperer NAEUSB WARNING|File naeusb.py:699) Your firmware (0.30) is outdated - latest is 0.62See https://chipwhisperer.readthedocs.io/en/latest/firmware.html for more information\n"
     ]
    },
    {
     "name": "stdout",
     "output_type": "stream",
     "text": [
      "INFO: Found ChipWhisperer😍\n"
     ]
    }
   ],
   "source": [
    "# settings for generic setup\n",
    "SCOPETYPE = 'OPENADC'\n",
    "PLATFORM = 'CWLITEARM'\n",
    "CRYPTO_TARGET='TINYAES128C'\n",
    "SS_VER='SS_VER_1_1'\n",
    "\n",
    "# run the setup script\n",
    "%run \"helper_scripts/Setup_Generic.ipynb\""
   ]
  },
  {
   "cell_type": "markdown",
   "id": "significant-quality",
   "metadata": {},
   "source": [
    "Brilliant! The connection to the ChipWhisperer board is now established.<br>\n",
    "A custom firmware for the target chip is required for this task.<br>\n",
    "\n",
    "The next cell flashes the provided `glitch.hex` file to the target chip."
   ]
  },
  {
   "cell_type": "code",
   "execution_count": 2,
   "id": "parallel-gospel",
   "metadata": {
    "code_folding": [],
    "deletable": false,
    "editable": false
   },
   "outputs": [
    {
     "name": "stdout",
     "output_type": "stream",
     "text": [
      "Detected known STMF32: STM32F302xB(C)/303xB(C)\n",
      "Extended erase (0x44), this can take ten seconds or more\n",
      "Attempting to program 5463 bytes at 0x8000000\n",
      "STM32F Programming flash...\n",
      "STM32F Reading flash...\n",
      "Verified flash OK, 5463 bytes\n"
     ]
    }
   ],
   "source": [
    "# flash the target firmware to the ChipWhisperer STM32 chip\n",
    "target_firmware = \"glitch.hex\"\n",
    "cw.program_target(scope, prog, target_firmware)"
   ]
  },
  {
   "cell_type": "markdown",
   "id": "hazardous-child",
   "metadata": {},
   "source": [
    "The general configuration options for clock glitching have been described above. In the following section you will see how the configuration of the glitch module of the ChipWhisperer can be put into practice.\n",
    "\n",
    "All the settings/methods for the glitch module can be accessed under `scope.glitch`"
   ]
  },
  {
   "cell_type": "code",
   "execution_count": 3,
   "id": "beginning-desperate",
   "metadata": {
    "deletable": false,
    "editable": false
   },
   "outputs": [
    {
     "data": {
      "text/plain": [
       "clk_src     = target\n",
       "width       = 10.15625\n",
       "width_fine  = 0\n",
       "offset      = 10.15625\n",
       "offset_fine = 0\n",
       "trigger_src = manual\n",
       "arm_timing  = after_scope\n",
       "ext_offset  = 0\n",
       "repeat      = 1\n",
       "output      = clock_xor"
      ]
     },
     "execution_count": 3,
     "metadata": {},
     "output_type": "execute_result"
    }
   ],
   "source": [
    "scope.glitch"
   ]
  },
  {
   "cell_type": "markdown",
   "id": "excess-kernel",
   "metadata": {},
   "source": [
    "Some of the important settings we will want to look at here are:"
   ]
  },
  {
   "cell_type": "markdown",
   "id": "relevant-louisville",
   "metadata": {},
   "source": [
    "* clk_src\n",
    "> The clock signal that the glitch DCM is using as input. Can be set to \"target\" or \"clkgen\".<br>\n",
    "In this case, we'll be providing the clock to the target, so we'll want this set to \"clkgen\"\n",
    "* offset\n",
    "> Where in the output clock to place the glitch. Can be in the range `[-50, 50]`.<br>\n",
    "Often, we'll want to try many offsets when trying to glitch a target.\n",
    "* width\n",
    "> How wide to make the glitch. Can be in the range `[-50, 50]`, though there is no reason to use widths < 0. Wider glitches more easily cause glitches, but are also more likely to crash the target, meaning we'll often want to try a range of widths when attacking a target.\n",
    "* output\n",
    "> The output produced by the glitch module. For clock glitching, clock_xor is often the most useful option.\n",
    "* ext_offset\n",
    "> The number of clock cycles after the trigger to put the glitch. \n",
    "* repeat\n",
    "> The number of clock cycles to repeat the glitch for. Higher values increase the number of instructions that can be glitched, but often increase the risk of crashing the target.\n",
    "* trigger_src\n",
    "> How to trigger the glitch. For this tutorial, we want to automatically trigger the glitch from the trigger pin only after arming the ChipWhipserer, so we'll use `ext_single`"
   ]
  },
  {
   "cell_type": "markdown",
   "id": "raised-treasury",
   "metadata": {},
   "source": [
    "For further information regarding the settings of the glitch module please refer to: https://chipwhisperer.readthedocs.io/en/latest/api.html#chipwhisperer.scopes.OpenADC.glitch"
   ]
  },
  {
   "cell_type": "markdown",
   "id": "brown-ground",
   "metadata": {},
   "source": [
    "In addition, we'll need to tell ChipWhipserer to use the glitch module's output as a clock source for the target by setting `scope.io.hs2 = \"glitch\"`.<br>\n",
    "Finally, we'll also use a `namedtuple` to make looping through parameters simpler.\n",
    "\n",
    "The ChipWhisperer provides a glitch controller, to make the usage of the glitch module simpler to interface with. It is initialized with the different potential outcomes (e.g. `\"success\", \"reset\", \"normal\"`) and the different parameters (e.g. `\"width\", \"offset\"`) used for the glitch configuration."
   ]
  },
  {
   "cell_type": "code",
   "execution_count": 4,
   "id": "awful-sender",
   "metadata": {
    "deletable": false,
    "editable": false
   },
   "outputs": [
    {
     "data": {
      "application/vnd.jupyter.widget-view+json": {
       "model_id": "d09617172d234a6d87e0c7a4d45a4d63",
       "version_major": 2,
       "version_minor": 0
      },
      "text/plain": [
       "IntText(value=0, description='success count:', disabled=True)"
      ]
     },
     "metadata": {},
     "output_type": "display_data"
    },
    {
     "data": {
      "application/vnd.jupyter.widget-view+json": {
       "model_id": "87b71203756143059e5107bdccdfe0ae",
       "version_major": 2,
       "version_minor": 0
      },
      "text/plain": [
       "IntText(value=0, description='reset count:', disabled=True)"
      ]
     },
     "metadata": {},
     "output_type": "display_data"
    },
    {
     "data": {
      "application/vnd.jupyter.widget-view+json": {
       "model_id": "562ccf9ed8d74c34a14108e598bd8b01",
       "version_major": 2,
       "version_minor": 0
      },
      "text/plain": [
       "IntText(value=0, description='normal count:', disabled=True)"
      ]
     },
     "metadata": {},
     "output_type": "display_data"
    },
    {
     "data": {
      "application/vnd.jupyter.widget-view+json": {
       "model_id": "5d09aba1b6f44296a00708f9986e23e2",
       "version_major": 2,
       "version_minor": 0
      },
      "text/plain": [
       "FloatSlider(value=0.0, continuous_update=False, description='width setting:', disabled=True, max=10.0, readout…"
      ]
     },
     "metadata": {},
     "output_type": "display_data"
    },
    {
     "data": {
      "application/vnd.jupyter.widget-view+json": {
       "model_id": "05a2144ef4f64944ad1d21458ff7215d",
       "version_major": 2,
       "version_minor": 0
      },
      "text/plain": [
       "FloatSlider(value=0.0, continuous_update=False, description='offset setting:', disabled=True, max=10.0, readou…"
      ]
     },
     "metadata": {},
     "output_type": "display_data"
    }
   ],
   "source": [
    "import chipwhisperer.common.results.glitch as glitch\n",
    "gc = glitch.GlitchController(groups=[\"success\", \"reset\", \"normal\"], parameters=[\"width\", \"offset\"])\n",
    "gc.display_stats()"
   ]
  },
  {
   "cell_type": "markdown",
   "id": "institutional-vermont",
   "metadata": {},
   "source": [
    "The glitch controller has a lot of functionality built in such as easily accessing the current settings. Those are updated in real time while glitching. This allows monitoring in real time the currently executed glitch configuration. This is especially helpfu to see the progress of the glitch attack, when the configuration space is rather large."
   ]
  },
  {
   "cell_type": "markdown",
   "id": "defensive-distributor",
   "metadata": {},
   "source": [
    "The glitch controller allows systematic generation of glitch settings in the glitch configuration space."
   ]
  },
  {
   "cell_type": "code",
   "execution_count": 5,
   "id": "quantitative-modern",
   "metadata": {
    "deletable": false,
    "editable": false
   },
   "outputs": [
    {
     "name": "stdout",
     "output_type": "stream",
     "text": [
      "Offset: -5\tWidth: 0\n",
      "Offset: -2.5\tWidth: 0\n",
      "Offset: 0.0\tWidth: 0\n",
      "Offset: 2.5\tWidth: 0\n",
      "Offset: 5.0\tWidth: 0\n",
      "Offset: -5\tWidth: 2.5\n",
      "Offset: -2.5\tWidth: 2.5\n",
      "Offset: 0.0\tWidth: 2.5\n",
      "Offset: 2.5\tWidth: 2.5\n",
      "Offset: 5.0\tWidth: 2.5\n",
      "Offset: -5\tWidth: 5.0\n",
      "Offset: -2.5\tWidth: 5.0\n",
      "Offset: 0.0\tWidth: 5.0\n",
      "Offset: 2.5\tWidth: 5.0\n",
      "Offset: 5.0\tWidth: 5.0\n"
     ]
    }
   ],
   "source": [
    "import time\n",
    "\n",
    "# setting the ranges for the glitch offset and glitch width\n",
    "gc.set_range(\"offset\", -5, 5)\n",
    "gc.set_range(\"width\", 0, 5)\n",
    "\n",
    "# each setting moves from min to max based in the global step size\n",
    "gc.set_global_step([2.5])\n",
    "\n",
    "# generate the set of glitch settings\n",
    "for glitch_setting in gc.glitch_values():\n",
    "    # print the generated settings\n",
    "    print(\"Offset: {}\\tWidth: {}\".format(glitch_setting[1], glitch_setting[0]))\n",
    "    time.sleep(.25)"
   ]
  },
  {
   "cell_type": "markdown",
   "id": "rolled-current",
   "metadata": {},
   "source": [
    "You can see that the settings are generated systematically by iterating over both glitch parameters.<br>\n",
    "You can also see that the displayed statistics with `gc.display_stats()` are updated for every new set of glitch settings."
   ]
  },
  {
   "cell_type": "markdown",
   "id": "strong-cache",
   "metadata": {},
   "source": [
    "There are two more important configuration parameters:\n",
    "- External offset `ext_offset`: the number of clock periods after the trigger after which the glitch shall be applied\n",
    "- Affected consecutive clock periods `repeat`: the number of censecutive glitched clock periods."
   ]
  },
  {
   "cell_type": "markdown",
   "id": "recorded-monaco",
   "metadata": {},
   "source": [
    "As with a lot of security related tasks, visualization is very important to find patterns in data that can be used as an advantage. Glitching is no exception.<br>\n",
    "In order to keep track of the most promising glitch configurations the results may be plotted in a two dimensional grid."
   ]
  },
  {
   "cell_type": "code",
   "execution_count": 6,
   "id": "extraordinary-dakota",
   "metadata": {},
   "outputs": [
    {
     "data": {
      "application/javascript": [
       "/* Put everything inside the global mpl namespace */\n",
       "/* global mpl */\n",
       "window.mpl = {};\n",
       "\n",
       "mpl.get_websocket_type = function () {\n",
       "    if (typeof WebSocket !== 'undefined') {\n",
       "        return WebSocket;\n",
       "    } else if (typeof MozWebSocket !== 'undefined') {\n",
       "        return MozWebSocket;\n",
       "    } else {\n",
       "        alert(\n",
       "            'Your browser does not have WebSocket support. ' +\n",
       "                'Please try Chrome, Safari or Firefox ≥ 6. ' +\n",
       "                'Firefox 4 and 5 are also supported but you ' +\n",
       "                'have to enable WebSockets in about:config.'\n",
       "        );\n",
       "    }\n",
       "};\n",
       "\n",
       "mpl.figure = function (figure_id, websocket, ondownload, parent_element) {\n",
       "    this.id = figure_id;\n",
       "\n",
       "    this.ws = websocket;\n",
       "\n",
       "    this.supports_binary = this.ws.binaryType !== undefined;\n",
       "\n",
       "    if (!this.supports_binary) {\n",
       "        var warnings = document.getElementById('mpl-warnings');\n",
       "        if (warnings) {\n",
       "            warnings.style.display = 'block';\n",
       "            warnings.textContent =\n",
       "                'This browser does not support binary websocket messages. ' +\n",
       "                'Performance may be slow.';\n",
       "        }\n",
       "    }\n",
       "\n",
       "    this.imageObj = new Image();\n",
       "\n",
       "    this.context = undefined;\n",
       "    this.message = undefined;\n",
       "    this.canvas = undefined;\n",
       "    this.rubberband_canvas = undefined;\n",
       "    this.rubberband_context = undefined;\n",
       "    this.format_dropdown = undefined;\n",
       "\n",
       "    this.image_mode = 'full';\n",
       "\n",
       "    this.root = document.createElement('div');\n",
       "    this.root.setAttribute('style', 'display: inline-block');\n",
       "    this._root_extra_style(this.root);\n",
       "\n",
       "    parent_element.appendChild(this.root);\n",
       "\n",
       "    this._init_header(this);\n",
       "    this._init_canvas(this);\n",
       "    this._init_toolbar(this);\n",
       "\n",
       "    var fig = this;\n",
       "\n",
       "    this.waiting = false;\n",
       "\n",
       "    this.ws.onopen = function () {\n",
       "        fig.send_message('supports_binary', { value: fig.supports_binary });\n",
       "        fig.send_message('send_image_mode', {});\n",
       "        if (fig.ratio !== 1) {\n",
       "            fig.send_message('set_device_pixel_ratio', {\n",
       "                device_pixel_ratio: fig.ratio,\n",
       "            });\n",
       "        }\n",
       "        fig.send_message('refresh', {});\n",
       "    };\n",
       "\n",
       "    this.imageObj.onload = function () {\n",
       "        if (fig.image_mode === 'full') {\n",
       "            // Full images could contain transparency (where diff images\n",
       "            // almost always do), so we need to clear the canvas so that\n",
       "            // there is no ghosting.\n",
       "            fig.context.clearRect(0, 0, fig.canvas.width, fig.canvas.height);\n",
       "        }\n",
       "        fig.context.drawImage(fig.imageObj, 0, 0);\n",
       "    };\n",
       "\n",
       "    this.imageObj.onunload = function () {\n",
       "        fig.ws.close();\n",
       "    };\n",
       "\n",
       "    this.ws.onmessage = this._make_on_message_function(this);\n",
       "\n",
       "    this.ondownload = ondownload;\n",
       "};\n",
       "\n",
       "mpl.figure.prototype._init_header = function () {\n",
       "    var titlebar = document.createElement('div');\n",
       "    titlebar.classList =\n",
       "        'ui-dialog-titlebar ui-widget-header ui-corner-all ui-helper-clearfix';\n",
       "    var titletext = document.createElement('div');\n",
       "    titletext.classList = 'ui-dialog-title';\n",
       "    titletext.setAttribute(\n",
       "        'style',\n",
       "        'width: 100%; text-align: center; padding: 3px;'\n",
       "    );\n",
       "    titlebar.appendChild(titletext);\n",
       "    this.root.appendChild(titlebar);\n",
       "    this.header = titletext;\n",
       "};\n",
       "\n",
       "mpl.figure.prototype._canvas_extra_style = function (_canvas_div) {};\n",
       "\n",
       "mpl.figure.prototype._root_extra_style = function (_canvas_div) {};\n",
       "\n",
       "mpl.figure.prototype._init_canvas = function () {\n",
       "    var fig = this;\n",
       "\n",
       "    var canvas_div = (this.canvas_div = document.createElement('div'));\n",
       "    canvas_div.setAttribute(\n",
       "        'style',\n",
       "        'border: 1px solid #ddd;' +\n",
       "            'box-sizing: content-box;' +\n",
       "            'clear: both;' +\n",
       "            'min-height: 1px;' +\n",
       "            'min-width: 1px;' +\n",
       "            'outline: 0;' +\n",
       "            'overflow: hidden;' +\n",
       "            'position: relative;' +\n",
       "            'resize: both;'\n",
       "    );\n",
       "\n",
       "    function on_keyboard_event_closure(name) {\n",
       "        return function (event) {\n",
       "            return fig.key_event(event, name);\n",
       "        };\n",
       "    }\n",
       "\n",
       "    canvas_div.addEventListener(\n",
       "        'keydown',\n",
       "        on_keyboard_event_closure('key_press')\n",
       "    );\n",
       "    canvas_div.addEventListener(\n",
       "        'keyup',\n",
       "        on_keyboard_event_closure('key_release')\n",
       "    );\n",
       "\n",
       "    this._canvas_extra_style(canvas_div);\n",
       "    this.root.appendChild(canvas_div);\n",
       "\n",
       "    var canvas = (this.canvas = document.createElement('canvas'));\n",
       "    canvas.classList.add('mpl-canvas');\n",
       "    canvas.setAttribute('style', 'box-sizing: content-box;');\n",
       "\n",
       "    this.context = canvas.getContext('2d');\n",
       "\n",
       "    var backingStore =\n",
       "        this.context.backingStorePixelRatio ||\n",
       "        this.context.webkitBackingStorePixelRatio ||\n",
       "        this.context.mozBackingStorePixelRatio ||\n",
       "        this.context.msBackingStorePixelRatio ||\n",
       "        this.context.oBackingStorePixelRatio ||\n",
       "        this.context.backingStorePixelRatio ||\n",
       "        1;\n",
       "\n",
       "    this.ratio = (window.devicePixelRatio || 1) / backingStore;\n",
       "\n",
       "    var rubberband_canvas = (this.rubberband_canvas = document.createElement(\n",
       "        'canvas'\n",
       "    ));\n",
       "    rubberband_canvas.setAttribute(\n",
       "        'style',\n",
       "        'box-sizing: content-box; position: absolute; left: 0; top: 0; z-index: 1;'\n",
       "    );\n",
       "\n",
       "    // Apply a ponyfill if ResizeObserver is not implemented by browser.\n",
       "    if (this.ResizeObserver === undefined) {\n",
       "        if (window.ResizeObserver !== undefined) {\n",
       "            this.ResizeObserver = window.ResizeObserver;\n",
       "        } else {\n",
       "            var obs = _JSXTOOLS_RESIZE_OBSERVER({});\n",
       "            this.ResizeObserver = obs.ResizeObserver;\n",
       "        }\n",
       "    }\n",
       "\n",
       "    this.resizeObserverInstance = new this.ResizeObserver(function (entries) {\n",
       "        var nentries = entries.length;\n",
       "        for (var i = 0; i < nentries; i++) {\n",
       "            var entry = entries[i];\n",
       "            var width, height;\n",
       "            if (entry.contentBoxSize) {\n",
       "                if (entry.contentBoxSize instanceof Array) {\n",
       "                    // Chrome 84 implements new version of spec.\n",
       "                    width = entry.contentBoxSize[0].inlineSize;\n",
       "                    height = entry.contentBoxSize[0].blockSize;\n",
       "                } else {\n",
       "                    // Firefox implements old version of spec.\n",
       "                    width = entry.contentBoxSize.inlineSize;\n",
       "                    height = entry.contentBoxSize.blockSize;\n",
       "                }\n",
       "            } else {\n",
       "                // Chrome <84 implements even older version of spec.\n",
       "                width = entry.contentRect.width;\n",
       "                height = entry.contentRect.height;\n",
       "            }\n",
       "\n",
       "            // Keep the size of the canvas and rubber band canvas in sync with\n",
       "            // the canvas container.\n",
       "            if (entry.devicePixelContentBoxSize) {\n",
       "                // Chrome 84 implements new version of spec.\n",
       "                canvas.setAttribute(\n",
       "                    'width',\n",
       "                    entry.devicePixelContentBoxSize[0].inlineSize\n",
       "                );\n",
       "                canvas.setAttribute(\n",
       "                    'height',\n",
       "                    entry.devicePixelContentBoxSize[0].blockSize\n",
       "                );\n",
       "            } else {\n",
       "                canvas.setAttribute('width', width * fig.ratio);\n",
       "                canvas.setAttribute('height', height * fig.ratio);\n",
       "            }\n",
       "            canvas.setAttribute(\n",
       "                'style',\n",
       "                'width: ' + width + 'px; height: ' + height + 'px;'\n",
       "            );\n",
       "\n",
       "            rubberband_canvas.setAttribute('width', width);\n",
       "            rubberband_canvas.setAttribute('height', height);\n",
       "\n",
       "            // And update the size in Python. We ignore the initial 0/0 size\n",
       "            // that occurs as the element is placed into the DOM, which should\n",
       "            // otherwise not happen due to the minimum size styling.\n",
       "            if (fig.ws.readyState == 1 && width != 0 && height != 0) {\n",
       "                fig.request_resize(width, height);\n",
       "            }\n",
       "        }\n",
       "    });\n",
       "    this.resizeObserverInstance.observe(canvas_div);\n",
       "\n",
       "    function on_mouse_event_closure(name) {\n",
       "        return function (event) {\n",
       "            return fig.mouse_event(event, name);\n",
       "        };\n",
       "    }\n",
       "\n",
       "    rubberband_canvas.addEventListener(\n",
       "        'mousedown',\n",
       "        on_mouse_event_closure('button_press')\n",
       "    );\n",
       "    rubberband_canvas.addEventListener(\n",
       "        'mouseup',\n",
       "        on_mouse_event_closure('button_release')\n",
       "    );\n",
       "    rubberband_canvas.addEventListener(\n",
       "        'dblclick',\n",
       "        on_mouse_event_closure('dblclick')\n",
       "    );\n",
       "    // Throttle sequential mouse events to 1 every 20ms.\n",
       "    rubberband_canvas.addEventListener(\n",
       "        'mousemove',\n",
       "        on_mouse_event_closure('motion_notify')\n",
       "    );\n",
       "\n",
       "    rubberband_canvas.addEventListener(\n",
       "        'mouseenter',\n",
       "        on_mouse_event_closure('figure_enter')\n",
       "    );\n",
       "    rubberband_canvas.addEventListener(\n",
       "        'mouseleave',\n",
       "        on_mouse_event_closure('figure_leave')\n",
       "    );\n",
       "\n",
       "    canvas_div.addEventListener('wheel', function (event) {\n",
       "        if (event.deltaY < 0) {\n",
       "            event.step = 1;\n",
       "        } else {\n",
       "            event.step = -1;\n",
       "        }\n",
       "        on_mouse_event_closure('scroll')(event);\n",
       "    });\n",
       "\n",
       "    canvas_div.appendChild(canvas);\n",
       "    canvas_div.appendChild(rubberband_canvas);\n",
       "\n",
       "    this.rubberband_context = rubberband_canvas.getContext('2d');\n",
       "    this.rubberband_context.strokeStyle = '#000000';\n",
       "\n",
       "    this._resize_canvas = function (width, height, forward) {\n",
       "        if (forward) {\n",
       "            canvas_div.style.width = width + 'px';\n",
       "            canvas_div.style.height = height + 'px';\n",
       "        }\n",
       "    };\n",
       "\n",
       "    // Disable right mouse context menu.\n",
       "    this.rubberband_canvas.addEventListener('contextmenu', function (_e) {\n",
       "        event.preventDefault();\n",
       "        return false;\n",
       "    });\n",
       "\n",
       "    function set_focus() {\n",
       "        canvas.focus();\n",
       "        canvas_div.focus();\n",
       "    }\n",
       "\n",
       "    window.setTimeout(set_focus, 100);\n",
       "};\n",
       "\n",
       "mpl.figure.prototype._init_toolbar = function () {\n",
       "    var fig = this;\n",
       "\n",
       "    var toolbar = document.createElement('div');\n",
       "    toolbar.classList = 'mpl-toolbar';\n",
       "    this.root.appendChild(toolbar);\n",
       "\n",
       "    function on_click_closure(name) {\n",
       "        return function (_event) {\n",
       "            return fig.toolbar_button_onclick(name);\n",
       "        };\n",
       "    }\n",
       "\n",
       "    function on_mouseover_closure(tooltip) {\n",
       "        return function (event) {\n",
       "            if (!event.currentTarget.disabled) {\n",
       "                return fig.toolbar_button_onmouseover(tooltip);\n",
       "            }\n",
       "        };\n",
       "    }\n",
       "\n",
       "    fig.buttons = {};\n",
       "    var buttonGroup = document.createElement('div');\n",
       "    buttonGroup.classList = 'mpl-button-group';\n",
       "    for (var toolbar_ind in mpl.toolbar_items) {\n",
       "        var name = mpl.toolbar_items[toolbar_ind][0];\n",
       "        var tooltip = mpl.toolbar_items[toolbar_ind][1];\n",
       "        var image = mpl.toolbar_items[toolbar_ind][2];\n",
       "        var method_name = mpl.toolbar_items[toolbar_ind][3];\n",
       "\n",
       "        if (!name) {\n",
       "            /* Instead of a spacer, we start a new button group. */\n",
       "            if (buttonGroup.hasChildNodes()) {\n",
       "                toolbar.appendChild(buttonGroup);\n",
       "            }\n",
       "            buttonGroup = document.createElement('div');\n",
       "            buttonGroup.classList = 'mpl-button-group';\n",
       "            continue;\n",
       "        }\n",
       "\n",
       "        var button = (fig.buttons[name] = document.createElement('button'));\n",
       "        button.classList = 'mpl-widget';\n",
       "        button.setAttribute('role', 'button');\n",
       "        button.setAttribute('aria-disabled', 'false');\n",
       "        button.addEventListener('click', on_click_closure(method_name));\n",
       "        button.addEventListener('mouseover', on_mouseover_closure(tooltip));\n",
       "\n",
       "        var icon_img = document.createElement('img');\n",
       "        icon_img.src = '_images/' + image + '.png';\n",
       "        icon_img.srcset = '_images/' + image + '_large.png 2x';\n",
       "        icon_img.alt = tooltip;\n",
       "        button.appendChild(icon_img);\n",
       "\n",
       "        buttonGroup.appendChild(button);\n",
       "    }\n",
       "\n",
       "    if (buttonGroup.hasChildNodes()) {\n",
       "        toolbar.appendChild(buttonGroup);\n",
       "    }\n",
       "\n",
       "    var fmt_picker = document.createElement('select');\n",
       "    fmt_picker.classList = 'mpl-widget';\n",
       "    toolbar.appendChild(fmt_picker);\n",
       "    this.format_dropdown = fmt_picker;\n",
       "\n",
       "    for (var ind in mpl.extensions) {\n",
       "        var fmt = mpl.extensions[ind];\n",
       "        var option = document.createElement('option');\n",
       "        option.selected = fmt === mpl.default_extension;\n",
       "        option.innerHTML = fmt;\n",
       "        fmt_picker.appendChild(option);\n",
       "    }\n",
       "\n",
       "    var status_bar = document.createElement('span');\n",
       "    status_bar.classList = 'mpl-message';\n",
       "    toolbar.appendChild(status_bar);\n",
       "    this.message = status_bar;\n",
       "};\n",
       "\n",
       "mpl.figure.prototype.request_resize = function (x_pixels, y_pixels) {\n",
       "    // Request matplotlib to resize the figure. Matplotlib will then trigger a resize in the client,\n",
       "    // which will in turn request a refresh of the image.\n",
       "    this.send_message('resize', { width: x_pixels, height: y_pixels });\n",
       "};\n",
       "\n",
       "mpl.figure.prototype.send_message = function (type, properties) {\n",
       "    properties['type'] = type;\n",
       "    properties['figure_id'] = this.id;\n",
       "    this.ws.send(JSON.stringify(properties));\n",
       "};\n",
       "\n",
       "mpl.figure.prototype.send_draw_message = function () {\n",
       "    if (!this.waiting) {\n",
       "        this.waiting = true;\n",
       "        this.ws.send(JSON.stringify({ type: 'draw', figure_id: this.id }));\n",
       "    }\n",
       "};\n",
       "\n",
       "mpl.figure.prototype.handle_save = function (fig, _msg) {\n",
       "    var format_dropdown = fig.format_dropdown;\n",
       "    var format = format_dropdown.options[format_dropdown.selectedIndex].value;\n",
       "    fig.ondownload(fig, format);\n",
       "};\n",
       "\n",
       "mpl.figure.prototype.handle_resize = function (fig, msg) {\n",
       "    var size = msg['size'];\n",
       "    if (size[0] !== fig.canvas.width || size[1] !== fig.canvas.height) {\n",
       "        fig._resize_canvas(size[0], size[1], msg['forward']);\n",
       "        fig.send_message('refresh', {});\n",
       "    }\n",
       "};\n",
       "\n",
       "mpl.figure.prototype.handle_rubberband = function (fig, msg) {\n",
       "    var x0 = msg['x0'] / fig.ratio;\n",
       "    var y0 = (fig.canvas.height - msg['y0']) / fig.ratio;\n",
       "    var x1 = msg['x1'] / fig.ratio;\n",
       "    var y1 = (fig.canvas.height - msg['y1']) / fig.ratio;\n",
       "    x0 = Math.floor(x0) + 0.5;\n",
       "    y0 = Math.floor(y0) + 0.5;\n",
       "    x1 = Math.floor(x1) + 0.5;\n",
       "    y1 = Math.floor(y1) + 0.5;\n",
       "    var min_x = Math.min(x0, x1);\n",
       "    var min_y = Math.min(y0, y1);\n",
       "    var width = Math.abs(x1 - x0);\n",
       "    var height = Math.abs(y1 - y0);\n",
       "\n",
       "    fig.rubberband_context.clearRect(\n",
       "        0,\n",
       "        0,\n",
       "        fig.canvas.width / fig.ratio,\n",
       "        fig.canvas.height / fig.ratio\n",
       "    );\n",
       "\n",
       "    fig.rubberband_context.strokeRect(min_x, min_y, width, height);\n",
       "};\n",
       "\n",
       "mpl.figure.prototype.handle_figure_label = function (fig, msg) {\n",
       "    // Updates the figure title.\n",
       "    fig.header.textContent = msg['label'];\n",
       "};\n",
       "\n",
       "mpl.figure.prototype.handle_cursor = function (fig, msg) {\n",
       "    fig.rubberband_canvas.style.cursor = msg['cursor'];\n",
       "};\n",
       "\n",
       "mpl.figure.prototype.handle_message = function (fig, msg) {\n",
       "    fig.message.textContent = msg['message'];\n",
       "};\n",
       "\n",
       "mpl.figure.prototype.handle_draw = function (fig, _msg) {\n",
       "    // Request the server to send over a new figure.\n",
       "    fig.send_draw_message();\n",
       "};\n",
       "\n",
       "mpl.figure.prototype.handle_image_mode = function (fig, msg) {\n",
       "    fig.image_mode = msg['mode'];\n",
       "};\n",
       "\n",
       "mpl.figure.prototype.handle_history_buttons = function (fig, msg) {\n",
       "    for (var key in msg) {\n",
       "        if (!(key in fig.buttons)) {\n",
       "            continue;\n",
       "        }\n",
       "        fig.buttons[key].disabled = !msg[key];\n",
       "        fig.buttons[key].setAttribute('aria-disabled', !msg[key]);\n",
       "    }\n",
       "};\n",
       "\n",
       "mpl.figure.prototype.handle_navigate_mode = function (fig, msg) {\n",
       "    if (msg['mode'] === 'PAN') {\n",
       "        fig.buttons['Pan'].classList.add('active');\n",
       "        fig.buttons['Zoom'].classList.remove('active');\n",
       "    } else if (msg['mode'] === 'ZOOM') {\n",
       "        fig.buttons['Pan'].classList.remove('active');\n",
       "        fig.buttons['Zoom'].classList.add('active');\n",
       "    } else {\n",
       "        fig.buttons['Pan'].classList.remove('active');\n",
       "        fig.buttons['Zoom'].classList.remove('active');\n",
       "    }\n",
       "};\n",
       "\n",
       "mpl.figure.prototype.updated_canvas_event = function () {\n",
       "    // Called whenever the canvas gets updated.\n",
       "    this.send_message('ack', {});\n",
       "};\n",
       "\n",
       "// A function to construct a web socket function for onmessage handling.\n",
       "// Called in the figure constructor.\n",
       "mpl.figure.prototype._make_on_message_function = function (fig) {\n",
       "    return function socket_on_message(evt) {\n",
       "        if (evt.data instanceof Blob) {\n",
       "            var img = evt.data;\n",
       "            if (img.type !== 'image/png') {\n",
       "                /* FIXME: We get \"Resource interpreted as Image but\n",
       "                 * transferred with MIME type text/plain:\" errors on\n",
       "                 * Chrome.  But how to set the MIME type?  It doesn't seem\n",
       "                 * to be part of the websocket stream */\n",
       "                img.type = 'image/png';\n",
       "            }\n",
       "\n",
       "            /* Free the memory for the previous frames */\n",
       "            if (fig.imageObj.src) {\n",
       "                (window.URL || window.webkitURL).revokeObjectURL(\n",
       "                    fig.imageObj.src\n",
       "                );\n",
       "            }\n",
       "\n",
       "            fig.imageObj.src = (window.URL || window.webkitURL).createObjectURL(\n",
       "                img\n",
       "            );\n",
       "            fig.updated_canvas_event();\n",
       "            fig.waiting = false;\n",
       "            return;\n",
       "        } else if (\n",
       "            typeof evt.data === 'string' &&\n",
       "            evt.data.slice(0, 21) === 'data:image/png;base64'\n",
       "        ) {\n",
       "            fig.imageObj.src = evt.data;\n",
       "            fig.updated_canvas_event();\n",
       "            fig.waiting = false;\n",
       "            return;\n",
       "        }\n",
       "\n",
       "        var msg = JSON.parse(evt.data);\n",
       "        var msg_type = msg['type'];\n",
       "\n",
       "        // Call the  \"handle_{type}\" callback, which takes\n",
       "        // the figure and JSON message as its only arguments.\n",
       "        try {\n",
       "            var callback = fig['handle_' + msg_type];\n",
       "        } catch (e) {\n",
       "            console.log(\n",
       "                \"No handler for the '\" + msg_type + \"' message type: \",\n",
       "                msg\n",
       "            );\n",
       "            return;\n",
       "        }\n",
       "\n",
       "        if (callback) {\n",
       "            try {\n",
       "                // console.log(\"Handling '\" + msg_type + \"' message: \", msg);\n",
       "                callback(fig, msg);\n",
       "            } catch (e) {\n",
       "                console.log(\n",
       "                    \"Exception inside the 'handler_\" + msg_type + \"' callback:\",\n",
       "                    e,\n",
       "                    e.stack,\n",
       "                    msg\n",
       "                );\n",
       "            }\n",
       "        }\n",
       "    };\n",
       "};\n",
       "\n",
       "// from https://stackoverflow.com/questions/1114465/getting-mouse-location-in-canvas\n",
       "mpl.findpos = function (e) {\n",
       "    //this section is from http://www.quirksmode.org/js/events_properties.html\n",
       "    var targ;\n",
       "    if (!e) {\n",
       "        e = window.event;\n",
       "    }\n",
       "    if (e.target) {\n",
       "        targ = e.target;\n",
       "    } else if (e.srcElement) {\n",
       "        targ = e.srcElement;\n",
       "    }\n",
       "    if (targ.nodeType === 3) {\n",
       "        // defeat Safari bug\n",
       "        targ = targ.parentNode;\n",
       "    }\n",
       "\n",
       "    // pageX,Y are the mouse positions relative to the document\n",
       "    var boundingRect = targ.getBoundingClientRect();\n",
       "    var x = e.pageX - (boundingRect.left + document.body.scrollLeft);\n",
       "    var y = e.pageY - (boundingRect.top + document.body.scrollTop);\n",
       "\n",
       "    return { x: x, y: y };\n",
       "};\n",
       "\n",
       "/*\n",
       " * return a copy of an object with only non-object keys\n",
       " * we need this to avoid circular references\n",
       " * https://stackoverflow.com/a/24161582/3208463\n",
       " */\n",
       "function simpleKeys(original) {\n",
       "    return Object.keys(original).reduce(function (obj, key) {\n",
       "        if (typeof original[key] !== 'object') {\n",
       "            obj[key] = original[key];\n",
       "        }\n",
       "        return obj;\n",
       "    }, {});\n",
       "}\n",
       "\n",
       "mpl.figure.prototype.mouse_event = function (event, name) {\n",
       "    var canvas_pos = mpl.findpos(event);\n",
       "\n",
       "    if (name === 'button_press') {\n",
       "        this.canvas.focus();\n",
       "        this.canvas_div.focus();\n",
       "    }\n",
       "\n",
       "    var x = canvas_pos.x * this.ratio;\n",
       "    var y = canvas_pos.y * this.ratio;\n",
       "\n",
       "    this.send_message(name, {\n",
       "        x: x,\n",
       "        y: y,\n",
       "        button: event.button,\n",
       "        step: event.step,\n",
       "        guiEvent: simpleKeys(event),\n",
       "    });\n",
       "\n",
       "    /* This prevents the web browser from automatically changing to\n",
       "     * the text insertion cursor when the button is pressed.  We want\n",
       "     * to control all of the cursor setting manually through the\n",
       "     * 'cursor' event from matplotlib */\n",
       "    event.preventDefault();\n",
       "    return false;\n",
       "};\n",
       "\n",
       "mpl.figure.prototype._key_event_extra = function (_event, _name) {\n",
       "    // Handle any extra behaviour associated with a key event\n",
       "};\n",
       "\n",
       "mpl.figure.prototype.key_event = function (event, name) {\n",
       "    // Prevent repeat events\n",
       "    if (name === 'key_press') {\n",
       "        if (event.key === this._key) {\n",
       "            return;\n",
       "        } else {\n",
       "            this._key = event.key;\n",
       "        }\n",
       "    }\n",
       "    if (name === 'key_release') {\n",
       "        this._key = null;\n",
       "    }\n",
       "\n",
       "    var value = '';\n",
       "    if (event.ctrlKey && event.key !== 'Control') {\n",
       "        value += 'ctrl+';\n",
       "    }\n",
       "    else if (event.altKey && event.key !== 'Alt') {\n",
       "        value += 'alt+';\n",
       "    }\n",
       "    else if (event.shiftKey && event.key !== 'Shift') {\n",
       "        value += 'shift+';\n",
       "    }\n",
       "\n",
       "    value += 'k' + event.key;\n",
       "\n",
       "    this._key_event_extra(event, name);\n",
       "\n",
       "    this.send_message(name, { key: value, guiEvent: simpleKeys(event) });\n",
       "    return false;\n",
       "};\n",
       "\n",
       "mpl.figure.prototype.toolbar_button_onclick = function (name) {\n",
       "    if (name === 'download') {\n",
       "        this.handle_save(this, null);\n",
       "    } else {\n",
       "        this.send_message('toolbar_button', { name: name });\n",
       "    }\n",
       "};\n",
       "\n",
       "mpl.figure.prototype.toolbar_button_onmouseover = function (tooltip) {\n",
       "    this.message.textContent = tooltip;\n",
       "};\n",
       "\n",
       "///////////////// REMAINING CONTENT GENERATED BY embed_js.py /////////////////\n",
       "// prettier-ignore\n",
       "var _JSXTOOLS_RESIZE_OBSERVER=function(A){var t,i=new WeakMap,n=new WeakMap,a=new WeakMap,r=new WeakMap,o=new Set;function s(e){if(!(this instanceof s))throw new TypeError(\"Constructor requires 'new' operator\");i.set(this,e)}function h(){throw new TypeError(\"Function is not a constructor\")}function c(e,t,i,n){e=0 in arguments?Number(arguments[0]):0,t=1 in arguments?Number(arguments[1]):0,i=2 in arguments?Number(arguments[2]):0,n=3 in arguments?Number(arguments[3]):0,this.right=(this.x=this.left=e)+(this.width=i),this.bottom=(this.y=this.top=t)+(this.height=n),Object.freeze(this)}function d(){t=requestAnimationFrame(d);var s=new WeakMap,p=new Set;o.forEach((function(t){r.get(t).forEach((function(i){var r=t instanceof window.SVGElement,o=a.get(t),d=r?0:parseFloat(o.paddingTop),f=r?0:parseFloat(o.paddingRight),l=r?0:parseFloat(o.paddingBottom),u=r?0:parseFloat(o.paddingLeft),g=r?0:parseFloat(o.borderTopWidth),m=r?0:parseFloat(o.borderRightWidth),w=r?0:parseFloat(o.borderBottomWidth),b=u+f,F=d+l,v=(r?0:parseFloat(o.borderLeftWidth))+m,W=g+w,y=r?0:t.offsetHeight-W-t.clientHeight,E=r?0:t.offsetWidth-v-t.clientWidth,R=b+v,z=F+W,M=r?t.width:parseFloat(o.width)-R-E,O=r?t.height:parseFloat(o.height)-z-y;if(n.has(t)){var k=n.get(t);if(k[0]===M&&k[1]===O)return}n.set(t,[M,O]);var S=Object.create(h.prototype);S.target=t,S.contentRect=new c(u,d,M,O),s.has(i)||(s.set(i,[]),p.add(i)),s.get(i).push(S)}))})),p.forEach((function(e){i.get(e).call(e,s.get(e),e)}))}return s.prototype.observe=function(i){if(i instanceof window.Element){r.has(i)||(r.set(i,new Set),o.add(i),a.set(i,window.getComputedStyle(i)));var n=r.get(i);n.has(this)||n.add(this),cancelAnimationFrame(t),t=requestAnimationFrame(d)}},s.prototype.unobserve=function(i){if(i instanceof window.Element&&r.has(i)){var n=r.get(i);n.has(this)&&(n.delete(this),n.size||(r.delete(i),o.delete(i))),n.size||r.delete(i),o.size||cancelAnimationFrame(t)}},A.DOMRectReadOnly=c,A.ResizeObserver=s,A.ResizeObserverEntry=h,A}; // eslint-disable-line\n",
       "mpl.toolbar_items = [[\"Home\", \"Reset original view\", \"fa fa-home icon-home\", \"home\"], [\"Back\", \"Back to previous view\", \"fa fa-arrow-left icon-arrow-left\", \"back\"], [\"Forward\", \"Forward to next view\", \"fa fa-arrow-right icon-arrow-right\", \"forward\"], [\"\", \"\", \"\", \"\"], [\"Pan\", \"Left button pans, Right button zooms\\nx/y fixes axis, CTRL fixes aspect\", \"fa fa-arrows icon-move\", \"pan\"], [\"Zoom\", \"Zoom to rectangle\\nx/y fixes axis\", \"fa fa-square-o icon-check-empty\", \"zoom\"], [\"\", \"\", \"\", \"\"], [\"Download\", \"Download plot\", \"fa fa-floppy-o icon-save\", \"download\"]];\n",
       "\n",
       "mpl.extensions = [\"eps\", \"jpeg\", \"pgf\", \"pdf\", \"png\", \"ps\", \"raw\", \"svg\", \"tif\"];\n",
       "\n",
       "mpl.default_extension = \"png\";/* global mpl */\n",
       "\n",
       "var comm_websocket_adapter = function (comm) {\n",
       "    // Create a \"websocket\"-like object which calls the given IPython comm\n",
       "    // object with the appropriate methods. Currently this is a non binary\n",
       "    // socket, so there is still some room for performance tuning.\n",
       "    var ws = {};\n",
       "\n",
       "    ws.binaryType = comm.kernel.ws.binaryType;\n",
       "    ws.readyState = comm.kernel.ws.readyState;\n",
       "    function updateReadyState(_event) {\n",
       "        if (comm.kernel.ws) {\n",
       "            ws.readyState = comm.kernel.ws.readyState;\n",
       "        } else {\n",
       "            ws.readyState = 3; // Closed state.\n",
       "        }\n",
       "    }\n",
       "    comm.kernel.ws.addEventListener('open', updateReadyState);\n",
       "    comm.kernel.ws.addEventListener('close', updateReadyState);\n",
       "    comm.kernel.ws.addEventListener('error', updateReadyState);\n",
       "\n",
       "    ws.close = function () {\n",
       "        comm.close();\n",
       "    };\n",
       "    ws.send = function (m) {\n",
       "        //console.log('sending', m);\n",
       "        comm.send(m);\n",
       "    };\n",
       "    // Register the callback with on_msg.\n",
       "    comm.on_msg(function (msg) {\n",
       "        //console.log('receiving', msg['content']['data'], msg);\n",
       "        var data = msg['content']['data'];\n",
       "        if (data['blob'] !== undefined) {\n",
       "            data = {\n",
       "                data: new Blob(msg['buffers'], { type: data['blob'] }),\n",
       "            };\n",
       "        }\n",
       "        // Pass the mpl event to the overridden (by mpl) onmessage function.\n",
       "        ws.onmessage(data);\n",
       "    });\n",
       "    return ws;\n",
       "};\n",
       "\n",
       "mpl.mpl_figure_comm = function (comm, msg) {\n",
       "    // This is the function which gets called when the mpl process\n",
       "    // starts-up an IPython Comm through the \"matplotlib\" channel.\n",
       "\n",
       "    var id = msg.content.data.id;\n",
       "    // Get hold of the div created by the display call when the Comm\n",
       "    // socket was opened in Python.\n",
       "    var element = document.getElementById(id);\n",
       "    var ws_proxy = comm_websocket_adapter(comm);\n",
       "\n",
       "    function ondownload(figure, _format) {\n",
       "        window.open(figure.canvas.toDataURL());\n",
       "    }\n",
       "\n",
       "    var fig = new mpl.figure(id, ws_proxy, ondownload, element);\n",
       "\n",
       "    // Call onopen now - mpl needs it, as it is assuming we've passed it a real\n",
       "    // web socket which is closed, not our websocket->open comm proxy.\n",
       "    ws_proxy.onopen();\n",
       "\n",
       "    fig.parent_element = element;\n",
       "    fig.cell_info = mpl.find_output_cell(\"<div id='\" + id + \"'></div>\");\n",
       "    if (!fig.cell_info) {\n",
       "        console.error('Failed to find cell for figure', id, fig);\n",
       "        return;\n",
       "    }\n",
       "    fig.cell_info[0].output_area.element.on(\n",
       "        'cleared',\n",
       "        { fig: fig },\n",
       "        fig._remove_fig_handler\n",
       "    );\n",
       "};\n",
       "\n",
       "mpl.figure.prototype.handle_close = function (fig, msg) {\n",
       "    var width = fig.canvas.width / fig.ratio;\n",
       "    fig.cell_info[0].output_area.element.off(\n",
       "        'cleared',\n",
       "        fig._remove_fig_handler\n",
       "    );\n",
       "    fig.resizeObserverInstance.unobserve(fig.canvas_div);\n",
       "\n",
       "    // Update the output cell to use the data from the current canvas.\n",
       "    fig.push_to_output();\n",
       "    var dataURL = fig.canvas.toDataURL();\n",
       "    // Re-enable the keyboard manager in IPython - without this line, in FF,\n",
       "    // the notebook keyboard shortcuts fail.\n",
       "    IPython.keyboard_manager.enable();\n",
       "    fig.parent_element.innerHTML =\n",
       "        '<img src=\"' + dataURL + '\" width=\"' + width + '\">';\n",
       "    fig.close_ws(fig, msg);\n",
       "};\n",
       "\n",
       "mpl.figure.prototype.close_ws = function (fig, msg) {\n",
       "    fig.send_message('closing', msg);\n",
       "    // fig.ws.close()\n",
       "};\n",
       "\n",
       "mpl.figure.prototype.push_to_output = function (_remove_interactive) {\n",
       "    // Turn the data on the canvas into data in the output cell.\n",
       "    var width = this.canvas.width / this.ratio;\n",
       "    var dataURL = this.canvas.toDataURL();\n",
       "    this.cell_info[1]['text/html'] =\n",
       "        '<img src=\"' + dataURL + '\" width=\"' + width + '\">';\n",
       "};\n",
       "\n",
       "mpl.figure.prototype.updated_canvas_event = function () {\n",
       "    // Tell IPython that the notebook contents must change.\n",
       "    IPython.notebook.set_dirty(true);\n",
       "    this.send_message('ack', {});\n",
       "    var fig = this;\n",
       "    // Wait a second, then push the new image to the DOM so\n",
       "    // that it is saved nicely (might be nice to debounce this).\n",
       "    setTimeout(function () {\n",
       "        fig.push_to_output();\n",
       "    }, 1000);\n",
       "};\n",
       "\n",
       "mpl.figure.prototype._init_toolbar = function () {\n",
       "    var fig = this;\n",
       "\n",
       "    var toolbar = document.createElement('div');\n",
       "    toolbar.classList = 'btn-toolbar';\n",
       "    this.root.appendChild(toolbar);\n",
       "\n",
       "    function on_click_closure(name) {\n",
       "        return function (_event) {\n",
       "            return fig.toolbar_button_onclick(name);\n",
       "        };\n",
       "    }\n",
       "\n",
       "    function on_mouseover_closure(tooltip) {\n",
       "        return function (event) {\n",
       "            if (!event.currentTarget.disabled) {\n",
       "                return fig.toolbar_button_onmouseover(tooltip);\n",
       "            }\n",
       "        };\n",
       "    }\n",
       "\n",
       "    fig.buttons = {};\n",
       "    var buttonGroup = document.createElement('div');\n",
       "    buttonGroup.classList = 'btn-group';\n",
       "    var button;\n",
       "    for (var toolbar_ind in mpl.toolbar_items) {\n",
       "        var name = mpl.toolbar_items[toolbar_ind][0];\n",
       "        var tooltip = mpl.toolbar_items[toolbar_ind][1];\n",
       "        var image = mpl.toolbar_items[toolbar_ind][2];\n",
       "        var method_name = mpl.toolbar_items[toolbar_ind][3];\n",
       "\n",
       "        if (!name) {\n",
       "            /* Instead of a spacer, we start a new button group. */\n",
       "            if (buttonGroup.hasChildNodes()) {\n",
       "                toolbar.appendChild(buttonGroup);\n",
       "            }\n",
       "            buttonGroup = document.createElement('div');\n",
       "            buttonGroup.classList = 'btn-group';\n",
       "            continue;\n",
       "        }\n",
       "\n",
       "        button = fig.buttons[name] = document.createElement('button');\n",
       "        button.classList = 'btn btn-default';\n",
       "        button.href = '#';\n",
       "        button.title = name;\n",
       "        button.innerHTML = '<i class=\"fa ' + image + ' fa-lg\"></i>';\n",
       "        button.addEventListener('click', on_click_closure(method_name));\n",
       "        button.addEventListener('mouseover', on_mouseover_closure(tooltip));\n",
       "        buttonGroup.appendChild(button);\n",
       "    }\n",
       "\n",
       "    if (buttonGroup.hasChildNodes()) {\n",
       "        toolbar.appendChild(buttonGroup);\n",
       "    }\n",
       "\n",
       "    // Add the status bar.\n",
       "    var status_bar = document.createElement('span');\n",
       "    status_bar.classList = 'mpl-message pull-right';\n",
       "    toolbar.appendChild(status_bar);\n",
       "    this.message = status_bar;\n",
       "\n",
       "    // Add the close button to the window.\n",
       "    var buttongrp = document.createElement('div');\n",
       "    buttongrp.classList = 'btn-group inline pull-right';\n",
       "    button = document.createElement('button');\n",
       "    button.classList = 'btn btn-mini btn-primary';\n",
       "    button.href = '#';\n",
       "    button.title = 'Stop Interaction';\n",
       "    button.innerHTML = '<i class=\"fa fa-power-off icon-remove icon-large\"></i>';\n",
       "    button.addEventListener('click', function (_evt) {\n",
       "        fig.handle_close(fig, {});\n",
       "    });\n",
       "    button.addEventListener(\n",
       "        'mouseover',\n",
       "        on_mouseover_closure('Stop Interaction')\n",
       "    );\n",
       "    buttongrp.appendChild(button);\n",
       "    var titlebar = this.root.querySelector('.ui-dialog-titlebar');\n",
       "    titlebar.insertBefore(buttongrp, titlebar.firstChild);\n",
       "};\n",
       "\n",
       "mpl.figure.prototype._remove_fig_handler = function (event) {\n",
       "    var fig = event.data.fig;\n",
       "    if (event.target !== this) {\n",
       "        // Ignore bubbled events from children.\n",
       "        return;\n",
       "    }\n",
       "    fig.close_ws(fig, {});\n",
       "};\n",
       "\n",
       "mpl.figure.prototype._root_extra_style = function (el) {\n",
       "    el.style.boxSizing = 'content-box'; // override notebook setting of border-box.\n",
       "};\n",
       "\n",
       "mpl.figure.prototype._canvas_extra_style = function (el) {\n",
       "    // this is important to make the div 'focusable\n",
       "    el.setAttribute('tabindex', 0);\n",
       "    // reach out to IPython and tell the keyboard manager to turn it's self\n",
       "    // off when our div gets focus\n",
       "\n",
       "    // location in version 3\n",
       "    if (IPython.notebook.keyboard_manager) {\n",
       "        IPython.notebook.keyboard_manager.register_events(el);\n",
       "    } else {\n",
       "        // location in version 2\n",
       "        IPython.keyboard_manager.register_events(el);\n",
       "    }\n",
       "};\n",
       "\n",
       "mpl.figure.prototype._key_event_extra = function (event, _name) {\n",
       "    // Check for shift+enter\n",
       "    if (event.shiftKey && event.which === 13) {\n",
       "        this.canvas_div.blur();\n",
       "        // select the cell after this one\n",
       "        var index = IPython.notebook.find_cell_index(this.cell_info[0]);\n",
       "        IPython.notebook.select(index + 1);\n",
       "    }\n",
       "};\n",
       "\n",
       "mpl.figure.prototype.handle_save = function (fig, _msg) {\n",
       "    fig.ondownload(fig, null);\n",
       "};\n",
       "\n",
       "mpl.find_output_cell = function (html_output) {\n",
       "    // Return the cell and output element which can be found *uniquely* in the notebook.\n",
       "    // Note - this is a bit hacky, but it is done because the \"notebook_saving.Notebook\"\n",
       "    // IPython event is triggered only after the cells have been serialised, which for\n",
       "    // our purposes (turning an active figure into a static one), is too late.\n",
       "    var cells = IPython.notebook.get_cells();\n",
       "    var ncells = cells.length;\n",
       "    for (var i = 0; i < ncells; i++) {\n",
       "        var cell = cells[i];\n",
       "        if (cell.cell_type === 'code') {\n",
       "            for (var j = 0; j < cell.output_area.outputs.length; j++) {\n",
       "                var data = cell.output_area.outputs[j];\n",
       "                if (data.data) {\n",
       "                    // IPython >= 3 moved mimebundle to data attribute of output\n",
       "                    data = data.data;\n",
       "                }\n",
       "                if (data['text/html'] === html_output) {\n",
       "                    return [cell, data, j];\n",
       "                }\n",
       "            }\n",
       "        }\n",
       "    }\n",
       "};\n",
       "\n",
       "// Register the function which deals with the matplotlib target/channel.\n",
       "// The kernel may be null if the page has been refreshed.\n",
       "if (IPython.notebook.kernel !== null) {\n",
       "    IPython.notebook.kernel.comm_manager.register_target(\n",
       "        'matplotlib',\n",
       "        mpl.mpl_figure_comm\n",
       "    );\n",
       "}\n"
      ],
      "text/plain": [
       "<IPython.core.display.Javascript object>"
      ]
     },
     "metadata": {},
     "output_type": "display_data"
    },
    {
     "data": {
      "text/html": [
       "<img src=\"data:image/png;base64,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\" width=\"640\">"
      ],
      "text/plain": [
       "<IPython.core.display.HTML object>"
      ]
     },
     "metadata": {},
     "output_type": "display_data"
    }
   ],
   "source": [
    "%matplotlib notebook\n",
    "import matplotlib.pylab as plt\n",
    "fig = plt.figure()\n",
    "\n",
    "plt.xlabel(\"Glitch offset\")\n",
    "plt.ylabel(\"Glitch width\")\n",
    "\n",
    "for glitch_setting in gc.glitch_values():\n",
    "    plt.plot(glitch_setting[1], glitch_setting[0], 'b.')\n",
    "\n",
    "## to update the plot:\n",
    "fig.canvas.draw()"
   ]
  },
  {
   "cell_type": "markdown",
   "id": "imperial-sleeping",
   "metadata": {},
   "source": [
    "This two dimensional representation will become very useful later on."
   ]
  },
  {
   "cell_type": "markdown",
   "id": "careful-reserve",
   "metadata": {},
   "source": [
    "The target will crash a lot while glitching. The following function will help to reset the target."
   ]
  },
  {
   "cell_type": "code",
   "execution_count": 7,
   "id": "signal-nancy",
   "metadata": {},
   "outputs": [],
   "source": [
    " def reboot_flush():            \n",
    "    scope.io.nrst = False\n",
    "    time.sleep(0.05)\n",
    "    scope.io.nrst = \"high_z\"\n",
    "    time.sleep(0.05)\n",
    "    #Flush garbage too\n",
    "    target.flush()"
   ]
  },
  {
   "cell_type": "markdown",
   "id": "mineral-graphics",
   "metadata": {},
   "source": [
    "## Nested loops"
   ]
  },
  {
   "cell_type": "markdown",
   "id": "adult-wildlife",
   "metadata": {},
   "source": [
    "In this section a nested loop is attacked in order to get an idea about the glitching behaviour. The execution is triggered by sending a simpleserial message to the target board.\n",
    "\n",
    "The following code snippet shows you the function executed while the glitching attempts are performed.<br>\n",
    "We use a Trigger-pin to signal the ChipWhisperer when to start glitching. <br>\n",
    "This is done for simplification since otherwise it can get quite challenging to configure the right spot to glitch.<br> \n",
    "Additionally we know that the Microcontroller crashed while glitching when the trigger is up before we send data to the target board."
   ]
  },
  {
   "cell_type": "markdown",
   "id": "built-cleanup",
   "metadata": {},
   "source": [
    "```C\n",
    "uint8_t glitch_loop(uint8_t* in) {\n",
    "    volatile uint16_t i, j;\n",
    "    volatile uint32_t cnt;\n",
    "    cnt = 0;\n",
    "    trigger_high(); // Set pin to high to signal the ChipWhisperer to begin glitching\n",
    "    \n",
    "    for(i=0; i<50; i++) {\n",
    "        for(j=0; j<50; j++) {\n",
    "            cnt++;\n",
    "        }\n",
    "    }\n",
    "    \n",
    "    trigger_low(); // Set pin to low\n",
    "    simpleserial_put('r', 4, (uint8_t*)&cnt);  // Sends cnt back to CW via the simpleserial protocol (https://wiki.newae.com/SimpleSerial)\n",
    "    return (cnt != 2500);\n",
    "}\n",
    "```"
   ]
  },
  {
   "cell_type": "markdown",
   "id": "israeli-collective",
   "metadata": {},
   "source": [
    "The microcontroller spends a lot of time in the nested loops especially in the branching instructions of the for loops, which makes the glitching easier. It is also really easy to see the effect of the glitch by monitoring the result count, which should be 2500 but will reduce in value if a glitch has been successful."
   ]
  },
  {
   "cell_type": "markdown",
   "id": "robust-motivation",
   "metadata": {},
   "source": [
    "Let's check first that the correct firmware is being executed on the target. The result should be 2500."
   ]
  },
  {
   "cell_type": "code",
   "execution_count": 8,
   "id": "hearing-dayton",
   "metadata": {
    "deletable": false,
    "editable": false
   },
   "outputs": [
    {
     "name": "stdout",
     "output_type": "stream",
     "text": [
      "Response count: 2500\n"
     ]
    }
   ],
   "source": [
    "import struct\n",
    "\n",
    "# trigger the execution of the function glitch_loop\n",
    "target.simpleserial_write(\"g\", bytearray([]))\n",
    "\n",
    "# request the response for the last request\n",
    "response = target.simpleserial_read_witherrors('r', 4, glitch_timeout=10)\n",
    "\n",
    "print(\"Response count: {}\".format(struct.unpack(\"<I\", response['payload'])[0]))"
   ]
  },
  {
   "cell_type": "markdown",
   "id": "handmade-silicon",
   "metadata": {},
   "source": [
    "Let's have a look at the result package received. There is a bit to unpack here."
   ]
  },
  {
   "cell_type": "code",
   "execution_count": 9,
   "id": "departmental-coverage",
   "metadata": {},
   "outputs": [
    {
     "name": "stdout",
     "output_type": "stream",
     "text": [
      "{'valid': True, 'payload': bytearray(b'\\xc4\\t\\x00\\x00'), 'full_response': 'rC4090000\\n', 'rv': 0}\n",
      "(2500,)\n"
     ]
    }
   ],
   "source": [
    "print(response)\n",
    "print(struct.unpack(\"<I\", response['payload']))"
   ]
  },
  {
   "cell_type": "markdown",
   "id": "inner-check",
   "metadata": {},
   "source": [
    "- The field `'valid'` shows if the serial communication was valid.\n",
    "- The field `'payload'` contains a bytearray with tuple wrapped up in a struct.\n",
    "- The field `'full_response'` contains the payload as raw serial.\n",
    "- The field `'rv'` shows the return value / error code.\n",
    "\n",
    "The unpacked tuple contains a single value, which corresponds to the returned count value by the nested loops."
   ]
  },
  {
   "cell_type": "markdown",
   "id": "familiar-current",
   "metadata": {},
   "source": [
    "Let's start glitching."
   ]
  },
  {
   "cell_type": "markdown",
   "id": "extensive-quarter",
   "metadata": {},
   "source": [
    "A general configuration of the glitch controller has to be performed as you can see in the next cell."
   ]
  },
  {
   "cell_type": "code",
   "execution_count": 10,
   "id": "rolled-spice",
   "metadata": {},
   "outputs": [
    {
     "name": "stdout",
     "output_type": "stream",
     "text": [
      "clk_src     = clkgen\n",
      "width       = 10.15625\n",
      "width_fine  = 0\n",
      "offset      = 10.15625\n",
      "offset_fine = 0\n",
      "trigger_src = ext_single\n",
      "arm_timing  = after_scope\n",
      "ext_offset  = 0\n",
      "repeat      = 1\n",
      "output      = clock_xor\n",
      "\n"
     ]
    }
   ],
   "source": [
    "#Basic setup for the glitch controller\n",
    "scope.glitch.clk_src = \"clkgen\" # set glitch input clock\n",
    "scope.glitch.output = \"clock_xor\" # glitch_out = clk XOR glitch\n",
    "#Trigger will be set from victim software \n",
    "scope.glitch.trigger_src = \"ext_single\" # glitch only after scope.arm() called. \n",
    "\n",
    "scope.io.hs2 = \"glitch\"  # output glitch_out on the clock line\n",
    "print(scope.glitch)"
   ]
  },
  {
   "cell_type": "code",
   "execution_count": 11,
   "id": "timely-stocks",
   "metadata": {},
   "outputs": [
    {
     "data": {
      "application/vnd.jupyter.widget-view+json": {
       "model_id": "03404367025b46cb8a494183c764b52f",
       "version_major": 2,
       "version_minor": 0
      },
      "text/plain": [
       "IntText(value=0, description='success count:', disabled=True)"
      ]
     },
     "metadata": {},
     "output_type": "display_data"
    },
    {
     "data": {
      "application/vnd.jupyter.widget-view+json": {
       "model_id": "831370b4ecac4d0fbc2086db74a7788f",
       "version_major": 2,
       "version_minor": 0
      },
      "text/plain": [
       "IntText(value=0, description='reset count:', disabled=True)"
      ]
     },
     "metadata": {},
     "output_type": "display_data"
    },
    {
     "data": {
      "application/vnd.jupyter.widget-view+json": {
       "model_id": "c82fb1cabebf48ff89168a1435384850",
       "version_major": 2,
       "version_minor": 0
      },
      "text/plain": [
       "IntText(value=0, description='normal count:', disabled=True)"
      ]
     },
     "metadata": {},
     "output_type": "display_data"
    },
    {
     "data": {
      "application/vnd.jupyter.widget-view+json": {
       "model_id": "408a5b54eb83438c853b91e9e1d8287a",
       "version_major": 2,
       "version_minor": 0
      },
      "text/plain": [
       "FloatSlider(value=0.0, continuous_update=False, description='width setting:', disabled=True, max=5.0, readout_…"
      ]
     },
     "metadata": {},
     "output_type": "display_data"
    },
    {
     "data": {
      "application/vnd.jupyter.widget-view+json": {
       "model_id": "01cc578a7b734f03a6176d1ad3d7341d",
       "version_major": 2,
       "version_minor": 0
      },
      "text/plain": [
       "FloatSlider(value=-5.0, continuous_update=False, description='offset setting:', disabled=True, max=5.0, min=-5…"
      ]
     },
     "metadata": {},
     "output_type": "display_data"
    }
   ],
   "source": [
    "gc.display_stats()"
   ]
  },
  {
   "cell_type": "markdown",
   "id": "extraordinary-lawrence",
   "metadata": {},
   "source": [
    "<div>\n",
    "<img src=\"images/question_darkblue.png\" align=\"left\" width=\"24\" height=\"24\"/>\n",
    "<span style=\"line-height:24px; margin-left: 0.5em\"><font color=\"darkblue\">What do you expect from the following glitch loop?</font></span>\n",
    "</div>"
   ]
  },
  {
   "cell_type": "markdown",
   "id": "juvenile-thing",
   "metadata": {},
   "source": [
    "<div>\n",
    "<img src=\"images/write_chocolate.png\" align=\"left\" width=\"24\" height=\"24\"/>\n",
    "<span style=\"line-height:24px; margin-left: 0.5em\"><font color='Chocolate'>\n",
    "<b> Please fill in with your own observations </b>\n",
    "</font></span>\n",
    "</div>"
   ]
  },
  {
   "cell_type": "markdown",
   "id": "adult-karma",
   "metadata": {},
   "source": [
    "<font color='Chocolate'>\n",
    "Die returnvalue sollte kleiner als 2500 sien da durch den glich einzele loopdurchläufe übersprungen werden.\n",
    "</font>"
   ]
  },
  {
   "cell_type": "markdown",
   "id": "pregnant-ebony",
   "metadata": {},
   "source": [
    "<div>\n",
    "<img src=\"images/question_darkblue.png\" align=\"left\" width=\"24\" height=\"24\"/>\n",
    "<span style=\"line-height:24px; margin-left: 0.5em\"><font color=\"darkblue\">How will a successful glitch alter the return value of the function?</font></span>\n",
    "</div>"
   ]
  },
  {
   "cell_type": "markdown",
   "id": "welcome-humidity",
   "metadata": {},
   "source": [
    "<div>\n",
    "<img src=\"images/write_chocolate.png\" align=\"left\" width=\"24\" height=\"24\"/>\n",
    "<span style=\"line-height:24px; margin-left: 0.5em\"><font color='Chocolate'>\n",
    "<b> Please fill in with your own observations </b>\n",
    "</font></span>\n",
    "</div>"
   ]
  },
  {
   "cell_type": "markdown",
   "id": "korean-stress",
   "metadata": {},
   "source": [
    "<font color='Chocolate'>\n",
    "Mann kan anhand der diverenz von 2500 und dem retunwert erkennen, wie viele gliches erfolgreich sind/waren.<br>\n",
    "generell sollte der Wert von 2500 abweichen\n",
    "</font>"
   ]
  },
  {
   "cell_type": "markdown",
   "id": "affected-logging",
   "metadata": {},
   "source": [
    "Please complete the following glitch loop.\n",
    "You will need the knowledge about the effect of a successful glitch, to identify a successful glitch in the glitch loop.\n",
    "\n",
    "You will see that the execution will take some time, as the loop iterates over the different glitch configuration settings."
   ]
  },
  {
   "cell_type": "code",
   "execution_count": 12,
   "id": "fitting-canvas",
   "metadata": {
    "scrolled": true
   },
   "outputs": [
    {
     "name": "stderr",
     "output_type": "stream",
     "text": [
      "(ChipWhisperer Glitch WARNING|File ChipWhispererGlitch.py:940) Negative offsets <-45 may result in double glitches!\n",
      "(ChipWhisperer Glitch WARNING|File ChipWhispererGlitch.py:765) Partial reconfiguration for width = 0 may not work\n",
      "(ChipWhisperer Glitch WARNING|File ChipWhispererGlitch.py:940) Negative offsets <-45 may result in double glitches!\n",
      "(ChipWhisperer Glitch WARNING|File ChipWhispererGlitch.py:765) Partial reconfiguration for width = 0 may not work\n",
      "(ChipWhisperer Glitch WARNING|File ChipWhispererGlitch.py:765) Partial reconfiguration for width = 0 may not work\n",
      "(ChipWhisperer Glitch WARNING|File ChipWhispererGlitch.py:765) Partial reconfiguration for width = 0 may not work\n",
      "(ChipWhisperer Glitch WARNING|File ChipWhispererGlitch.py:765) Partial reconfiguration for width = 0 may not work\n",
      "(ChipWhisperer Glitch WARNING|File ChipWhispererGlitch.py:765) Partial reconfiguration for width = 0 may not work\n",
      "(ChipWhisperer Glitch WARNING|File ChipWhispererGlitch.py:765) Partial reconfiguration for width = 0 may not work\n",
      "(ChipWhisperer Glitch WARNING|File ChipWhispererGlitch.py:765) Partial reconfiguration for width = 0 may not work\n",
      "(ChipWhisperer Glitch WARNING|File ChipWhispererGlitch.py:765) Partial reconfiguration for width = 0 may not work\n",
      "(ChipWhisperer Glitch WARNING|File ChipWhispererGlitch.py:765) Partial reconfiguration for width = 0 may not work\n",
      "(ChipWhisperer Glitch WARNING|File ChipWhispererGlitch.py:765) Partial reconfiguration for width = 0 may not work\n",
      "(ChipWhisperer Glitch WARNING|File ChipWhispererGlitch.py:765) Partial reconfiguration for width = 0 may not work\n",
      "(ChipWhisperer Glitch WARNING|File ChipWhispererGlitch.py:765) Partial reconfiguration for width = 0 may not work\n",
      "(ChipWhisperer Glitch WARNING|File ChipWhispererGlitch.py:765) Partial reconfiguration for width = 0 may not work\n",
      "(ChipWhisperer Glitch WARNING|File ChipWhispererGlitch.py:765) Partial reconfiguration for width = 0 may not work\n",
      "(ChipWhisperer Glitch WARNING|File ChipWhispererGlitch.py:765) Partial reconfiguration for width = 0 may not work\n",
      "(ChipWhisperer Glitch WARNING|File ChipWhispererGlitch.py:765) Partial reconfiguration for width = 0 may not work\n",
      "(ChipWhisperer Glitch WARNING|File ChipWhispererGlitch.py:765) Partial reconfiguration for width = 0 may not work\n",
      "(ChipWhisperer Glitch WARNING|File ChipWhispererGlitch.py:765) Partial reconfiguration for width = 0 may not work\n",
      "(ChipWhisperer Glitch WARNING|File ChipWhispererGlitch.py:765) Partial reconfiguration for width = 0 may not work\n",
      "(ChipWhisperer Glitch WARNING|File ChipWhispererGlitch.py:765) Partial reconfiguration for width = 0 may not work\n",
      "(ChipWhisperer Glitch WARNING|File ChipWhispererGlitch.py:765) Partial reconfiguration for width = 0 may not work\n",
      "(ChipWhisperer Glitch WARNING|File ChipWhispererGlitch.py:765) Partial reconfiguration for width = 0 may not work\n",
      "(ChipWhisperer Glitch WARNING|File ChipWhispererGlitch.py:765) Partial reconfiguration for width = 0 may not work\n",
      "(ChipWhisperer Glitch WARNING|File ChipWhispererGlitch.py:765) Partial reconfiguration for width = 0 may not work\n",
      "(ChipWhisperer Glitch WARNING|File ChipWhispererGlitch.py:765) Partial reconfiguration for width = 0 may not work\n",
      "(ChipWhisperer Glitch WARNING|File ChipWhispererGlitch.py:765) Partial reconfiguration for width = 0 may not work\n",
      "(ChipWhisperer Glitch WARNING|File ChipWhispererGlitch.py:765) Partial reconfiguration for width = 0 may not work\n",
      "(ChipWhisperer Glitch WARNING|File ChipWhispererGlitch.py:765) Partial reconfiguration for width = 0 may not work\n",
      "(ChipWhisperer Glitch WARNING|File ChipWhispererGlitch.py:765) Partial reconfiguration for width = 0 may not work\n",
      "(ChipWhisperer Glitch WARNING|File ChipWhispererGlitch.py:765) Partial reconfiguration for width = 0 may not work\n",
      "(ChipWhisperer Glitch WARNING|File ChipWhispererGlitch.py:765) Partial reconfiguration for width = 0 may not work\n",
      "(ChipWhisperer Glitch WARNING|File ChipWhispererGlitch.py:765) Partial reconfiguration for width = 0 may not work\n",
      "(ChipWhisperer Glitch WARNING|File ChipWhispererGlitch.py:765) Partial reconfiguration for width = 0 may not work\n",
      "(ChipWhisperer Glitch WARNING|File ChipWhispererGlitch.py:765) Partial reconfiguration for width = 0 may not work\n",
      "(ChipWhisperer Glitch WARNING|File ChipWhispererGlitch.py:765) Partial reconfiguration for width = 0 may not work\n",
      "(ChipWhisperer Glitch WARNING|File ChipWhispererGlitch.py:765) Partial reconfiguration for width = 0 may not work\n",
      "(ChipWhisperer Glitch WARNING|File ChipWhispererGlitch.py:765) Partial reconfiguration for width = 0 may not work\n",
      "(ChipWhisperer Glitch WARNING|File ChipWhispererGlitch.py:765) Partial reconfiguration for width = 0 may not work\n",
      "(ChipWhisperer Glitch WARNING|File ChipWhispererGlitch.py:765) Partial reconfiguration for width = 0 may not work\n",
      "(ChipWhisperer Glitch WARNING|File ChipWhispererGlitch.py:765) Partial reconfiguration for width = 0 may not work\n",
      "(ChipWhisperer Glitch WARNING|File ChipWhispererGlitch.py:765) Partial reconfiguration for width = 0 may not work\n",
      "(ChipWhisperer Glitch WARNING|File ChipWhispererGlitch.py:765) Partial reconfiguration for width = 0 may not work\n",
      "(ChipWhisperer Glitch WARNING|File ChipWhispererGlitch.py:765) Partial reconfiguration for width = 0 may not work\n",
      "(ChipWhisperer Glitch WARNING|File ChipWhispererGlitch.py:765) Partial reconfiguration for width = 0 may not work\n",
      "(ChipWhisperer Glitch WARNING|File ChipWhispererGlitch.py:765) Partial reconfiguration for width = 0 may not work\n",
      "(ChipWhisperer Glitch WARNING|File ChipWhispererGlitch.py:765) Partial reconfiguration for width = 0 may not work\n",
      "(ChipWhisperer Glitch WARNING|File ChipWhispererGlitch.py:765) Partial reconfiguration for width = 0 may not work\n",
      "(ChipWhisperer Glitch WARNING|File ChipWhispererGlitch.py:765) Partial reconfiguration for width = 0 may not work\n",
      "(ChipWhisperer Glitch WARNING|File ChipWhispererGlitch.py:765) Partial reconfiguration for width = 0 may not work\n",
      "(ChipWhisperer Glitch WARNING|File ChipWhispererGlitch.py:765) Partial reconfiguration for width = 0 may not work\n",
      "(ChipWhisperer Glitch WARNING|File ChipWhispererGlitch.py:765) Partial reconfiguration for width = 0 may not work\n",
      "(ChipWhisperer Glitch WARNING|File ChipWhispererGlitch.py:765) Partial reconfiguration for width = 0 may not work\n",
      "(ChipWhisperer Glitch WARNING|File ChipWhispererGlitch.py:765) Partial reconfiguration for width = 0 may not work\n",
      "(ChipWhisperer Glitch WARNING|File ChipWhispererGlitch.py:765) Partial reconfiguration for width = 0 may not work\n",
      "(ChipWhisperer Glitch WARNING|File ChipWhispererGlitch.py:765) Partial reconfiguration for width = 0 may not work\n",
      "(ChipWhisperer Glitch WARNING|File ChipWhispererGlitch.py:765) Partial reconfiguration for width = 0 may not work\n",
      "(ChipWhisperer Glitch WARNING|File ChipWhispererGlitch.py:765) Partial reconfiguration for width = 0 may not work\n",
      "(ChipWhisperer Glitch WARNING|File ChipWhispererGlitch.py:765) Partial reconfiguration for width = 0 may not work\n",
      "(ChipWhisperer Glitch WARNING|File ChipWhispererGlitch.py:765) Partial reconfiguration for width = 0 may not work\n",
      "(ChipWhisperer Glitch WARNING|File ChipWhispererGlitch.py:765) Partial reconfiguration for width = 0 may not work\n",
      "(ChipWhisperer Glitch WARNING|File ChipWhispererGlitch.py:765) Partial reconfiguration for width = 0 may not work\n",
      "(ChipWhisperer Glitch WARNING|File ChipWhispererGlitch.py:765) Partial reconfiguration for width = 0 may not work\n",
      "(ChipWhisperer Glitch WARNING|File ChipWhispererGlitch.py:765) Partial reconfiguration for width = 0 may not work\n",
      "(ChipWhisperer Glitch WARNING|File ChipWhispererGlitch.py:765) Partial reconfiguration for width = 0 may not work\n",
      "(ChipWhisperer Glitch WARNING|File ChipWhispererGlitch.py:765) Partial reconfiguration for width = 0 may not work\n",
      "(ChipWhisperer Glitch WARNING|File ChipWhispererGlitch.py:765) Partial reconfiguration for width = 0 may not work\n",
      "(ChipWhisperer Glitch WARNING|File ChipWhispererGlitch.py:765) Partial reconfiguration for width = 0 may not work\n",
      "(ChipWhisperer Glitch WARNING|File ChipWhispererGlitch.py:765) Partial reconfiguration for width = 0 may not work\n",
      "(ChipWhisperer Glitch WARNING|File ChipWhispererGlitch.py:765) Partial reconfiguration for width = 0 may not work\n"
     ]
    },
    {
     "name": "stderr",
     "output_type": "stream",
     "text": [
      "(ChipWhisperer Glitch WARNING|File ChipWhispererGlitch.py:765) Partial reconfiguration for width = 0 may not work\n",
      "(ChipWhisperer Glitch WARNING|File ChipWhispererGlitch.py:765) Partial reconfiguration for width = 0 may not work\n",
      "(ChipWhisperer Glitch WARNING|File ChipWhispererGlitch.py:765) Partial reconfiguration for width = 0 may not work\n",
      "(ChipWhisperer Glitch WARNING|File ChipWhispererGlitch.py:765) Partial reconfiguration for width = 0 may not work\n",
      "(ChipWhisperer Glitch WARNING|File ChipWhispererGlitch.py:765) Partial reconfiguration for width = 0 may not work\n",
      "(ChipWhisperer Glitch WARNING|File ChipWhispererGlitch.py:765) Partial reconfiguration for width = 0 may not work\n",
      "(ChipWhisperer Glitch WARNING|File ChipWhispererGlitch.py:765) Partial reconfiguration for width = 0 may not work\n",
      "(ChipWhisperer Glitch WARNING|File ChipWhispererGlitch.py:765) Partial reconfiguration for width = 0 may not work\n",
      "(ChipWhisperer Glitch WARNING|File ChipWhispererGlitch.py:765) Partial reconfiguration for width = 0 may not work\n",
      "(ChipWhisperer Glitch WARNING|File ChipWhispererGlitch.py:765) Partial reconfiguration for width = 0 may not work\n",
      "(ChipWhisperer Glitch WARNING|File ChipWhispererGlitch.py:765) Partial reconfiguration for width = 0 may not work\n",
      "(ChipWhisperer Glitch WARNING|File ChipWhispererGlitch.py:765) Partial reconfiguration for width = 0 may not work\n",
      "(ChipWhisperer Glitch WARNING|File ChipWhispererGlitch.py:765) Partial reconfiguration for width = 0 may not work\n",
      "(ChipWhisperer Glitch WARNING|File ChipWhispererGlitch.py:765) Partial reconfiguration for width = 0 may not work\n",
      "(ChipWhisperer Glitch WARNING|File ChipWhispererGlitch.py:765) Partial reconfiguration for width = 0 may not work\n",
      "(ChipWhisperer Glitch WARNING|File ChipWhispererGlitch.py:765) Partial reconfiguration for width = 0 may not work\n",
      "(ChipWhisperer Glitch WARNING|File ChipWhispererGlitch.py:765) Partial reconfiguration for width = 0 may not work\n",
      "(ChipWhisperer Glitch WARNING|File ChipWhispererGlitch.py:765) Partial reconfiguration for width = 0 may not work\n",
      "(ChipWhisperer Glitch WARNING|File ChipWhispererGlitch.py:765) Partial reconfiguration for width = 0 may not work\n",
      "(ChipWhisperer Glitch WARNING|File ChipWhispererGlitch.py:765) Partial reconfiguration for width = 0 may not work\n",
      "(ChipWhisperer Glitch WARNING|File ChipWhispererGlitch.py:765) Partial reconfiguration for width = 0 may not work\n",
      "(ChipWhisperer Glitch WARNING|File ChipWhispererGlitch.py:765) Partial reconfiguration for width = 0 may not work\n",
      "(ChipWhisperer Glitch WARNING|File ChipWhispererGlitch.py:765) Partial reconfiguration for width = 0 may not work\n",
      "(ChipWhisperer Glitch WARNING|File ChipWhispererGlitch.py:765) Partial reconfiguration for width = 0 may not work\n",
      "(ChipWhisperer Glitch WARNING|File ChipWhispererGlitch.py:765) Partial reconfiguration for width = 0 may not work\n",
      "(ChipWhisperer Glitch WARNING|File ChipWhispererGlitch.py:765) Partial reconfiguration for width = 0 may not work\n",
      "(ChipWhisperer Glitch WARNING|File ChipWhispererGlitch.py:765) Partial reconfiguration for width = 0 may not work\n",
      "(ChipWhisperer Glitch WARNING|File ChipWhispererGlitch.py:765) Partial reconfiguration for width = 0 may not work\n",
      "(ChipWhisperer Glitch WARNING|File ChipWhispererGlitch.py:765) Partial reconfiguration for width = 0 may not work\n",
      "(ChipWhisperer Glitch WARNING|File ChipWhispererGlitch.py:940) Negative offsets <-45 may result in double glitches!\n",
      "(ChipWhisperer Glitch WARNING|File ChipWhispererGlitch.py:765) Partial reconfiguration for width = 0 may not work\n",
      "(ChipWhisperer Glitch WARNING|File ChipWhispererGlitch.py:940) Negative offsets <-45 may result in double glitches!\n"
     ]
    },
    {
     "name": "stdout",
     "output_type": "stream",
     "text": [
      "Trigger still high!\n"
     ]
    },
    {
     "name": "stderr",
     "output_type": "stream",
     "text": [
      "(ChipWhisperer Glitch WARNING|File ChipWhispererGlitch.py:940) Negative offsets <-45 may result in double glitches!\n",
      "(ChipWhisperer Glitch WARNING|File ChipWhispererGlitch.py:940) Negative offsets <-45 may result in double glitches!\n",
      "(ChipWhisperer Glitch WARNING|File ChipWhispererGlitch.py:940) Negative offsets <-45 may result in double glitches!\n",
      "(ChipWhisperer Glitch WARNING|File ChipWhispererGlitch.py:940) Negative offsets <-45 may result in double glitches!\n",
      "(ChipWhisperer Glitch WARNING|File ChipWhispererGlitch.py:940) Negative offsets <-45 may result in double glitches!\n",
      "(ChipWhisperer Glitch WARNING|File ChipWhispererGlitch.py:940) Negative offsets <-45 may result in double glitches!\n"
     ]
    },
    {
     "name": "stdout",
     "output_type": "stream",
     "text": [
      "Trigger still high!\n"
     ]
    },
    {
     "name": "stderr",
     "output_type": "stream",
     "text": [
      "(ChipWhisperer Glitch WARNING|File ChipWhispererGlitch.py:940) Negative offsets <-45 may result in double glitches!\n"
     ]
    },
    {
     "name": "stdout",
     "output_type": "stream",
     "text": [
      "Trigger still high!\n"
     ]
    },
    {
     "name": "stderr",
     "output_type": "stream",
     "text": [
      "(ChipWhisperer Glitch WARNING|File ChipWhispererGlitch.py:940) Negative offsets <-45 may result in double glitches!\n",
      "(ChipWhisperer Glitch WARNING|File ChipWhispererGlitch.py:940) Negative offsets <-45 may result in double glitches!\n",
      "(ChipWhisperer Glitch WARNING|File ChipWhispererGlitch.py:940) Negative offsets <-45 may result in double glitches!\n",
      "(ChipWhisperer Glitch WARNING|File ChipWhispererGlitch.py:940) Negative offsets <-45 may result in double glitches!\n",
      "(ChipWhisperer Glitch WARNING|File ChipWhispererGlitch.py:940) Negative offsets <-45 may result in double glitches!\n",
      "(ChipWhisperer Glitch WARNING|File ChipWhispererGlitch.py:940) Negative offsets <-45 may result in double glitches!\n",
      "(ChipWhisperer Glitch WARNING|File ChipWhispererGlitch.py:940) Negative offsets <-45 may result in double glitches!\n",
      "(ChipWhisperer Glitch WARNING|File ChipWhispererGlitch.py:940) Negative offsets <-45 may result in double glitches!\n",
      "(ChipWhisperer Glitch WARNING|File ChipWhispererGlitch.py:940) Negative offsets <-45 may result in double glitches!\n",
      "(ChipWhisperer Glitch WARNING|File ChipWhispererGlitch.py:940) Negative offsets <-45 may result in double glitches!\n",
      "(ChipWhisperer Glitch WARNING|File ChipWhispererGlitch.py:940) Negative offsets <-45 may result in double glitches!\n",
      "(ChipWhisperer Glitch WARNING|File ChipWhispererGlitch.py:940) Negative offsets <-45 may result in double glitches!\n",
      "(ChipWhisperer Glitch WARNING|File ChipWhispererGlitch.py:940) Negative offsets <-45 may result in double glitches!\n",
      "(ChipWhisperer Glitch WARNING|File ChipWhispererGlitch.py:940) Negative offsets <-45 may result in double glitches!\n",
      "(ChipWhisperer Glitch WARNING|File ChipWhispererGlitch.py:940) Negative offsets <-45 may result in double glitches!\n",
      "(ChipWhisperer Glitch WARNING|File ChipWhispererGlitch.py:940) Negative offsets <-45 may result in double glitches!\n",
      "(ChipWhisperer Glitch WARNING|File ChipWhispererGlitch.py:940) Negative offsets <-45 may result in double glitches!\n",
      "(ChipWhisperer Glitch WARNING|File ChipWhispererGlitch.py:940) Negative offsets <-45 may result in double glitches!\n",
      "(ChipWhisperer Glitch WARNING|File ChipWhispererGlitch.py:940) Negative offsets <-45 may result in double glitches!\n",
      "(ChipWhisperer Glitch WARNING|File ChipWhispererGlitch.py:940) Negative offsets <-45 may result in double glitches!\n",
      "(ChipWhisperer Glitch WARNING|File ChipWhispererGlitch.py:940) Negative offsets <-45 may result in double glitches!\n",
      "(ChipWhisperer Glitch WARNING|File ChipWhispererGlitch.py:940) Negative offsets <-45 may result in double glitches!\n",
      "(ChipWhisperer Glitch WARNING|File ChipWhispererGlitch.py:940) Negative offsets <-45 may result in double glitches!\n",
      "(ChipWhisperer Glitch WARNING|File ChipWhispererGlitch.py:940) Negative offsets <-45 may result in double glitches!\n",
      "(ChipWhisperer Glitch WARNING|File ChipWhispererGlitch.py:940) Negative offsets <-45 may result in double glitches!\n",
      "(ChipWhisperer Glitch WARNING|File ChipWhispererGlitch.py:940) Negative offsets <-45 may result in double glitches!\n",
      "(ChipWhisperer Glitch WARNING|File ChipWhispererGlitch.py:940) Negative offsets <-45 may result in double glitches!\n",
      "(ChipWhisperer Glitch WARNING|File ChipWhispererGlitch.py:940) Negative offsets <-45 may result in double glitches!\n",
      "(ChipWhisperer Glitch WARNING|File ChipWhispererGlitch.py:940) Negative offsets <-45 may result in double glitches!\n",
      "(ChipWhisperer Glitch WARNING|File ChipWhispererGlitch.py:940) Negative offsets <-45 may result in double glitches!\n",
      "(ChipWhisperer Glitch WARNING|File ChipWhispererGlitch.py:940) Negative offsets <-45 may result in double glitches!\n",
      "(ChipWhisperer Glitch WARNING|File ChipWhispererGlitch.py:940) Negative offsets <-45 may result in double glitches!\n",
      "(ChipWhisperer Glitch WARNING|File ChipWhispererGlitch.py:940) Negative offsets <-45 may result in double glitches!\n",
      "(ChipWhisperer Glitch WARNING|File ChipWhispererGlitch.py:940) Negative offsets <-45 may result in double glitches!\n",
      "(ChipWhisperer Glitch WARNING|File ChipWhispererGlitch.py:940) Negative offsets <-45 may result in double glitches!\n",
      "(ChipWhisperer Glitch WARNING|File ChipWhispererGlitch.py:940) Negative offsets <-45 may result in double glitches!\n",
      "(ChipWhisperer Glitch WARNING|File ChipWhispererGlitch.py:940) Negative offsets <-45 may result in double glitches!\n",
      "(ChipWhisperer Glitch WARNING|File ChipWhispererGlitch.py:940) Negative offsets <-45 may result in double glitches!\n",
      "(ChipWhisperer Glitch WARNING|File ChipWhispererGlitch.py:940) Negative offsets <-45 may result in double glitches!\n"
     ]
    }
   ],
   "source": [
    "import chipwhisperer.common.results.glitch as glitch\n",
    "from tqdm.notebook import trange\n",
    "import struct\n",
    "\n",
    "# set external offset\n",
    "scope.glitch.ext_offset = 2\n",
    "gc.set_range(\"width\", 0, 49)\n",
    "gc.set_range(\"offset\", -49, 49)\n",
    "gc.set_global_step([2])\n",
    "scope.glitch.repeat = 3\n",
    "\n",
    "scope.adc.timeout = 0.1\n",
    "\n",
    "reboot_flush()\n",
    "\n",
    "# iterate over all glitch settings\n",
    "##\n",
    "for glitch_setting in gc.glitch_values():\n",
    "    \n",
    "    # raise NotImplementedError(\"Add your code here, and delete this.\")\n",
    "    scope.glitch.offset = glitch_setting[1]\n",
    "    scope.glitch.width = glitch_setting[0]\n",
    "    # speed up, if the trigger has never been low without waiting for timeout\n",
    "    if scope.adc.state:\n",
    "        # can detect crash here (fast) before timing out (slow)\n",
    "        print(\"Trigger still high!\")\n",
    "        gc.add(\"reset\", (scope.glitch.width, scope.glitch.offset))\n",
    "        \n",
    "        reboot_flush()\n",
    "        \n",
    "    # The glitching is only possible when armed.\n",
    "    scope.arm()\n",
    "    \n",
    "    # send message\n",
    "    target.simpleserial_write(\"g\", bytearray([]))\n",
    "    ##\n",
    "    ret = scope.capture()\n",
    "    \n",
    "    # get return message\n",
    "    response = target.simpleserial_read_witherrors('r', 4, glitch_timeout=10)\n",
    "    ##\n",
    "    \n",
    "    # check if target has crashed\n",
    "    if ret:\n",
    "        # timeout\n",
    "        gc.add(\"reset\", (scope.glitch.width, scope.glitch.offset))\n",
    "    else:\n",
    "        # response message received\n",
    "        # raise NotImplementedError(\"Add your code here, and delete this.\")\n",
    "        if response['valid'] is False:# ignore invalid messages\n",
    "            continue\n",
    "        else:\n",
    "            # get glitch_count from response message and check if it is normal\n",
    "            glitch_count = struct.unpack(\"<I\", response['payload'])\n",
    "            #print(glitch_count[0])\n",
    "            \n",
    "            # raise NotImplementedError(\"Add your code here, and delete this.\")\n",
    "            if glitch_count[0] == 2500:\n",
    "                 gc.add(\"normal\", (scope.glitch.width, scope.glitch.offset))\n",
    "            else: # glitch successful :)\n",
    "                gc.add(\"success\", (scope.glitch.width, scope.glitch.offset))"
   ]
  },
  {
   "cell_type": "markdown",
   "id": "double-conviction",
   "metadata": {},
   "source": [
    "Next: visualize the glitch settings in a two dimensional view."
   ]
  },
  {
   "cell_type": "code",
   "execution_count": 13,
   "id": "available-sword",
   "metadata": {
    "deletable": false,
    "editable": false
   },
   "outputs": [
    {
     "data": {
      "application/javascript": [
       "/* Put everything inside the global mpl namespace */\n",
       "/* global mpl */\n",
       "window.mpl = {};\n",
       "\n",
       "mpl.get_websocket_type = function () {\n",
       "    if (typeof WebSocket !== 'undefined') {\n",
       "        return WebSocket;\n",
       "    } else if (typeof MozWebSocket !== 'undefined') {\n",
       "        return MozWebSocket;\n",
       "    } else {\n",
       "        alert(\n",
       "            'Your browser does not have WebSocket support. ' +\n",
       "                'Please try Chrome, Safari or Firefox ≥ 6. ' +\n",
       "                'Firefox 4 and 5 are also supported but you ' +\n",
       "                'have to enable WebSockets in about:config.'\n",
       "        );\n",
       "    }\n",
       "};\n",
       "\n",
       "mpl.figure = function (figure_id, websocket, ondownload, parent_element) {\n",
       "    this.id = figure_id;\n",
       "\n",
       "    this.ws = websocket;\n",
       "\n",
       "    this.supports_binary = this.ws.binaryType !== undefined;\n",
       "\n",
       "    if (!this.supports_binary) {\n",
       "        var warnings = document.getElementById('mpl-warnings');\n",
       "        if (warnings) {\n",
       "            warnings.style.display = 'block';\n",
       "            warnings.textContent =\n",
       "                'This browser does not support binary websocket messages. ' +\n",
       "                'Performance may be slow.';\n",
       "        }\n",
       "    }\n",
       "\n",
       "    this.imageObj = new Image();\n",
       "\n",
       "    this.context = undefined;\n",
       "    this.message = undefined;\n",
       "    this.canvas = undefined;\n",
       "    this.rubberband_canvas = undefined;\n",
       "    this.rubberband_context = undefined;\n",
       "    this.format_dropdown = undefined;\n",
       "\n",
       "    this.image_mode = 'full';\n",
       "\n",
       "    this.root = document.createElement('div');\n",
       "    this.root.setAttribute('style', 'display: inline-block');\n",
       "    this._root_extra_style(this.root);\n",
       "\n",
       "    parent_element.appendChild(this.root);\n",
       "\n",
       "    this._init_header(this);\n",
       "    this._init_canvas(this);\n",
       "    this._init_toolbar(this);\n",
       "\n",
       "    var fig = this;\n",
       "\n",
       "    this.waiting = false;\n",
       "\n",
       "    this.ws.onopen = function () {\n",
       "        fig.send_message('supports_binary', { value: fig.supports_binary });\n",
       "        fig.send_message('send_image_mode', {});\n",
       "        if (fig.ratio !== 1) {\n",
       "            fig.send_message('set_device_pixel_ratio', {\n",
       "                device_pixel_ratio: fig.ratio,\n",
       "            });\n",
       "        }\n",
       "        fig.send_message('refresh', {});\n",
       "    };\n",
       "\n",
       "    this.imageObj.onload = function () {\n",
       "        if (fig.image_mode === 'full') {\n",
       "            // Full images could contain transparency (where diff images\n",
       "            // almost always do), so we need to clear the canvas so that\n",
       "            // there is no ghosting.\n",
       "            fig.context.clearRect(0, 0, fig.canvas.width, fig.canvas.height);\n",
       "        }\n",
       "        fig.context.drawImage(fig.imageObj, 0, 0);\n",
       "    };\n",
       "\n",
       "    this.imageObj.onunload = function () {\n",
       "        fig.ws.close();\n",
       "    };\n",
       "\n",
       "    this.ws.onmessage = this._make_on_message_function(this);\n",
       "\n",
       "    this.ondownload = ondownload;\n",
       "};\n",
       "\n",
       "mpl.figure.prototype._init_header = function () {\n",
       "    var titlebar = document.createElement('div');\n",
       "    titlebar.classList =\n",
       "        'ui-dialog-titlebar ui-widget-header ui-corner-all ui-helper-clearfix';\n",
       "    var titletext = document.createElement('div');\n",
       "    titletext.classList = 'ui-dialog-title';\n",
       "    titletext.setAttribute(\n",
       "        'style',\n",
       "        'width: 100%; text-align: center; padding: 3px;'\n",
       "    );\n",
       "    titlebar.appendChild(titletext);\n",
       "    this.root.appendChild(titlebar);\n",
       "    this.header = titletext;\n",
       "};\n",
       "\n",
       "mpl.figure.prototype._canvas_extra_style = function (_canvas_div) {};\n",
       "\n",
       "mpl.figure.prototype._root_extra_style = function (_canvas_div) {};\n",
       "\n",
       "mpl.figure.prototype._init_canvas = function () {\n",
       "    var fig = this;\n",
       "\n",
       "    var canvas_div = (this.canvas_div = document.createElement('div'));\n",
       "    canvas_div.setAttribute(\n",
       "        'style',\n",
       "        'border: 1px solid #ddd;' +\n",
       "            'box-sizing: content-box;' +\n",
       "            'clear: both;' +\n",
       "            'min-height: 1px;' +\n",
       "            'min-width: 1px;' +\n",
       "            'outline: 0;' +\n",
       "            'overflow: hidden;' +\n",
       "            'position: relative;' +\n",
       "            'resize: both;'\n",
       "    );\n",
       "\n",
       "    function on_keyboard_event_closure(name) {\n",
       "        return function (event) {\n",
       "            return fig.key_event(event, name);\n",
       "        };\n",
       "    }\n",
       "\n",
       "    canvas_div.addEventListener(\n",
       "        'keydown',\n",
       "        on_keyboard_event_closure('key_press')\n",
       "    );\n",
       "    canvas_div.addEventListener(\n",
       "        'keyup',\n",
       "        on_keyboard_event_closure('key_release')\n",
       "    );\n",
       "\n",
       "    this._canvas_extra_style(canvas_div);\n",
       "    this.root.appendChild(canvas_div);\n",
       "\n",
       "    var canvas = (this.canvas = document.createElement('canvas'));\n",
       "    canvas.classList.add('mpl-canvas');\n",
       "    canvas.setAttribute('style', 'box-sizing: content-box;');\n",
       "\n",
       "    this.context = canvas.getContext('2d');\n",
       "\n",
       "    var backingStore =\n",
       "        this.context.backingStorePixelRatio ||\n",
       "        this.context.webkitBackingStorePixelRatio ||\n",
       "        this.context.mozBackingStorePixelRatio ||\n",
       "        this.context.msBackingStorePixelRatio ||\n",
       "        this.context.oBackingStorePixelRatio ||\n",
       "        this.context.backingStorePixelRatio ||\n",
       "        1;\n",
       "\n",
       "    this.ratio = (window.devicePixelRatio || 1) / backingStore;\n",
       "\n",
       "    var rubberband_canvas = (this.rubberband_canvas = document.createElement(\n",
       "        'canvas'\n",
       "    ));\n",
       "    rubberband_canvas.setAttribute(\n",
       "        'style',\n",
       "        'box-sizing: content-box; position: absolute; left: 0; top: 0; z-index: 1;'\n",
       "    );\n",
       "\n",
       "    // Apply a ponyfill if ResizeObserver is not implemented by browser.\n",
       "    if (this.ResizeObserver === undefined) {\n",
       "        if (window.ResizeObserver !== undefined) {\n",
       "            this.ResizeObserver = window.ResizeObserver;\n",
       "        } else {\n",
       "            var obs = _JSXTOOLS_RESIZE_OBSERVER({});\n",
       "            this.ResizeObserver = obs.ResizeObserver;\n",
       "        }\n",
       "    }\n",
       "\n",
       "    this.resizeObserverInstance = new this.ResizeObserver(function (entries) {\n",
       "        var nentries = entries.length;\n",
       "        for (var i = 0; i < nentries; i++) {\n",
       "            var entry = entries[i];\n",
       "            var width, height;\n",
       "            if (entry.contentBoxSize) {\n",
       "                if (entry.contentBoxSize instanceof Array) {\n",
       "                    // Chrome 84 implements new version of spec.\n",
       "                    width = entry.contentBoxSize[0].inlineSize;\n",
       "                    height = entry.contentBoxSize[0].blockSize;\n",
       "                } else {\n",
       "                    // Firefox implements old version of spec.\n",
       "                    width = entry.contentBoxSize.inlineSize;\n",
       "                    height = entry.contentBoxSize.blockSize;\n",
       "                }\n",
       "            } else {\n",
       "                // Chrome <84 implements even older version of spec.\n",
       "                width = entry.contentRect.width;\n",
       "                height = entry.contentRect.height;\n",
       "            }\n",
       "\n",
       "            // Keep the size of the canvas and rubber band canvas in sync with\n",
       "            // the canvas container.\n",
       "            if (entry.devicePixelContentBoxSize) {\n",
       "                // Chrome 84 implements new version of spec.\n",
       "                canvas.setAttribute(\n",
       "                    'width',\n",
       "                    entry.devicePixelContentBoxSize[0].inlineSize\n",
       "                );\n",
       "                canvas.setAttribute(\n",
       "                    'height',\n",
       "                    entry.devicePixelContentBoxSize[0].blockSize\n",
       "                );\n",
       "            } else {\n",
       "                canvas.setAttribute('width', width * fig.ratio);\n",
       "                canvas.setAttribute('height', height * fig.ratio);\n",
       "            }\n",
       "            canvas.setAttribute(\n",
       "                'style',\n",
       "                'width: ' + width + 'px; height: ' + height + 'px;'\n",
       "            );\n",
       "\n",
       "            rubberband_canvas.setAttribute('width', width);\n",
       "            rubberband_canvas.setAttribute('height', height);\n",
       "\n",
       "            // And update the size in Python. We ignore the initial 0/0 size\n",
       "            // that occurs as the element is placed into the DOM, which should\n",
       "            // otherwise not happen due to the minimum size styling.\n",
       "            if (fig.ws.readyState == 1 && width != 0 && height != 0) {\n",
       "                fig.request_resize(width, height);\n",
       "            }\n",
       "        }\n",
       "    });\n",
       "    this.resizeObserverInstance.observe(canvas_div);\n",
       "\n",
       "    function on_mouse_event_closure(name) {\n",
       "        return function (event) {\n",
       "            return fig.mouse_event(event, name);\n",
       "        };\n",
       "    }\n",
       "\n",
       "    rubberband_canvas.addEventListener(\n",
       "        'mousedown',\n",
       "        on_mouse_event_closure('button_press')\n",
       "    );\n",
       "    rubberband_canvas.addEventListener(\n",
       "        'mouseup',\n",
       "        on_mouse_event_closure('button_release')\n",
       "    );\n",
       "    rubberband_canvas.addEventListener(\n",
       "        'dblclick',\n",
       "        on_mouse_event_closure('dblclick')\n",
       "    );\n",
       "    // Throttle sequential mouse events to 1 every 20ms.\n",
       "    rubberband_canvas.addEventListener(\n",
       "        'mousemove',\n",
       "        on_mouse_event_closure('motion_notify')\n",
       "    );\n",
       "\n",
       "    rubberband_canvas.addEventListener(\n",
       "        'mouseenter',\n",
       "        on_mouse_event_closure('figure_enter')\n",
       "    );\n",
       "    rubberband_canvas.addEventListener(\n",
       "        'mouseleave',\n",
       "        on_mouse_event_closure('figure_leave')\n",
       "    );\n",
       "\n",
       "    canvas_div.addEventListener('wheel', function (event) {\n",
       "        if (event.deltaY < 0) {\n",
       "            event.step = 1;\n",
       "        } else {\n",
       "            event.step = -1;\n",
       "        }\n",
       "        on_mouse_event_closure('scroll')(event);\n",
       "    });\n",
       "\n",
       "    canvas_div.appendChild(canvas);\n",
       "    canvas_div.appendChild(rubberband_canvas);\n",
       "\n",
       "    this.rubberband_context = rubberband_canvas.getContext('2d');\n",
       "    this.rubberband_context.strokeStyle = '#000000';\n",
       "\n",
       "    this._resize_canvas = function (width, height, forward) {\n",
       "        if (forward) {\n",
       "            canvas_div.style.width = width + 'px';\n",
       "            canvas_div.style.height = height + 'px';\n",
       "        }\n",
       "    };\n",
       "\n",
       "    // Disable right mouse context menu.\n",
       "    this.rubberband_canvas.addEventListener('contextmenu', function (_e) {\n",
       "        event.preventDefault();\n",
       "        return false;\n",
       "    });\n",
       "\n",
       "    function set_focus() {\n",
       "        canvas.focus();\n",
       "        canvas_div.focus();\n",
       "    }\n",
       "\n",
       "    window.setTimeout(set_focus, 100);\n",
       "};\n",
       "\n",
       "mpl.figure.prototype._init_toolbar = function () {\n",
       "    var fig = this;\n",
       "\n",
       "    var toolbar = document.createElement('div');\n",
       "    toolbar.classList = 'mpl-toolbar';\n",
       "    this.root.appendChild(toolbar);\n",
       "\n",
       "    function on_click_closure(name) {\n",
       "        return function (_event) {\n",
       "            return fig.toolbar_button_onclick(name);\n",
       "        };\n",
       "    }\n",
       "\n",
       "    function on_mouseover_closure(tooltip) {\n",
       "        return function (event) {\n",
       "            if (!event.currentTarget.disabled) {\n",
       "                return fig.toolbar_button_onmouseover(tooltip);\n",
       "            }\n",
       "        };\n",
       "    }\n",
       "\n",
       "    fig.buttons = {};\n",
       "    var buttonGroup = document.createElement('div');\n",
       "    buttonGroup.classList = 'mpl-button-group';\n",
       "    for (var toolbar_ind in mpl.toolbar_items) {\n",
       "        var name = mpl.toolbar_items[toolbar_ind][0];\n",
       "        var tooltip = mpl.toolbar_items[toolbar_ind][1];\n",
       "        var image = mpl.toolbar_items[toolbar_ind][2];\n",
       "        var method_name = mpl.toolbar_items[toolbar_ind][3];\n",
       "\n",
       "        if (!name) {\n",
       "            /* Instead of a spacer, we start a new button group. */\n",
       "            if (buttonGroup.hasChildNodes()) {\n",
       "                toolbar.appendChild(buttonGroup);\n",
       "            }\n",
       "            buttonGroup = document.createElement('div');\n",
       "            buttonGroup.classList = 'mpl-button-group';\n",
       "            continue;\n",
       "        }\n",
       "\n",
       "        var button = (fig.buttons[name] = document.createElement('button'));\n",
       "        button.classList = 'mpl-widget';\n",
       "        button.setAttribute('role', 'button');\n",
       "        button.setAttribute('aria-disabled', 'false');\n",
       "        button.addEventListener('click', on_click_closure(method_name));\n",
       "        button.addEventListener('mouseover', on_mouseover_closure(tooltip));\n",
       "\n",
       "        var icon_img = document.createElement('img');\n",
       "        icon_img.src = '_images/' + image + '.png';\n",
       "        icon_img.srcset = '_images/' + image + '_large.png 2x';\n",
       "        icon_img.alt = tooltip;\n",
       "        button.appendChild(icon_img);\n",
       "\n",
       "        buttonGroup.appendChild(button);\n",
       "    }\n",
       "\n",
       "    if (buttonGroup.hasChildNodes()) {\n",
       "        toolbar.appendChild(buttonGroup);\n",
       "    }\n",
       "\n",
       "    var fmt_picker = document.createElement('select');\n",
       "    fmt_picker.classList = 'mpl-widget';\n",
       "    toolbar.appendChild(fmt_picker);\n",
       "    this.format_dropdown = fmt_picker;\n",
       "\n",
       "    for (var ind in mpl.extensions) {\n",
       "        var fmt = mpl.extensions[ind];\n",
       "        var option = document.createElement('option');\n",
       "        option.selected = fmt === mpl.default_extension;\n",
       "        option.innerHTML = fmt;\n",
       "        fmt_picker.appendChild(option);\n",
       "    }\n",
       "\n",
       "    var status_bar = document.createElement('span');\n",
       "    status_bar.classList = 'mpl-message';\n",
       "    toolbar.appendChild(status_bar);\n",
       "    this.message = status_bar;\n",
       "};\n",
       "\n",
       "mpl.figure.prototype.request_resize = function (x_pixels, y_pixels) {\n",
       "    // Request matplotlib to resize the figure. Matplotlib will then trigger a resize in the client,\n",
       "    // which will in turn request a refresh of the image.\n",
       "    this.send_message('resize', { width: x_pixels, height: y_pixels });\n",
       "};\n",
       "\n",
       "mpl.figure.prototype.send_message = function (type, properties) {\n",
       "    properties['type'] = type;\n",
       "    properties['figure_id'] = this.id;\n",
       "    this.ws.send(JSON.stringify(properties));\n",
       "};\n",
       "\n",
       "mpl.figure.prototype.send_draw_message = function () {\n",
       "    if (!this.waiting) {\n",
       "        this.waiting = true;\n",
       "        this.ws.send(JSON.stringify({ type: 'draw', figure_id: this.id }));\n",
       "    }\n",
       "};\n",
       "\n",
       "mpl.figure.prototype.handle_save = function (fig, _msg) {\n",
       "    var format_dropdown = fig.format_dropdown;\n",
       "    var format = format_dropdown.options[format_dropdown.selectedIndex].value;\n",
       "    fig.ondownload(fig, format);\n",
       "};\n",
       "\n",
       "mpl.figure.prototype.handle_resize = function (fig, msg) {\n",
       "    var size = msg['size'];\n",
       "    if (size[0] !== fig.canvas.width || size[1] !== fig.canvas.height) {\n",
       "        fig._resize_canvas(size[0], size[1], msg['forward']);\n",
       "        fig.send_message('refresh', {});\n",
       "    }\n",
       "};\n",
       "\n",
       "mpl.figure.prototype.handle_rubberband = function (fig, msg) {\n",
       "    var x0 = msg['x0'] / fig.ratio;\n",
       "    var y0 = (fig.canvas.height - msg['y0']) / fig.ratio;\n",
       "    var x1 = msg['x1'] / fig.ratio;\n",
       "    var y1 = (fig.canvas.height - msg['y1']) / fig.ratio;\n",
       "    x0 = Math.floor(x0) + 0.5;\n",
       "    y0 = Math.floor(y0) + 0.5;\n",
       "    x1 = Math.floor(x1) + 0.5;\n",
       "    y1 = Math.floor(y1) + 0.5;\n",
       "    var min_x = Math.min(x0, x1);\n",
       "    var min_y = Math.min(y0, y1);\n",
       "    var width = Math.abs(x1 - x0);\n",
       "    var height = Math.abs(y1 - y0);\n",
       "\n",
       "    fig.rubberband_context.clearRect(\n",
       "        0,\n",
       "        0,\n",
       "        fig.canvas.width / fig.ratio,\n",
       "        fig.canvas.height / fig.ratio\n",
       "    );\n",
       "\n",
       "    fig.rubberband_context.strokeRect(min_x, min_y, width, height);\n",
       "};\n",
       "\n",
       "mpl.figure.prototype.handle_figure_label = function (fig, msg) {\n",
       "    // Updates the figure title.\n",
       "    fig.header.textContent = msg['label'];\n",
       "};\n",
       "\n",
       "mpl.figure.prototype.handle_cursor = function (fig, msg) {\n",
       "    fig.rubberband_canvas.style.cursor = msg['cursor'];\n",
       "};\n",
       "\n",
       "mpl.figure.prototype.handle_message = function (fig, msg) {\n",
       "    fig.message.textContent = msg['message'];\n",
       "};\n",
       "\n",
       "mpl.figure.prototype.handle_draw = function (fig, _msg) {\n",
       "    // Request the server to send over a new figure.\n",
       "    fig.send_draw_message();\n",
       "};\n",
       "\n",
       "mpl.figure.prototype.handle_image_mode = function (fig, msg) {\n",
       "    fig.image_mode = msg['mode'];\n",
       "};\n",
       "\n",
       "mpl.figure.prototype.handle_history_buttons = function (fig, msg) {\n",
       "    for (var key in msg) {\n",
       "        if (!(key in fig.buttons)) {\n",
       "            continue;\n",
       "        }\n",
       "        fig.buttons[key].disabled = !msg[key];\n",
       "        fig.buttons[key].setAttribute('aria-disabled', !msg[key]);\n",
       "    }\n",
       "};\n",
       "\n",
       "mpl.figure.prototype.handle_navigate_mode = function (fig, msg) {\n",
       "    if (msg['mode'] === 'PAN') {\n",
       "        fig.buttons['Pan'].classList.add('active');\n",
       "        fig.buttons['Zoom'].classList.remove('active');\n",
       "    } else if (msg['mode'] === 'ZOOM') {\n",
       "        fig.buttons['Pan'].classList.remove('active');\n",
       "        fig.buttons['Zoom'].classList.add('active');\n",
       "    } else {\n",
       "        fig.buttons['Pan'].classList.remove('active');\n",
       "        fig.buttons['Zoom'].classList.remove('active');\n",
       "    }\n",
       "};\n",
       "\n",
       "mpl.figure.prototype.updated_canvas_event = function () {\n",
       "    // Called whenever the canvas gets updated.\n",
       "    this.send_message('ack', {});\n",
       "};\n",
       "\n",
       "// A function to construct a web socket function for onmessage handling.\n",
       "// Called in the figure constructor.\n",
       "mpl.figure.prototype._make_on_message_function = function (fig) {\n",
       "    return function socket_on_message(evt) {\n",
       "        if (evt.data instanceof Blob) {\n",
       "            var img = evt.data;\n",
       "            if (img.type !== 'image/png') {\n",
       "                /* FIXME: We get \"Resource interpreted as Image but\n",
       "                 * transferred with MIME type text/plain:\" errors on\n",
       "                 * Chrome.  But how to set the MIME type?  It doesn't seem\n",
       "                 * to be part of the websocket stream */\n",
       "                img.type = 'image/png';\n",
       "            }\n",
       "\n",
       "            /* Free the memory for the previous frames */\n",
       "            if (fig.imageObj.src) {\n",
       "                (window.URL || window.webkitURL).revokeObjectURL(\n",
       "                    fig.imageObj.src\n",
       "                );\n",
       "            }\n",
       "\n",
       "            fig.imageObj.src = (window.URL || window.webkitURL).createObjectURL(\n",
       "                img\n",
       "            );\n",
       "            fig.updated_canvas_event();\n",
       "            fig.waiting = false;\n",
       "            return;\n",
       "        } else if (\n",
       "            typeof evt.data === 'string' &&\n",
       "            evt.data.slice(0, 21) === 'data:image/png;base64'\n",
       "        ) {\n",
       "            fig.imageObj.src = evt.data;\n",
       "            fig.updated_canvas_event();\n",
       "            fig.waiting = false;\n",
       "            return;\n",
       "        }\n",
       "\n",
       "        var msg = JSON.parse(evt.data);\n",
       "        var msg_type = msg['type'];\n",
       "\n",
       "        // Call the  \"handle_{type}\" callback, which takes\n",
       "        // the figure and JSON message as its only arguments.\n",
       "        try {\n",
       "            var callback = fig['handle_' + msg_type];\n",
       "        } catch (e) {\n",
       "            console.log(\n",
       "                \"No handler for the '\" + msg_type + \"' message type: \",\n",
       "                msg\n",
       "            );\n",
       "            return;\n",
       "        }\n",
       "\n",
       "        if (callback) {\n",
       "            try {\n",
       "                // console.log(\"Handling '\" + msg_type + \"' message: \", msg);\n",
       "                callback(fig, msg);\n",
       "            } catch (e) {\n",
       "                console.log(\n",
       "                    \"Exception inside the 'handler_\" + msg_type + \"' callback:\",\n",
       "                    e,\n",
       "                    e.stack,\n",
       "                    msg\n",
       "                );\n",
       "            }\n",
       "        }\n",
       "    };\n",
       "};\n",
       "\n",
       "// from https://stackoverflow.com/questions/1114465/getting-mouse-location-in-canvas\n",
       "mpl.findpos = function (e) {\n",
       "    //this section is from http://www.quirksmode.org/js/events_properties.html\n",
       "    var targ;\n",
       "    if (!e) {\n",
       "        e = window.event;\n",
       "    }\n",
       "    if (e.target) {\n",
       "        targ = e.target;\n",
       "    } else if (e.srcElement) {\n",
       "        targ = e.srcElement;\n",
       "    }\n",
       "    if (targ.nodeType === 3) {\n",
       "        // defeat Safari bug\n",
       "        targ = targ.parentNode;\n",
       "    }\n",
       "\n",
       "    // pageX,Y are the mouse positions relative to the document\n",
       "    var boundingRect = targ.getBoundingClientRect();\n",
       "    var x = e.pageX - (boundingRect.left + document.body.scrollLeft);\n",
       "    var y = e.pageY - (boundingRect.top + document.body.scrollTop);\n",
       "\n",
       "    return { x: x, y: y };\n",
       "};\n",
       "\n",
       "/*\n",
       " * return a copy of an object with only non-object keys\n",
       " * we need this to avoid circular references\n",
       " * https://stackoverflow.com/a/24161582/3208463\n",
       " */\n",
       "function simpleKeys(original) {\n",
       "    return Object.keys(original).reduce(function (obj, key) {\n",
       "        if (typeof original[key] !== 'object') {\n",
       "            obj[key] = original[key];\n",
       "        }\n",
       "        return obj;\n",
       "    }, {});\n",
       "}\n",
       "\n",
       "mpl.figure.prototype.mouse_event = function (event, name) {\n",
       "    var canvas_pos = mpl.findpos(event);\n",
       "\n",
       "    if (name === 'button_press') {\n",
       "        this.canvas.focus();\n",
       "        this.canvas_div.focus();\n",
       "    }\n",
       "\n",
       "    var x = canvas_pos.x * this.ratio;\n",
       "    var y = canvas_pos.y * this.ratio;\n",
       "\n",
       "    this.send_message(name, {\n",
       "        x: x,\n",
       "        y: y,\n",
       "        button: event.button,\n",
       "        step: event.step,\n",
       "        guiEvent: simpleKeys(event),\n",
       "    });\n",
       "\n",
       "    /* This prevents the web browser from automatically changing to\n",
       "     * the text insertion cursor when the button is pressed.  We want\n",
       "     * to control all of the cursor setting manually through the\n",
       "     * 'cursor' event from matplotlib */\n",
       "    event.preventDefault();\n",
       "    return false;\n",
       "};\n",
       "\n",
       "mpl.figure.prototype._key_event_extra = function (_event, _name) {\n",
       "    // Handle any extra behaviour associated with a key event\n",
       "};\n",
       "\n",
       "mpl.figure.prototype.key_event = function (event, name) {\n",
       "    // Prevent repeat events\n",
       "    if (name === 'key_press') {\n",
       "        if (event.key === this._key) {\n",
       "            return;\n",
       "        } else {\n",
       "            this._key = event.key;\n",
       "        }\n",
       "    }\n",
       "    if (name === 'key_release') {\n",
       "        this._key = null;\n",
       "    }\n",
       "\n",
       "    var value = '';\n",
       "    if (event.ctrlKey && event.key !== 'Control') {\n",
       "        value += 'ctrl+';\n",
       "    }\n",
       "    else if (event.altKey && event.key !== 'Alt') {\n",
       "        value += 'alt+';\n",
       "    }\n",
       "    else if (event.shiftKey && event.key !== 'Shift') {\n",
       "        value += 'shift+';\n",
       "    }\n",
       "\n",
       "    value += 'k' + event.key;\n",
       "\n",
       "    this._key_event_extra(event, name);\n",
       "\n",
       "    this.send_message(name, { key: value, guiEvent: simpleKeys(event) });\n",
       "    return false;\n",
       "};\n",
       "\n",
       "mpl.figure.prototype.toolbar_button_onclick = function (name) {\n",
       "    if (name === 'download') {\n",
       "        this.handle_save(this, null);\n",
       "    } else {\n",
       "        this.send_message('toolbar_button', { name: name });\n",
       "    }\n",
       "};\n",
       "\n",
       "mpl.figure.prototype.toolbar_button_onmouseover = function (tooltip) {\n",
       "    this.message.textContent = tooltip;\n",
       "};\n",
       "\n",
       "///////////////// REMAINING CONTENT GENERATED BY embed_js.py /////////////////\n",
       "// prettier-ignore\n",
       "var _JSXTOOLS_RESIZE_OBSERVER=function(A){var t,i=new WeakMap,n=new WeakMap,a=new WeakMap,r=new WeakMap,o=new Set;function s(e){if(!(this instanceof s))throw new TypeError(\"Constructor requires 'new' operator\");i.set(this,e)}function h(){throw new TypeError(\"Function is not a constructor\")}function c(e,t,i,n){e=0 in arguments?Number(arguments[0]):0,t=1 in arguments?Number(arguments[1]):0,i=2 in arguments?Number(arguments[2]):0,n=3 in arguments?Number(arguments[3]):0,this.right=(this.x=this.left=e)+(this.width=i),this.bottom=(this.y=this.top=t)+(this.height=n),Object.freeze(this)}function d(){t=requestAnimationFrame(d);var s=new WeakMap,p=new Set;o.forEach((function(t){r.get(t).forEach((function(i){var r=t instanceof window.SVGElement,o=a.get(t),d=r?0:parseFloat(o.paddingTop),f=r?0:parseFloat(o.paddingRight),l=r?0:parseFloat(o.paddingBottom),u=r?0:parseFloat(o.paddingLeft),g=r?0:parseFloat(o.borderTopWidth),m=r?0:parseFloat(o.borderRightWidth),w=r?0:parseFloat(o.borderBottomWidth),b=u+f,F=d+l,v=(r?0:parseFloat(o.borderLeftWidth))+m,W=g+w,y=r?0:t.offsetHeight-W-t.clientHeight,E=r?0:t.offsetWidth-v-t.clientWidth,R=b+v,z=F+W,M=r?t.width:parseFloat(o.width)-R-E,O=r?t.height:parseFloat(o.height)-z-y;if(n.has(t)){var k=n.get(t);if(k[0]===M&&k[1]===O)return}n.set(t,[M,O]);var S=Object.create(h.prototype);S.target=t,S.contentRect=new c(u,d,M,O),s.has(i)||(s.set(i,[]),p.add(i)),s.get(i).push(S)}))})),p.forEach((function(e){i.get(e).call(e,s.get(e),e)}))}return s.prototype.observe=function(i){if(i instanceof window.Element){r.has(i)||(r.set(i,new Set),o.add(i),a.set(i,window.getComputedStyle(i)));var n=r.get(i);n.has(this)||n.add(this),cancelAnimationFrame(t),t=requestAnimationFrame(d)}},s.prototype.unobserve=function(i){if(i instanceof window.Element&&r.has(i)){var n=r.get(i);n.has(this)&&(n.delete(this),n.size||(r.delete(i),o.delete(i))),n.size||r.delete(i),o.size||cancelAnimationFrame(t)}},A.DOMRectReadOnly=c,A.ResizeObserver=s,A.ResizeObserverEntry=h,A}; // eslint-disable-line\n",
       "mpl.toolbar_items = [[\"Home\", \"Reset original view\", \"fa fa-home icon-home\", \"home\"], [\"Back\", \"Back to previous view\", \"fa fa-arrow-left icon-arrow-left\", \"back\"], [\"Forward\", \"Forward to next view\", \"fa fa-arrow-right icon-arrow-right\", \"forward\"], [\"\", \"\", \"\", \"\"], [\"Pan\", \"Left button pans, Right button zooms\\nx/y fixes axis, CTRL fixes aspect\", \"fa fa-arrows icon-move\", \"pan\"], [\"Zoom\", \"Zoom to rectangle\\nx/y fixes axis\", \"fa fa-square-o icon-check-empty\", \"zoom\"], [\"\", \"\", \"\", \"\"], [\"Download\", \"Download plot\", \"fa fa-floppy-o icon-save\", \"download\"]];\n",
       "\n",
       "mpl.extensions = [\"eps\", \"jpeg\", \"pgf\", \"pdf\", \"png\", \"ps\", \"raw\", \"svg\", \"tif\"];\n",
       "\n",
       "mpl.default_extension = \"png\";/* global mpl */\n",
       "\n",
       "var comm_websocket_adapter = function (comm) {\n",
       "    // Create a \"websocket\"-like object which calls the given IPython comm\n",
       "    // object with the appropriate methods. Currently this is a non binary\n",
       "    // socket, so there is still some room for performance tuning.\n",
       "    var ws = {};\n",
       "\n",
       "    ws.binaryType = comm.kernel.ws.binaryType;\n",
       "    ws.readyState = comm.kernel.ws.readyState;\n",
       "    function updateReadyState(_event) {\n",
       "        if (comm.kernel.ws) {\n",
       "            ws.readyState = comm.kernel.ws.readyState;\n",
       "        } else {\n",
       "            ws.readyState = 3; // Closed state.\n",
       "        }\n",
       "    }\n",
       "    comm.kernel.ws.addEventListener('open', updateReadyState);\n",
       "    comm.kernel.ws.addEventListener('close', updateReadyState);\n",
       "    comm.kernel.ws.addEventListener('error', updateReadyState);\n",
       "\n",
       "    ws.close = function () {\n",
       "        comm.close();\n",
       "    };\n",
       "    ws.send = function (m) {\n",
       "        //console.log('sending', m);\n",
       "        comm.send(m);\n",
       "    };\n",
       "    // Register the callback with on_msg.\n",
       "    comm.on_msg(function (msg) {\n",
       "        //console.log('receiving', msg['content']['data'], msg);\n",
       "        var data = msg['content']['data'];\n",
       "        if (data['blob'] !== undefined) {\n",
       "            data = {\n",
       "                data: new Blob(msg['buffers'], { type: data['blob'] }),\n",
       "            };\n",
       "        }\n",
       "        // Pass the mpl event to the overridden (by mpl) onmessage function.\n",
       "        ws.onmessage(data);\n",
       "    });\n",
       "    return ws;\n",
       "};\n",
       "\n",
       "mpl.mpl_figure_comm = function (comm, msg) {\n",
       "    // This is the function which gets called when the mpl process\n",
       "    // starts-up an IPython Comm through the \"matplotlib\" channel.\n",
       "\n",
       "    var id = msg.content.data.id;\n",
       "    // Get hold of the div created by the display call when the Comm\n",
       "    // socket was opened in Python.\n",
       "    var element = document.getElementById(id);\n",
       "    var ws_proxy = comm_websocket_adapter(comm);\n",
       "\n",
       "    function ondownload(figure, _format) {\n",
       "        window.open(figure.canvas.toDataURL());\n",
       "    }\n",
       "\n",
       "    var fig = new mpl.figure(id, ws_proxy, ondownload, element);\n",
       "\n",
       "    // Call onopen now - mpl needs it, as it is assuming we've passed it a real\n",
       "    // web socket which is closed, not our websocket->open comm proxy.\n",
       "    ws_proxy.onopen();\n",
       "\n",
       "    fig.parent_element = element;\n",
       "    fig.cell_info = mpl.find_output_cell(\"<div id='\" + id + \"'></div>\");\n",
       "    if (!fig.cell_info) {\n",
       "        console.error('Failed to find cell for figure', id, fig);\n",
       "        return;\n",
       "    }\n",
       "    fig.cell_info[0].output_area.element.on(\n",
       "        'cleared',\n",
       "        { fig: fig },\n",
       "        fig._remove_fig_handler\n",
       "    );\n",
       "};\n",
       "\n",
       "mpl.figure.prototype.handle_close = function (fig, msg) {\n",
       "    var width = fig.canvas.width / fig.ratio;\n",
       "    fig.cell_info[0].output_area.element.off(\n",
       "        'cleared',\n",
       "        fig._remove_fig_handler\n",
       "    );\n",
       "    fig.resizeObserverInstance.unobserve(fig.canvas_div);\n",
       "\n",
       "    // Update the output cell to use the data from the current canvas.\n",
       "    fig.push_to_output();\n",
       "    var dataURL = fig.canvas.toDataURL();\n",
       "    // Re-enable the keyboard manager in IPython - without this line, in FF,\n",
       "    // the notebook keyboard shortcuts fail.\n",
       "    IPython.keyboard_manager.enable();\n",
       "    fig.parent_element.innerHTML =\n",
       "        '<img src=\"' + dataURL + '\" width=\"' + width + '\">';\n",
       "    fig.close_ws(fig, msg);\n",
       "};\n",
       "\n",
       "mpl.figure.prototype.close_ws = function (fig, msg) {\n",
       "    fig.send_message('closing', msg);\n",
       "    // fig.ws.close()\n",
       "};\n",
       "\n",
       "mpl.figure.prototype.push_to_output = function (_remove_interactive) {\n",
       "    // Turn the data on the canvas into data in the output cell.\n",
       "    var width = this.canvas.width / this.ratio;\n",
       "    var dataURL = this.canvas.toDataURL();\n",
       "    this.cell_info[1]['text/html'] =\n",
       "        '<img src=\"' + dataURL + '\" width=\"' + width + '\">';\n",
       "};\n",
       "\n",
       "mpl.figure.prototype.updated_canvas_event = function () {\n",
       "    // Tell IPython that the notebook contents must change.\n",
       "    IPython.notebook.set_dirty(true);\n",
       "    this.send_message('ack', {});\n",
       "    var fig = this;\n",
       "    // Wait a second, then push the new image to the DOM so\n",
       "    // that it is saved nicely (might be nice to debounce this).\n",
       "    setTimeout(function () {\n",
       "        fig.push_to_output();\n",
       "    }, 1000);\n",
       "};\n",
       "\n",
       "mpl.figure.prototype._init_toolbar = function () {\n",
       "    var fig = this;\n",
       "\n",
       "    var toolbar = document.createElement('div');\n",
       "    toolbar.classList = 'btn-toolbar';\n",
       "    this.root.appendChild(toolbar);\n",
       "\n",
       "    function on_click_closure(name) {\n",
       "        return function (_event) {\n",
       "            return fig.toolbar_button_onclick(name);\n",
       "        };\n",
       "    }\n",
       "\n",
       "    function on_mouseover_closure(tooltip) {\n",
       "        return function (event) {\n",
       "            if (!event.currentTarget.disabled) {\n",
       "                return fig.toolbar_button_onmouseover(tooltip);\n",
       "            }\n",
       "        };\n",
       "    }\n",
       "\n",
       "    fig.buttons = {};\n",
       "    var buttonGroup = document.createElement('div');\n",
       "    buttonGroup.classList = 'btn-group';\n",
       "    var button;\n",
       "    for (var toolbar_ind in mpl.toolbar_items) {\n",
       "        var name = mpl.toolbar_items[toolbar_ind][0];\n",
       "        var tooltip = mpl.toolbar_items[toolbar_ind][1];\n",
       "        var image = mpl.toolbar_items[toolbar_ind][2];\n",
       "        var method_name = mpl.toolbar_items[toolbar_ind][3];\n",
       "\n",
       "        if (!name) {\n",
       "            /* Instead of a spacer, we start a new button group. */\n",
       "            if (buttonGroup.hasChildNodes()) {\n",
       "                toolbar.appendChild(buttonGroup);\n",
       "            }\n",
       "            buttonGroup = document.createElement('div');\n",
       "            buttonGroup.classList = 'btn-group';\n",
       "            continue;\n",
       "        }\n",
       "\n",
       "        button = fig.buttons[name] = document.createElement('button');\n",
       "        button.classList = 'btn btn-default';\n",
       "        button.href = '#';\n",
       "        button.title = name;\n",
       "        button.innerHTML = '<i class=\"fa ' + image + ' fa-lg\"></i>';\n",
       "        button.addEventListener('click', on_click_closure(method_name));\n",
       "        button.addEventListener('mouseover', on_mouseover_closure(tooltip));\n",
       "        buttonGroup.appendChild(button);\n",
       "    }\n",
       "\n",
       "    if (buttonGroup.hasChildNodes()) {\n",
       "        toolbar.appendChild(buttonGroup);\n",
       "    }\n",
       "\n",
       "    // Add the status bar.\n",
       "    var status_bar = document.createElement('span');\n",
       "    status_bar.classList = 'mpl-message pull-right';\n",
       "    toolbar.appendChild(status_bar);\n",
       "    this.message = status_bar;\n",
       "\n",
       "    // Add the close button to the window.\n",
       "    var buttongrp = document.createElement('div');\n",
       "    buttongrp.classList = 'btn-group inline pull-right';\n",
       "    button = document.createElement('button');\n",
       "    button.classList = 'btn btn-mini btn-primary';\n",
       "    button.href = '#';\n",
       "    button.title = 'Stop Interaction';\n",
       "    button.innerHTML = '<i class=\"fa fa-power-off icon-remove icon-large\"></i>';\n",
       "    button.addEventListener('click', function (_evt) {\n",
       "        fig.handle_close(fig, {});\n",
       "    });\n",
       "    button.addEventListener(\n",
       "        'mouseover',\n",
       "        on_mouseover_closure('Stop Interaction')\n",
       "    );\n",
       "    buttongrp.appendChild(button);\n",
       "    var titlebar = this.root.querySelector('.ui-dialog-titlebar');\n",
       "    titlebar.insertBefore(buttongrp, titlebar.firstChild);\n",
       "};\n",
       "\n",
       "mpl.figure.prototype._remove_fig_handler = function (event) {\n",
       "    var fig = event.data.fig;\n",
       "    if (event.target !== this) {\n",
       "        // Ignore bubbled events from children.\n",
       "        return;\n",
       "    }\n",
       "    fig.close_ws(fig, {});\n",
       "};\n",
       "\n",
       "mpl.figure.prototype._root_extra_style = function (el) {\n",
       "    el.style.boxSizing = 'content-box'; // override notebook setting of border-box.\n",
       "};\n",
       "\n",
       "mpl.figure.prototype._canvas_extra_style = function (el) {\n",
       "    // this is important to make the div 'focusable\n",
       "    el.setAttribute('tabindex', 0);\n",
       "    // reach out to IPython and tell the keyboard manager to turn it's self\n",
       "    // off when our div gets focus\n",
       "\n",
       "    // location in version 3\n",
       "    if (IPython.notebook.keyboard_manager) {\n",
       "        IPython.notebook.keyboard_manager.register_events(el);\n",
       "    } else {\n",
       "        // location in version 2\n",
       "        IPython.keyboard_manager.register_events(el);\n",
       "    }\n",
       "};\n",
       "\n",
       "mpl.figure.prototype._key_event_extra = function (event, _name) {\n",
       "    // Check for shift+enter\n",
       "    if (event.shiftKey && event.which === 13) {\n",
       "        this.canvas_div.blur();\n",
       "        // select the cell after this one\n",
       "        var index = IPython.notebook.find_cell_index(this.cell_info[0]);\n",
       "        IPython.notebook.select(index + 1);\n",
       "    }\n",
       "};\n",
       "\n",
       "mpl.figure.prototype.handle_save = function (fig, _msg) {\n",
       "    fig.ondownload(fig, null);\n",
       "};\n",
       "\n",
       "mpl.find_output_cell = function (html_output) {\n",
       "    // Return the cell and output element which can be found *uniquely* in the notebook.\n",
       "    // Note - this is a bit hacky, but it is done because the \"notebook_saving.Notebook\"\n",
       "    // IPython event is triggered only after the cells have been serialised, which for\n",
       "    // our purposes (turning an active figure into a static one), is too late.\n",
       "    var cells = IPython.notebook.get_cells();\n",
       "    var ncells = cells.length;\n",
       "    for (var i = 0; i < ncells; i++) {\n",
       "        var cell = cells[i];\n",
       "        if (cell.cell_type === 'code') {\n",
       "            for (var j = 0; j < cell.output_area.outputs.length; j++) {\n",
       "                var data = cell.output_area.outputs[j];\n",
       "                if (data.data) {\n",
       "                    // IPython >= 3 moved mimebundle to data attribute of output\n",
       "                    data = data.data;\n",
       "                }\n",
       "                if (data['text/html'] === html_output) {\n",
       "                    return [cell, data, j];\n",
       "                }\n",
       "            }\n",
       "        }\n",
       "    }\n",
       "};\n",
       "\n",
       "// Register the function which deals with the matplotlib target/channel.\n",
       "// The kernel may be null if the page has been refreshed.\n",
       "if (IPython.notebook.kernel !== null) {\n",
       "    IPython.notebook.kernel.comm_manager.register_target(\n",
       "        'matplotlib',\n",
       "        mpl.mpl_figure_comm\n",
       "    );\n",
       "}\n"
      ],
      "text/plain": [
       "<IPython.core.display.Javascript object>"
      ]
     },
     "metadata": {},
     "output_type": "display_data"
    },
    {
     "data": {
      "text/html": [
       "<img src=\"data:image/png;base64,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\" width=\"640\">"
      ],
      "text/plain": [
       "<IPython.core.display.HTML object>"
      ]
     },
     "metadata": {},
     "output_type": "display_data"
    }
   ],
   "source": [
    "%matplotlib notebook\n",
    "gc.results.plot_2d(plotdots={\"success\":\"+g\", \"reset\":\"xr\", \"normal\": None})"
   ]
  },
  {
   "cell_type": "markdown",
   "id": "plastic-pepper",
   "metadata": {},
   "source": [
    "<div>\n",
    "<img src=\"images/question_darkblue.png\" align=\"left\" width=\"24\" height=\"24\"/>\n",
    "<span style=\"line-height:24px; margin-left: 0.5em\"><font color=\"darkblue\">What do you notice in the diagram, is there a certain area you would like to have a closer look at?</font></span>\n",
    "</div>"
   ]
  },
  {
   "cell_type": "markdown",
   "id": "blessed-smith",
   "metadata": {},
   "source": [
    "<div>\n",
    "<img src=\"images/write_chocolate.png\" align=\"left\" width=\"24\" height=\"24\"/>\n",
    "<span style=\"line-height:24px; margin-left: 0.5em\"><font color='Chocolate'>\n",
    "<b> Please fill in with your own observations </b>\n",
    "</font></span>\n",
    "</div>"
   ]
  },
  {
   "cell_type": "markdown",
   "id": "protecting-screening",
   "metadata": {},
   "source": [
    "<font color='Chocolate'>\n",
    "replace this line with your observations\n",
    "</font>"
   ]
  },
  {
   "cell_type": "markdown",
   "id": "extended-manchester",
   "metadata": {},
   "source": [
    "<div>\n",
    "<img src=\"images/question_darkblue.png\" align=\"left\" width=\"24\" height=\"24\"/>\n",
    "<span style=\"line-height:24px; margin-left: 0.5em\"><font color=\"darkblue\">Do you think the pattern for successful glitches will differ for:<br>\n",
    "a) Same Microcontroller running a different software?<br>\n",
    "b) Different Microcontroller running the same software?</font></span>\n",
    "</div>"
   ]
  },
  {
   "cell_type": "markdown",
   "id": "embedded-viewer",
   "metadata": {},
   "source": [
    "<div>\n",
    "<img src=\"images/write_chocolate.png\" align=\"left\" width=\"24\" height=\"24\"/>\n",
    "<span style=\"line-height:24px; margin-left: 0.5em\"><font color='Chocolate'>\n",
    "<b> Please fill in with your own observations </b>\n",
    "</font></span>\n",
    "</div>"
   ]
  },
  {
   "cell_type": "markdown",
   "id": "bridal-shell",
   "metadata": {},
   "source": [
    "<font color='Chocolate'>\n",
    "replace this line with your observations\n",
    "</font>"
   ]
  },
  {
   "cell_type": "markdown",
   "id": "minor-company",
   "metadata": {},
   "source": [
    "Play around with the settings and ranges. With reducing the global_step size you will gain a much higher \"resolution\" at the cost of execution time. It makes sense to first explore the space of glitch settings and dive deeper once you found sub-spaces worth taking a closer look at.<br>\n",
    "\n",
    "Adjust the glitch settings in such a way that it guarantees you a successfull glitch.<br>\n",
    "You can also try a range of settings, the success rate should then be higher than 90%."
   ]
  },
  {
   "cell_type": "code",
   "execution_count": null,
   "id": "broadband-instrumentation",
   "metadata": {},
   "outputs": [],
   "source": [
    "# Play around with the settings\n",
    "# Have a look at gc.display_stats() to see in real time which set of settings are tried at the time."
   ]
  },
  {
   "cell_type": "markdown",
   "id": "jewish-reproduction",
   "metadata": {},
   "source": [
    "<div>\n",
    "<img src=\"images/question_darkblue.png\" align=\"left\" width=\"24\" height=\"24\"/>\n",
    "<span style=\"line-height:24px; margin-left: 0.5em\"><font color=\"darkblue\">What are the most promising glitch settings with a success rate of at least 90%?</font></span>\n",
    "</div>"
   ]
  },
  {
   "cell_type": "markdown",
   "id": "rising-anthropology",
   "metadata": {},
   "source": [
    "<div>\n",
    "<img src=\"images/write_chocolate.png\" align=\"left\" width=\"24\" height=\"24\"/>\n",
    "<span style=\"line-height:24px; margin-left: 0.5em\"><font color='Chocolate'>\n",
    "<b> Please fill in with your own observations </b>\n",
    "</font></span>\n",
    "</div>"
   ]
  },
  {
   "cell_type": "markdown",
   "id": "contemporary-notice",
   "metadata": {},
   "source": [
    "<font color='Chocolate'>\n",
    "replace this line with your observations\n",
    "</font>"
   ]
  },
  {
   "cell_type": "markdown",
   "id": "expressed-narrative",
   "metadata": {},
   "source": [
    "Remember the glitch settings you find most promising because these settings will come in useful in the following glitch attempts.<br>\n",
    "In practise, these kind of attacks take quite some time to find a successfull glitch.<br>\n",
    "After finding one you want to use the information on where to find the glitch, to reproduce it.<br>"
   ]
  },
  {
   "cell_type": "code",
   "execution_count": null,
   "id": "secondary-producer",
   "metadata": {},
   "outputs": [],
   "source": [
    "raise NotImplementedError(\"Add your code here, and delete this.\")"
   ]
  },
  {
   "cell_type": "markdown",
   "id": "funded-williams",
   "metadata": {},
   "source": [
    "## Bypass password check using Fault Injection"
   ]
  },
  {
   "cell_type": "markdown",
   "id": "cheap-bosnia",
   "metadata": {},
   "source": [
    "Take a look at another password authentication function:\n",
    "\n",
    "```C\n",
    "uint8_t password(uint8_t* pw)\n",
    "{\n",
    "    char passok = 1;\n",
    "    int cnt;\n",
    "\n",
    "    trigger_high();\n",
    "\n",
    "    //Simple test - doesn't check for too-long password!\n",
    "    for(cnt = 0; cnt < PW_LEN; cnt++){\n",
    "        if (pw[cnt] != passwd[cnt]){\n",
    "            passok = 0;\n",
    "        }\n",
    "    }\n",
    "    \n",
    "    ..\n",
    "    ..\n",
    "    ..\n",
    "    ..\n",
    "\n",
    "}\n",
    "```"
   ]
  },
  {
   "cell_type": "markdown",
   "id": "geographic-victor",
   "metadata": {},
   "source": [
    "<div>\n",
    "<img src=\"images/question_darkblue.png\" align=\"left\" width=\"24\" height=\"24\"/>\n",
    "<span style=\"line-height:24px; margin-left: 0.5em\"><font color=\"darkblue\">How was the flaw from the function in 3.1 fixed?</font></span>\n",
    "</div>"
   ]
  },
  {
   "cell_type": "markdown",
   "id": "dramatic-uncle",
   "metadata": {},
   "source": [
    "<div>\n",
    "<img src=\"images/write_chocolate.png\" align=\"left\" width=\"24\" height=\"24\"/>\n",
    "<span style=\"line-height:24px; margin-left: 0.5em\"><font color='Chocolate'>\n",
    "<b> Please fill in with your own observations </b>\n",
    "</font></span>\n",
    "</div>"
   ]
  },
  {
   "cell_type": "markdown",
   "id": "educated-reverse",
   "metadata": {},
   "source": [
    "<font color='Chocolate'>\n",
    "replace this line with your observations\n",
    "</font>"
   ]
  },
  {
   "cell_type": "markdown",
   "id": "optical-documentary",
   "metadata": {},
   "source": [
    "For the following task a similar function is implemented to check the password.\n",
    "\n",
    "Assuming the password is complex enough, bruteforcing it will be impractical. <br> \n",
    "Fortunately, you already lernead a bit about clock glitching and we might be able to utilize this knowledge to bypass the password even for a simingly secure function like this!<br>\n",
    "\n",
    "But first we need to flash the software onto our target."
   ]
  },
  {
   "cell_type": "code",
   "execution_count": null,
   "id": "signed-amsterdam",
   "metadata": {},
   "outputs": [],
   "source": [
    "# flash the target firmware to the ChipWhisperer STM32 chip\n",
    "target_firmware = \"PasswordBypass.hex\"\n",
    "cw.program_target(scope, prog, target_firmware)"
   ]
  },
  {
   "cell_type": "markdown",
   "id": "herbal-southwest",
   "metadata": {},
   "source": [
    "We don't know a lot about the password check and authentication function we want to bypass.<br>\n",
    "The system requires the transmission of the password via serial communication.<br>\n",
    "We can send a dummy password with a length of 6 to get started ..."
   ]
  },
  {
   "cell_type": "code",
   "execution_count": null,
   "id": "superb-frontier",
   "metadata": {},
   "outputs": [],
   "source": [
    "# send dummy password\n",
    "pw = bytearray([0x00]*6)\n",
    "target.simpleserial_write('p', pw)\n",
    "\n",
    "val = target.simpleserial_read_witherrors('r', 1, glitch_timeout=10)#For loop check\n",
    "valid = val['valid']\n",
    "if valid:\n",
    "    response = val['payload']\n",
    "    raw_serial = val['full_response']\n",
    "    error_code = val['rv']\n",
    "\n",
    "print(val)"
   ]
  },
  {
   "cell_type": "markdown",
   "id": "uniform-brook",
   "metadata": {},
   "source": [
    "... and get a response that the request was invalid.<br>"
   ]
  },
  {
   "cell_type": "markdown",
   "id": "committed-pickup",
   "metadata": {},
   "source": [
    "Send passwords with different lengths and see if you can get the system to accept the request (not necessarily the password) as valid."
   ]
  },
  {
   "cell_type": "code",
   "execution_count": null,
   "id": "ecological-weekend",
   "metadata": {},
   "outputs": [],
   "source": [
    "for pw_len in range(30):\n",
    "    raise NotImplementedError(\"Add your code here, and delete this.\")"
   ]
  },
  {
   "cell_type": "markdown",
   "id": "enhanced-friday",
   "metadata": {},
   "source": [
    "<div>\n",
    "<img src=\"images/question_darkblue.png\" align=\"left\" width=\"24\" height=\"24\"/>\n",
    "<span style=\"line-height:24px; margin-left: 0.5em\"><font color=\"darkblue\">What is the correct length of the password and how did you find it?</font></span>\n",
    "</div>"
   ]
  },
  {
   "cell_type": "markdown",
   "id": "passing-estate",
   "metadata": {},
   "source": [
    "<div>\n",
    "<img src=\"images/write_chocolate.png\" align=\"left\" width=\"24\" height=\"24\"/>\n",
    "<span style=\"line-height:24px; margin-left: 0.5em\"><font color='Chocolate'>\n",
    "<b> Please fill in with your own observations </b>\n",
    "</font></span>\n",
    "</div>"
   ]
  },
  {
   "cell_type": "markdown",
   "id": "tutorial-nepal",
   "metadata": {},
   "source": [
    "<font color='Chocolate'>\n",
    "replace this line with your observations\n",
    "</font>"
   ]
  },
  {
   "cell_type": "markdown",
   "id": "instant-lender",
   "metadata": {},
   "source": [
    "Once we got the correct password length the actual code as shown below is executed and glitching it should enable us to bypass the password check alltogether.\n",
    "\n",
    "```C\n",
    "if (passok == 1) {\n",
    "    //Simple test - doesn't check for too-long password!\n",
    "    for(cnt = 0; cnt < PW_LEN; cnt++){\n",
    "        if (pw[cnt] != passwd[cnt]){\n",
    "            passok = 0;\n",
    "        }\n",
    "    }\n",
    "}\n",
    "```"
   ]
  },
  {
   "cell_type": "markdown",
   "id": "removed-model",
   "metadata": {},
   "source": [
    "We keep the glitch setup from the previous section (Nested loops) but want to add a parameter for external offset `ext_offset` to shift the glitched clock to match the time of execution of the code above."
   ]
  },
  {
   "cell_type": "code",
   "execution_count": null,
   "id": "checked-package",
   "metadata": {},
   "outputs": [],
   "source": [
    "# Add the external offset \"ext_offset\" to the parameters \n",
    "# gc = glitch.GlitchController(groups=[\"success\", \"reset\", \"normal\"], parameters=[\"width\", \"offset\"])\n",
    "# gc.display_stats()\n",
    "gc = glitch.GlitchController(groups=[\"success\", \"reset\", \"normal\"], parameters=[\"width\", \"offset\", \"ext_offset\"])\n",
    "gc.display_stats()"
   ]
  },
  {
   "cell_type": "markdown",
   "id": "abandoned-chicago",
   "metadata": {},
   "source": [
    "Let's print the generated glitch settings with our new parameter."
   ]
  },
  {
   "cell_type": "code",
   "execution_count": null,
   "id": "extensive-public",
   "metadata": {},
   "outputs": [],
   "source": [
    "# setting the ranges for the glitch offset and glitch width\n",
    "gc.set_range(\"width\", 13, 13)\n",
    "gc.set_range(\"offset\", -2.5, -2.5)\n",
    "gc.set_range(\"ext_offset\", 0, 20)\n",
    "\n",
    "\n",
    "# each setting moves from min to max based on the global step size\n",
    "gc.set_global_step([1])\n",
    "\n",
    "# generate the set of glitch settings\n",
    "for glitch_setting in gc.glitch_values():\n",
    "    # print the generated settings\n",
    "    print(\"Offset: {}\\tWidth: {}\\tExt Offset: {}\".format(glitch_setting[1], glitch_setting[0], glitch_setting[2]))\n",
    "    time.sleep(.1)"
   ]
  },
  {
   "cell_type": "markdown",
   "id": "amended-coral",
   "metadata": {},
   "source": [
    "<div>\n",
    "<img src=\"images/question_darkblue.png\" align=\"left\" width=\"24\" height=\"24\"/>\n",
    "<span style=\"line-height:24px; margin-left: 0.5em\"><font color=\"darkblue\">How can you check the success of your glitch attack?</font></span>\n",
    "</div>"
   ]
  },
  {
   "cell_type": "markdown",
   "id": "rough-involvement",
   "metadata": {},
   "source": [
    "<div>\n",
    "<img src=\"images/write_chocolate.png\" align=\"left\" width=\"24\" height=\"24\"/>\n",
    "<span style=\"line-height:24px; margin-left: 0.5em\"><font color='Chocolate'>\n",
    "<b> Please fill in with your own observations </b>\n",
    "</font></span>\n",
    "</div>"
   ]
  },
  {
   "cell_type": "markdown",
   "id": "thirty-cream",
   "metadata": {},
   "source": [
    "<font color='Chocolate'>\n",
    "replace this line with your observations\n",
    "</font>"
   ]
  },
  {
   "cell_type": "markdown",
   "id": "boring-validity",
   "metadata": {},
   "source": [
    "We provide you with a template to glitch the abovementioned password authentication function.\n",
    "Take the previous steps into consideration to get successful glitches. "
   ]
  },
  {
   "cell_type": "code",
   "execution_count": null,
   "id": "standing-bikini",
   "metadata": {},
   "outputs": [],
   "source": [
    "import chipwhisperer.common.results.glitch as glitch\n",
    "from tqdm.notebook import trange\n",
    "import struct\n",
    "\n",
    "# set external offset\n",
    "gc.set_range(\"width\", 0, 50)\n",
    "gc.set_range(\"offset\", -50, 50)\n",
    "gc.set_range(\"ext_offset\", 0, 20)\n",
    "gc.set_global_step([0.5])\n",
    "\n",
    "scope.glitch.repeat = 3\n",
    "\n",
    "scope.adc.timeout = 0.1\n",
    "\n",
    "reboot_flush()\n",
    "# iterate over all glitch settings\n",
    "for glitch_setting in gc.glitch_values(): ##\n",
    "    scope.glitch.offset = \n",
    "    scope.glitch.width = \n",
    "    scope.glitch.ext_offset = \n",
    " \n",
    "    # speed up, if the trigger has never been low without waiting for timeout\n",
    "    if scope.adc.state:\n",
    "        # can detect crash here (fast) before timing out (slow)\n",
    "        print(\"Trigger still high!\")\n",
    "        gc.add(\"reset\", (scope.glitch.width, scope.glitch.offset, scope.glitch.ext_offset))\n",
    "        \n",
    "        reboot_flush()\n",
    "        \n",
    "    # The glitching is only possible when armed.\n",
    "    scope.arm()\n",
    "    \n",
    "    # send message\n",
    "    \n",
    "    ret = scope.capture()\n",
    "    \n",
    "    # get return message\n",
    "    \n",
    "    # check if target has crashed\n",
    "    if ret:\n",
    "        # timeout\n",
    "        gc.add(\"reset\", (scope.glitch.width, scope.glitch.offset, scope.glitch.ext_offset))\n",
    "        reboot_flush() ##\n",
    "    else:\n",
    "        # response message received\n",
    "        if val['payload'] is None: ## ignore invalid messages\n",
    "            continue \n",
    "        \n",
    "        else:\n",
    "            # password check ok?\n",
    "            if :\n",
    "                gc.add(\"success\", (scope.glitch.width, scope.glitch.offset, scope.glitch.ext_offset))\n",
    "            else:\n",
    "                gc.add(\"normal\", (scope.glitch.width, scope.glitch.offset, scope.glitch.ext_offset))"
   ]
  },
  {
   "cell_type": "markdown",
   "id": "bigger-actor",
   "metadata": {},
   "source": [
    "<div>\n",
    "<img src=\"images/question_darkblue.png\" align=\"left\" width=\"24\" height=\"24\"/>\n",
    "<span style=\"line-height:24px; margin-left: 0.5em\"><font color=\"darkblue\">What is your decider to determine the success of a glitch attempt?</font></span>\n",
    "</div>"
   ]
  },
  {
   "cell_type": "markdown",
   "id": "blessed-affect",
   "metadata": {},
   "source": [
    "<div>\n",
    "<img src=\"images/write_chocolate.png\" align=\"left\" width=\"24\" height=\"24\"/>\n",
    "<span style=\"line-height:24px; margin-left: 0.5em\"><font color='Chocolate'>\n",
    "<b> Please fill in with your own observations </b>\n",
    "</font></span>\n",
    "</div>"
   ]
  },
  {
   "cell_type": "markdown",
   "id": "weekly-bookmark",
   "metadata": {},
   "source": [
    "<font color='Chocolate'>\n",
    "replace this line with your observations\n",
    "</font>"
   ]
  },
  {
   "cell_type": "markdown",
   "id": "precise-tobacco",
   "metadata": {},
   "source": [
    "<div>\n",
    "<img src=\"images/question_darkblue.png\" align=\"left\" width=\"24\" height=\"24\"/>\n",
    "<span style=\"line-height:24px; margin-left: 0.5em\"><font color=\"darkblue\">Considering the authentication function source code, where do you think (instruction or part of instruction) the glitch happened and why?</font></span>\n",
    "</div>"
   ]
  },
  {
   "cell_type": "markdown",
   "id": "multiple-conversation",
   "metadata": {},
   "source": [
    "<div>\n",
    "<img src=\"images/write_chocolate.png\" align=\"left\" width=\"24\" height=\"24\"/>\n",
    "<span style=\"line-height:24px; margin-left: 0.5em\"><font color='Chocolate'>\n",
    "<b> Please fill in with your own observations </b>\n",
    "</font></span>\n",
    "</div>"
   ]
  },
  {
   "cell_type": "markdown",
   "id": "alternative-operation",
   "metadata": {},
   "source": [
    "<font color='Chocolate'>\n",
    "replace this line with your observations\n",
    "</font>"
   ]
  },
  {
   "cell_type": "markdown",
   "id": "similar-marketplace",
   "metadata": {},
   "source": [
    "## Password Bypass using Power Analysis and Fault Injection"
   ]
  },
  {
   "cell_type": "markdown",
   "id": "coastal-numbers",
   "metadata": {},
   "source": [
    "In the previously used implementation, the firmware sent back information if the password was correct or not.<br>\n",
    "This is a major (and unfortunately quite common) security flaw, which allows automization of a lot of attacks. <br> \n",
    "In this task we will use a more secure version of the password authentication function. <br> \n",
    "The same protocol was used but we will not gain any information. <br> \n",
    "This task will give you more freedom than the previous ones. Try to use code / knowledge from the DPA and glitching tasks."
   ]
  },
  {
   "cell_type": "markdown",
   "id": "saved-dispatch",
   "metadata": {},
   "source": [
    "Like always, flash the firmware on the target first."
   ]
  },
  {
   "cell_type": "code",
   "execution_count": null,
   "id": "heated-knock",
   "metadata": {},
   "outputs": [],
   "source": [
    "# flash the target firmware to the ChipWhisperer STM32 chip\n",
    "target_firmware = \"PasswordBypassTask_3_6.hex\"\n",
    "cw.program_target(scope, prog, target_firmware)"
   ]
  },
  {
   "cell_type": "markdown",
   "id": "rolled-magazine",
   "metadata": {},
   "source": [
    "As in 3.5 let's first find out the length of the password. <br>\n",
    "This approach will be more realistic but is a bit tricky. <br> \n",
    "Send passwords with the different lengths to the device as before. \n",
    "Try to use a simple power analysis to find out which of the password lenghts you tried was the correct one.<br>\n",
    "Differently to the previous tasks, there is no trigger implemented in the firmware of the Microcontroller to tell the ChipWhisperer when to begin recording the power trace, so you should find a fitting trigger and try to fit the window where the sampling is done. <br>\n",
    "You might want to look at the following commands in the documentation:<br>\n",
    "https://chipwhisperer.readthedocs.io/en/latest/api.html#chipwhisperer.scopes.OpenADC.adc <br>\n",
    "https://chipwhisperer.readthedocs.io/en/latest/api.html#chipwhisperer.scopes.OpenADC.trigger <br>\n",
    "https://chipwhisperer.readthedocs.io/en/latest/api.html#chipwhisperer.scopes.OpenADC.clock"
   ]
  },
  {
   "cell_type": "markdown",
   "id": "inside-minute",
   "metadata": {},
   "source": [
    "<font color=\"darkgreen\">\n",
    "<details>\n",
    "<summary>\n",
    "<div>\n",
    "<img src=\"images/hint_darkgreen.png\" align=\"left\" width=\"24\" height=\"24\"/>\n",
    "<span style=\"line-height:24px; margin-left: 0.5em\">\n",
    "<b>Click to show hints</b>\n",
    "</span>\n",
    "</div>\n",
    "</summary>\n",
    "\n",
    "Keep in mind you will have to send the password first.<br>\n",
    "Is there a way to get your trigger timed by the transmitted password?\n",
    "\n",
    "</details></font>"
   ]
  },
  {
   "cell_type": "code",
   "execution_count": null,
   "id": "organic-retreat",
   "metadata": {},
   "outputs": [],
   "source": [
    "from tqdm import tnrange\n",
    "import numpy as np\n",
    "\n",
    "trace_array = []\n",
    "N = \n",
    "\n",
    "# adjust trigger and adc settings \n",
    "\n",
    "# Loop over pw lenghts\n",
    "for i in tnrange(N, desc='Capturing traces'):\n",
    "    \n",
    "    # flush before getting the traces\n",
    "    reboot_flush()\n",
    "    \n",
    "    # setup power analysis and send password \n",
    "    \n",
    "    ret = \n",
    "    \n",
    "    if ret:\n",
    "        print(\"Target timed out!\")\n",
    "        continue\n",
    "        \n",
    "    # store captured trace\n",
    "\n",
    "# Plot the different traces \n",
    "    "
   ]
  },
  {
   "cell_type": "markdown",
   "id": "stunning-piano",
   "metadata": {},
   "source": [
    "What is your guess for the password length and why?<br>\n",
    "`--- please fill in with your own observations ---`<br>"
   ]
  },
  {
   "cell_type": "markdown",
   "id": "quantitative-basic",
   "metadata": {},
   "source": [
    "<div>\n",
    "<img src=\"images/question_darkblue.png\" align=\"left\" width=\"24\" height=\"24\"/>\n",
    "<span style=\"line-height:24px; margin-left: 0.5em\"><font color=\"darkblue\">What is your guess for the password length and why?</font></span>\n",
    "</div>"
   ]
  },
  {
   "cell_type": "markdown",
   "id": "liberal-october",
   "metadata": {},
   "source": [
    "<div>\n",
    "<img src=\"images/write_chocolate.png\" align=\"left\" width=\"24\" height=\"24\"/>\n",
    "<span style=\"line-height:24px; margin-left: 0.5em\"><font color='Chocolate'>\n",
    "<b> Please fill in with your own observations </b>\n",
    "</font></span>\n",
    "</div>"
   ]
  },
  {
   "cell_type": "markdown",
   "id": "successful-jacksonville",
   "metadata": {},
   "source": [
    "<font color='Chocolate'>\n",
    "replace this line with your observations\n",
    "</font>"
   ]
  },
  {
   "cell_type": "markdown",
   "id": "brave-number",
   "metadata": {},
   "source": [
    "In the next step we want to glitch this target. \n",
    "In order to find out if we glitched successfully, you should use the power traces. \n",
    "To make it easier, we recorded a trace of a successful password authentication, this was done on a different device, where the password is known."
   ]
  },
  {
   "cell_type": "markdown",
   "id": "interested-charter",
   "metadata": {},
   "source": [
    "![](images/Trace_Successful_Pw.png)"
   ]
  },
  {
   "cell_type": "markdown",
   "id": "tight-vaccine",
   "metadata": {},
   "source": [
    "<div>\n",
    "<img src=\"images/question_darkblue.png\" align=\"left\" width=\"24\" height=\"24\"/>\n",
    "<span style=\"line-height:24px; margin-left: 0.5em\"><font color=\"darkblue\">Comparing the prerecorded trace with the trace you recorded, what differences do you see?</font></span>\n",
    "</div>"
   ]
  },
  {
   "cell_type": "markdown",
   "id": "coral-vegetation",
   "metadata": {},
   "source": [
    "<div>\n",
    "<img src=\"images/write_chocolate.png\" align=\"left\" width=\"24\" height=\"24\"/>\n",
    "<span style=\"line-height:24px; margin-left: 0.5em\"><font color='Chocolate'>\n",
    "<b> Please fill in with your own observations </b>\n",
    "</font></span>\n",
    "</div>"
   ]
  },
  {
   "cell_type": "markdown",
   "id": "handed-tribute",
   "metadata": {},
   "source": [
    "<font color='Chocolate'>\n",
    "replace this line with your observations\n",
    "</font>"
   ]
  },
  {
   "cell_type": "markdown",
   "id": "deluxe-friendly",
   "metadata": {},
   "source": [
    "<div>\n",
    "<img src=\"images/question_darkblue.png\" align=\"left\" width=\"24\" height=\"24\"/>\n",
    "<span style=\"line-height:24px; margin-left: 0.5em\"><font color=\"darkblue\">How could you use the differences of the two power traces to sort the successful and unsuccessful glitches?</font></span>\n",
    "</div>"
   ]
  },
  {
   "cell_type": "markdown",
   "id": "structural-richmond",
   "metadata": {},
   "source": [
    "<div>\n",
    "<img src=\"images/write_chocolate.png\" align=\"left\" width=\"24\" height=\"24\"/>\n",
    "<span style=\"line-height:24px; margin-left: 0.5em\"><font color='Chocolate'>\n",
    "<b> Please fill in with your own observations </b>\n",
    "</font></span>\n",
    "</div>"
   ]
  },
  {
   "cell_type": "markdown",
   "id": "broke-wallet",
   "metadata": {},
   "source": [
    "<font color='Chocolate'>\n",
    "replace this line with your observations\n",
    "</font>"
   ]
  },
  {
   "cell_type": "markdown",
   "id": "republican-while",
   "metadata": {},
   "source": [
    "You can do the next task in two ways. One is much harder than the other. <br>\n",
    "- First option: You use the same firmware as before but with the internal triggers added in.<br> \n",
    "With this added internal trigger you can glitch as in 3.5 but using the power traces as a metric to decide if the glitch was a success or not. <br>\n",
    "- Second option: The more realistic (but harder) approach would be to use the PasswordBypassTask_2_5.hex firmware and fit the glitches to the time, where in the trace, the sensitive password check is done. **Consider this as a bonus task and only do this if you feel comfortable with the ChipWhisperer and trigger settings.**<br>\n",
    "Depending on which way you want to solve, execute the next block, or not."
   ]
  },
  {
   "cell_type": "code",
   "execution_count": null,
   "id": "scenic-pennsylvania",
   "metadata": {},
   "outputs": [],
   "source": [
    "# flash the target firmware to the ChipWhisperer STM32 chip\n",
    "target_firmware = \"Task3.6_withTrigger.hex\"\n",
    "cw.program_target(scope, prog, target_firmware)\n",
    "\n",
    "# set trigger to default parameters for internal trigger\n",
    "scope.default_setup()\n",
    "scope.glitch.clk_src = 'clkgen'\n",
    "scope.glitch.trigger_src = 'ext_single'\n",
    "scope.glitch.repeat = 1\n",
    "scope.glitch.output = \"clock_xor\"\n",
    "scope.io.hs2 = \"glitch\""
   ]
  },
  {
   "cell_type": "markdown",
   "id": "geological-respondent",
   "metadata": {},
   "source": [
    "If you want to do the approach without using the software trigger, you need to use the ext_offset to hit the same spot when the internal trigger would go up, which is right before the password-checking loop.<br>\n",
    "Now it's your turn to try it, good luck!\n",
    "\n",
    "Don't forget to visualize your glitch results and there is always `gc.display_stats()` to keep track of the currently executed glitch attempt."
   ]
  },
  {
   "cell_type": "code",
   "execution_count": null,
   "id": "exclusive-bracelet",
   "metadata": {},
   "outputs": [],
   "source": [
    "import chipwhisperer.common.results.glitch as glitch\n",
    "from tqdm.notebook import trange\n",
    "import struct\n",
    "\n",
    "# settings\n",
    "gc.set_range(\"width\", 0, 50)\n",
    "gc.set_range(\"offset\", -50, 50)\n",
    "gc.set_range(\"ext_offset\", 0, 20) # you might want to change that if you decided to do the bonus task\n",
    "gc.set_global_step([0.5])\n",
    "\n",
    "scope.glitch.repeat = 3\n",
    "\n",
    "scope.adc.timeout = 0.1\n",
    "\n",
    "# put the recorded traces in a list to validate afterwards\n",
    "pw_traces_success = []\n",
    "pw_traces_normal = []\n",
    "\n",
    "reboot_flush()\n",
    "\n",
    "# iterate over all glitch settings\n",
    "for glitch_setting in gc.glitch_values(): ##\n",
    "    scope.glitch.offset = \n",
    "    scope.glitch.width = \n",
    "    scope.glitch.ext_offset = \n",
    " \n",
    "    # speed up, if the trigger has never been low without waiting for timeout\n",
    "    if scope.adc.state:\n",
    "        # can detect crash here (fast) before timing out (slow)\n",
    "        print(\"Trigger still high!\")\n",
    "        gc.add(\"reset\", (scope.glitch.width, scope.glitch.offset, scope.glitch.ext_offset))\n",
    "        reboot_flush()\n",
    "        \n",
    "    # The glitching is only possible when armed.\n",
    "    scope.arm()\n",
    "    \n",
    "    # send message\n",
    "    \n",
    "    ret = scope.capture()\n",
    "    \n",
    "    # get power trace\n",
    "    \n",
    "    # check if target has crashed\n",
    "    if ret:\n",
    "        # timeout\n",
    "        gc.add(\"reset\", (scope.glitch.width, scope.glitch.offset, scope.glitch.ext_offset))\n",
    "    else:\n",
    "\n",
    "        else:\n",
    "            # Implement your metric to check the power trace\n",
    "            if :\n",
    "                gc.add(\"success\", (scope.glitch.width, scope.glitch.offset, scope.glitch.ext_offset))\n",
    "            else:\n",
    "                gc.add(\"normal\", (scope.glitch.width, scope.glitch.offset, scope.glitch.ext_offset))"
   ]
  },
  {
   "cell_type": "code",
   "execution_count": null,
   "id": "received-america",
   "metadata": {},
   "outputs": [],
   "source": [
    "%matplotlib notebook\n",
    "import matplotlib.pylab as plt\n",
    "plt.figure() # Creates a new figure\n",
    "\n",
    "#Check if they look right\n",
    "for trace in pw_traces_success:\n",
    "    plt.plot(abs(trace))\n",
    "plt.show()"
   ]
  },
  {
   "cell_type": "markdown",
   "id": "expected-league",
   "metadata": {
    "deletable": false,
    "editable": false,
    "run_control": {
     "frozen": true
    }
   },
   "source": [
    "## Conclusion"
   ]
  },
  {
   "cell_type": "markdown",
   "id": "split-niagara",
   "metadata": {
    "deletable": false,
    "editable": false,
    "run_control": {
     "frozen": true
    }
   },
   "source": [
    "As you have seen even without knowing anything about the key or the encryption used you were hopefully able to deduce enough information about the data to decrypt them anyways.\n",
    "\n",
    "But why was this possible?<br>\n",
    "\n"
   ]
  },
  {
   "cell_type": "markdown",
   "id": "prime-mailman",
   "metadata": {
    "deletable": false,
    "editable": false,
    "run_control": {
     "frozen": true
    }
   },
   "source": [
    "### Exploited weaknesses"
   ]
  },
  {
   "cell_type": "markdown",
   "id": "experimental-secondary",
   "metadata": {
    "deletable": false,
    "editable": false,
    "run_control": {
     "frozen": true
    }
   },
   "source": [
    "<div>\n",
    "<img src=\"images/question_darkblue.png\" align=\"left\" width=\"24\" height=\"24\"/>\n",
    "\n",
    "<span style=\"line-height:24px; margin-left: 0.5em\"><font color='darkblue'>List the weaknesses you have exploited throughout this task and explain why they lead to you decrypting the cipher text.</font></span>\n",
    "</div>"
   ]
  },
  {
   "cell_type": "markdown",
   "id": "presidential-strategy",
   "metadata": {
    "deletable": false,
    "editable": false,
    "run_control": {
     "frozen": true
    }
   },
   "source": [
    "<div>\n",
    "<img src=\"images/write_chocolate.png\" align=\"left\" width=\"24\" height=\"24\"/>\n",
    "<span style=\"line-height:24px; margin-left: 0.5em\"><font color='Chocolate'>\n",
    "<b> Please fill in with your own observations </b>\n",
    "</font></span>\n",
    "</div>"
   ]
  },
  {
   "cell_type": "markdown",
   "id": "driven-south",
   "metadata": {},
   "source": [
    "<font color='Chocolate'>\n",
    "replace this line with your observations\n",
    "</font>"
   ]
  },
  {
   "cell_type": "markdown",
   "id": "creative-advisory",
   "metadata": {
    "deletable": false,
    "editable": false,
    "run_control": {
     "frozen": true
    }
   },
   "source": [
    "### Promising counter measures"
   ]
  },
  {
   "cell_type": "markdown",
   "id": "interracial-ratio",
   "metadata": {
    "deletable": false,
    "editable": false,
    "run_control": {
     "frozen": true
    }
   },
   "source": [
    "<div>\n",
    "<img src=\"images/question_darkblue.png\" align=\"left\" width=\"24\" height=\"24\"/>\n",
    "\n",
    "<span style=\"line-height:24px; margin-left: 0.5em\"><font color='darkblue'>Can you think of one or more promising counter measure(s) that would have prevented your attack from being successful?</font></span>\n",
    "</div>"
   ]
  },
  {
   "cell_type": "markdown",
   "id": "australian-skirt",
   "metadata": {
    "deletable": false,
    "editable": false,
    "run_control": {
     "frozen": true
    }
   },
   "source": [
    "<div>\n",
    "<img src=\"images/write_chocolate.png\" align=\"left\" width=\"24\" height=\"24\"/>\n",
    "<span style=\"line-height:24px; margin-left: 0.5em\"><font color='Chocolate'>\n",
    "<b> Please fill in with your own observations </b>\n",
    "</font></span>\n",
    "</div>"
   ]
  },
  {
   "cell_type": "markdown",
   "id": "comfortable-stadium",
   "metadata": {},
   "source": [
    "<font color='Chocolate'>\n",
    "replace this line with your observations\n",
    "</font>"
   ]
  },
  {
   "cell_type": "markdown",
   "id": "reliable-italian",
   "metadata": {
    "deletable": false,
    "editable": false,
    "run_control": {
     "frozen": true
    }
   },
   "source": [
    "### Challenges "
   ]
  },
  {
   "cell_type": "markdown",
   "id": "sufficient-press",
   "metadata": {
    "deletable": false,
    "editable": false,
    "run_control": {
     "frozen": true
    }
   },
   "source": [
    "<div>\n",
    "<img src=\"images/question_darkblue.png\" align=\"left\" width=\"24\" height=\"24\"/>\n",
    "\n",
    "<span style=\"line-height:24px; margin-left: 0.5em\"><font color='darkblue'>List the challanges you faced and describe your train of thought that lead you to mastering them.</font></span>\n",
    "</div>"
   ]
  },
  {
   "cell_type": "markdown",
   "id": "constitutional-dress",
   "metadata": {
    "deletable": false,
    "editable": false,
    "run_control": {
     "frozen": true
    }
   },
   "source": [
    "<div>\n",
    "<img src=\"images/write_chocolate.png\" align=\"left\" width=\"24\" height=\"24\"/>\n",
    "<span style=\"line-height:24px; margin-left: 0.5em\"><font color='Chocolate'>\n",
    "<b> Please fill in with your own observations </b>\n",
    "</font></span>\n",
    "</div>"
   ]
  },
  {
   "cell_type": "markdown",
   "id": "extraordinary-instrumentation",
   "metadata": {},
   "source": [
    "<font color='Chocolate'>\n",
    "replace this line with your observations\n",
    "</font>"
   ]
  },
  {
   "cell_type": "markdown",
   "id": "convenient-retrieval",
   "metadata": {
    "deletable": false,
    "editable": false,
    "run_control": {
     "frozen": true
    }
   },
   "source": [
    "## Submission"
   ]
  },
  {
   "cell_type": "markdown",
   "id": "korean-highway",
   "metadata": {
    "deletable": false,
    "editable": false,
    "run_control": {
     "frozen": true
    }
   },
   "source": [
    "Please commit your changes thus far until the end of the timeframe of this task according to:<br>\n",
    "https://gitlab.tf.uni-freiburg.de/embex-security-lab/security-lab-2022"
   ]
  },
  {
   "cell_type": "markdown",
   "id": "premier-range",
   "metadata": {},
   "source": [
    "## Additional presentation task\n",
    "**You only have to work on the following task if you decided to present for this task**<br>\n",
    "You are welcome to continue working on the following task without presentation, if you have chosen a different task to present.\n",
    "\n",
    "You will find an additional course provided by ChipWhisperer in their repository -> 'ChipWhisperer5_64\\git\\home\\portable\\chipwhisperer\\jupyter\\courses\\fault101\\Fault 2_1 - Introduction to Voltage Glitching.ipynb'. <br>\n",
    "The course consists of the same loop as Task 3.4 but the Fault injection will be based on Voltage Glitching.<br> \n",
    "Finish the course and create a presentation with a few slides showing your approach and results from this task and show differences between the Fault Injection methods.<br>\n",
    "\n",
    "\n",
    "You can find the date for the presentation here: https://gitlab.tf.uni-freiburg.de/embex-security-lab/security-lab-2022"
   ]
  },
  {
   "cell_type": "markdown",
   "id": "derived-probability",
   "metadata": {},
   "source": [
    "*Acknowledgement: the material used in this task is inspired and partially taken from the ChipWhisperer learning material.*"
   ]
  }
 ],
 "metadata": {
  "kernelspec": {
   "display_name": "Python 3 (ipykernel)",
   "language": "python",
   "name": "python3"
  },
  "language_info": {
   "codemirror_mode": {
    "name": "ipython",
    "version": 3
   },
   "file_extension": ".py",
   "mimetype": "text/x-python",
   "name": "python",
   "nbconvert_exporter": "python",
   "pygments_lexer": "ipython3",
   "version": "3.10.5"
  },
  "toc": {
   "base_numbering": 3,
   "nav_menu": {},
   "number_sections": true,
   "sideBar": true,
   "skip_h1_title": false,
   "title_cell": "Table of Contents",
   "title_sidebar": "Contents",
   "toc_cell": false,
   "toc_position": {},
   "toc_section_display": true,
   "toc_window_display": false
  },
  "vscode": {
   "interpreter": {
    "hash": "5fb955165457380985db86db626230b448991bb247ae99ab852707dfa9ea455b"
   }
  }
 },
 "nbformat": 4,
 "nbformat_minor": 5
}
