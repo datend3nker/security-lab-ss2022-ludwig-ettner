{
 "cells": [
  {
   "cell_type": "code",
   "execution_count": 1,
   "metadata": {},
   "outputs": [],
   "source": [
    "from tqdm import tnrange\n",
    "import numpy as np\n",
    "from Crypto.Cipher import AES"
   ]
  },
  {
   "cell_type": "code",
   "execution_count": 2,
   "metadata": {},
   "outputs": [],
   "source": [
    "sbox = [\n",
    "    # 0    1    2    3    4    5    6    7    8    9    a    b    c    d    e    f \n",
    "    [0x63,0x7c,0x77,0x7b,0xf2,0x6b,0x6f,0xc5,0x30,0x01,0x67,0x2b,0xfe,0xd7,0xab,0x76], # 0\n",
    "    [0xca,0x82,0xc9,0x7d,0xfa,0x59,0x47,0xf0,0xad,0xd4,0xa2,0xaf,0x9c,0xa4,0x72,0xc0], # 1\n",
    "    [0xb7,0xfd,0x93,0x26,0x36,0x3f,0xf7,0xcc,0x34,0xa5,0xe5,0xf1,0x71,0xd8,0x31,0x15], # 2\n",
    "    [0x04,0xc7,0x23,0xc3,0x18,0x96,0x05,0x9a,0x07,0x12,0x80,0xe2,0xeb,0x27,0xb2,0x75], # 3\n",
    "    [0x09,0x83,0x2c,0x1a,0x1b,0x6e,0x5a,0xa0,0x52,0x3b,0xd6,0xb3,0x29,0xe3,0x2f,0x84], # 4\n",
    "    [0x53,0xd1,0x00,0xed,0x20,0xfc,0xb1,0x5b,0x6a,0xcb,0xbe,0x39,0x4a,0x4c,0x58,0xcf], # 5\n",
    "    [0xd0,0xef,0xaa,0xfb,0x43,0x4d,0x33,0x85,0x45,0xf9,0x02,0x7f,0x50,0x3c,0x9f,0xa8], # 6\n",
    "    [0x51,0xa3,0x40,0x8f,0x92,0x9d,0x38,0xf5,0xbc,0xb6,0xda,0x21,0x10,0xff,0xf3,0xd2], # 7\n",
    "    [0xcd,0x0c,0x13,0xec,0x5f,0x97,0x44,0x17,0xc4,0xa7,0x7e,0x3d,0x64,0x5d,0x19,0x73], # 8\n",
    "    [0x60,0x81,0x4f,0xdc,0x22,0x2a,0x90,0x88,0x46,0xee,0xb8,0x14,0xde,0x5e,0x0b,0xdb], # 9\n",
    "    [0xe0,0x32,0x3a,0x0a,0x49,0x06,0x24,0x5c,0xc2,0xd3,0xac,0x62,0x91,0x95,0xe4,0x79], # a\n",
    "    [0xe7,0xc8,0x37,0x6d,0x8d,0xd5,0x4e,0xa9,0x6c,0x56,0xf4,0xea,0x65,0x7a,0xae,0x08], # b\n",
    "    [0xba,0x78,0x25,0x2e,0x1c,0xa6,0xb4,0xc6,0xe8,0xdd,0x74,0x1f,0x4b,0xbd,0x8b,0x8a], # c\n",
    "    [0x70,0x3e,0xb5,0x66,0x48,0x03,0xf6,0x0e,0x61,0x35,0x57,0xb9,0x86,0xc1,0x1d,0x9e], # d\n",
    "    [0xe1,0xf8,0x98,0x11,0x69,0xd9,0x8e,0x94,0x9b,0x1e,0x87,0xe9,0xce,0x55,0x28,0xdf], # e\n",
    "    [0x8c,0xa1,0x89,0x0d,0xbf,0xe6,0x42,0x68,0x41,0x99,0x2d,0x0f,0xb0,0x54,0xbb,0x16]  # f\n",
    "]"
   ]
  },
  {
   "cell_type": "code",
   "execution_count": 3,
   "metadata": {},
   "outputs": [],
   "source": [
    "def aes_sbox(inputdata, key):\n",
    "    input_s = inputdata ^ key\n",
    "    if input_s < 16:\n",
    "        return sbox[0][input_s]\n",
    "    row = input_s // 16\n",
    "    col =  input_s - (16 * row)\n",
    "    return sbox[row][col]"
   ]
  },
  {
   "cell_type": "code",
   "execution_count": 4,
   "metadata": {},
   "outputs": [],
   "source": [
    "def get_bit(output, bit):\n",
    "    try:\n",
    "        return int(bin(output)[-(bit + 1)])\n",
    "    except:\n",
    "        return 0"
   ]
  },
  {
   "cell_type": "code",
   "execution_count": 5,
   "metadata": {},
   "outputs": [],
   "source": [
    "def guess_leakage(keyguess, inputdata, bit):\n",
    "    return get_bit(aes_sbox(keyguess, inputdata), bit)"
   ]
  },
  {
   "cell_type": "code",
   "execution_count": 6,
   "metadata": {},
   "outputs": [
    {
     "ename": "ModuleNotFoundError",
     "evalue": "No module named 'nbformat'",
     "output_type": "error",
     "traceback": [
      "\u001b[0;31m---------------------------------------------------------------------------\u001b[0m",
      "\u001b[0;31mModuleNotFoundError\u001b[0m                       Traceback (most recent call last)",
      "\u001b[1;32m/mnt/c/Users/ludwi/Documents/GitHub/security-lab-ss2022-ludwig-ettner/2 - differential power analysis/calc_key.ipynb Cell 6'\u001b[0m in \u001b[0;36m<cell line: 8>\u001b[0;34m()\u001b[0m\n\u001b[1;32m      <a href='vscode-notebook-cell://wsl%2Bdebian/mnt/c/Users/ludwi/Documents/GitHub/security-lab-ss2022-ludwig-ettner/2%20-%20differential%20power%20analysis/calc_key.ipynb#ch0000005vscode-remote?line=4'>5</a>\u001b[0m SS_VER\u001b[39m=\u001b[39m\u001b[39m'\u001b[39m\u001b[39mSS_VER_1_1\u001b[39m\u001b[39m'\u001b[39m\n\u001b[1;32m      <a href='vscode-notebook-cell://wsl%2Bdebian/mnt/c/Users/ludwi/Documents/GitHub/security-lab-ss2022-ludwig-ettner/2%20-%20differential%20power%20analysis/calc_key.ipynb#ch0000005vscode-remote?line=6'>7</a>\u001b[0m \u001b[39m# run the setup script\u001b[39;00m\n\u001b[0;32m----> <a href='vscode-notebook-cell://wsl%2Bdebian/mnt/c/Users/ludwi/Documents/GitHub/security-lab-ss2022-ludwig-ettner/2%20-%20differential%20power%20analysis/calc_key.ipynb#ch0000005vscode-remote?line=7'>8</a>\u001b[0m get_ipython()\u001b[39m.\u001b[39;49mrun_line_magic(\u001b[39m'\u001b[39;49m\u001b[39mrun\u001b[39;49m\u001b[39m'\u001b[39;49m, \u001b[39m'\u001b[39;49m\u001b[39m\"\u001b[39;49m\u001b[39mhelper_scripts/Setup_Generic.ipynb\u001b[39;49m\u001b[39m\"\u001b[39;49m\u001b[39m'\u001b[39;49m)\n",
      "File \u001b[0;32m~/.local/lib/python3.9/site-packages/IPython/core/interactiveshell.py:2305\u001b[0m, in \u001b[0;36mInteractiveShell.run_line_magic\u001b[0;34m(self, magic_name, line, _stack_depth)\u001b[0m\n\u001b[1;32m   2303\u001b[0m     kwargs[\u001b[39m'\u001b[39m\u001b[39mlocal_ns\u001b[39m\u001b[39m'\u001b[39m] \u001b[39m=\u001b[39m \u001b[39mself\u001b[39m\u001b[39m.\u001b[39mget_local_scope(stack_depth)\n\u001b[1;32m   2304\u001b[0m \u001b[39mwith\u001b[39;00m \u001b[39mself\u001b[39m\u001b[39m.\u001b[39mbuiltin_trap:\n\u001b[0;32m-> 2305\u001b[0m     result \u001b[39m=\u001b[39m fn(\u001b[39m*\u001b[39;49margs, \u001b[39m*\u001b[39;49m\u001b[39m*\u001b[39;49mkwargs)\n\u001b[1;32m   2306\u001b[0m \u001b[39mreturn\u001b[39;00m result\n",
      "File \u001b[0;32m~/.local/lib/python3.9/site-packages/IPython/core/magics/execution.py:717\u001b[0m, in \u001b[0;36mExecutionMagics.run\u001b[0;34m(self, parameter_s, runner, file_finder)\u001b[0m\n\u001b[1;32m    715\u001b[0m     \u001b[39mwith\u001b[39;00m preserve_keys(\u001b[39mself\u001b[39m\u001b[39m.\u001b[39mshell\u001b[39m.\u001b[39muser_ns, \u001b[39m'\u001b[39m\u001b[39m__file__\u001b[39m\u001b[39m'\u001b[39m):\n\u001b[1;32m    716\u001b[0m         \u001b[39mself\u001b[39m\u001b[39m.\u001b[39mshell\u001b[39m.\u001b[39muser_ns[\u001b[39m'\u001b[39m\u001b[39m__file__\u001b[39m\u001b[39m'\u001b[39m] \u001b[39m=\u001b[39m filename\n\u001b[0;32m--> 717\u001b[0m         \u001b[39mself\u001b[39;49m\u001b[39m.\u001b[39;49mshell\u001b[39m.\u001b[39;49msafe_execfile_ipy(filename, raise_exceptions\u001b[39m=\u001b[39;49m\u001b[39mTrue\u001b[39;49;00m)\n\u001b[1;32m    718\u001b[0m     \u001b[39mreturn\u001b[39;00m\n\u001b[1;32m    720\u001b[0m \u001b[39m# Control the response to exit() calls made by the script being run\u001b[39;00m\n",
      "File \u001b[0;32m~/.local/lib/python3.9/site-packages/IPython/core/interactiveshell.py:2808\u001b[0m, in \u001b[0;36mInteractiveShell.safe_execfile_ipy\u001b[0;34m(self, fname, shell_futures, raise_exceptions)\u001b[0m\n\u001b[1;32m   2806\u001b[0m \u001b[39mwith\u001b[39;00m prepended_to_syspath(dname):\n\u001b[1;32m   2807\u001b[0m     \u001b[39mtry\u001b[39;00m:\n\u001b[0;32m-> 2808\u001b[0m         \u001b[39mfor\u001b[39;00m cell \u001b[39min\u001b[39;00m get_cells():\n\u001b[1;32m   2809\u001b[0m             result \u001b[39m=\u001b[39m \u001b[39mself\u001b[39m\u001b[39m.\u001b[39mrun_cell(cell, silent\u001b[39m=\u001b[39m\u001b[39mTrue\u001b[39;00m, shell_futures\u001b[39m=\u001b[39mshell_futures)\n\u001b[1;32m   2810\u001b[0m             \u001b[39mif\u001b[39;00m raise_exceptions:\n",
      "File \u001b[0;32m~/.local/lib/python3.9/site-packages/IPython/core/interactiveshell.py:2796\u001b[0m, in \u001b[0;36mInteractiveShell.safe_execfile_ipy.<locals>.get_cells\u001b[0;34m()\u001b[0m\n\u001b[1;32m   2794\u001b[0m \u001b[39m\"\"\"generator for sequence of code blocks to run\"\"\"\u001b[39;00m\n\u001b[1;32m   2795\u001b[0m \u001b[39mif\u001b[39;00m fname\u001b[39m.\u001b[39msuffix \u001b[39m==\u001b[39m \u001b[39m\"\u001b[39m\u001b[39m.ipynb\u001b[39m\u001b[39m\"\u001b[39m:\n\u001b[0;32m-> 2796\u001b[0m     \u001b[39mfrom\u001b[39;00m \u001b[39mnbformat\u001b[39;00m \u001b[39mimport\u001b[39;00m read\n\u001b[1;32m   2797\u001b[0m     nb \u001b[39m=\u001b[39m read(fname, as_version\u001b[39m=\u001b[39m\u001b[39m4\u001b[39m)\n\u001b[1;32m   2798\u001b[0m     \u001b[39mif\u001b[39;00m \u001b[39mnot\u001b[39;00m nb\u001b[39m.\u001b[39mcells:\n",
      "\u001b[0;31mModuleNotFoundError\u001b[0m: No module named 'nbformat'"
     ]
    }
   ],
   "source": [
    "# settings for generic setup\n",
    "SCOPETYPE = 'OPENADC'\n",
    "PLATFORM = 'CWLITEARM'\n",
    "CRYPTO_TARGET='TINYAES128C'\n",
    "SS_VER='SS_VER_1_1'\n",
    "\n",
    "# run the setup script\n",
    "%run \"helper_scripts/Setup_Generic.ipynb\""
   ]
  },
  {
   "cell_type": "code",
   "execution_count": null,
   "metadata": {},
   "outputs": [],
   "source": [
    "# flash the target firmware to the ChipWhisperer STM32 chip\n",
    "target_firmware = \"aes.hex\"\n",
    "cw.program_target(scope, prog, target_firmware)"
   ]
  },
  {
   "cell_type": "code",
   "execution_count": null,
   "metadata": {},
   "outputs": [],
   "source": [
    "# find the number of recorded traces and data points per trace from the trace_array\n",
    "\n",
    "numtraces = 10000 #total number of traces\n",
    "numpoints = 5000 #samples per trace"
   ]
  },
  {
   "cell_type": "code",
   "execution_count": null,
   "metadata": {},
   "outputs": [],
   "source": [
    "##### # Perform the capture, resulting in trace_array and textin_array of 500 traces.\n",
    "# set up key text pattern (ktp) acquisition: Basic works just fine we only use the random text.\n",
    "ktp = cw.ktp.Basic()\n",
    "trace_array = []\n",
    "textin_array = []\n",
    "\n",
    "_, text = ktp.next()\n",
    "\n",
    "N = numtraces # number of traces\n",
    "for i in tnrange(N, desc='Capturing traces'):\n",
    "    \n",
    "    # Arm the ChipWhisperer with scope.arm(). \n",
    "    # It will begin capturing as soon as it is triggered (which in our case is a rising edge on gpio4).\n",
    "    # The gpio4 is set high from the firmware as soon as it receives the message.\n",
    "    scope.arm()\n",
    "    \n",
    "    target.simpleserial_write('p', text)\n",
    "    \n",
    "    # scope.capture() will read back the captured power trace, blocking until either ChipWhisperer\n",
    "    # is done recording, or the scope times out.\n",
    "    # Note that the error return will tell you whether or not the scope timed out. \n",
    "    # It does not return the captured scope data.\n",
    "    ret = scope.capture()\n",
    "    if ret:\n",
    "        print(\"Target timed out!\")\n",
    "        continue\n",
    "    \n",
    "    response = target.simpleserial_read('r', 16)\n",
    "    \n",
    "    # You can read back the captured power trace with scope.get_last_trace()\n",
    "    trace_array.append(scope.get_last_trace())\n",
    "    textin_array.append(text)\n",
    "    \n",
    "    _, text = ktp.next() "
   ]
  },
  {
   "cell_type": "code",
   "execution_count": null,
   "metadata": {},
   "outputs": [],
   "source": [
    "# In guess = Byte guess\n",
    "# In byte_to_attack = Byteindex\n",
    "# In bit_to_check = bit position in the leakage\n",
    "# Out return = list with abs(one_averages - zero_averages) \n",
    "\"\"\"\n",
    "Loops through all the traces and take the `bit_to_check` into consideration\n",
    "\"\"\"\n",
    "def calculate_diffs(guess, byte_to_attack=0, bit_to_check=0):\n",
    "    \"\"\"Perform a simple DPA on two traces, uses global `textin_array` and `trace_array` \"\"\"\n",
    "\n",
    "    one_list = []\n",
    "    zero_list = []\n",
    "\n",
    "    for trace_index in range(numtraces):\n",
    "        \n",
    "        input_byte = textin_array[trace_index][byte_to_attack]\n",
    "            \n",
    "        #Get a simulated leakage list - use aes_sbox(guess, input_byte)\n",
    "        simulated_leakage = guess_leakage(guess, input_byte, bit_to_check)\n",
    "\n",
    "        if simulated_leakage == 1:\n",
    "            one_list.append(trace_array[trace_index])\n",
    "        else:\n",
    "            zero_list.append(trace_array[trace_index])\n",
    "                \n",
    "    one_avg = np.asarray(one_list).mean(axis=0)\n",
    "    zero_avg = np.asarray(zero_list).mean(axis=0)\n",
    "\n",
    "    return abs(one_avg - zero_avg)"
   ]
  },
  {
   "cell_type": "code",
   "execution_count": null,
   "metadata": {},
   "outputs": [],
   "source": [
    "bit_check = 3\n",
    "key_guess = []\n",
    "for byte in tnrange(0, 16, desc=f\"Byte {byte} wird gebrochen\"):\n",
    "    mean_diffs = [0] * 256\n",
    "    for guess in range(256):\n",
    "        mean_diffs[guess] = np.max(calculate_diffs(guess, byte, bit_check))\n",
    "    get_highest = np.argsort(mean_diffs)[::-1]\n",
    "    key_guess.append(hex(get_highest[0]))\n",
    "\n",
    "print(f\"Der berechnete Schlüssel ist: {key_guess}\")  "
   ]
  },
  {
   "cell_type": "code",
   "execution_count": null,
   "metadata": {},
   "outputs": [],
   "source": [
    "key_guess = ['0x48', '0x61', '0x72', '0x64', '0x77', '0x61', '0x72', '0x65', '0x53', '0x65', '0x63', '0x75', '0x72', '0x69', '0x74', '0x79']\n",
    "msg = b'g\\xf4\\x9b\\xf2\\xe7[\\xf5)g2V\\xcau\\x89\\xfe\\xa1'\n",
    "key = \"\"\n",
    "for d in key_guess:\n",
    "    key += chr(int(d, 16))\n",
    "decipher = AES.new(key, AES.MODE_ECB)\n",
    "print(decipher.decrypt(msg))"
   ]
  }
 ],
 "metadata": {
  "kernelspec": {
   "display_name": "Python 3.9.2 64-bit",
   "language": "python",
   "name": "python3"
  },
  "language_info": {
   "codemirror_mode": {
    "name": "ipython",
    "version": 3
   },
   "file_extension": ".py",
   "mimetype": "text/x-python",
   "name": "python",
   "nbconvert_exporter": "python",
   "pygments_lexer": "ipython3",
   "version": "3.9.2"
  },
  "orig_nbformat": 4,
  "vscode": {
   "interpreter": {
    "hash": "31f2aee4e71d21fbe5cf8b01ff0e069b9275f58929596ceb00d14d90e3e16cd6"
   }
  }
 },
 "nbformat": 4,
 "nbformat_minor": 2
}
