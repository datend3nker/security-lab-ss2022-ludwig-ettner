{
 "cells": [
  {
   "cell_type": "markdown",
   "id": "animated-district",
   "metadata": {},
   "source": [
    "# Task - Differential Power Attack"
   ]
  },
  {
   "cell_type": "markdown",
   "id": "atlantic-alfred",
   "metadata": {},
   "source": [
    "This task will deal with subjects regarding AES and power analysis. \n",
    "It will help a lot to refresh your knowledge on them before you start with the task.\n",
    "Check the following materials of the Hardware Security & Trust slides if you need help throughout this task:\n",
    "- Chapter 02_2-crypto_AES contains the AES algorithm. \n",
    "- Chapter 03_02-Side-Channel-Attacks contains a lot of information about power analysis. Particulary an example of the differential power analysis on DES has quite a simillar setup as we use it.\n"
   ]
  },
  {
   "cell_type": "markdown",
   "id": "northern-central",
   "metadata": {},
   "source": [
    "## Attack Assumptions"
   ]
  },
  {
   "cell_type": "markdown",
   "id": "breathing-supervision",
   "metadata": {},
   "source": [
    "### Microcontroller power and leakage"
   ]
  },
  {
   "cell_type": "markdown",
   "id": "composed-science",
   "metadata": {},
   "source": [
    "Modern microcontrollers face the challenge of reducing the peak power consumption as much as possible. If hypothetically the databus lines' states switch from 0 to 1 or vice versa all at once this would yield in the maximum power draw peak required for switching all the data lines' states.<br>\n",
    "![precharge](images/precharge-combined.png)<br>\n",
    "\n",
    "Let's say switching one data line from 0 to 1 or vice versa requires 10 energy units. For the 32 bit microcontroller, there are 32 data lines.<br>\n",
    "This means that in the worst case scenario 320 energy units are required simultaneously per clock for switching the data lines' states.<br>\n",
    "\n",
    "To reduce this required peak power draw, engineers came up with a trick of precharging the data lines. Instead of only switching the data lines' states once per clock cycle, they are switched twice, but only half way each time as shown in the image above.<br>"
   ]
  },
  {
   "cell_type": "markdown",
   "id": "located-removal",
   "metadata": {},
   "source": [
    "In the second half of the clock cycle all lines are brought to 0.5 so-called precharge state. At the clock, all lines are brought to their respective target level. This limits the maximum power draw peak to only half of the previous one.<br>\n",
    "In terms of the energy units, since the data lines' states are never changed directly from 0 to 1 or vice versa the simultaneously required peak energy units are halfed. The data lines' states can be changed from 0 to 0.5, 0.5 to 1 or vice versa, each change requires only 5 energy units and therefore, with 32 data lines, the maximum power draw peak is limited to 180 energy units at once.<br>\n",
    "\n",
    "This precharge, however, allows for straight forward leakage in the context of a side channel attack.<br>\n",
    "\n",
    "The power consumption of the chip varies depending on the number of bits on the data lines and due to this precharge it varies with the number of bits in the output of the S-Box.<br>\n",
    "Fortunately for this task, the STM32F3 implemented in the ChipWhisperer board uses precharging allowing to leak information.<br>\n",
    "This effect can be used to leak information about the output value of the S-Box, which in turn allows to deduce information about the input value of the S-Box if for example the ciphertext is known.<br>"
   ]
  },
  {
   "cell_type": "markdown",
   "id": "realistic-lithuania",
   "metadata": {},
   "source": [
    "### AES and S-Box"
   ]
  },
  {
   "cell_type": "markdown",
   "id": "latin-federal",
   "metadata": {},
   "source": [
    "This Attack will take place on the S-Box of the AES-Algorithm. To understand the attack we will look at the AES algorithm first.\n",
    "\n",
    "The attack will target an AES-128-Encryption implementation, working on a high-level as follows: \n",
    "1. Key expansion - Generate 11 round keys $k_0, ... k_{10}$ from secret key $k$. \n",
    "2. Initial round key addition $A := P \\oplus k_0$ with $P$ being the plain text\n",
    "3. ```python\n",
    "    for(i=1; i <= 10; i++){\n",
    "        A := SubBytes(A);\n",
    "        A := ShiftRows(A);\n",
    "        if(i < 10) // not in last round\n",
    "            A := MixColumns(A);\n",
    "        A := A ^ k[i];\n",
    "    }\n",
    "    ```\n",
    "4. Ciphertext is output of last round $C := A$"
   ]
  },
  {
   "cell_type": "markdown",
   "id": "informative-referral",
   "metadata": {},
   "source": [
    "<div>\n",
    "<img src=\"images/question_darkblue.png\" align=\"left\" width=\"24\" height=\"24\"/>\n",
    "<span style=\"line-height:24px; margin-left: 0.5em\"><font color=\"darkblue\">Later in the task we will try to extract the round key $k_0$ from the power trace. Familiarize yourself with the key schedule of AES and give the relationship of the round key $k_0$ to the secret key $k$?</font></span>\n",
    "</div>"
   ]
  },
  {
   "cell_type": "markdown",
   "id": "prescription-listing",
   "metadata": {},
   "source": [
    "<div>\n",
    "<img src=\"images/write_chocolate.png\" align=\"left\" width=\"24\" height=\"24\"/>\n",
    "<span style=\"line-height:24px; margin-left: 0.5em\"><font color='Chocolate'>\n",
    "<b> Please fill in with your own observations </b>\n",
    "</font></span>\n",
    "</div>"
   ]
  },
  {
   "cell_type": "markdown",
   "id": "spread-philosophy",
   "metadata": {},
   "source": [
    "<font color='Chocolate'>\n",
    "replace this line with your observations\n",
    "</font>"
   ]
  },
  {
   "cell_type": "markdown",
   "id": "willing-parking",
   "metadata": {
    "deletable": false,
    "editable": false,
    "run_control": {
     "frozen": true
    }
   },
   "source": [
    "The S-Box is a Lookup Table used in the AES-Algorithm.<br>\n",
    "The Input of the S-Box is one byte, which is given by XOR'ing an input byte with a key byte.<br>\n",
    "![aes-input-sbox](images/aesinput.png)\n",
    "The S-Box is constant, independent from the key and has the following 256 entries:"
   ]
  },
  {
   "cell_type": "code",
   "execution_count": null,
   "id": "maritime-surface",
   "metadata": {
    "deletable": false,
    "editable": false
   },
   "outputs": [],
   "source": [
    "sbox = [\n",
    "    # 0    1    2    3    4    5    6    7    8    9    a    b    c    d    e    f \n",
    "    [0x63,0x7c,0x77,0x7b,0xf2,0x6b,0x6f,0xc5,0x30,0x01,0x67,0x2b,0xfe,0xd7,0xab,0x76], # 0\n",
    "    [0xca,0x82,0xc9,0x7d,0xfa,0x59,0x47,0xf0,0xad,0xd4,0xa2,0xaf,0x9c,0xa4,0x72,0xc0], # 1\n",
    "    [0xb7,0xfd,0x93,0x26,0x36,0x3f,0xf7,0xcc,0x34,0xa5,0xe5,0xf1,0x71,0xd8,0x31,0x15], # 2\n",
    "    [0x04,0xc7,0x23,0xc3,0x18,0x96,0x05,0x9a,0x07,0x12,0x80,0xe2,0xeb,0x27,0xb2,0x75], # 3\n",
    "    [0x09,0x83,0x2c,0x1a,0x1b,0x6e,0x5a,0xa0,0x52,0x3b,0xd6,0xb3,0x29,0xe3,0x2f,0x84], # 4\n",
    "    [0x53,0xd1,0x00,0xed,0x20,0xfc,0xb1,0x5b,0x6a,0xcb,0xbe,0x39,0x4a,0x4c,0x58,0xcf], # 5\n",
    "    [0xd0,0xef,0xaa,0xfb,0x43,0x4d,0x33,0x85,0x45,0xf9,0x02,0x7f,0x50,0x3c,0x9f,0xa8], # 6\n",
    "    [0x51,0xa3,0x40,0x8f,0x92,0x9d,0x38,0xf5,0xbc,0xb6,0xda,0x21,0x10,0xff,0xf3,0xd2], # 7\n",
    "    [0xcd,0x0c,0x13,0xec,0x5f,0x97,0x44,0x17,0xc4,0xa7,0x7e,0x3d,0x64,0x5d,0x19,0x73], # 8\n",
    "    [0x60,0x81,0x4f,0xdc,0x22,0x2a,0x90,0x88,0x46,0xee,0xb8,0x14,0xde,0x5e,0x0b,0xdb], # 9\n",
    "    [0xe0,0x32,0x3a,0x0a,0x49,0x06,0x24,0x5c,0xc2,0xd3,0xac,0x62,0x91,0x95,0xe4,0x79], # a\n",
    "    [0xe7,0xc8,0x37,0x6d,0x8d,0xd5,0x4e,0xa9,0x6c,0x56,0xf4,0xea,0x65,0x7a,0xae,0x08], # b\n",
    "    [0xba,0x78,0x25,0x2e,0x1c,0xa6,0xb4,0xc6,0xe8,0xdd,0x74,0x1f,0x4b,0xbd,0x8b,0x8a], # c\n",
    "    [0x70,0x3e,0xb5,0x66,0x48,0x03,0xf6,0x0e,0x61,0x35,0x57,0xb9,0x86,0xc1,0x1d,0x9e], # d\n",
    "    [0xe1,0xf8,0x98,0x11,0x69,0xd9,0x8e,0x94,0x9b,0x1e,0x87,0xe9,0xce,0x55,0x28,0xdf], # e\n",
    "    [0x8c,0xa1,0x89,0x0d,0xbf,0xe6,0x42,0x68,0x41,0x99,0x2d,0x0f,0xb0,0x54,0xbb,0x16]  # f\n",
    "]"
   ]
  },
  {
   "cell_type": "markdown",
   "id": "minus-memorabilia",
   "metadata": {},
   "source": [
    "<div>\n",
    "<img src=\"images/question_darkblue.png\" align=\"left\" width=\"24\" height=\"24\"/>\n",
    "    \n",
    "<span style=\"line-height:24px; margin-left: 0.5em\"><font color=\"darkblue\">With the information and S-Box table as provided above, how many bits are set for the input byte `0x3a` and key byte `0xc4` in the output of the S-Box?</font></span>\n",
    "</div>"
   ]
  },
  {
   "cell_type": "code",
   "execution_count": null,
   "id": "e657c721",
   "metadata": {},
   "outputs": [],
   "source": [
    "s = int('0x3a', 16) ^ int('0xc4', 16)\n",
    "print(hex(s))"
   ]
  },
  {
   "cell_type": "markdown",
   "id": "practical-civilization",
   "metadata": {},
   "source": [
    "<div>\n",
    "<img src=\"images/write_chocolate.png\" align=\"left\" width=\"24\" height=\"24\"/>\n",
    "<span style=\"line-height:24px; margin-left: 0.5em\"><font color='Chocolate'>\n",
    "<b> Please fill in with your own observations </b>\n",
    "</font></span>\n",
    "</div>"
   ]
  },
  {
   "cell_type": "markdown",
   "id": "legitimate-drive",
   "metadata": {},
   "source": [
    "'0xfe' wir mit der S-Box zu '0xbb' umgewandelt. Steht auch für 187"
   ]
  },
  {
   "cell_type": "markdown",
   "id": "million-fifty",
   "metadata": {},
   "source": [
    "## Recovering an AES key byte from a single bit. "
   ]
  },
  {
   "cell_type": "markdown",
   "id": "armed-playlist",
   "metadata": {},
   "source": [
    "To get started with the key extraction you need to define a function that takes an input byte and a key byte and returns the output of the S-Box. "
   ]
  },
  {
   "cell_type": "code",
   "execution_count": null,
   "id": "fitting-visibility",
   "metadata": {},
   "outputs": [],
   "source": [
    "def aes_sbox(inputdata, key):\n",
    "    input_s = inputdata ^ key\n",
    "    if input_s < 16:\n",
    "        return sbox[0][input_s]\n",
    "    row = input_s // 16\n",
    "    col =  input_s - (16 * row)\n",
    "    return sbox[row][col]"
   ]
  },
  {
   "cell_type": "code",
   "execution_count": null,
   "id": "5c32b58f",
   "metadata": {},
   "outputs": [],
   "source": [
    "aes_sbox(0x3a, 0xc4)"
   ]
  },
  {
   "cell_type": "markdown",
   "id": "civil-ancient",
   "metadata": {
    "deletable": false,
    "editable": false,
    "run_control": {
     "frozen": true
    }
   },
   "source": [
    "You can verify the model works by running the following block."
   ]
  },
  {
   "cell_type": "code",
   "execution_count": null,
   "id": "stock-boulder",
   "metadata": {
    "deletable": false,
    "editable": false
   },
   "outputs": [],
   "source": [
    "#Simple test vectors - if you get the check-mark printed all OK.\n",
    "assert(aes_sbox(0xAB, 0xEF) == 0x1B)\n",
    "assert(aes_sbox(0x22, 0x01) == 0x26)\n",
    "print(\"Implementation successful\")"
   ]
  },
  {
   "cell_type": "markdown",
   "id": "apparent-petersburg",
   "metadata": {},
   "source": [
    "In the next step we feed the AES algorithm with 1000 bytes of random input data.<br>\n",
    "The AES processes the data and the output of the first S-Box is then observable on a data line with a probe.<br>\n",
    "The measured data line is our exploitable leakage."
   ]
  },
  {
   "cell_type": "markdown",
   "id": "cross-spell",
   "metadata": {},
   "source": [
    "The following block will simulate this behavior and also add some noise on the data line.<br>\n",
    "The secret key byte and the dataline value is hidden in the function and can not be extracted easily in practise."
   ]
  },
  {
   "cell_type": "code",
   "execution_count": null,
   "id": "attended-field",
   "metadata": {
    "deletable": false,
    "editable": false
   },
   "outputs": [],
   "source": [
    "import random\n",
    "\n",
    "data_line = 3           # 'Secret' dataline the virtual probe is connected to\n",
    "\n",
    "def aes_secret(inputdata):\n",
    "    secret_key = 0xCD       # Secret key byte, which we want to find out\n",
    "    \n",
    "    correct = aes_sbox(secret_key, inputdata)\n",
    "\n",
    "    if random.randint(0, 100) < 50:   # Add some noise\n",
    "        return correct\n",
    "    else:\n",
    "        return random.randint(0,255)\n",
    "    \n",
    "input_data = [random.randint(0,255) for _ in range(0, 1000)] # Generate Input data for AES\n",
    "\n",
    "leaked_data = [((aes_secret(a) & (1<<data_line))>>data_line) for a in input_data] # Simulated leakage measured by the probe\n"
   ]
  },
  {
   "cell_type": "code",
   "execution_count": null,
   "id": "assured-congress",
   "metadata": {},
   "outputs": [],
   "source": [
    "#You can print or plot your data here \n",
    "import matplotlib.pylab as plt\n",
    "plt.plot(leaked_data)\n",
    "plt.rcParams['figure.dpi'] = 300\n",
    "plt.show()"
   ]
  },
  {
   "cell_type": "markdown",
   "id": "accurate-technology",
   "metadata": {
    "deletable": false,
    "editable": false,
    "run_control": {
     "frozen": true
    }
   },
   "source": [
    "The attack is straight forward. Let's just use our model of the device (we know what the encryption does after all, just not the secret key). And we'll feed in the observed data for each possible value of the key and then we can observe how many (if any) of the key guesses result in the observation and simulation matching each other. If the observation and simulation match, this suggets our simulation is running in the same \"setup\" as the implementation we are attacking, meaning they are using the same key byte!"
   ]
  },
  {
   "cell_type": "markdown",
   "id": "relevant-theology",
   "metadata": {
    "deletable": false,
    "editable": false,
    "run_control": {
     "frozen": true
    }
   },
   "source": [
    "First, build a function to count the number of elements in a list that match between two lists (that is - same value of the element at the same list index). An easy way is to just iterate through the number of elements in the list and count the number of times they are the same. Fill in the following - there is already some bounds checking code to get you started."
   ]
  },
  {
   "cell_type": "code",
   "execution_count": null,
   "id": "stone-conflict",
   "metadata": {},
   "outputs": [],
   "source": [
    "def get_list_similarity(a, b):\n",
    "    \n",
    "    if len(a) != len(b):\n",
    "        raise ValueError(\"Arrays must be same length!\")\n",
    "\n",
    "    if max(a) != max(b):\n",
    "        raise ValueError(\"Arrays max() should be the same!\")\n",
    "    \n",
    "    #Count how many list items match up\n",
    "    same = 0\n",
    "    for x in range(len(a)):\n",
    "        if a[x] == b[x]:\n",
    "            same += 1\n",
    "\n",
    "    return same"
   ]
  },
  {
   "cell_type": "code",
   "execution_count": null,
   "id": "incomplete-madison",
   "metadata": {
    "deletable": false,
    "editable": false
   },
   "outputs": [],
   "source": [
    "#Simple test vectors - if you get the check-mark printed all OK.\n",
    "assert(get_list_similarity([0,1,0,1,1,1,1,0], [0,1,0,1,1,1,1,0]) == 8)\n",
    "assert(get_list_similarity([4,4,4,4,0,0,0,0], [0,4,0,4,0,0,0,0]) == 6)\n",
    "assert(get_list_similarity([8, 0], [0, 8]) == 0)\n",
    "print(\"Implementation successful\")"
   ]
  },
  {
   "cell_type": "markdown",
   "id": "seventh-gabriel",
   "metadata": {
    "deletable": false,
    "editable": false,
    "run_control": {
     "frozen": true
    }
   },
   "source": [
    "We know that our probe captures the output of the S-Box but let's assume we do not know which data line we are actually probing as it will be the case in the next section of this task.<br>\n",
    "Let's also create another helpful function, which is able to check if a bit in an output byte is set (` return 1`) or not (`return 0`). "
   ]
  },
  {
   "cell_type": "code",
   "execution_count": null,
   "id": "eleven-queen",
   "metadata": {},
   "outputs": [],
   "source": [
    "def get_bit(output, bit):\n",
    "    try:\n",
    "        return int(bin(output)[-(bit + 1)])\n",
    "    except:\n",
    "        return 0"
   ]
  },
  {
   "cell_type": "code",
   "execution_count": null,
   "id": "collect-background",
   "metadata": {
    "deletable": false,
    "editable": false
   },
   "outputs": [],
   "source": [
    "assert(get_bit(0xAA, 7) == 1)\n",
    "assert(get_bit(0xAA, 0) == 0)\n",
    "assert(get_bit(0x00, 7) == 0)\n",
    "print(\"Implementation successful\")"
   ]
  },
  {
   "cell_type": "markdown",
   "id": "difficult-healing",
   "metadata": {
    "deletable": false,
    "editable": false,
    "run_control": {
     "frozen": true
    }
   },
   "source": [
    "Last but not least we need a guessing function, which takes the unknown probing location into consideration.<br>\n",
    "The output should reveal if a bit, at the output of the S-Box, is set. Use the function `get_bit(...)` from above."
   ]
  },
  {
   "cell_type": "code",
   "execution_count": null,
   "id": "personal-internet",
   "metadata": {},
   "outputs": [],
   "source": [
    "def guess_leakage(keyguess, inputdata, bit):\n",
    "    return get_bit(aes_sbox(keyguess, inputdata), bit)"
   ]
  },
  {
   "cell_type": "code",
   "execution_count": null,
   "id": "molecular-midnight",
   "metadata": {
    "deletable": false,
    "editable": false
   },
   "outputs": [],
   "source": [
    "assert(guess_leakage(0xAB, 0x22, 4) == 0)\n",
    "assert(guess_leakage(0xAB, 0x22, 3) == 0)\n",
    "assert(guess_leakage(0xAB, 0x22, 2) == 1)\n",
    "assert(guess_leakage(0xAB, 0x22, 1) == 1)\n",
    "assert(guess_leakage(0xAB, 0x22, 0) == 1)\n",
    "print(\"Implementation successful\")"
   ]
  },
  {
   "cell_type": "markdown",
   "id": "elect-theory",
   "metadata": {
    "deletable": false,
    "editable": false,
    "run_control": {
     "frozen": true
    }
   },
   "source": [
    "In the following section we will use `numpy.argsort` for sorting lists. `numpy.argsort` doesn't return a sorted list but a list of indexes that are put in order to match the original list as if it was sorted.<br>\n",
    "\n",
    "Generate a `list_sorted_ascending` and `list_sorted_descending` from the `list_unsorted` provided below.<br>\n",
    "Note: to reverse the order of a list, slicing can be used:\n",
    "\n",
    "Example:\n",
    "```python\n",
    "a = [1, 2, 3, 4, 5]\n",
    "b = a[::-1] # => b = [5, 4, 3, 2, 1]\n",
    "```"
   ]
  },
  {
   "cell_type": "code",
   "execution_count": null,
   "id": "center-bikini",
   "metadata": {},
   "outputs": [],
   "source": [
    "import numpy as np\n",
    "list_unsorted = [42, 13, 7, 9, 64, 3]\n",
    "sorted_indexes = np.argsort(list_unsorted)\n",
    "list_sorted_ascending = sorted_indexes\n",
    "list_sorted_descending = sorted_indexes[::-1]"
   ]
  },
  {
   "cell_type": "markdown",
   "id": "forty-support",
   "metadata": {
    "deletable": false,
    "editable": false,
    "run_control": {
     "frozen": true
    }
   },
   "source": [
    "We can now set up our guessing loop with respect to the input data and our model.<br>\n",
    "The idea is to simulate the theoretical leakage for a given key byte guess `guess` and bit `bit` for the used input data `input_data`.<br>\n",
    "\n",
    "This can be done by iterating over every possible `bit`, computing the theoretical leakage `simulated_leakage` for every input byte from the `input_data` and scoring the similarity `similarity_score` between the `simulated_leakage` and the \"measured\" `leaked_data`<br>\n",
    "\n",
    "To find the best key candidate the result can be sorted by the `similarity_score`.<br>\n",
    "\n",
    "You can do this by sorting the list of (`leaked_data - simulated_leakage`) matches and print out the first few for every bit.<br> "
   ]
  },
  {
   "cell_type": "code",
   "execution_count": null,
   "id": "polar-florist",
   "metadata": {},
   "outputs": [],
   "source": [
    "import numpy as np # use np.argsort(guess_list)[::-1] for sorting\n",
    "restult = {}\n",
    "restult.update({\"Key-guess\": [], \"simmularity\": [], \"bit\": []})\n",
    "for g in range(2 ** 8):\n",
    "    for n in range(8):\n",
    "        simulated_leakage = []\n",
    "        for d in input_data:\n",
    "            simulated_leakage.append(guess_leakage(g, d, n))\n",
    "\n",
    "        (restult[\"Key-guess\"]).append(g)\n",
    "        (restult[\"simmularity\"]).append(get_list_similarity(leaked_data, simulated_leakage))\n",
    "        (restult[\"bit\"]).append(n)"
   ]
  },
  {
   "cell_type": "code",
   "execution_count": null,
   "id": "675e2270",
   "metadata": {},
   "outputs": [],
   "source": [
    "key_guesse = restult[\"Key-guess\"]\n",
    "simmularitys = np.argsort(restult[\"simmularity\"])[::-1]\n",
    "score = restult[\"simmularity\"]\n",
    "bits = restult[\"bit\"]\n",
    "print(f\"there have been {score[simmularitys[0]]} hits, at bit {bits[simmularitys[0]]} with key {hex(key_guesse[simmularitys[0]])}\")"
   ]
  },
  {
   "cell_type": "markdown",
   "id": "blind-tradition",
   "metadata": {
    "deletable": false,
    "editable": false,
    "run_control": {
     "frozen": true
    }
   },
   "source": [
    "<div>\n",
    "<img src=\"images/question_darkblue.png\" align=\"left\" width=\"24\" height=\"24\"/>\n",
    "    \n",
    "<span style=\"line-height:24px; margin-left: 0.5em\"><font color=\"darkblue\">What is your best guess for the key according to your results and why?</font></span>\n",
    "</div>"
   ]
  },
  {
   "cell_type": "markdown",
   "id": "quarterly-operation",
   "metadata": {
    "deletable": false,
    "editable": false,
    "run_control": {
     "frozen": true
    }
   },
   "source": [
    "<div>\n",
    "<img src=\"images/write_chocolate.png\" align=\"left\" width=\"24\" height=\"24\"/>\n",
    "<span style=\"line-height:24px; margin-left: 0.5em\"><font color='Chocolate'>\n",
    "<b> Please fill in with your own observations </b>\n",
    "</font></span>\n",
    "</div>"
   ]
  },
  {
   "cell_type": "markdown",
   "id": "floppy-import",
   "metadata": {},
   "source": [
    "<font color='Chocolate'>\n",
    "Ich würde auf den Schlüssel \"CD\" (ist sogar der richtige :)). Der hatte die meiste übereinstimmung wenn man das dritte Bit genommen hat.\n",
    "</font>"
   ]
  },
  {
   "cell_type": "markdown",
   "id": "cordless-marketing",
   "metadata": {
    "deletable": false,
    "editable": false,
    "run_control": {
     "frozen": true
    }
   },
   "source": [
    "<div>\n",
    "<img src=\"images/question_darkblue.png\" align=\"left\" width=\"24\" height=\"24\"/>\n",
    "    \n",
    "<span style=\"line-height:24px; margin-left: 0.5em\"><font color=\"darkblue\">What is your best guess for the data line the probe was connected to according to your results and why?</font></span>\n",
    "</div>"
   ]
  },
  {
   "cell_type": "markdown",
   "id": "funny-decimal",
   "metadata": {
    "deletable": false,
    "editable": false,
    "run_control": {
     "frozen": true
    }
   },
   "source": [
    "<div>\n",
    "<img src=\"images/write_chocolate.png\" align=\"left\" width=\"24\" height=\"24\"/>\n",
    "<span style=\"line-height:24px; margin-left: 0.5em\"><font color='Chocolate'>\n",
    "<b> Please fill in with your own observations </b>\n",
    "</font></span>\n",
    "</div>"
   ]
  },
  {
   "cell_type": "markdown",
   "id": "decimal-bishop",
   "metadata": {},
   "source": [
    "<font color='Chocolate'>\n",
    "Wie oben erwähnt, mit \"data line\" 3 entstanden die miesten Treffer/höchste Ubereinstimmung\n",
    "</font>"
   ]
  },
  {
   "cell_type": "markdown",
   "id": "fifth-increase",
   "metadata": {
    "deletable": false,
    "editable": false,
    "run_control": {
     "frozen": true
    }
   },
   "source": [
    "<div>\n",
    "<img src=\"images/question_darkblue.png\" align=\"left\" width=\"24\" height=\"24\"/>\n",
    "    \n",
    "<span style=\"line-height:24px; margin-left: 0.5em\"><font color=\"darkblue\">Thus far, the S-Box computation following the first round key was attacked. Would it be possible to run this attack on another round key with similar success and why?</font></span>\n",
    "</div>"
   ]
  },
  {
   "cell_type": "markdown",
   "id": "sharp-tolerance",
   "metadata": {
    "deletable": false,
    "editable": false,
    "run_control": {
     "frozen": true
    }
   },
   "source": [
    "<div>\n",
    "<img src=\"images/write_chocolate.png\" align=\"left\" width=\"24\" height=\"24\"/>\n",
    "<span style=\"line-height:24px; margin-left: 0.5em\"><font color='Chocolate'>\n",
    "<b> Please fill in with your own observations </b>\n",
    "</font></span>\n",
    "</div>"
   ]
  },
  {
   "cell_type": "markdown",
   "id": "transsexual-chick",
   "metadata": {},
   "source": [
    "<font color='Chocolate'>\n",
    "Theoretisch schon möglich, wenn man den vorigen Schlüssel schon hat under herrausfinden kann. Als Grundvorrausetung wird $k_0$ benötigt, da hier kein vorriger key mit einfließt.\n",
    "</font>"
   ]
  },
  {
   "cell_type": "markdown",
   "id": "palestinian-breath",
   "metadata": {
    "deletable": false,
    "editable": false,
    "run_control": {
     "frozen": true
    }
   },
   "source": [
    "## Guessing a key byte with differential power analysis on AES"
   ]
  },
  {
   "cell_type": "markdown",
   "id": "worth-covering",
   "metadata": {
    "deletable": false,
    "editable": false,
    "run_control": {
     "frozen": true
    }
   },
   "source": [
    "You saw how a single bit of information can be used to recover an entire byte of the AES key. Remember, this works due to the S-Box being present in the data flow that we are attacking.\n",
    "\n",
    "Next, we will see how to use differential power analysis instead of an actual bit value with this technique. Power traces are recorded, while the microcontroller is applying the AES algorithm. The goal is to separate the recorded power traces by a bit in the result of the S-Box output (it doesn't matter which one) into two sets: if that bit is 1, its group of traces should, on average, have higher power consumption during the S-Box operation than the other set.\n",
    "\n",
    "If you have difficulties imagining how this works, check out the Hardware Security & Trust slides. DPA including helpful visualizations are introduced in chapter 3.2 slides 42 to 60: https://ilias.uni-freiburg.de/goto.php?target=file_1913465_download&client_id=unifreiburg\n",
    "\n",
    "Remember that this is based on the assumption that there is some consistent relationship between the value of bits on the data bus and the power consumption in the device.\n",
    "\n",
    "To get the attack working you first need to send random data to the device, and observe the power consumption during the encryption. \n",
    "\n",
    "We will use a capture loop like this:\n",
    "\n",
    "```python\n",
    "    print(scope)\n",
    "    for i in trange(N, desc='Capturing traces'):\n",
    "        key, text = ktp.next()  \n",
    "\n",
    "        trace = cw.capture_trace(scope, target, text, key)\n",
    "        if trace is None:\n",
    "            continue\n",
    "        traces.append(trace)\n",
    "        plot.send(trace)\n",
    "\n",
    "    #Convert traces to numpy arrays\n",
    "    trace_array = np.asarray([trace.wave for trace in traces])\n",
    "    textin_array = np.asarray([trace.textin for trace in traces])\n",
    "    known_keys = np.asarray([trace.key for trace in traces])  # for fixed key, these keys are all the same\n",
    "```"
   ]
  },
  {
   "cell_type": "markdown",
   "id": "legislative-protocol",
   "metadata": {
    "deletable": false,
    "editable": false,
    "run_control": {
     "frozen": true
    }
   },
   "source": [
    "ChipWhisperer comes with some helper scripts to get started and to interface with the ChipWhisperer board.\n",
    "\n",
    "For your convenience they are located in the subfolder `helper_scripts/`.\n",
    "\n",
    "Please plug in the ChipWhisperer with the provided USB cable and run the next code cell.\n",
    "\n",
    "The following Jupyter Notebook will initialize the Hardware and run the capture loop. \n",
    "Check it to get the hardware running.\n",
    "\n",
    "Running the script `helper_scripts/Setup_Generic.ipynb` should result in the output:<br>\n",
    "Serial baud rate = 38400<br>\n",
    "INFO: Found ChipWhisperer😍"
   ]
  },
  {
   "cell_type": "code",
   "execution_count": null,
   "id": "rocky-rider",
   "metadata": {
    "deletable": false,
    "editable": false
   },
   "outputs": [],
   "source": [
    "# settings for generic setup\n",
    "SCOPETYPE = 'OPENADC'\n",
    "PLATFORM = 'CWLITEARM'\n",
    "CRYPTO_TARGET='TINYAES128C'\n",
    "SS_VER='SS_VER_1_1'\n",
    "\n",
    "# run the setup script\n",
    "%run \"helper_scripts/Setup_Generic.ipynb\""
   ]
  },
  {
   "cell_type": "markdown",
   "id": "alien-operations",
   "metadata": {
    "deletable": false,
    "editable": false,
    "run_control": {
     "frozen": true
    }
   },
   "source": [
    "Brilliant! The connection to the ChipWhisperer board is now established.<br>\n",
    "A custom firmware for the target chip is required for this task.<br>\n",
    "\n",
    "The next code cell flashes the provided `aes.hex` file to the target chip.\n",
    "This flashes our victims firmware onto the device. The firmware is kept quite simple, it receives a text and applies a software implementation of the AES algorithm to the incoming text message."
   ]
  },
  {
   "cell_type": "code",
   "execution_count": null,
   "id": "median-tradition",
   "metadata": {
    "deletable": false,
    "editable": false
   },
   "outputs": [],
   "source": [
    "# flash the target firmware to the ChipWhisperer STM32 chip\n",
    "target_firmware = \"aes.hex\"\n",
    "cw.program_target(scope, prog, target_firmware)"
   ]
  },
  {
   "cell_type": "markdown",
   "id": "sound-future",
   "metadata": {
    "deletable": false,
    "editable": false,
    "run_control": {
     "frozen": true
    }
   },
   "source": [
    "A power side channel attack is based on recording and processing power traces. The following image shows the simplified set-up used to record the traces as implemented on the ChipWhisperer board.<br>\n",
    "![precharge](images/side-channel-probing.png)<br>\n",
    "\n",
    "The following code snipped allows convenient recording of the traces. The trace recording is triggered with every incoming serial message.<br>\n",
    "The trigger is only active if the scope is armed by calling `scope.arm()`.<br>\n",
    "For the sake of this task, the trigger is embedded into the source code of the victim's firmware and triggers every time just before the AES algorithm is applied to the received text message.\n",
    "\n",
    "The following lines of code are executed for each incoming text message:\n",
    "\n",
    "```C\n",
    "aes_indep_enc_pretrigger(pt);  /* preparation for aes computations not interesting for DPA */\n",
    "\n",
    "trigger_high();                /* set trigger -> begin capturing the trace */\n",
    "\n",
    "aes_indep_enc(pt);             /* encrypting the data block */\n",
    "trigger_low();                 /* Doesn't stop recording, trace recording runs for fixed number of samples */\n",
    "\n",
    "aes_indep_enc_posttrigger(pt); /* cleanup of aes computations not interesting for DPA */\n",
    "```\n",
    "\n",
    "You will generate 150 (to start with) text messages, send them to the victim microcontroller and record a power trace for each ot them while the AES algorithm is being applied.<br>\n",
    "Comparing the different power traces for different input data with each other and keeping the nature of the AES algorithm and the S-Box in mind, you should be able to extract the key bytes from the recorded power traces."
   ]
  },
  {
   "cell_type": "code",
   "execution_count": null,
   "id": "innovative-diversity",
   "metadata": {},
   "outputs": [],
   "source": [
    "# find the number of recorded traces and data points per trace from the trace_array\n",
    "\n",
    "numtraces = 10000 #total number of traces\n",
    "numpoints = 5000 #samples per trace"
   ]
  },
  {
   "cell_type": "code",
   "execution_count": null,
   "id": "threatened-sullivan",
   "metadata": {},
   "outputs": [],
   "source": [
    "##### # Perform the capture, resulting in trace_array and textin_array of 500 traces.\n",
    "#\n",
    "\n",
    "from tqdm import tnrange\n",
    "import numpy as np\n",
    "import time\n",
    "\n",
    "# set up key text pattern (ktp) acquisition: Basic works just fine we only use the random text.\n",
    "ktp = cw.ktp.Basic()\n",
    "trace_array = []\n",
    "textin_array = []\n",
    "\n",
    "_, text = ktp.next()\n",
    "\n",
    "N = numtraces # number of traces\n",
    "for i in tnrange(N, desc='Capturing traces'):\n",
    "    \n",
    "    # Arm the ChipWhisperer with scope.arm(). \n",
    "    # It will begin capturing as soon as it is triggered (which in our case is a rising edge on gpio4).\n",
    "    # The gpio4 is set high from the firmware as soon as it receives the message.\n",
    "    scope.arm()\n",
    "    \n",
    "    target.simpleserial_write('p', text)\n",
    "    \n",
    "    # scope.capture() will read back the captured power trace, blocking until either ChipWhisperer\n",
    "    # is done recording, or the scope times out.\n",
    "    # Note that the error return will tell you whether or not the scope timed out. \n",
    "    # It does not return the captured scope data.\n",
    "    ret = scope.capture()\n",
    "    if ret:\n",
    "        print(\"Target timed out!\")\n",
    "        continue\n",
    "    \n",
    "    response = target.simpleserial_read('r', 16)\n",
    "    \n",
    "    # You can read back the captured power trace with scope.get_last_trace()\n",
    "    trace_array.append(scope.get_last_trace())\n",
    "    textin_array.append(text)\n",
    "    \n",
    "    _, text = ktp.next() \n"
   ]
  },
  {
   "cell_type": "markdown",
   "id": "driven-insider",
   "metadata": {
    "deletable": false,
    "editable": false,
    "run_control": {
     "frozen": true
    }
   },
   "source": [
    "To get a grasp on the input and collected data, you can visualize them.\n",
    "\n",
    "Let's first have a look at the input text stored in `textin_array`:<br>"
   ]
  },
  {
   "cell_type": "code",
   "execution_count": null,
   "id": "subjective-calendar",
   "metadata": {},
   "outputs": [],
   "source": [
    "for i, sample in enumerate(textin_array):\n",
    "    s = ''\n",
    "    for text in sample:\n",
    "        s = s + chr(text)\n",
    "    # auskommentiert aus platzgründen\n",
    "    # print(f\"Message {i}\\t{s}\")"
   ]
  },
  {
   "cell_type": "markdown",
   "id": "average-lawyer",
   "metadata": {
    "deletable": false,
    "editable": false,
    "run_control": {
     "frozen": true
    }
   },
   "source": [
    "<div>\n",
    "<img src=\"images/question_darkblue.png\" align=\"left\" width=\"24\" height=\"24\"/>\n",
    "    \n",
    "<span style=\"line-height:24px; margin-left: 0.5em\"><font color=\"darkblue\">Is there any requirements for the input text data for the captured traces you can think of?</font></span>\n",
    "</div>"
   ]
  },
  {
   "cell_type": "markdown",
   "id": "large-organizer",
   "metadata": {
    "deletable": false,
    "editable": false,
    "run_control": {
     "frozen": true
    }
   },
   "source": [
    "<div>\n",
    "<img src=\"images/write_chocolate.png\" align=\"left\" width=\"24\" height=\"24\"/>\n",
    "<span style=\"line-height:24px; margin-left: 0.5em\"><font color='Chocolate'>\n",
    "<b> Please fill in with your own observations </b>\n",
    "</font></span>\n",
    "</div>"
   ]
  },
  {
   "cell_type": "markdown",
   "id": "wired-scott",
   "metadata": {},
   "source": [
    "<font color='Chocolate'>\n",
    "Ich denke es wäre viel einfacher, wenn man als Eingabetext nur ASCII benutzt. Also keine Sonderzeichen. Aber sonst eig nicht\n",
    "</font>"
   ]
  },
  {
   "cell_type": "markdown",
   "id": "maritime-whole",
   "metadata": {
    "deletable": false,
    "editable": false,
    "run_control": {
     "frozen": true
    }
   },
   "source": [
    "<div>\n",
    "<img src=\"images/question_darkblue.png\" align=\"left\" width=\"24\" height=\"24\"/>\n",
    "    \n",
    "<span style=\"line-height:24px; margin-left: 0.5em\"><font color=\"darkblue\">Are these requirements fulfilled by the generated text data in `textin_array` at first glance? (You don't have to do an in depth analysis here)</font></span>\n",
    "</div>"
   ]
  },
  {
   "cell_type": "markdown",
   "id": "different-tissue",
   "metadata": {
    "deletable": false,
    "editable": false,
    "run_control": {
     "frozen": true
    }
   },
   "source": [
    "<div>\n",
    "<img src=\"images/write_chocolate.png\" align=\"left\" width=\"24\" height=\"24\"/>\n",
    "<span style=\"line-height:24px; margin-left: 0.5em\"><font color='Chocolate'>\n",
    "<b> Please fill in with your own observations </b>\n",
    "</font></span>\n",
    "</div>"
   ]
  },
  {
   "cell_type": "markdown",
   "id": "communist-cooling",
   "metadata": {},
   "source": [
    "<font color='Chocolate'>\n",
    "Nein, da die Eingabe aus einem zufällig generierten 16 Zeichen langem String besteht sind hier auch Sonderzeichen mit dabei.\n",
    "</font>"
   ]
  },
  {
   "cell_type": "markdown",
   "id": "twenty-sender",
   "metadata": {
    "deletable": false,
    "editable": false,
    "run_control": {
     "frozen": true
    }
   },
   "source": [
    "Let's have a look at the recorded traces next."
   ]
  },
  {
   "cell_type": "markdown",
   "id": "straight-makeup",
   "metadata": {
    "deletable": false,
    "editable": false,
    "run_control": {
     "frozen": true
    }
   },
   "source": [
    "<div>\n",
    "<img src=\"images/question_darkblue.png\" align=\"left\" width=\"24\" height=\"24\"/>\n",
    "    \n",
    "<span style=\"line-height:24px; margin-left: 0.5em\"><font color=\"darkblue\">How many traces have been recorded and how many datapoints does each trace have?</font></span>\n",
    "</div>"
   ]
  },
  {
   "cell_type": "markdown",
   "id": "detailed-librarian",
   "metadata": {
    "deletable": false,
    "editable": false,
    "run_control": {
     "frozen": true
    }
   },
   "source": [
    "<div>\n",
    "<img src=\"images/write_chocolate.png\" align=\"left\" width=\"24\" height=\"24\"/>\n",
    "<span style=\"line-height:24px; margin-left: 0.5em\"><font color='Chocolate'>\n",
    "<b> Please fill in with your own observations </b>\n",
    "</font></span>\n",
    "</div>"
   ]
  },
  {
   "cell_type": "markdown",
   "id": "gothic-liberal",
   "metadata": {},
   "source": [
    "<font color='Chocolate'>\n",
    "Es wurden insgesamt 250 Traces gesammelt. Jede trace hat 5000 Datenpunkte\n",
    "</font>"
   ]
  },
  {
   "cell_type": "markdown",
   "id": "embedded-carbon",
   "metadata": {},
   "source": [
    "Plot a couple of traces using matplotlib.pylab from the `trace_array`.\n",
    "\n",
    "For example you could plot the 5 most distinctive traces, to get a sensible idea about the data's conformity.\n",
    "Because of the high number of samples per trace, the computation might take up to a few minutes."
   ]
  },
  {
   "cell_type": "code",
   "execution_count": null,
   "id": "d89048f0",
   "metadata": {},
   "outputs": [],
   "source": [
    "import matplotlib.pylab as plt"
   ]
  },
  {
   "cell_type": "code",
   "execution_count": null,
   "id": "4448b857",
   "metadata": {},
   "outputs": [],
   "source": [
    "for i in range(len(trace_array)):\n",
    "    plt.plot(trace_array[i])\n",
    "plt.show"
   ]
  },
  {
   "cell_type": "code",
   "execution_count": null,
   "id": "revolutionary-region",
   "metadata": {},
   "outputs": [],
   "source": [
    "import matplotlib.pyplot as plt\n",
    "# get the 5 most distinct traces and plot them in a single plot\n",
    "# getting the average of each\n",
    "av = []\n",
    "for sample in trace_array:\n",
    "    x = sum(sample) / len(sample)\n",
    "    av.append(x)\n",
    "av_sort = np.argsort(av)\n",
    "\n",
    "# List to plot\n",
    "plt_li = []\n",
    "for x in range(5):\n",
    "    plt_li.append(trace_array[av_sort[x * 50]])\n",
    "\n",
    "# plot the Data\n",
    "for i in range(5):\n",
    "    plt.plot(plt_li[i])\n",
    "plt.show"
   ]
  },
  {
   "cell_type": "markdown",
   "id": "silent-stockholm",
   "metadata": {
    "deletable": false,
    "editable": false,
    "run_control": {
     "frozen": true
    }
   },
   "source": [
    "<div>\n",
    "<img src=\"images/hint_darkblue.png\" align=\"left\" width=\"24\" height=\"24\"/>\n",
    "    \n",
    "<span style=\"line-height:24px; margin-left: 0.5em\"><font color=\"darkblue\">If you chose a different visualization, please describe your approach in a few words:</font></span>\n",
    "</div>"
   ]
  },
  {
   "cell_type": "markdown",
   "id": "connected-reaction",
   "metadata": {
    "deletable": false,
    "editable": false,
    "run_control": {
     "frozen": true
    }
   },
   "source": [
    "<div>\n",
    "<img src=\"images/write_chocolate.png\" align=\"left\" width=\"24\" height=\"24\"/>\n",
    "<span style=\"line-height:24px; margin-left: 0.5em\"><font color='Chocolate'>\n",
    "<b> Please fill in with your own observations </b>\n",
    "</font></span>\n",
    "</div>"
   ]
  },
  {
   "cell_type": "markdown",
   "id": "wrong-convention",
   "metadata": {},
   "source": [
    "<font color='Chocolate'>\n",
    "replace this line with your observations\n",
    "</font>"
   ]
  },
  {
   "cell_type": "markdown",
   "id": "violent-undergraduate",
   "metadata": {
    "deletable": false,
    "editable": false,
    "run_control": {
     "frozen": true
    }
   },
   "source": [
    "<div>\n",
    "<img src=\"images/question_darkblue.png\" align=\"left\" width=\"24\" height=\"24\"/>\n",
    "    \n",
    "<span style=\"line-height:24px; margin-left: 0.5em\"><font color=\"darkblue\">What are your observations, do they meet your expectations?</font></span>\n",
    "</div>"
   ]
  },
  {
   "cell_type": "markdown",
   "id": "material-artist",
   "metadata": {
    "deletable": false,
    "editable": false,
    "run_control": {
     "frozen": true
    }
   },
   "source": [
    "<div>\n",
    "<img src=\"images/write_chocolate.png\" align=\"left\" width=\"24\" height=\"24\"/>\n",
    "<span style=\"line-height:24px; margin-left: 0.5em\"><font color='Chocolate'>\n",
    "<b> Please fill in with your own observations </b>\n",
    "</font></span>\n",
    "</div>"
   ]
  },
  {
   "cell_type": "markdown",
   "id": "documentary-discrimination",
   "metadata": {},
   "source": [
    "<font color='Chocolate'>\n",
    "Ja, das hatte ich so in etwa erwartet. Alle Samples liegen doch recht nah beieinander.\n",
    "</font>"
   ]
  },
  {
   "cell_type": "markdown",
   "id": "duplicate-buddy",
   "metadata": {
    "deletable": false,
    "editable": false,
    "run_control": {
     "frozen": true
    }
   },
   "source": [
    "The attack needs a way of splitting traces into two groups, depending on the state of a bit in our \"guessed\" value. We're going to start by guessing a single byte of the AES key at a time."
   ]
  },
  {
   "cell_type": "markdown",
   "id": "passing-catering",
   "metadata": {
    "deletable": false,
    "editable": false,
    "run_control": {
     "frozen": true
    }
   },
   "source": [
    "Think about a suitable approach and come up with an implementation for separating the traces in a meaningful way to do a statistical analysis on them.<br>\n",
    "\n",
    "This is not particularly easy so here are some hints for when you get stuck."
   ]
  },
  {
   "cell_type": "markdown",
   "id": "warming-ownership",
   "metadata": {
    "deletable": false,
    "editable": false,
    "run_control": {
     "frozen": true
    }
   },
   "source": [
    "<font color=\"darkgreen\">\n",
    "<details>\n",
    "<summary>\n",
    "<div>\n",
    "<img src=\"images/hint_darkgreen.png\" align=\"left\" width=\"24\" height=\"24\"/>\n",
    "<span style=\"line-height:24px; margin-left: 0.5em\">\n",
    "<b>Click to show hints</b>\n",
    "</span>\n",
    "</div>\n",
    "</summary>\n",
    "\n",
    "This is a brute force like attack, where every combination is tried and the results are put into bins to get a significance.\n",
    "    \n",
    "You need to iterate over the `keybyte guess` and over each `input byte` and therefore `trace`.<br>\n",
    "\n",
    "The theoretical leakage hypothesis must be computed using the S-Box, while focusing on a single bit and the trace must be put into the according bin, either `ones` or `zeros`.\n",
    "\n",
    "The sorting must now be analysed. If the traces were sorted randomly, the average of the traces in the `ones` bin should not be very different from the traces in the `zeros` bin.\n",
    "    \n",
    "This changes if the theoretical leakage matches with the actual leakage, the average of the traces would have a significant difference, since the sorting correlates with the actual leakage.\n",
    "    \n",
    "To get the average of your `one_list` and `zero_list` you can use numpy:\n",
    "\n",
    "```python\n",
    "    import numpy as np\n",
    "    avg_one_list = np.asarray(one_list).mean(axis=0)\n",
    "```    \n",
    "\n",
    "The important thing here is the `axis=0`, which does an average so the resulting array is done across all traces (not just the average value of one trace, but the average of each point index *across all traces*).\n",
    "\n",
    "</details></font>"
   ]
  },
  {
   "cell_type": "markdown",
   "id": "guided-following",
   "metadata": {
    "deletable": false,
    "editable": false,
    "run_control": {
     "frozen": true
    }
   },
   "source": [
    "<font color=\"darkgreen\">\n",
    "<details>\n",
    "<summary>\n",
    "<div>\n",
    "<img src=\"images/hint_darkgreen.png\" align=\"left\" width=\"24\" height=\"24\"/>\n",
    "<span style=\"line-height:24px; margin-left: 0.5em\">\n",
    "<b>Click to show more hints</b>\n",
    "</span>\n",
    "</div>\n",
    "</summary>\n",
    "\n",
    "To guess a single byte of the key, you can use the algorithm given by the following pseudo code:\n",
    "\n",
    "```python\n",
    "    for each key_byte_guess_value:\n",
    "\n",
    "        for each trace_index:\n",
    "        \n",
    "            input_byte = textin_array[trace_index][byte_to_attack]\n",
    "            \n",
    "            #Get a simulated leakage list - use aes_sbox(guess, input_byte)          \n",
    "\n",
    "            if simulated_leakage of Bit 0 is 1:\n",
    "                append trace_array[trace_index] to one_list\n",
    "            else:\n",
    "                append trace_array[trace_index] to zero_list\n",
    "                \n",
    "        one_avg = average of one_list\n",
    "        zero_avg = average of zero_list\n",
    "\n",
    "        max_diff_value = maximum of ABS(one_avg - zero_avg)\n",
    "```\n",
    "\n",
    "Imagine the Secret Key Byte would be `0x34`, the loop would generate `max_diff_value`'s like this:\n",
    "\n",
    "    Guessing 31: 0.001432\n",
    "    Guessing 32: 0.000876\n",
    "    Guessing 33: 0.001239\n",
    "    Guessing 34: 0.004891\n",
    "    Guessing 35: 0.000862\n",
    "    Guessing 36: 0.003193\n",
    "    Guessing 37: 0.001742\n",
    "    Guessing 38: 0.001662\n",
    "\n",
    "Note the value of `0.004891` for `0x34` - this is higher than the others, which range from `0.000862` to `0.003193`.<br>\n",
    "Try to guess the first key byte yourself. (byte_to_attack = 0)\n",
    "\n",
    "</details></font>"
   ]
  },
  {
   "cell_type": "code",
   "execution_count": null,
   "id": "mounted-contrary",
   "metadata": {},
   "outputs": [],
   "source": [
    "import numpy as np\n",
    "mean_diffs = []\n",
    "byte_to_attack = 0\n",
    "bit_to_check = 0\n",
    "data_line = 1<<bit_to_check\n",
    "\n",
    "\n",
    "for byte in range(256):\n",
    "\n",
    "    one_list = []\n",
    "    zero_list = []\n",
    "\n",
    "    for trace_index in range(numtraces):\n",
    "        \n",
    "        input_byte = textin_array[trace_index][byte_to_attack]\n",
    "            \n",
    "        #Get a simulated leakage list - use aes_sbox(guess, input_byte)\n",
    "        simulated_leakage = guess_leakage(byte, input_byte, bit_to_check)\n",
    "\n",
    "        if simulated_leakage == 1:\n",
    "            one_list.append(trace_array[trace_index])\n",
    "        else:\n",
    "            zero_list.append(trace_array[trace_index])\n",
    "                \n",
    "    one_avg = np.asarray(one_list).mean(axis=0)\n",
    "    zero_avg = np.asarray(zero_list).mean(axis=0)\n",
    "\n",
    "    mean_diffs.append(np.max(abs(one_avg - zero_avg)))\n",
    "\n",
    "\n",
    "\n",
    "\n",
    "\n",
    "# Print your possible Keybyte canditates \n",
    "get_highest = np.argsort(mean_diffs)[::-1]\n",
    "for guess in range(0, 5):\n",
    "    print(\"Possible Candidate: \" + hex(get_highest[guess]) + \" with significance \" + str(mean_diffs[get_highest[guess]]))"
   ]
  },
  {
   "cell_type": "markdown",
   "id": "dominican-replication",
   "metadata": {
    "deletable": false,
    "editable": false,
    "run_control": {
     "frozen": true
    }
   },
   "source": [
    "<div>\n",
    "<img src=\"images/question_darkblue.png\" align=\"left\" width=\"24\" height=\"24\"/>\n",
    "    \n",
    "<span style=\"line-height:24px; margin-left: 0.5em\"><font color=\"darkblue\">What is the best key byte candidate according to your result and do you trust the significance?</font></span>\n",
    "</div>"
   ]
  },
  {
   "cell_type": "markdown",
   "id": "atlantic-midnight",
   "metadata": {
    "deletable": false,
    "editable": false,
    "run_control": {
     "frozen": true
    }
   },
   "source": [
    "<div>\n",
    "<img src=\"images/write_chocolate.png\" align=\"left\" width=\"24\" height=\"24\"/>\n",
    "<span style=\"line-height:24px; margin-left: 0.5em\"><font color='Chocolate'>\n",
    "<b> Please fill in with your own observations </b>\n",
    "</font></span>\n",
    "</div>"
   ]
  },
  {
   "cell_type": "markdown",
   "id": "future-pendant",
   "metadata": {},
   "source": [
    "<font color='Chocolate'>\n",
    "Der beste guess ist '0x48', da hier die Signifikanz am größten ist\n",
    "</font>"
   ]
  },
  {
   "cell_type": "markdown",
   "id": "alike-valuation",
   "metadata": {
    "deletable": false,
    "editable": false,
    "run_control": {
     "frozen": true
    }
   },
   "source": [
    "Check the leakage on a different data line by changing `bit_to_check`. \n",
    "Depending on your traces you might get different results or very close significance."
   ]
  },
  {
   "cell_type": "code",
   "execution_count": null,
   "id": "entertaining-climb",
   "metadata": {},
   "outputs": [],
   "source": [
    "import numpy as np\n",
    "mean_diffs = []\n",
    "byte_to_attack = 0\n",
    "bit_to_check = 3\n",
    "data_line = 1<<bit_to_check\n",
    "\n",
    "\n",
    "for byte in range(256):\n",
    "\n",
    "    one_list = []\n",
    "    zero_list = []\n",
    "\n",
    "    for trace_index in range(numtraces):\n",
    "        \n",
    "        input_byte = textin_array[trace_index][byte_to_attack]\n",
    "            \n",
    "        #Get a simulated leakage list - use aes_sbox(guess, input_byte)\n",
    "        simulated_leakage = guess_leakage(byte, input_byte, bit_to_check)\n",
    "\n",
    "        if simulated_leakage == 1:\n",
    "            one_list.append(trace_array[trace_index])\n",
    "        else:\n",
    "            zero_list.append(trace_array[trace_index])\n",
    "                \n",
    "    one_avg = np.asarray(one_list).mean(axis=0)\n",
    "    zero_avg = np.asarray(zero_list).mean(axis=0)\n",
    "\n",
    "    mean_diffs.append(np.max(abs(one_avg - zero_avg)))\n",
    "\n",
    "# Print your possible Keybyte canditates \n",
    "get_highest = np.argsort(mean_diffs)[::-1]\n",
    "for guess in range(0, 5):\n",
    "    print(\"Possible Candidate: \" + hex(get_highest[guess]) + \" with significance \" + str(mean_diffs[get_highest[guess]]))\n",
    "print(\"\")\n"
   ]
  },
  {
   "cell_type": "markdown",
   "id": "friendly-doctrine",
   "metadata": {
    "deletable": false,
    "editable": false,
    "run_control": {
     "frozen": true
    }
   },
   "source": [
    "<div>\n",
    "<img src=\"images/question_darkblue.png\" align=\"left\" width=\"24\" height=\"24\"/>\n",
    "    \n",
    "<span style=\"line-height:24px; margin-left: 0.5em\"><font color=\"darkblue\">What is the best key byte candidate according to your result now and do you trust it any better?</font></span>\n",
    "</div>"
   ]
  },
  {
   "cell_type": "markdown",
   "id": "answering-terminal",
   "metadata": {
    "deletable": false,
    "editable": false,
    "run_control": {
     "frozen": true
    }
   },
   "source": [
    "<div>\n",
    "<img src=\"images/write_chocolate.png\" align=\"left\" width=\"24\" height=\"24\"/>\n",
    "<span style=\"line-height:24px; margin-left: 0.5em\"><font color='Chocolate'>\n",
    "<b> Please fill in with your own observations </b>\n",
    "</font></span>\n",
    "</div>"
   ]
  },
  {
   "cell_type": "markdown",
   "id": "periodic-aaron",
   "metadata": {},
   "source": [
    "<font color='Chocolate'>\n",
    "replace this line with your observations\n",
    "</font>"
   ]
  },
  {
   "cell_type": "markdown",
   "id": "meaningful-barcelona",
   "metadata": {
    "deletable": false,
    "editable": false,
    "run_control": {
     "frozen": true
    }
   },
   "source": [
    "<font color=\"darkgreen\">\n",
    "<details>\n",
    "<summary>\n",
    "<div>\n",
    "<img src=\"images/hint_darkgreen.png\" align=\"left\" width=\"24\" height=\"24\"/>\n",
    "<span style=\"line-height:24px; margin-left: 0.5em\">\n",
    "<b>Click to show hints</b>\n",
    "</span>\n",
    "</div>\n",
    "</summary>\n",
    "\n",
    "Remember, the key is fixed. Gained insight from this analysis adds to the previously gained information but doesn't replace it.\n",
    "\n",
    "</details></font>"
   ]
  },
  {
   "cell_type": "markdown",
   "id": "pharmaceutical-reunion",
   "metadata": {
    "deletable": false,
    "editable": false,
    "run_control": {
     "frozen": true
    }
   },
   "source": [
    "Let's implement a naive approach to solve for the key byte.<br> \n",
    "We repeat the previous code but introduce another loop, which goes trough all the possible bit values of the simulated leakage.\n",
    "Adding up the different `max_diff_value`'s for every bit might give us a more definite result.\n",
    "\n",
    "To make things more clear, first implement the `calculate_diffs` function."
   ]
  },
  {
   "cell_type": "code",
   "execution_count": null,
   "id": "matched-travel",
   "metadata": {},
   "outputs": [],
   "source": [
    "# In guess = Byte guess\n",
    "# In byte_to_attack = Byteindex\n",
    "# In bit_to_check = bit position in the leakage\n",
    "# Out return = list with abs(one_averages - zero_averages) \n",
    "\"\"\"\n",
    "Loops through all the traces and take the `bit_to_check` into consideration\n",
    "\"\"\"\n",
    "def calculate_diffs(guess, byte_to_attack=0, bit_to_check=0):\n",
    "    \"\"\"Perform a simple DPA on two traces, uses global `textin_array` and `trace_array` \"\"\"\n",
    "\n",
    "    one_list = []\n",
    "    zero_list = []\n",
    "\n",
    "    for trace_index in range(numtraces):\n",
    "        \n",
    "        input_byte = textin_array[trace_index][byte_to_attack]\n",
    "            \n",
    "        #Get a simulated leakage list - use aes_sbox(guess, input_byte)\n",
    "        simulated_leakage = guess_leakage(guess, input_byte, bit_to_check)\n",
    "\n",
    "        if simulated_leakage == 1:\n",
    "            one_list.append(trace_array[trace_index])\n",
    "        else:\n",
    "            zero_list.append(trace_array[trace_index])\n",
    "                \n",
    "    one_avg = np.asarray(one_list).mean(axis=0)\n",
    "    zero_avg = np.asarray(zero_list).mean(axis=0)\n",
    "\n",
    "    return abs(one_avg - zero_avg)\n",
    "    "
   ]
  },
  {
   "cell_type": "code",
   "execution_count": null,
   "id": "2dfd3e0d",
   "metadata": {},
   "outputs": [],
   "source": [
    "calculate_diffs(int('0x48', 16), 0, 0)"
   ]
  },
  {
   "cell_type": "markdown",
   "id": "sorted-seller",
   "metadata": {
    "deletable": false,
    "editable": false,
    "run_control": {
     "frozen": true
    }
   },
   "source": [
    "Given the previous function, it will be straight forward to implement the naive approach.<br>\n",
    "Since this function might run for a while, use\n",
    "```python\n",
    "for guess in tnrange(0, 256, desc=\"Attacking Keybyte\"):\n",
    "```\n",
    "for your outer loop to keep track of what your function is doing and how long it will be running."
   ]
  },
  {
   "cell_type": "code",
   "execution_count": null,
   "id": "governing-record",
   "metadata": {},
   "outputs": [],
   "source": [
    "import numpy as np\n",
    "# start Solution\n",
    "\n",
    "hits = []\n",
    "\n",
    "for bit_check in range(8):\n",
    "    mean_diffs = [0] * 256\n",
    "    byte_to_attack = 0\n",
    "    for guess in tnrange(0,256, desc=f\"Attacking Keybyte {bit_check}\"):\n",
    "        mean_diffs[guess] = np.max(calculate_diffs(guess, byte_to_attack, bit_check))\n",
    "    get_highest = np.argsort(mean_diffs)[::-1]\n",
    "    hits.append([mean_diffs[get_highest[0]], get_highest[0]])\n",
    "\n",
    "\n",
    "# Print your possible Keybyte canditates \n",
    "for s, k in hits:\n",
    "    print(\"Possible Candidate: \" + hex(k) + \" with significance \" + str(s))\n",
    "\n",
    "        \n",
    "# end Solution"
   ]
  },
  {
   "cell_type": "markdown",
   "id": "collectible-disease",
   "metadata": {
    "deletable": false,
    "editable": false,
    "run_control": {
     "frozen": true
    }
   },
   "source": [
    "<div>\n",
    "<img src=\"images/question_darkblue.png\" align=\"left\" width=\"24\" height=\"24\"/>\n",
    "    \n",
    "<span style=\"line-height:24px; margin-left: 0.5em\"><font color=\"darkblue\">Every bit has been checked regarding the simulated leakage. What is your best guess for the key byte?</font></span>\n",
    "</div>"
   ]
  },
  {
   "cell_type": "markdown",
   "id": "toxic-software",
   "metadata": {
    "deletable": false,
    "editable": false,
    "run_control": {
     "frozen": true
    }
   },
   "source": [
    "<div>\n",
    "<img src=\"images/write_chocolate.png\" align=\"left\" width=\"24\" height=\"24\"/>\n",
    "<span style=\"line-height:24px; margin-left: 0.5em\"><font color='Chocolate'>\n",
    "<b> Please fill in with your own observations </b>\n",
    "</font></span>\n",
    "</div>"
   ]
  },
  {
   "cell_type": "markdown",
   "id": "native-dispatch",
   "metadata": {},
   "source": [
    "<font color='Chocolate'>\n",
    "Bester ist bis jetzt '0x48'. Es kommt am meisten vor und hat dabei die größte Signifikanz\n",
    "</font>"
   ]
  },
  {
   "cell_type": "markdown",
   "id": "resistant-prerequisite",
   "metadata": {
    "deletable": false,
    "editable": false,
    "run_control": {
     "frozen": true
    }
   },
   "source": [
    "<div>\n",
    "<img src=\"images/question_darkblue.png\" align=\"left\" width=\"24\" height=\"24\"/>\n",
    "    \n",
    "<span style=\"line-height:24px; margin-left: 0.5em\"><font color=\"darkblue\">What do you gain from the results and can you trust your best guess more than before and why?</font></span>\n",
    "</div>"
   ]
  },
  {
   "cell_type": "markdown",
   "id": "exact-knight",
   "metadata": {
    "deletable": false,
    "editable": false,
    "run_control": {
     "frozen": true
    }
   },
   "source": [
    "<div>\n",
    "<img src=\"images/write_chocolate.png\" align=\"left\" width=\"24\" height=\"24\"/>\n",
    "<span style=\"line-height:24px; margin-left: 0.5em\"><font color='Chocolate'>\n",
    "<b> Please fill in with your own observations </b>\n",
    "</font></span>\n",
    "</div>"
   ]
  },
  {
   "cell_type": "markdown",
   "id": "taken-violation",
   "metadata": {},
   "source": [
    "<font color='Chocolate'>\n",
    "Ja, da nun alle Daten_linien ausgewertet wurden. da diese größten teils auch zum selben Key zeigen ist das Ergebnis eindeutiger\n",
    "</font>"
   ]
  },
  {
   "cell_type": "markdown",
   "id": "sufficient-provincial",
   "metadata": {
    "deletable": false,
    "editable": false,
    "run_control": {
     "frozen": true
    }
   },
   "source": [
    "The result is probably more clear for you now but the algorithm takes quite some time.\n",
    "There might be a more elegant solution compared to our naive method.\n",
    "To see that solution we should first find out what causes different bytes to have such a high significance.  "
   ]
  },
  {
   "cell_type": "markdown",
   "id": "rational-subscriber",
   "metadata": {
    "deletable": false,
    "editable": false,
    "run_control": {
     "frozen": true
    }
   },
   "source": [
    "## Locating Error Sources in the power traces"
   ]
  },
  {
   "cell_type": "markdown",
   "id": "athletic-report",
   "metadata": {
    "deletable": false,
    "editable": false,
    "run_control": {
     "frozen": true
    }
   },
   "source": [
    "So far we were using the max value of our list of differences. Is this always a good idea?<br>\n",
    "It might be helpful to analyze the list of differences itself.<br>\n",
    "Plot some of them. Good candiates are your observed key byte and (if you found some) close candidates.\n",
    "You can analyze the list of differences of the observed key byte on different data lines to get a better understanding of what is happening in the trace."
   ]
  },
  {
   "cell_type": "code",
   "execution_count": null,
   "id": "intelligent-width",
   "metadata": {
    "scrolled": false
   },
   "outputs": [],
   "source": [
    "import matplotlib.pylab as plt\n",
    "plt.figure()\n",
    "\n",
    "\n",
    "import numpy as np\n",
    "mean_diffs = []\n",
    "byte_to_attack = 0\n",
    "bit_to_check = 3\n",
    "data_line = 1<<bit_to_check\n",
    "\n",
    "for byte in range(int('0x40',16), int('0x60',16)):\n",
    "    plt.plot(calculate_diffs(byte, 0, 3))\n",
    "\n",
    "plt.show()"
   ]
  },
  {
   "cell_type": "markdown",
   "id": "muslim-thesaurus",
   "metadata": {
    "deletable": false,
    "editable": false,
    "run_control": {
     "frozen": true
    }
   },
   "source": [
    "If you did your analyzing, try to answer these questions:"
   ]
  },
  {
   "cell_type": "markdown",
   "id": "dense-motor",
   "metadata": {
    "deletable": false,
    "editable": false,
    "run_control": {
     "frozen": true
    }
   },
   "source": [
    "<div>\n",
    "<img src=\"images/question_darkblue.png\" align=\"left\" width=\"24\" height=\"24\"/>\n",
    "    \n",
    "<span style=\"line-height:24px; margin-left: 0.5em\"><font color=\"darkblue\">What is considered the max value in every plot?</font></span>\n",
    "</div>"
   ]
  },
  {
   "cell_type": "markdown",
   "id": "extraordinary-anniversary",
   "metadata": {
    "deletable": false,
    "editable": false,
    "run_control": {
     "frozen": true
    }
   },
   "source": [
    "<div>\n",
    "<img src=\"images/write_chocolate.png\" align=\"left\" width=\"24\" height=\"24\"/>\n",
    "<span style=\"line-height:24px; margin-left: 0.5em\"><font color='Chocolate'>\n",
    "<b> Please fill in with your own observations </b>\n",
    "</font></span>\n",
    "</div>"
   ]
  },
  {
   "cell_type": "markdown",
   "id": "iraqi-challenge",
   "metadata": {},
   "source": [
    "<font color='Chocolate'>\n",
    "Man kann deutlich den spike sehen. In den Meisten graphen ist es dieselbe x-Koordinate\n",
    "</font>"
   ]
  },
  {
   "cell_type": "markdown",
   "id": "unlikely-occupation",
   "metadata": {
    "deletable": false,
    "editable": false,
    "run_control": {
     "frozen": true
    }
   },
   "source": [
    "<div>\n",
    "<img src=\"images/question_darkblue.png\" align=\"left\" width=\"24\" height=\"24\"/>\n",
    "    \n",
    "<span style=\"line-height:24px; margin-left: 0.5em\"><font color=\"darkblue\">Is there a difference where this max value is located?</font></span>\n",
    "</div>"
   ]
  },
  {
   "cell_type": "markdown",
   "id": "warming-wilson",
   "metadata": {
    "deletable": false,
    "editable": false,
    "run_control": {
     "frozen": true
    }
   },
   "source": [
    "<div>\n",
    "<img src=\"images/write_chocolate.png\" align=\"left\" width=\"24\" height=\"24\"/>\n",
    "<span style=\"line-height:24px; margin-left: 0.5em\"><font color='Chocolate'>\n",
    "<b> Please fill in with your own observations </b>\n",
    "</font></span>\n",
    "</div>"
   ]
  },
  {
   "cell_type": "markdown",
   "id": "substantial-damage",
   "metadata": {},
   "source": [
    "<font color='Chocolate'>\n",
    "Nein, nur in seltenen Fällen. Generell sind die Graphen sich sehr ähnlich. Nur ihre generele verschiebeung auf der Y-Axe ist manchmal anders\n",
    "</font>"
   ]
  },
  {
   "cell_type": "markdown",
   "id": "hearing-pottery",
   "metadata": {
    "deletable": false,
    "editable": false,
    "run_control": {
     "frozen": true
    }
   },
   "source": [
    "<div>\n",
    "<img src=\"images/question_darkblue.png\" align=\"left\" width=\"24\" height=\"24\"/>\n",
    "    \n",
    "<span style=\"line-height:24px; margin-left: 0.5em\"><font color=\"darkblue\">Can you use this knowledge to your advantage?</font></span>\n",
    "</div>"
   ]
  },
  {
   "cell_type": "markdown",
   "id": "western-appointment",
   "metadata": {
    "deletable": false,
    "editable": false,
    "run_control": {
     "frozen": true
    }
   },
   "source": [
    "<div>\n",
    "<img src=\"images/write_chocolate.png\" align=\"left\" width=\"24\" height=\"24\"/>\n",
    "<span style=\"line-height:24px; margin-left: 0.5em\"><font color='Chocolate'>\n",
    "<b> Please fill in with your own observations </b>\n",
    "</font></span>\n",
    "</div>"
   ]
  },
  {
   "cell_type": "markdown",
   "id": "pleased-central",
   "metadata": {},
   "source": [
    "<font color='Chocolate'>\n",
    "Mit mehr samplen wird der Key deutlicher. aber sonst fällt mir nichts auf\n",
    "</font>"
   ]
  },
  {
   "cell_type": "markdown",
   "id": "communist-poetry",
   "metadata": {
    "deletable": false,
    "editable": false,
    "run_control": {
     "frozen": true
    }
   },
   "source": [
    "## Retrieving the full key"
   ]
  },
  {
   "cell_type": "markdown",
   "id": "sweet-absence",
   "metadata": {
    "deletable": false,
    "editable": false,
    "run_control": {
     "frozen": true
    }
   },
   "source": [
    "You were probably waiting the whole time for this.<br>\n",
    "So far you retrieved a single key byte, which, in the first step, might even have been the wrong one.<br>\n",
    "After that you learned a naive approach on how to solve that problem.<br>\n",
    "In the last section you might have guessed another approach on how to retrieve all key bytes.\n",
    "\n",
    "In this section you have full freedom on how to get the key.<br>\n",
    "You can try it in every way but the actual probability to retrieve the key successfully might differ between the methods.\n",
    "\n",
    "In the very last section you can check your retreived key by decrypting a short text message. \n",
    "Good luck!"
   ]
  },
  {
   "cell_type": "code",
   "execution_count": null,
   "id": "alpha-criterion",
   "metadata": {},
   "outputs": [],
   "source": [
    "from tqdm import tnrange\n",
    "import numpy as np\n",
    "\n",
    "bit_check = 3\n",
    "key_guess = []\n",
    "for byte in tnrange(0, 16, desc=f\"Byte {byte} wird gebrochen\"):\n",
    "    mean_diffs = [0] * 256\n",
    "    for guess in range(256):\n",
    "        mean_diffs[guess] = np.max(calculate_diffs(guess, byte, bit_check))\n",
    "    get_highest = np.argsort(mean_diffs)[::-1]\n",
    "    key_guess.append(hex(get_highest[0]))\n",
    "\n",
    "print(f\"Der berechnete Schlüssel ist: {key_guess}\")        "
   ]
  },
  {
   "cell_type": "markdown",
   "id": "awful-disability",
   "metadata": {
    "deletable": false,
    "editable": false,
    "run_control": {
     "frozen": true
    }
   },
   "source": [
    "<font color=\"darkgreen\">\n",
    "<details>\n",
    "<summary>\n",
    "<div>\n",
    "<img src=\"images/hint_darkgreen.png\" align=\"left\" width=\"24\" height=\"24\"/>\n",
    "<span style=\"line-height:24px; margin-left: 0.5em\">\n",
    "<b>Click to show hints</b>\n",
    "</span>\n",
    "</div>\n",
    "</summary>\n",
    "\n",
    "You may change the different steps including the initial setup and trace recording, processing and analysis. You may replace the naive approach by a more sophisticated one and add filters to enhance the significance of the resulting key bytes.\n",
    "\n",
    "</details></font>"
   ]
  },
  {
   "cell_type": "markdown",
   "id": "surface-myrtle",
   "metadata": {
    "deletable": false,
    "editable": false,
    "run_control": {
     "frozen": true
    }
   },
   "source": [
    "## Test your key\n"
   ]
  },
  {
   "cell_type": "markdown",
   "id": "indonesian-wedding",
   "metadata": {
    "deletable": false,
    "editable": false,
    "run_control": {
     "frozen": true
    }
   },
   "source": [
    "As mentioned before we give you a chance to test your key.<br>\n",
    "Decrypt the following text."
   ]
  },
  {
   "cell_type": "code",
   "execution_count": 1,
   "id": "conceptual-screen",
   "metadata": {},
   "outputs": [
    {
     "name": "stdout",
     "output_type": "stream",
     "text": [
      "b'HardwareSecurity'\n"
     ]
    }
   ],
   "source": [
    "from Crypto.Cipher import AES\n",
    "\n",
    "key_guess = ['0x48', '0x61', '0x72', '0x64', '0x77', '0x61', '0x72', '0x65', '0x53', '0x65', '0x63', '0x75', '0x72', '0x69', '0x74', '0x79']\n",
    "msg = b'g\\xf4\\x9b\\xf2\\xe7[\\xf5)g2V\\xcau\\x89\\xfe\\xa1'\n",
    "key = \"\"\n",
    "for d in key_guess:\n",
    "    key += chr(int(d, 16))\n",
    "decipher = AES.new(key, AES.MODE_ECB)\n",
    "print(decipher.decrypt(msg))\n"
   ]
  },
  {
   "cell_type": "markdown",
   "id": "legislative-pride",
   "metadata": {
    "deletable": false,
    "editable": false,
    "run_control": {
     "frozen": true
    }
   },
   "source": [
    "## Conclusion"
   ]
  },
  {
   "cell_type": "markdown",
   "id": "convertible-trainer",
   "metadata": {
    "deletable": false,
    "editable": false,
    "run_control": {
     "frozen": true
    }
   },
   "source": [
    "Just by observing the power lines of a microcontroller executing an AES encryption you were able to deduce the key used for the encryption.\n",
    "\n",
    "But why was this possible?"
   ]
  },
  {
   "cell_type": "markdown",
   "id": "prescribed-hearts",
   "metadata": {
    "deletable": false,
    "editable": false,
    "run_control": {
     "frozen": true
    }
   },
   "source": [
    "### Exploited weaknesses"
   ]
  },
  {
   "cell_type": "markdown",
   "id": "devoted-factory",
   "metadata": {
    "deletable": false,
    "editable": false,
    "run_control": {
     "frozen": true
    }
   },
   "source": [
    "<div>\n",
    "<img src=\"images/question_darkblue.png\" align=\"left\" width=\"24\" height=\"24\"/>\n",
    "    \n",
    "<span style=\"line-height:24px; margin-left: 0.5em\"><font color=\"darkblue\">List the weaknesses you have exploited throughout this task and explain why they lead to you deducing the key bytes.</font></span>\n",
    "</div>"
   ]
  },
  {
   "cell_type": "markdown",
   "id": "defined-iceland",
   "metadata": {
    "deletable": false,
    "editable": false,
    "run_control": {
     "frozen": true
    }
   },
   "source": [
    "<div>\n",
    "<img src=\"images/write_chocolate.png\" align=\"left\" width=\"24\" height=\"24\"/>\n",
    "<span style=\"line-height:24px; margin-left: 0.5em\"><font color='Chocolate'>\n",
    "<b> Please fill in with your own observations </b>\n",
    "</font></span>\n",
    "</div>"
   ]
  },
  {
   "cell_type": "markdown",
   "id": "surprising-appearance",
   "metadata": {},
   "source": [
    "<font color='Chocolate'>\n",
    "AES und die Implementierung hat Spuren im Stromverbrauch hinterlassen. Indem man nun den Zusammenhang zwischen Byte und Stromverbrauch gezogen hat konnte man rückschlüsse auf den Schlüssel machen\n",
    "</font>"
   ]
  },
  {
   "cell_type": "markdown",
   "id": "weighted-settle",
   "metadata": {
    "deletable": false,
    "editable": false,
    "run_control": {
     "frozen": true
    }
   },
   "source": [
    "### Promising counter measures"
   ]
  },
  {
   "cell_type": "markdown",
   "id": "advance-gardening",
   "metadata": {
    "deletable": false,
    "editable": false,
    "run_control": {
     "frozen": true
    }
   },
   "source": [
    "<div>\n",
    "<img src=\"images/question_darkblue.png\" align=\"left\" width=\"24\" height=\"24\"/>\n",
    "    \n",
    "<span style=\"line-height:24px; margin-left: 0.5em\"><font color=\"darkblue\">Can you think of one or more promising counter measure(s) that would have prevented your attack from being successful?</font></span>\n",
    "</div>"
   ]
  },
  {
   "cell_type": "markdown",
   "id": "directed-compression",
   "metadata": {
    "deletable": false,
    "editable": false,
    "run_control": {
     "frozen": true
    }
   },
   "source": [
    "<div>\n",
    "<img src=\"images/write_chocolate.png\" align=\"left\" width=\"24\" height=\"24\"/>\n",
    "<span style=\"line-height:24px; margin-left: 0.5em\"><font color='Chocolate'>\n",
    "<b> Please fill in with your own observations </b>\n",
    "</font></span>\n",
    "</div>"
   ]
  },
  {
   "cell_type": "markdown",
   "id": "advance-montreal",
   "metadata": {},
   "source": [
    "<font color='Chocolate'>\n",
    "Man sollte schauen, dass der Stromverbrauch im Chip immer gleich ist, und man so keine Rückschlüsse ziehen kann. <br>\n",
    "Vielleicht auch mehr Noise\n",
    "</font>"
   ]
  },
  {
   "cell_type": "markdown",
   "id": "surgical-vegetation",
   "metadata": {
    "deletable": false,
    "editable": false,
    "run_control": {
     "frozen": true
    }
   },
   "source": [
    "### Challenges"
   ]
  },
  {
   "cell_type": "markdown",
   "id": "advised-frederick",
   "metadata": {
    "deletable": false,
    "editable": false,
    "run_control": {
     "frozen": true
    }
   },
   "source": [
    "<div>\n",
    "<img src=\"images/question_darkblue.png\" align=\"left\" width=\"24\" height=\"24\"/>\n",
    "    \n",
    "<span style=\"line-height:24px; margin-left: 0.5em\"><font color=\"darkblue\">List the challanges you faced and describe your train of thought that lead you to mastering them.</font></span>\n",
    "</div>"
   ]
  },
  {
   "cell_type": "markdown",
   "id": "beautiful-massage",
   "metadata": {
    "deletable": false,
    "editable": false,
    "run_control": {
     "frozen": true
    }
   },
   "source": [
    "<div>\n",
    "<img src=\"images/write_chocolate.png\" align=\"left\" width=\"24\" height=\"24\"/>\n",
    "<span style=\"line-height:24px; margin-left: 0.5em\"><font color='Chocolate'>\n",
    "<b> Please fill in with your own observations </b>\n",
    "</font></span>\n",
    "</div>"
   ]
  },
  {
   "cell_type": "markdown",
   "id": "conditional-distance",
   "metadata": {},
   "source": [
    "<font color='Chocolate'>\n",
    "Eig nur sich wieder in Python zurecht zu finden <br>\n",
    "zum Teil war es auch nicht einfach wieder an die Vorlesungen aus dem letzten Semester zu erinnern. <br>\n",
    "Es war auch nicht ganz einfach sich in die Algorithmen rein zu versetzen \n",
    "</font>"
   ]
  },
  {
   "cell_type": "markdown",
   "id": "talented-orlando",
   "metadata": {
    "deletable": false,
    "editable": false,
    "run_control": {
     "frozen": true
    }
   },
   "source": [
    "## Submission"
   ]
  },
  {
   "cell_type": "markdown",
   "id": "blond-edgar",
   "metadata": {
    "deletable": false,
    "editable": false,
    "run_control": {
     "frozen": true
    }
   },
   "source": [
    "Please commit your changes thus far until the end of the timeframe of this task according to:<br>\n",
    "https://gitlab.tf.uni-freiburg.de/embex-security-lab/security-lab-2022"
   ]
  },
  {
   "cell_type": "markdown",
   "id": "sticky-connectivity",
   "metadata": {
    "deletable": false,
    "editable": false,
    "run_control": {
     "frozen": true
    }
   },
   "source": [
    "## Additional presentation task"
   ]
  },
  {
   "cell_type": "markdown",
   "id": "large-carroll",
   "metadata": {
    "deletable": false,
    "editable": false,
    "run_control": {
     "frozen": true
    }
   },
   "source": [
    "**You only have to work on the following task if you decided to present for this task**<br>\n",
    "You are welcome to continue working on the following task without presentation, if you have chosen a different task to present.\n",
    "\n",
    "There are a number of different ways to retreive the key. In section 1.5 you implemented one such way. Can you think of optimizations for the analysis of the power traces or other ways to perfom such a differential power analysis attack?<br>\n",
    "\n",
    "You have full freedom and are welcome to also modify the capturing function and initial data sent to the victim.\n",
    "\n",
    "Discuss your approaches and results. Did the results follow your initial intuition?<br>\n",
    "Which approach lead you to the highest level of certainty about the retrieved key?<br>\n",
    "Is there a combination of methods you would choose?<br>\n",
    "\n",
    "Create a presentation with a few slides showing your approach and results from this task.\n",
    "\n",
    "You can find the date for the presentation here: https://gitlab.tf.uni-freiburg.de/embex-security-lab/security-lab-2022"
   ]
  },
  {
   "cell_type": "markdown",
   "id": "three-maintenance",
   "metadata": {
    "deletable": false,
    "editable": false,
    "run_control": {
     "frozen": true
    }
   },
   "source": [
    "*Acknowledgement: the material used in this task is inspired and partially taken from the ChipWhisperer learning material.*"
   ]
  }
 ],
 "metadata": {
  "kernelspec": {
   "display_name": "Python 3.10.5 64-bit (windows store)",
   "language": "python",
   "name": "python3"
  },
  "language_info": {
   "codemirror_mode": {
    "name": "ipython",
    "version": 3
   },
   "file_extension": ".py",
   "mimetype": "text/x-python",
   "name": "python",
   "nbconvert_exporter": "python",
   "pygments_lexer": "ipython3",
   "version": "3.10.5"
  },
  "toc": {
   "base_numbering": 2,
   "nav_menu": {},
   "number_sections": true,
   "sideBar": true,
   "skip_h1_title": false,
   "title_cell": "Table of Contents",
   "title_sidebar": "Contents",
   "toc_cell": false,
   "toc_position": {},
   "toc_section_display": true,
   "toc_window_display": false
  },
  "vscode": {
   "interpreter": {
    "hash": "5fb955165457380985db86db626230b448991bb247ae99ab852707dfa9ea455b"
   }
  }
 },
 "nbformat": 4,
 "nbformat_minor": 5
}
